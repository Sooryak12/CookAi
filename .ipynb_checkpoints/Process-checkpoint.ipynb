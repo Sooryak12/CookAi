{
 "cells": [
  {
   "cell_type": "code",
   "execution_count": 1,
   "metadata": {},
   "outputs": [],
   "source": [
    "import pandas as pd\n",
    "import numpy as np\n",
    "import matplotlib.pyplot as plt\n",
    "import seaborn as sns\n",
    "import re\n",
    "%matplotlib inline\n",
    "from langdetect import detect\n",
    "import  fuzzywuzzy.fuzz as fuzz\n",
    "import time\n",
    "from langdetect import detect"
   ]
  },
  {
   "cell_type": "code",
   "execution_count": 1,
   "metadata": {},
   "outputs": [],
   "source": [
    "import pandas as pd"
   ]
  },
  {
   "cell_type": "code",
   "execution_count": 35,
   "metadata": {},
   "outputs": [],
   "source": [
    "df=pd.read_csv(\"IndianFoodDatasetCSV.csv\")\n",
    "pd.set_option('display.max_rows', 500)"
   ]
  },
  {
   "cell_type": "code",
   "execution_count": 36,
   "metadata": {},
   "outputs": [],
   "source": [
    "df.drop([\"RecipeName\",\"Ingredients\",\"Instructions\"],axis=1,inplace=True)\n",
    "df.dropna(inplace=True)\n",
    "df.reset_index(drop=True,inplace=True)"
   ]
  },
  {
   "cell_type": "code",
   "execution_count": 37,
   "metadata": {},
   "outputs": [
    {
     "name": "stdout",
     "output_type": "stream",
     "text": [
      "68.83786153793335\n"
     ]
    }
   ],
   "source": [
    "start=time.time()\n",
    "df[\"lang\"]=df[\"TranslatedIngredients\"].apply(lambda x:detect(x))\n",
    "end = time.time()\n",
    "print(end - start)      "
   ]
  },
  {
   "cell_type": "code",
   "execution_count": 38,
   "metadata": {},
   "outputs": [],
   "source": [
    "df=df[df[\"lang\"]==\"en\"]"
   ]
  },
  {
   "cell_type": "code",
   "execution_count": 39,
   "metadata": {},
   "outputs": [
    {
     "data": {
      "text/plain": [
       "en    6276\n",
       "Name: lang, dtype: int64"
      ]
     },
     "execution_count": 39,
     "metadata": {},
     "output_type": "execute_result"
    }
   ],
   "source": [
    "df[\"lang\"].value_counts()"
   ]
  },
  {
   "cell_type": "code",
   "execution_count": 40,
   "metadata": {},
   "outputs": [],
   "source": [
    "df.to_csv('df-lan.csv',index=False)"
   ]
  },
  {
   "cell_type": "code",
   "execution_count": 41,
   "metadata": {},
   "outputs": [],
   "source": [
    "df=pd.read_csv(\"df-lan.csv\")"
   ]
  },
  {
   "cell_type": "code",
   "execution_count": 42,
   "metadata": {},
   "outputs": [],
   "source": [
    "def preprocess(text):\n",
    "    text=re.sub(r'[0-9]+', '', text)\n",
    "    delword=\"Teaspoon,teaspoon,teaspoons,-,/,to taste,as needed,shredded,cup,cups,washed,sliced,finely,few,chopped,tablespoons,\\\n",
    "    Fresh,optional,peeled ,Cubed,for garnishing,garnishing,grams,washed, finely chopped,chopped,frying,tablespoon,deseeded,thinly,\\\n",
    "    ,smearing,as per taste,as required, vegans can eliminate this ingredient, roasted,coarsely pounded,\\\n",
    "    ,required,plain,diced,minced,mixed with warm milk,boiled,steamed,as per taste,grated,made into paste,,cooked,\\\n",
    "    taste,(remove seeds fibre any),(Whole),peel cut into rings,(fine variety),cleaned,but recommended,(leftover water from washing rice)\\\n",
    "    to cook,quartered\"\n",
    "    \n",
    "    stopwords = {'and','as','if','it','at','is','or',\"gm\",\"for\",\"ml\",\"whole\"}\n",
    "    \n",
    "    for i in delword.split(\",\"):\n",
    "        text = text.replace(i, '')\n",
    "    text = re.sub(r'\\s+', ' ', text)\n",
    "    text= re.sub('(\\\\b[A-Za-z] \\\\b|\\\\b [A-Za-z]\\\\b)', '', text)\n",
    "    text=' '.join(filter(lambda x: x.lower() not in stopwords,  text.split()))\n",
    "    return text"
   ]
  },
  {
   "cell_type": "code",
   "execution_count": 43,
   "metadata": {},
   "outputs": [],
   "source": [
    "df1=df.copy()"
   ]
  },
  {
   "cell_type": "code",
   "execution_count": 44,
   "metadata": {},
   "outputs": [],
   "source": [
    "df1[\"P-Ingredients\"]=df1[\"TranslatedIngredients\"].apply(preprocess)"
   ]
  },
  {
   "cell_type": "code",
   "execution_count": 45,
   "metadata": {},
   "outputs": [
    {
     "data": {
      "text/plain": [
       "array(['Karela (Bitter Gourd Pavakkai) ,Salt , Onion , Gram flour (besan), Turmeric powder (Haldi), Red Chilli powder, Cumin seeds (Jeera), Coriander Powder (Dhania), Amchur (Dry Mango Powder),Sunflower Oil',\n",
       "       'rice , tomatoes, BC Belle Bhat powder, salt , chickpea lentils, cumin seeds, white urad dal, mustard, green chilli, dry red chilli, cashew peanuts, oilasafoetida',\n",
       "       'Rice Vermicelli Noodles (Thin), Onion , Carrots (Gajjar) , Green peas (Matar), Green Chillies, Asafoetida (hing), Mustard seeds, White Urad Dal (Split), Ghee, sprig Curry leaves,Salt , Lemon juice',\n",
       "       ...,\n",
       "       'Quinoa, Sugar, Cardamom Powder (Elaichi), Milk vegans can substitute this ingredient with almond milk, Condensed Milk khoya (mawa), Ghee, Saffron strands,Mixed nuts',\n",
       "       'Spring Onion (Bulb & Greens) , Tamarind Water, Gram flour (besan), Sunflower Oil, Mustard seeds, Cumin seeds (Jeera), Dry Red Chillies, pinch Asafoetida (hing), pinch Turmeric powder (Haldi),Salt to atste, Coriander (Dhania) Seeds, Cumin seeds (Jeera), Mustard seeds, Methi Seeds (Fenugreek Seeds), Water',\n",
       "       'kg Chicken medium pieces, Mustard oil,Ghee , kg Curd (Dahi Yogurt), inch Cinnamon Stick (Dalchini), to Black cardamom (Badi Elaichi), to Cloves (Laung), Asafoetida (hing), Bay leaf (tej patta), Cumin seeds (Jeera), Fennel Powder,Salt , Mint Leaves (Pudina) dry'],\n",
       "      dtype=object)"
      ]
     },
     "execution_count": 45,
     "metadata": {},
     "output_type": "execute_result"
    }
   ],
   "source": [
    "df1[\"P-Ingredients\"].values"
   ]
  },
  {
   "cell_type": "code",
   "execution_count": 46,
   "metadata": {},
   "outputs": [],
   "source": [
    "import random\n",
    "def rd():\n",
    "    i=random.randint(0,6321)\n",
    "    x=df1.loc[i,\"P-Ingredients\"]\n",
    "    print(x)\n",
    "    print(i)\n",
    "    return x"
   ]
  },
  {
   "cell_type": "code",
   "execution_count": 47,
   "metadata": {},
   "outputs": [
    {
     "name": "stdout",
     "output_type": "stream",
     "text": [
      "Chicken chicken gm, Baby corn baby corn gm, Onion , Green Bell Pepper (Capsicum) , Carrot (Gajjar) , Egg,Salt , Red Chilli flakes, Corn flour, White pepper powder, Schezwan sauce, Tomato Ketchup,Sunflower Oil to fry the chicken, Sugar, Button mushrooms , Asparagus , Carrot (Gajjar) , Onion ,Ginger ,Garlic , Fresh Red chillies, Sunflower Oil, Teriyaki Sauce,White pepper powder ,Salt , Fried Rice chicken ,French Fries\n",
      "5570\n"
     ]
    }
   ],
   "source": [
    "tester=rd()"
   ]
  },
  {
   "cell_type": "code",
   "execution_count": 48,
   "metadata": {},
   "outputs": [],
   "source": [
    "df1[\"flag\"]=0"
   ]
  },
  {
   "cell_type": "code",
   "execution_count": 49,
   "metadata": {},
   "outputs": [
    {
     "data": {
      "text/plain": [
       "26"
      ]
     },
     "execution_count": 49,
     "metadata": {},
     "output_type": "execute_result"
    }
   ],
   "source": [
    "user_ingredients='Gram flour, Curd , Green Chillies made into paste, Lemon juice, Enos fruit salt,Salt , Sunflower Oil, Mustard seeds, Cumin seeds (Jeera), Asafoetida (hing), Green Chillies, Red Chilli powder, Turmeric powder, Jaggery,Salt  , Sunflower Oil, Mustard seeds, Cumin seeds, Asafoetida , Green Chillies, Red Chilli powder, Turmeric, Jaggery , Tamarind ,Salt , Coriander '\n",
    "len(user_ingredients.split(\",\"))"
   ]
  },
  {
   "cell_type": "code",
   "execution_count": 50,
   "metadata": {},
   "outputs": [],
   "source": [
    "df1.reset_index(drop=True,inplace=True)"
   ]
  },
  {
   "cell_type": "code",
   "execution_count": 51,
   "metadata": {},
   "outputs": [
    {
     "name": "stdout",
     "output_type": "stream",
     "text": [
      "<class 'pandas.core.frame.DataFrame'>\n",
      "RangeIndex: 6276 entries, 0 to 6275\n",
      "Data columns (total 15 columns):\n",
      " #   Column                  Non-Null Count  Dtype \n",
      "---  ------                  --------------  ----- \n",
      " 0   Srno                    6276 non-null   int64 \n",
      " 1   TranslatedRecipeName    6276 non-null   object\n",
      " 2   TranslatedIngredients   6276 non-null   object\n",
      " 3   PrepTimeInMins          6276 non-null   int64 \n",
      " 4   CookTimeInMins          6276 non-null   int64 \n",
      " 5   TotalTimeInMins         6276 non-null   int64 \n",
      " 6   Servings                6276 non-null   int64 \n",
      " 7   Cuisine                 6276 non-null   object\n",
      " 8   Course                  6276 non-null   object\n",
      " 9   Diet                    6276 non-null   object\n",
      " 10  TranslatedInstructions  6276 non-null   object\n",
      " 11  URL                     6276 non-null   object\n",
      " 12  lang                    6276 non-null   object\n",
      " 13  P-Ingredients           6276 non-null   object\n",
      " 14  flag                    6276 non-null   int64 \n",
      "dtypes: int64(6), object(9)\n",
      "memory usage: 735.6+ KB\n"
     ]
    }
   ],
   "source": [
    "df1.info()"
   ]
  },
  {
   "cell_type": "code",
   "execution_count": 19,
   "metadata": {},
   "outputs": [],
   "source": [
    "rows=6269"
   ]
  },
  {
   "cell_type": "code",
   "execution_count": 52,
   "metadata": {},
   "outputs": [
    {
     "name": "stdout",
     "output_type": "stream",
     "text": [
      "61.400166034698486\n"
     ]
    }
   ],
   "source": [
    "def Cook2(Pingredients):    \n",
    "        \"Comparing the Recipe Ingredients and User Ingredients and decreasing count value for each Recipe ingredient missing.\\\n",
    "        Count describes the no. of ingredients missing from user ingredients to make that recipe.\"\n",
    "        flag,count=0,0\n",
    "        for i in set(Pingredients.split(\",\")):\n",
    "            for j in  user_ingredients.split(\",\"):\n",
    "                if fuzz.token_set_ratio(i,j)>80:                    \n",
    "                    flag=1 \n",
    "                    break\n",
    "            if (flag==0):\n",
    "                count-=1\n",
    "            else:\n",
    "                flag=0\n",
    "        return count"
   ]
  },
  {
   "cell_type": "code",
   "execution_count": null,
   "metadata": {},
   "outputs": [],
   "source": [
    "df[\"flag\"]=df[\"P-Ingredients\"].apply(Cook2)"
   ]
  },
  {
   "cell_type": "code",
   "execution_count": 53,
   "metadata": {},
   "outputs": [
    {
     "data": {
      "text/plain": [
       "'coconut milk, water, chana lentils, green chillies do more less you wish, oil, mustard, small Spoon turmeric powder, cumin seeds, curry leaves little, salt , coriander leaves little'"
      ]
     },
     "execution_count": 53,
     "metadata": {},
     "output_type": "execute_result"
    }
   ],
   "source": [
    "df1.loc[93,\"P-Ingredients\"]"
   ]
  },
  {
   "cell_type": "code",
   "execution_count": 54,
   "metadata": {},
   "outputs": [
    {
     "data": {
      "text/plain": [
       "4     654\n",
       "0     532\n",
       "6     449\n",
       "12    429\n",
       "11    424\n",
       "8     395\n",
       "9     394\n",
       "13    379\n",
       "10    373\n",
       "5     352\n",
       "14    306\n",
       "7     284\n",
       "15    260\n",
       "3     256\n",
       "16    175\n",
       "2     171\n",
       "1     161\n",
       "17    112\n",
       "18     84\n",
       "19     43\n",
       "20     19\n",
       "21     13\n",
       "22      8\n",
       "24      1\n",
       "26      1\n",
       "23      1\n",
       "Name: flag, dtype: int64"
      ]
     },
     "execution_count": 54,
     "metadata": {},
     "output_type": "execute_result"
    }
   ],
   "source": [
    "df1[\"flag\"].value_counts()"
   ]
  },
  {
   "cell_type": "code",
   "execution_count": 55,
   "metadata": {},
   "outputs": [
    {
     "data": {
      "text/html": [
       "<div>\n",
       "<style scoped>\n",
       "    .dataframe tbody tr th:only-of-type {\n",
       "        vertical-align: middle;\n",
       "    }\n",
       "\n",
       "    .dataframe tbody tr th {\n",
       "        vertical-align: top;\n",
       "    }\n",
       "\n",
       "    .dataframe thead th {\n",
       "        text-align: right;\n",
       "    }\n",
       "</style>\n",
       "<table border=\"1\" class=\"dataframe\">\n",
       "  <thead>\n",
       "    <tr style=\"text-align: right;\">\n",
       "      <th></th>\n",
       "      <th>Srno</th>\n",
       "      <th>TranslatedRecipeName</th>\n",
       "      <th>TranslatedIngredients</th>\n",
       "      <th>PrepTimeInMins</th>\n",
       "      <th>CookTimeInMins</th>\n",
       "      <th>TotalTimeInMins</th>\n",
       "      <th>Servings</th>\n",
       "      <th>Cuisine</th>\n",
       "      <th>Course</th>\n",
       "      <th>Diet</th>\n",
       "      <th>TranslatedInstructions</th>\n",
       "      <th>URL</th>\n",
       "      <th>lang</th>\n",
       "      <th>P-Ingredients</th>\n",
       "      <th>flag</th>\n",
       "    </tr>\n",
       "  </thead>\n",
       "  <tbody>\n",
       "    <tr>\n",
       "      <th>3293</th>\n",
       "      <td>4502</td>\n",
       "      <td>Rasawala Dhokla Recipe</td>\n",
       "      <td>2 cups Gram flour (besan),1/2 cup Curd (Dahi /...</td>\n",
       "      <td>5</td>\n",
       "      <td>10</td>\n",
       "      <td>15</td>\n",
       "      <td>4</td>\n",
       "      <td>Gujarati Recipes﻿</td>\n",
       "      <td>North Indian Breakfast</td>\n",
       "      <td>Vegetarian</td>\n",
       "      <td>To begin making the Rasawala Dhokla recipe, in...</td>\n",
       "      <td>http://www.archanaskitchen.com/rasawala-dhokla...</td>\n",
       "      <td>en</td>\n",
       "      <td>Gram flour (besan), Curd (Dahi Yogurt), Green ...</td>\n",
       "      <td>26</td>\n",
       "    </tr>\n",
       "    <tr>\n",
       "      <th>4847</th>\n",
       "      <td>7665</td>\n",
       "      <td>Maharashtrian Golyachi Amti Recipe (Besan Ball...</td>\n",
       "      <td>1 cup Gram flour (besan),1 tablespoon Sunflowe...</td>\n",
       "      <td>10</td>\n",
       "      <td>20</td>\n",
       "      <td>30</td>\n",
       "      <td>4</td>\n",
       "      <td>Maharashtrian Recipes</td>\n",
       "      <td>Side Dish</td>\n",
       "      <td>Vegetarian</td>\n",
       "      <td>To Make Balls/Golyachi (kofta)To begin Maharas...</td>\n",
       "      <td>http://www.archanaskitchen.com/maharashtrian-g...</td>\n",
       "      <td>en</td>\n",
       "      <td>Gram flour (besan), Sunflower Oil, Ajwain (Car...</td>\n",
       "      <td>24</td>\n",
       "    </tr>\n",
       "    <tr>\n",
       "      <th>647</th>\n",
       "      <td>714</td>\n",
       "      <td>Dal Dhokli Recipe With Sprouted Moong Dal</td>\n",
       "      <td>3/4 cup Whole Wheat Flour,1/4 cup Gram flour (...</td>\n",
       "      <td>10</td>\n",
       "      <td>45</td>\n",
       "      <td>55</td>\n",
       "      <td>4</td>\n",
       "      <td>Gujarati Recipes﻿</td>\n",
       "      <td>Lunch</td>\n",
       "      <td>Vegetarian</td>\n",
       "      <td>To begin making the Dal Dhokli Recipe With Spr...</td>\n",
       "      <td>https://www.archanaskitchen.com/dal-dhokli-rec...</td>\n",
       "      <td>en</td>\n",
       "      <td>Wheat Flour, Gram flour (besan), Red Chilli po...</td>\n",
       "      <td>23</td>\n",
       "    </tr>\n",
       "    <tr>\n",
       "      <th>5386</th>\n",
       "      <td>9153</td>\n",
       "      <td>Tindora Ka Salan Recipe</td>\n",
       "      <td>250 grams Tindora (Dondakaya/ Kovakkai) - slit...</td>\n",
       "      <td>10</td>\n",
       "      <td>20</td>\n",
       "      <td>30</td>\n",
       "      <td>4</td>\n",
       "      <td>North Indian Recipes</td>\n",
       "      <td>Side Dish</td>\n",
       "      <td>Vegetarian</td>\n",
       "      <td>To begin making the Tindora Ka Salan Recipe, d...</td>\n",
       "      <td>https://www.archanaskitchen.com/tindora-ka-sal...</td>\n",
       "      <td>en</td>\n",
       "      <td>Tindora (Dondakaya Kovakkai) slitted keeping t...</td>\n",
       "      <td>22</td>\n",
       "    </tr>\n",
       "    <tr>\n",
       "      <th>4304</th>\n",
       "      <td>6410</td>\n",
       "      <td>Andhra Style Mukkala Pulusu Recipe-Mixed Veget...</td>\n",
       "      <td>1/4 cup Mangalorean cucumber - cut into small ...</td>\n",
       "      <td>10</td>\n",
       "      <td>20</td>\n",
       "      <td>30</td>\n",
       "      <td>4</td>\n",
       "      <td>Andhra</td>\n",
       "      <td>Lunch</td>\n",
       "      <td>Vegetarian</td>\n",
       "      <td>To begin making the Mukkala Pulusu Recipe, fir...</td>\n",
       "      <td>https://www.archanaskitchen.com/mukkala-pulusu...</td>\n",
       "      <td>en</td>\n",
       "      <td>Mangalorean cucumber cut into small chunks, Ca...</td>\n",
       "      <td>22</td>\n",
       "    </tr>\n",
       "    <tr>\n",
       "      <th>302</th>\n",
       "      <td>323</td>\n",
       "      <td>Kurkuri Bhindi With Spicy Tomato Yogurt Gravy ...</td>\n",
       "      <td>250 grams Bhindi (Lady Finger/Okra),Sunflower ...</td>\n",
       "      <td>20</td>\n",
       "      <td>40</td>\n",
       "      <td>60</td>\n",
       "      <td>4</td>\n",
       "      <td>North Indian Recipes</td>\n",
       "      <td>Lunch</td>\n",
       "      <td>Vegetarian</td>\n",
       "      <td>To begin making the Kurkuri Bhindi With Spicy ...</td>\n",
       "      <td>http://www.archanaskitchen.com/kurkuri-bhindi-...</td>\n",
       "      <td>en</td>\n",
       "      <td>Bhindi (Lady FingerOkra),Sunflower Oil deep , ...</td>\n",
       "      <td>22</td>\n",
       "    </tr>\n",
       "    <tr>\n",
       "      <th>3815</th>\n",
       "      <td>5474</td>\n",
       "      <td>Aloo Bonda Recipe (Deep Fried Snack With Potat...</td>\n",
       "      <td>5 Potatoes (Aloo) - boiled,2 teaspoon Mustard ...</td>\n",
       "      <td>10</td>\n",
       "      <td>45</td>\n",
       "      <td>55</td>\n",
       "      <td>2</td>\n",
       "      <td>Bengali Recipes</td>\n",
       "      <td>Snack</td>\n",
       "      <td>Vegetarian</td>\n",
       "      <td>To begin making the Aloo Bonda recipe, firstly...</td>\n",
       "      <td>http://www.archanaskitchen.com/aloo-bonda-reci...</td>\n",
       "      <td>en</td>\n",
       "      <td>Potatoes (Aloo) , Mustard seeds, Cumin seeds (...</td>\n",
       "      <td>22</td>\n",
       "    </tr>\n",
       "    <tr>\n",
       "      <th>6062</th>\n",
       "      <td>12021</td>\n",
       "      <td>Mangalorean Style Bendekayi Huli Koddel Recipe...</td>\n",
       "      <td>2 cups Bhindi (Lady Finger/Okra),1 cup Yellow ...</td>\n",
       "      <td>10</td>\n",
       "      <td>30</td>\n",
       "      <td>40</td>\n",
       "      <td>4</td>\n",
       "      <td>Mangalorean</td>\n",
       "      <td>Lunch</td>\n",
       "      <td>Vegetarian</td>\n",
       "      <td>To begin making the Mangalorean Style Bendekay...</td>\n",
       "      <td>https://www.archanaskitchen.com/mangalorean-st...</td>\n",
       "      <td>en</td>\n",
       "      <td>Bhindi (Lady FingerOkra), Yellow Moong Dal (Sp...</td>\n",
       "      <td>22</td>\n",
       "    </tr>\n",
       "    <tr>\n",
       "      <th>333</th>\n",
       "      <td>358</td>\n",
       "      <td>Potato Stuffed Dal Dhokli Recipe</td>\n",
       "      <td>1 cup Whole Wheat Flour,Salt - to taste,1 tabl...</td>\n",
       "      <td>25</td>\n",
       "      <td>75</td>\n",
       "      <td>100</td>\n",
       "      <td>4</td>\n",
       "      <td>North Indian Recipes</td>\n",
       "      <td>Lunch</td>\n",
       "      <td>Vegetarian</td>\n",
       "      <td>To prepare Potato Stuffed Dal Dhokli Recipe, g...</td>\n",
       "      <td>https://www.archanaskitchen.com/potato-stuffed...</td>\n",
       "      <td>en</td>\n",
       "      <td>Wheat Flour,Salt , Sunflower Oil,Whole Wheat F...</td>\n",
       "      <td>22</td>\n",
       "    </tr>\n",
       "    <tr>\n",
       "      <th>3173</th>\n",
       "      <td>4285</td>\n",
       "      <td>Makai Dhokla Recipe - Savoury Steamed Corn Cake</td>\n",
       "      <td>1 cup Sweet corn,1 cup Corn meal,1/2 cup Curd ...</td>\n",
       "      <td>20</td>\n",
       "      <td>45</td>\n",
       "      <td>65</td>\n",
       "      <td>4</td>\n",
       "      <td>Gujarati Recipes﻿</td>\n",
       "      <td>Snack</td>\n",
       "      <td>High Protein Vegetarian</td>\n",
       "      <td>To begin making the Makai Dhokla, firstly crus...</td>\n",
       "      <td>http://www.archanaskitchen.com/makai-dhokla-sa...</td>\n",
       "      <td>en</td>\n",
       "      <td>Sweet corn, Corn meal, Curd (Dahi Yogurt) whis...</td>\n",
       "      <td>22</td>\n",
       "    </tr>\n",
       "  </tbody>\n",
       "</table>\n",
       "</div>"
      ],
      "text/plain": [
       "       Srno                               TranslatedRecipeName  \\\n",
       "3293   4502                             Rasawala Dhokla Recipe   \n",
       "4847   7665  Maharashtrian Golyachi Amti Recipe (Besan Ball...   \n",
       "647     714          Dal Dhokli Recipe With Sprouted Moong Dal   \n",
       "5386   9153                            Tindora Ka Salan Recipe   \n",
       "4304   6410  Andhra Style Mukkala Pulusu Recipe-Mixed Veget...   \n",
       "302     323  Kurkuri Bhindi With Spicy Tomato Yogurt Gravy ...   \n",
       "3815   5474  Aloo Bonda Recipe (Deep Fried Snack With Potat...   \n",
       "6062  12021  Mangalorean Style Bendekayi Huli Koddel Recipe...   \n",
       "333     358                   Potato Stuffed Dal Dhokli Recipe   \n",
       "3173   4285    Makai Dhokla Recipe - Savoury Steamed Corn Cake   \n",
       "\n",
       "                                  TranslatedIngredients  PrepTimeInMins  \\\n",
       "3293  2 cups Gram flour (besan),1/2 cup Curd (Dahi /...               5   \n",
       "4847  1 cup Gram flour (besan),1 tablespoon Sunflowe...              10   \n",
       "647   3/4 cup Whole Wheat Flour,1/4 cup Gram flour (...              10   \n",
       "5386  250 grams Tindora (Dondakaya/ Kovakkai) - slit...              10   \n",
       "4304  1/4 cup Mangalorean cucumber - cut into small ...              10   \n",
       "302   250 grams Bhindi (Lady Finger/Okra),Sunflower ...              20   \n",
       "3815  5 Potatoes (Aloo) - boiled,2 teaspoon Mustard ...              10   \n",
       "6062  2 cups Bhindi (Lady Finger/Okra),1 cup Yellow ...              10   \n",
       "333   1 cup Whole Wheat Flour,Salt - to taste,1 tabl...              25   \n",
       "3173  1 cup Sweet corn,1 cup Corn meal,1/2 cup Curd ...              20   \n",
       "\n",
       "      CookTimeInMins  TotalTimeInMins  Servings                Cuisine  \\\n",
       "3293              10               15         4      Gujarati Recipes﻿   \n",
       "4847              20               30         4  Maharashtrian Recipes   \n",
       "647               45               55         4      Gujarati Recipes﻿   \n",
       "5386              20               30         4   North Indian Recipes   \n",
       "4304              20               30         4                 Andhra   \n",
       "302               40               60         4   North Indian Recipes   \n",
       "3815              45               55         2        Bengali Recipes   \n",
       "6062              30               40         4            Mangalorean   \n",
       "333               75              100         4   North Indian Recipes   \n",
       "3173              45               65         4      Gujarati Recipes﻿   \n",
       "\n",
       "                      Course                     Diet  \\\n",
       "3293  North Indian Breakfast               Vegetarian   \n",
       "4847               Side Dish               Vegetarian   \n",
       "647                    Lunch               Vegetarian   \n",
       "5386               Side Dish               Vegetarian   \n",
       "4304                   Lunch               Vegetarian   \n",
       "302                    Lunch               Vegetarian   \n",
       "3815                   Snack               Vegetarian   \n",
       "6062                   Lunch               Vegetarian   \n",
       "333                    Lunch               Vegetarian   \n",
       "3173                   Snack  High Protein Vegetarian   \n",
       "\n",
       "                                 TranslatedInstructions  \\\n",
       "3293  To begin making the Rasawala Dhokla recipe, in...   \n",
       "4847  To Make Balls/Golyachi (kofta)To begin Maharas...   \n",
       "647   To begin making the Dal Dhokli Recipe With Spr...   \n",
       "5386  To begin making the Tindora Ka Salan Recipe, d...   \n",
       "4304  To begin making the Mukkala Pulusu Recipe, fir...   \n",
       "302   To begin making the Kurkuri Bhindi With Spicy ...   \n",
       "3815  To begin making the Aloo Bonda recipe, firstly...   \n",
       "6062  To begin making the Mangalorean Style Bendekay...   \n",
       "333   To prepare Potato Stuffed Dal Dhokli Recipe, g...   \n",
       "3173  To begin making the Makai Dhokla, firstly crus...   \n",
       "\n",
       "                                                    URL lang  \\\n",
       "3293  http://www.archanaskitchen.com/rasawala-dhokla...   en   \n",
       "4847  http://www.archanaskitchen.com/maharashtrian-g...   en   \n",
       "647   https://www.archanaskitchen.com/dal-dhokli-rec...   en   \n",
       "5386  https://www.archanaskitchen.com/tindora-ka-sal...   en   \n",
       "4304  https://www.archanaskitchen.com/mukkala-pulusu...   en   \n",
       "302   http://www.archanaskitchen.com/kurkuri-bhindi-...   en   \n",
       "3815  http://www.archanaskitchen.com/aloo-bonda-reci...   en   \n",
       "6062  https://www.archanaskitchen.com/mangalorean-st...   en   \n",
       "333   https://www.archanaskitchen.com/potato-stuffed...   en   \n",
       "3173  http://www.archanaskitchen.com/makai-dhokla-sa...   en   \n",
       "\n",
       "                                          P-Ingredients  flag  \n",
       "3293  Gram flour (besan), Curd (Dahi Yogurt), Green ...    26  \n",
       "4847  Gram flour (besan), Sunflower Oil, Ajwain (Car...    24  \n",
       "647   Wheat Flour, Gram flour (besan), Red Chilli po...    23  \n",
       "5386  Tindora (Dondakaya Kovakkai) slitted keeping t...    22  \n",
       "4304  Mangalorean cucumber cut into small chunks, Ca...    22  \n",
       "302   Bhindi (Lady FingerOkra),Sunflower Oil deep , ...    22  \n",
       "3815  Potatoes (Aloo) , Mustard seeds, Cumin seeds (...    22  \n",
       "6062  Bhindi (Lady FingerOkra), Yellow Moong Dal (Sp...    22  \n",
       "333   Wheat Flour,Salt , Sunflower Oil,Whole Wheat F...    22  \n",
       "3173  Sweet corn, Corn meal, Curd (Dahi Yogurt) whis...    22  "
      ]
     },
     "execution_count": 55,
     "metadata": {},
     "output_type": "execute_result"
    }
   ],
   "source": [
    "df1.sort_values(by=\"flag\",ascending=False).head(10)"
   ]
  },
  {
   "cell_type": "code",
   "execution_count": null,
   "metadata": {},
   "outputs": [],
   "source": [
    "df1.reset_index(drop=True,inplace=True)"
   ]
  },
  {
   "cell_type": "code",
   "execution_count": null,
   "metadata": {},
   "outputs": [],
   "source": [
    "df1.drop([5743,5173,4846,4125,3766,422,80,442,583,4994,5466,5463,5440,5383,5374,4994,1571,3311,3222,2305,1571,605,423],inplace=True)"
   ]
  },
  {
   "cell_type": "code",
   "execution_count": null,
   "metadata": {},
   "outputs": [],
   "source": [
    "df.reset_index(drop=True,inplace=True)"
   ]
  },
  {
   "cell_type": "code",
   "execution_count": 56,
   "metadata": {},
   "outputs": [],
   "source": [
    "df1.to_csv('df-en-processed.csv',index=False)"
   ]
  },
  {
   "cell_type": "markdown",
   "metadata": {},
   "source": [
    "To Preprocess Instructions"
   ]
  },
  {
   "cell_type": "code",
   "execution_count": 2,
   "metadata": {},
   "outputs": [],
   "source": [
    "df=pd.read_csv(\"df-en-processed.csv\")"
   ]
  },
  {
   "cell_type": "code",
   "execution_count": 16,
   "metadata": {},
   "outputs": [
    {
     "data": {
      "text/plain": [
       "'To begin making\\xa0Pudina Khara Pongal Recipe, wash and soak the rice and dal for 20 minutes.Make a paste of mint/pudina, coriander, green chilli and ginger using a mixer grinder and keep aside.Now, heat oil in the pressure cooker, add the cumin seeds and let it crackle.Add the soaked rice and dal and fry for a few minutes.Add the mint coriander paste and saute for a minute.Add 5 cups of water, season with salt and pressure cook for 4 to 5 whistles and keep aside.In the mean prepare the tadka by heating ghee in a small tadka pan.Add in the cumin seeds, peppercorns and let it crackle.Add the cashew halves and fry till they turn golden.Add the curry leaves and asafoetida and turn off the flame.Once the pressure has been released, open the lid and mash the pongal mixture.Add in the tadka over it and\\xa0Serve the Pudina Khara Pongal Recipe along with\\xa0Kathirikai Gothsu Recipe (Spicy and Tangy Eggplant Curry)and\\xa0South Indian Coconut Chutney\\xa0for a relaxed weekend breakfast.'"
      ]
     },
     "execution_count": 16,
     "metadata": {},
     "output_type": "execute_result"
    }
   ],
   "source": [
    "df.loc[5,\"TranslatedInstructions\"]"
   ]
  },
  {
   "cell_type": "code",
   "execution_count": 23,
   "metadata": {},
   "outputs": [],
   "source": [
    "def pre(text):\n",
    "\n",
    "    delword=\"\\xa0,\\n\"    \n",
    "    for i in delword.split(\",\"):\n",
    "        text = text.replace(i, ' ')\n",
    "    return text"
   ]
  },
  {
   "cell_type": "code",
   "execution_count": 22,
   "metadata": {},
   "outputs": [],
   "source": [
    "testtext='To begin making\\xa0Pudina Khara Pongal Recipe, wash and soak the rice and dal for 20 minutes.Make a paste of mint/pudina, coriander, green chilli and ginger using a mixer grinder and keep aside.Now, heat oil in the pressure cooker, add the cumin seeds and let it crackle.Add the soaked rice and dal and fry for a few minutes.Add the mint coriander paste and saute for a minute.Add 5 cups of water, season with salt and pressure cook for 4 to 5 whistles and keep aside.In the mean prepare the tadka by heating ghee in a small tadka pan.Add in the cumin seeds, peppercorns and let it crackle.Add the cashew halves and fry till they turn golden.Add the curry leaves and asafoetida and turn off the flame.Once the pressure has been released, open the lid and mash the pongal mixture.Add in the tadka over it and\\xa0Serve the Pudina Khara Pongal Recipe along with\\xa0Kathirikai Gothsu Recipe (Spicy and Tangy Eggplant Curry)and\\xa0South Indian Coconut Chutney\\xa0for a relaxed weekend breakfast.'"
   ]
  },
  {
   "cell_type": "code",
   "execution_count": 24,
   "metadata": {},
   "outputs": [],
   "source": [
    "d=pre(testtext)"
   ]
  },
  {
   "cell_type": "code",
   "execution_count": 25,
   "metadata": {},
   "outputs": [
    {
     "data": {
      "text/plain": [
       "'To begin making Pudina Khara Pongal Recipe, wash and soak the rice and dal for 20 minutes.Make a paste of mint/pudina, coriander, green chilli and ginger using a mixer grinder and keep aside.Now, heat oil in the pressure cooker, add the cumin seeds and let it crackle.Add the soaked rice and dal and fry for a few minutes.Add the mint coriander paste and saute for a minute.Add 5 cups of water, season with salt and pressure cook for 4 to 5 whistles and keep aside.In the mean prepare the tadka by heating ghee in a small tadka pan.Add in the cumin seeds, peppercorns and let it crackle.Add the cashew halves and fry till they turn golden.Add the curry leaves and asafoetida and turn off the flame.Once the pressure has been released, open the lid and mash the pongal mixture.Add in the tadka over it and Serve the Pudina Khara Pongal Recipe along with Kathirikai Gothsu Recipe (Spicy and Tangy Eggplant Curry)and South Indian Coconut Chutney for a relaxed weekend breakfast.'"
      ]
     },
     "execution_count": 25,
     "metadata": {},
     "output_type": "execute_result"
    }
   ],
   "source": [
    "d"
   ]
  },
  {
   "cell_type": "code",
   "execution_count": 26,
   "metadata": {},
   "outputs": [
    {
     "data": {
      "text/plain": [
       "Index(['TranslatedRecipeName', 'TranslatedIngredients', 'PrepTimeInMins',\n",
       "       'CookTimeInMins', 'TotalTimeInMins', 'Servings', 'Cuisine', 'Course',\n",
       "       'Diet', 'TranslatedInstructions', 'URL', 'lang', 'P-Ingredients',\n",
       "       'flag'],\n",
       "      dtype='object')"
      ]
     },
     "execution_count": 26,
     "metadata": {},
     "output_type": "execute_result"
    }
   ],
   "source": [
    "df.columns"
   ]
  },
  {
   "cell_type": "code",
   "execution_count": 27,
   "metadata": {},
   "outputs": [],
   "source": [
    "df[\"instruc-lang\"]=df[\"TranslatedInstructions\"].apply(lambda x:detect(x))"
   ]
  },
  {
   "cell_type": "code",
   "execution_count": 28,
   "metadata": {},
   "outputs": [
    {
     "data": {
      "text/plain": [
       "en    5990\n",
       "hi     265\n",
       "Name: instruc-lang, dtype: int64"
      ]
     },
     "execution_count": 28,
     "metadata": {},
     "output_type": "execute_result"
    }
   ],
   "source": [
    "df[\"instruc-lang\"].value_counts()"
   ]
  },
  {
   "cell_type": "code",
   "execution_count": 29,
   "metadata": {},
   "outputs": [],
   "source": [
    "df=df[df[\"instruc-lang\"]==\"en\"]"
   ]
  },
  {
   "cell_type": "code",
   "execution_count": 31,
   "metadata": {},
   "outputs": [
    {
     "name": "stderr",
     "output_type": "stream",
     "text": [
      "C:\\Users\\soory\\.conda\\envs\\tensorflow\\lib\\site-packages\\ipykernel_launcher.py:1: SettingWithCopyWarning: \n",
      "A value is trying to be set on a copy of a slice from a DataFrame.\n",
      "Try using .loc[row_indexer,col_indexer] = value instead\n",
      "\n",
      "See the caveats in the documentation: https://pandas.pydata.org/pandas-docs/stable/user_guide/indexing.html#returning-a-view-versus-a-copy\n",
      "  \"\"\"Entry point for launching an IPython kernel.\n"
     ]
    }
   ],
   "source": [
    "df[\"TranslatedInstructions\"]=df[\"TranslatedInstructions\"].apply(pre)"
   ]
  },
  {
   "cell_type": "code",
   "execution_count": 34,
   "metadata": {},
   "outputs": [
    {
     "data": {
      "text/plain": [
       "'To begin making the homemade baked beans recipe, we first have to soak the beans overnight for about 8 hours in water.We also have to make the cooked tomato puree. Click here to see the recipe of how to make tomato puree at home.Once the beans are soaked well, our next step is to cook them. I like using the pressure cooker method to cook the beans. Place the beans in the pressure, place the weight on, cover the pan and cook it along with 2-1/2 cups of water. After you heat 4 to 5 whistles, turn the heat to low and cook for another 15 minutes.Turn off the heat and allow the pressure cooker to release its pressure naturally. This would take another 10 minutes. The beans continue to cook under the pressure even when it is turned off.Once the pressure is released, open the cooker and drain out the excess liquids. You store this liquid and use it in the vegetable stock or risotto.Once the beans are cooked, our next step is to spice it up to make the baked beans.Heat oil in a sauce pan on medium heat; add in the onions and garlic and give it a light sauté until the onions are tender. Add the tomatoes, honey and the spices and give it a stir.Add in the cooked drained beans into the tomato gravy. Stir fry the beans until the beans get well coated with the tomatoes. Cover the pan, turn the heat to low and simmer the beans for about 30 minutes until you noticed the beans are well coated with the spices and tomatoes. Check the salt and seasoning levels and adjust to suit your taste.You can optionally garnish the Homemade Baked Beans with coriander leaves and serve it along with toast, or Potato Cakes Recipe.'"
      ]
     },
     "execution_count": 34,
     "metadata": {},
     "output_type": "execute_result"
    }
   ],
   "source": [
    "df.loc[10,\"TranslatedInstructions\"]"
   ]
  },
  {
   "cell_type": "code",
   "execution_count": 35,
   "metadata": {},
   "outputs": [],
   "source": [
    "df.to_csv('df-en-processed.csv',index=False)"
   ]
  },
  {
   "cell_type": "code",
   "execution_count": null,
   "metadata": {},
   "outputs": [],
   "source": [
    "\n",
    "df=pd.read_csv(\"df-en-processed.csv\")\n",
    "user_ingredients=\"Eggs hard & halved, Onion , Tomato , Coriander Powder (Dhania), Garam masala powder, Red Chilli powder, \\\n",
    "Cinnamon Stick (Dalchini), Cloves (Laung), Sunflower Oil,Salt , Coriander (Dhania) Seeds\"\n",
    "\n",
    "\n",
    "    \n",
    "    return Cookdf\n",
    "\n",
    "Cookdf=Cookman(df,user_ingredients)"
   ]
  },
  {
   "cell_type": "code",
   "execution_count": null,
   "metadata": {},
   "outputs": [],
   "source": [
    "def Cookman(df,user_ingredients):\n",
    "    def Cook2(Pingredients):    \n",
    "        \"Comparing the Recipe Ingredients and User Ingredients and decreasing count value for each Recipe ingredient missing.\\\n",
    "        Count describes the no. of ingredients missing from user ingredients to make that recipe.\"\n",
    "        flag,count=0,0\n",
    "        for i in set(Pingredients.split(\",\")):\n",
    "            for j in  user_ingredients.split(\",\"):\n",
    "                if fuzz.token_set_ratio(i,j)>80:                    \n",
    "                    flag=1 \n",
    "                    break\n",
    "            if (flag==0):\n",
    "                count-=1\n",
    "            else:\n",
    "                flag=0\n",
    "        return count\n",
    "    df[\"flag\"]=df[\"P-Ingredients\"].apply(Cook2)\n",
    "    Cookdf=df.sort_values(by=\"flag\",ascending=False).head(10)\n",
    "    def Missing(Cookdf):\n",
    "        flag=0\n",
    "        miss=\"\"\n",
    "        for i in set(Pingredients.split(\",\")):\n",
    "            for j in  user_ingredients.split(\",\"):\n",
    "                if fuzz.token_set_ratio(i,j)>80:                    \n",
    "                    flag=1 \n",
    "                    break\n",
    "            if (flag==0):\n",
    "                miss+=i+\",\"\n",
    "            miss = miss[:-1]+\".\"\n",
    "            else:\n",
    "                flag=0\n",
    "        return miss\n",
    "    Cookdf[\"Missing\"]=Cookdf[\"P-Ingredients\"].apply(Missing)\n",
    "    return Cookdf"
   ]
  },
  {
   "cell_type": "code",
   "execution_count": 46,
   "metadata": {},
   "outputs": [],
   "source": [
    "miss=\"\"\n",
    "i=[\"hi\",\"bi\"]\n",
    "for b in i:    \n",
    "   miss+=b+\",\"\n",
    "miss = miss[:-1]+\".\""
   ]
  },
  {
   "cell_type": "code",
   "execution_count": 32,
   "metadata": {},
   "outputs": [],
   "source": [
    "df=pd.read_csv(\"df-en-final.csv\")"
   ]
  },
  {
   "cell_type": "code",
   "execution_count": 24,
   "metadata": {},
   "outputs": [],
   "source": [
    "def preprocess(text):\n",
    "    text=text.lower()\n",
    "    text=text.strip()\n",
    "    \n",
    "    stopwords = {\"tsp\",\"tbsp\",\"()\"}\n",
    "    \n",
    "    text=' '.join(filter(lambda x: x.lower() not in stopwords,  text.split()))\n",
    "\n",
    "        \n",
    "    return text"
   ]
  },
  {
   "cell_type": "code",
   "execution_count": 25,
   "metadata": {},
   "outputs": [],
   "source": [
    "df[\"P-Ingredients\"]=df[\"P-Ingredients\"].apply(preprocess)"
   ]
  },
  {
   "cell_type": "code",
   "execution_count": 35,
   "metadata": {},
   "outputs": [
    {
     "data": {
      "text/plain": [
       "array(['karela (bitter gourd pavakkai) ,salt , onion , gram flour (besan), turmeric powder (haldi), red chilli powder, cumin seeds (jeera), coriander powder (dhania), amchur (dry mango powder),sunflower oil',\n",
       "       'rice , tomatoes, bc belle bhat powder, salt , chickpea lentils, cumin seeds, white urad dal, mustard, green chilli, dry red chilli, cashew peanuts, oilasafoetida',\n",
       "       'rice vermicelli noodles (thin), onion , carrots (gajjar) , green peas (matar), green chillies, asafoetida (hing), mustard seeds, white urad dal (split), ghee, sprig curry leaves,salt , lemon juice',\n",
       "       ...,\n",
       "       'quinoa, sugar, cardamom powder (elaichi), milk vegans can substitute this ingredient with almond milk, condensed milk khoya (mawa), ghee, saffron strands,mixed nuts',\n",
       "       'spring onion (bulb & greens) , tamarind water, gram flour (besan), sunflower oil, mustard seeds, cumin seeds (jeera), dry red chillies, pinch asafoetida (hing), pinch turmeric powder (haldi),salt to atste, coriander (dhania) seeds, cumin seeds (jeera), mustard seeds, methi seeds (fenugreek seeds), water',\n",
       "       'kg chicken medium pieces, mustard oil,ghee , kg curd (dahi yogurt), inch cinnamon stick (dalchini), to black cardamom (badi elaichi), to cloves (laung), asafoetida (hing), bay leaf (tej patta), cumin seeds (jeera), fennel powder,salt , mint leaves (pudina) dry'],\n",
       "      dtype=object)"
      ]
     },
     "execution_count": 35,
     "metadata": {},
     "output_type": "execute_result"
    }
   ],
   "source": [
    "df[\"P-Ingredients\"].values"
   ]
  },
  {
   "cell_type": "code",
   "execution_count": 27,
   "metadata": {},
   "outputs": [],
   "source": [
    "df.to_csv(\"df-en-final.csv\",index=False)"
   ]
  },
  {
   "cell_type": "code",
   "execution_count": 49,
   "metadata": {},
   "outputs": [],
   "source": [
    "df=pd.read_csv(\"df-en-final.csv\")"
   ]
  },
  {
   "cell_type": "code",
   "execution_count": 50,
   "metadata": {},
   "outputs": [],
   "source": [
    "def preprocess(text):\n",
    "    bar=\"\"\n",
    "    for i in text.split(\",\"):\n",
    "             bar+=i.strip()+\",\"\n",
    "    bar=bar[:-1]\n",
    "\n",
    "        \n",
    "    return bar"
   ]
  },
  {
   "cell_type": "code",
   "execution_count": 51,
   "metadata": {},
   "outputs": [],
   "source": [
    "df[\"P-Ingredients\"]=df[\"P-Ingredients\"].apply(preprocess)"
   ]
  },
  {
   "cell_type": "code",
   "execution_count": 52,
   "metadata": {},
   "outputs": [
    {
     "data": {
      "text/plain": [
       "0       karela (bitter gourd pavakkai),salt,onion,gram...\n",
       "1       rice,tomatoes,bc belle bhat powder,salt,chickp...\n",
       "2       rice vermicelli noodles (thin),onion,carrots (...\n",
       "3       chicken,onion,tomato,green chillies slit,inch ...\n",
       "4       chana dal,white urad dal,red chillies,coriande...\n",
       "                              ...                        \n",
       "5985    paneer (homemade cottage cheese) crumbled,suga...\n",
       "5986    risotto risotto (recipe below),parmesan cheese...\n",
       "5987    quinoa,sugar,cardamom powder (elaichi),milk ve...\n",
       "5988    spring onion (bulb & greens),tamarind water,gr...\n",
       "5989    kg chicken medium pieces,mustard oil,ghee,kg c...\n",
       "Name: P-Ingredients, Length: 5990, dtype: object"
      ]
     },
     "execution_count": 52,
     "metadata": {},
     "output_type": "execute_result"
    }
   ],
   "source": [
    "df[\"P-Ingredients\"]"
   ]
  },
  {
   "cell_type": "code",
   "execution_count": 53,
   "metadata": {},
   "outputs": [],
   "source": [
    "df.to_csv(\"df-en-final.csv\",index=False)"
   ]
  },
  {
   "cell_type": "code",
   "execution_count": null,
   "metadata": {},
   "outputs": [],
   "source": [
    "do more less you wish,cut into squares,cut into pieces,cut into cubes,cut into small cubes,per use, coarsely crushed, slit lengthwise,wash well in water, cut into half, make puree,to smear, cut to small florets, soaked in hot water,roughly thin,roughly thin,into inch square pieces,granulated"
   ]
  },
  {
   "cell_type": "code",
   "execution_count": 63,
   "metadata": {},
   "outputs": [],
   "source": [
    "df=pd.read_csv(\"df-en-final.csv\")"
   ]
  },
  {
   "cell_type": "code",
   "execution_count": 59,
   "metadata": {},
   "outputs": [],
   "source": [
    "def preprocess(text):\n",
    "    delword=\"do more less you wish,tightly packed,cut into squares,cut into pieces,cut into cubes,cut into small cubes,per use, coarsely crushed,slit lengthwise,wash well in water, cut into half, make puree,to smear, cut to small florets, soaked in hot water,roughly thin,roughly thin,into inch square pieces,granulated\"\n",
    "    for i in delword.split(\",\"):\n",
    "        text = text.replace(i, '')\n",
    "    text=text.replace(\"chili\",\"chilli\")\n",
    "    return text"
   ]
  },
  {
   "cell_type": "code",
   "execution_count": 60,
   "metadata": {},
   "outputs": [],
   "source": [
    "df[\"P-Ingredients\"]=df[\"P-Ingredients\"].apply(preprocess)"
   ]
  },
  {
   "cell_type": "code",
   "execution_count": 61,
   "metadata": {},
   "outputs": [],
   "source": [
    "df.to_csv(\"df-en-final.csv\",index=False)"
   ]
  },
  {
   "cell_type": "code",
   "execution_count": 64,
   "metadata": {},
   "outputs": [],
   "source": [
    "df[\"ingredient-count\"]=df[\"P-Ingredients\"].apply(lambda x: len(x.split(\",\")))"
   ]
  },
  {
   "cell_type": "code",
   "execution_count": 68,
   "metadata": {},
   "outputs": [
    {
     "data": {
      "text/plain": [
       "10    530\n",
       "12    527\n",
       "11    511\n",
       "9     499\n",
       "13    490\n",
       "8     429\n",
       "14    397\n",
       "15    358\n",
       "7     342\n",
       "16    286\n",
       "6     280\n",
       "17    232\n",
       "18    167\n",
       "5     163\n",
       "19    150\n",
       "4     104\n",
       "20     95\n",
       "22     77\n",
       "21     76\n",
       "23     58\n",
       "25     36\n",
       "3      34\n",
       "24     31\n",
       "27     28\n",
       "26     22\n",
       "29     14\n",
       "28     12\n",
       "30      8\n",
       "31      6\n",
       "32      5\n",
       "2       5\n",
       "33      5\n",
       "36      3\n",
       "37      2\n",
       "34      2\n",
       "41      1\n",
       "45      1\n",
       "39      1\n",
       "38      1\n",
       "35      1\n",
       "43      1\n",
       "Name: ingredient-count, dtype: int64"
      ]
     },
     "execution_count": 68,
     "metadata": {},
     "output_type": "execute_result"
    }
   ],
   "source": [
    "df[\"ingredient-count\"].value_counts()"
   ]
  },
  {
   "cell_type": "code",
   "execution_count": 69,
   "metadata": {},
   "outputs": [],
   "source": [
    "df=df[df[\"ingredient-count\"]>3]"
   ]
  },
  {
   "cell_type": "code",
   "execution_count": 72,
   "metadata": {},
   "outputs": [
    {
     "data": {
      "text/plain": [
       "10    530\n",
       "12    527\n",
       "11    511\n",
       "9     499\n",
       "13    490\n",
       "8     429\n",
       "14    397\n",
       "15    358\n",
       "7     342\n",
       "16    286\n",
       "6     280\n",
       "17    232\n",
       "18    167\n",
       "5     163\n",
       "19    150\n",
       "4     104\n",
       "20     95\n",
       "22     77\n",
       "21     76\n",
       "23     58\n",
       "25     36\n",
       "24     31\n",
       "27     28\n",
       "26     22\n",
       "29     14\n",
       "28     12\n",
       "30      8\n",
       "31      6\n",
       "33      5\n",
       "32      5\n",
       "36      3\n",
       "37      2\n",
       "34      2\n",
       "43      1\n",
       "41      1\n",
       "39      1\n",
       "38      1\n",
       "35      1\n",
       "45      1\n",
       "Name: ingredient-count, dtype: int64"
      ]
     },
     "execution_count": 72,
     "metadata": {},
     "output_type": "execute_result"
    }
   ],
   "source": [
    "df[\"ingredient-count\"].value_counts()"
   ]
  },
  {
   "cell_type": "code",
   "execution_count": 74,
   "metadata": {},
   "outputs": [],
   "source": [
    "df.reset_index(drop=True,inplace=True)"
   ]
  },
  {
   "cell_type": "code",
   "execution_count": 36,
   "metadata": {},
   "outputs": [],
   "source": [
    "df.to_csv(\"df-en-final.csv\",index=False)"
   ]
  },
  {
   "cell_type": "code",
   "execution_count": 37,
   "metadata": {},
   "outputs": [],
   "source": [
    "df=pd.read_csv(\"df-en-final.csv\")"
   ]
  },
  {
   "cell_type": "code",
   "execution_count": 38,
   "metadata": {},
   "outputs": [
    {
     "data": {
      "text/plain": [
       "0       karela (bitter gourd pavakkai),salt,onion,gram...\n",
       "1       rice,tomatoes,bc belle bhat powder,salt,chickp...\n",
       "2       rice vermicelli noodles (thin),onion,carrots (...\n",
       "3       chicken,onion,tomato,green chillies slit,ginge...\n",
       "4       chana dal,white urad dal,red chillies,coriande...\n",
       "                              ...                        \n",
       "5946    paneer  crumbled,sugar,cardamom powder (elaich...\n",
       "5947    risotto risotto (recipe below),parmesan cheese...\n",
       "5948    quinoa,sugar,cardamom powder (elaichi),milk ve...\n",
       "5949    spring onion (bulb  greens),tamarind water,gra...\n",
       "5950    chicken medium pieces,mustard oil,ghee,curd (d...\n",
       "Name: P-Ingredients, Length: 5951, dtype: object"
      ]
     },
     "execution_count": 38,
     "metadata": {},
     "output_type": "execute_result"
    }
   ],
   "source": [
    "df[\"P-Ingredients\"]"
   ]
  },
  {
   "cell_type": "code",
   "execution_count": 39,
   "metadata": {},
   "outputs": [],
   "source": [
    "def prep(text):\n",
    "    delword=\"cut into julienne,in strips,(),( ), cut in two pieces,to grease the cake tin,cut in cubes,(any cheese of your choice),small size but not baby potatoes,kg \\\n",
    ",cut into long strips,(or any flavour you prefer),few,cut into strips thenfried in oil,( + ),only filled shaped,to make pessaratu,to roast the parathas,thin long,any alcohol of choice \\\n",
    " ,broken into halves,+ egg egg wash,thin diagonally,cut into inch sticks,cut into small pieces,to garnish,into small pieces,more  while cooking \\\n",
    " ,hot water minutes soak in,&,cut into wedges,(or flax meal egg replacer),podsseeds with seeds removed,(lengthwise preferably) \\\n",
    " ,to serve,cut into slices,extra,all,small bunch,deep,(homemade cottage cheese),pinch,powdered,garnish, to cook,cooking, per your taste \\\n",
    " ,hot,roughly torn,inch,fresh,pinch,ssp,soaked hours,according,with stems removed,more,cubed,per your taste,more\"\n",
    "    for i in delword.split(\",\"):\n",
    "        text = text.replace(i, '')   \n",
    "    text=text.replace(\"onions\",\"onion\")\n",
    "    text=text.replace(\"salt salt\",\"salt\")\n",
    "    return text"
   ]
  },
  {
   "cell_type": "code",
   "execution_count": 40,
   "metadata": {},
   "outputs": [],
   "source": [
    "df[\"P-Ingredients\"]=df[\"P-Ingredients\"].apply(prep)"
   ]
  },
  {
   "cell_type": "code",
   "execution_count": 41,
   "metadata": {},
   "outputs": [
    {
     "data": {
      "text/plain": [
       "0       karela (bitter gourd pavakkai),salt,onion,gram...\n",
       "1       rice,tomatoes,bc belle bhat powder,salt,chickp...\n",
       "2       rice vermicelli noodles (thin),onion,carrots (...\n",
       "3       chicken,onion,tomato,green chillies slit,ginge...\n",
       "4       chana dal,white urad dal,red chillies,coriande...\n",
       "                              ...                        \n",
       "5946    paneer  crumbled,sugar,cardamom powder (elaich...\n",
       "5947    risotto risotto (recipe below),parmesan cheese...\n",
       "5948    quinoa,sugar,cardamom powder (elaichi),milk ve...\n",
       "5949    spring onion (bulb  greens),tamarind water,gra...\n",
       "5950    chicken medium pieces,mustard oil,ghee,curd (d...\n",
       "Name: P-Ingredients, Length: 5951, dtype: object"
      ]
     },
     "execution_count": 41,
     "metadata": {},
     "output_type": "execute_result"
    }
   ],
   "source": [
    "df[\"P-Ingredients\"]"
   ]
  },
  {
   "cell_type": "code",
   "execution_count": 42,
   "metadata": {},
   "outputs": [],
   "source": [
    "def preprocess(text):\n",
    "    bar=\"\"\n",
    "    for i in text.split(\",\"):\n",
    "             bar+=i.strip()+\",\"\n",
    "    bar=bar[:-1]\n",
    "\n",
    "        \n",
    "    return bar"
   ]
  },
  {
   "cell_type": "code",
   "execution_count": 43,
   "metadata": {},
   "outputs": [],
   "source": [
    "df[\"P-Ingredients\"]=df[\"P-Ingredients\"].apply(preprocess)"
   ]
  },
  {
   "cell_type": "code",
   "execution_count": 44,
   "metadata": {},
   "outputs": [
    {
     "data": {
      "text/plain": [
       "array(['sesame seeds (til seeds),raw peanuts (moongphali),baby potatoes,salt,sunflower oil,cumin seeds (jeera),green chillies slit,ginger,cloves garlic,cumin powder (jeera),red chilli powder,garam masala powder,lemon juice,coriander (dhania) leaves,mint leaves (pudina),chaat masala powder',\n",
       "       'masoor dal soaked,onion,tomato,green chillies slit,asafoetida (hing),bay leaf (tej patta),cumin seeds (jeera),clove garlic,ginger inely,red chilli powder,coriander powder (dhania),turmeric powder (haldi),garam masala powder,sprig coriander (dhania) leaves,salt,sunflower oil',\n",
       "       'bhindi (lady fingerokra) cut into  pieces,onion big,green chilli slit,coconut milk thick,ginger,mustard seeds,sprig curry leaves,coconut oil,salt',\n",
       "       'basmati rice,yellow moong dal (split),potatoes (aloo),onion,green peas (matar),coconut,sugar,cloves (laung),cinnamon stick (dalchini),bay leaf (tej patta),cardamom (elaichi) podsseeds,cumin seeds (jeera),turmeric powder (haldi),green chillies,cloves garlic,ginger,ghee,sunflower oil,mint leaves (pudina),salt',\n",
       "       'italian bread cut lengthwise,virgin olive oil,cloves garlic,dried oregano,mozzarella cheese',\n",
       "       'black beans soaked overnight,onion,cloves garlic,cumin seeds (jeera),wheat flour,turmeric powder (haldi),red chilli powder,coriander powder (dhania),garam masala powder,salt,sunflower oil,ghee',\n",
       "       'instant oats (oatmeal),honey agavemaple syrup,sunflower oil,chilled water,salt,badam (almond) crushed,pumpkin seeds,dessicated coconut',\n",
       "       'dates,dry coconut (kopra),poppy seeds,milk powder,cardamom powder (elaichi),wheat flour + flour dusting,ghee butter,milk,salt',\n",
       "       'conchiglie pasta of your choice,white beans,sprig coriander (dhania) leaves,sprig mint leaves (pudina),pine nuts,badam (almond),green chillies,virgin olive oil adjustable,lemon juice,salt',\n",
       "       'arhar dal,carrot cut,capsicum (green) cut,tomato,ginger,turmeric powder,tamarind water,salt,mustard,cumin seeds,asafetida,sprig curry leaves,tomato chop,green chilli cut'],\n",
       "      dtype=object)"
      ]
     },
     "execution_count": 44,
     "metadata": {},
     "output_type": "execute_result"
    }
   ],
   "source": [
    "df[\"P-Ingredients\"].sample(10).values"
   ]
  },
  {
   "cell_type": "code",
   "execution_count": 45,
   "metadata": {},
   "outputs": [],
   "source": [
    "df.to_csv(\"df-en-final.csv\",index=False)"
   ]
  },
  {
   "cell_type": "code",
   "execution_count": 30,
   "metadata": {},
   "outputs": [],
   "source": [
    "df=pd.read_csv(\"df-en-final.csv\")"
   ]
  },
  {
   "cell_type": "code",
   "execution_count": 47,
   "metadata": {},
   "outputs": [],
   "source": [
    "im=pd.read_csv(\"images.csv\")"
   ]
  },
  {
   "cell_type": "code",
   "execution_count": 52,
   "metadata": {},
   "outputs": [
    {
     "name": "stdout",
     "output_type": "stream",
     "text": [
      "<class 'pandas.core.frame.DataFrame'>\n",
      "RangeIndex: 5951 entries, 0 to 5950\n",
      "Data columns (total 8 columns):\n",
      " #   Column                  Non-Null Count  Dtype \n",
      "---  ------                  --------------  ----- \n",
      " 0   TranslatedRecipeName    5951 non-null   object\n",
      " 1   TranslatedIngredients   5951 non-null   object\n",
      " 2   TotalTimeInMins         5951 non-null   int64 \n",
      " 3   Cuisine                 5951 non-null   object\n",
      " 4   TranslatedInstructions  5951 non-null   object\n",
      " 5   URL                     5951 non-null   object\n",
      " 6   P-Ingredients           5951 non-null   object\n",
      " 7   flag                    5951 non-null   int64 \n",
      "dtypes: int64(2), object(6)\n",
      "memory usage: 372.1+ KB\n"
     ]
    }
   ],
   "source": [
    "df.info()"
   ]
  },
  {
   "cell_type": "code",
   "execution_count": 53,
   "metadata": {},
   "outputs": [
    {
     "data": {
      "text/plain": [
       "0       https://www.archanaskitchen.com/masala-karela-...\n",
       "1       http://www.archanaskitchen.com/spicy-tomato-ri...\n",
       "2       http://www.archanaskitchen.com/ragi-vermicelli...\n",
       "3       http://www.archanaskitchen.com/gongura-chicken...\n",
       "4       https://www.archanaskitchen.com/andhra-style-a...\n",
       "                              ...                        \n",
       "5946    https://www.archanaskitchen.com/saffron-paneer...\n",
       "5947    http://www.archanaskitchen.com/italian-arancin...\n",
       "5948    https://www.archanaskitchen.com/quinoa-phirnee...\n",
       "5949    https://www.archanaskitchen.com/ullikadala-pul...\n",
       "5950    http://www.archanaskitchen.com/kashmiri-kokur-...\n",
       "Name: URL, Length: 5951, dtype: object"
      ]
     },
     "execution_count": 53,
     "metadata": {},
     "output_type": "execute_result"
    }
   ],
   "source": [
    "df[\"URL\"]"
   ]
  },
  {
   "cell_type": "code",
   "execution_count": 54,
   "metadata": {},
   "outputs": [
    {
     "data": {
      "text/html": [
       "<div>\n",
       "<style scoped>\n",
       "    .dataframe tbody tr th:only-of-type {\n",
       "        vertical-align: middle;\n",
       "    }\n",
       "\n",
       "    .dataframe tbody tr th {\n",
       "        vertical-align: top;\n",
       "    }\n",
       "\n",
       "    .dataframe thead th {\n",
       "        text-align: right;\n",
       "    }\n",
       "</style>\n",
       "<table border=\"1\" class=\"dataframe\">\n",
       "  <thead>\n",
       "    <tr style=\"text-align: right;\">\n",
       "      <th></th>\n",
       "      <th>image</th>\n",
       "      <th>url</th>\n",
       "    </tr>\n",
       "  </thead>\n",
       "  <tbody>\n",
       "    <tr>\n",
       "      <th>0</th>\n",
       "      <td>https://www.archanaskitchen.com/images/archana...</td>\n",
       "      <td>https://www.archanaskitchen.com/masala-karela-...</td>\n",
       "    </tr>\n",
       "    <tr>\n",
       "      <th>1</th>\n",
       "      <td>https://www.archanaskitchen.com/images/archana...</td>\n",
       "      <td>https://www.archanaskitchen.com/spicy-tomato-r...</td>\n",
       "    </tr>\n",
       "    <tr>\n",
       "      <th>2</th>\n",
       "      <td>https://www.archanaskitchen.com/images/archana...</td>\n",
       "      <td>https://www.archanaskitchen.com/ragi-vermicell...</td>\n",
       "    </tr>\n",
       "    <tr>\n",
       "      <th>3</th>\n",
       "      <td>https://www.archanaskitchen.com/images/archana...</td>\n",
       "      <td>https://www.archanaskitchen.com/gongura-chicke...</td>\n",
       "    </tr>\n",
       "    <tr>\n",
       "      <th>4</th>\n",
       "      <td>https://www.archanaskitchen.com/images/archana...</td>\n",
       "      <td>https://www.archanaskitchen.com/andhra-style-a...</td>\n",
       "    </tr>\n",
       "  </tbody>\n",
       "</table>\n",
       "</div>"
      ],
      "text/plain": [
       "                                               image  \\\n",
       "0  https://www.archanaskitchen.com/images/archana...   \n",
       "1  https://www.archanaskitchen.com/images/archana...   \n",
       "2  https://www.archanaskitchen.com/images/archana...   \n",
       "3  https://www.archanaskitchen.com/images/archana...   \n",
       "4  https://www.archanaskitchen.com/images/archana...   \n",
       "\n",
       "                                                 url  \n",
       "0  https://www.archanaskitchen.com/masala-karela-...  \n",
       "1  https://www.archanaskitchen.com/spicy-tomato-r...  \n",
       "2  https://www.archanaskitchen.com/ragi-vermicell...  \n",
       "3  https://www.archanaskitchen.com/gongura-chicke...  \n",
       "4  https://www.archanaskitchen.com/andhra-style-a...  "
      ]
     },
     "execution_count": 54,
     "metadata": {},
     "output_type": "execute_result"
    }
   ],
   "source": [
    "im.head()"
   ]
  },
  {
   "cell_type": "code",
   "execution_count": 55,
   "metadata": {},
   "outputs": [],
   "source": [
    "df[\"image-url\"]=im[\"image\"]"
   ]
  },
  {
   "cell_type": "code",
   "execution_count": 57,
   "metadata": {},
   "outputs": [
    {
     "data": {
      "text/plain": [
       "array(['https://www.archanaskitchen.com/images/archanaskitchen/1-Author/Pooja_Thakur/Karela_Masala_Recipe-4_1600.jpg',\n",
       "       'https://www.archanaskitchen.com/images/archanaskitchen/1-Author/b.yojana-gmail.com/Spicy_Thakkali_Rice_Tomato_Pulihora-1_edited.jpg',\n",
       "       'https://www.archanaskitchen.com/images/archanaskitchen/1-Author/Monika_Manchanda/Ragi_vermicilli.jpg',\n",
       "       ...,\n",
       "       'https://www.archanaskitchen.com/images/archanaskitchen/1-Author/Reshma_Seetharam/Quinoa_kheer_Phirni.jpg',\n",
       "       'https://www.archanaskitchen.com/images/archanaskitchen/1-Author/anu.mallajosyula-gmail.com/Ullikadala_Pulusu_Spring_Onion_pulusu.jpg',\n",
       "       'https://www.archanaskitchen.com/images/archanaskitchen/1-Author/Shaheen_Ali/Kokur_Yakhni_Chicken_cooked_in_Yogurt__Kashmiri_Non_Veg.jpg'],\n",
       "      dtype=object)"
      ]
     },
     "execution_count": 57,
     "metadata": {},
     "output_type": "execute_result"
    }
   ],
   "source": [
    "df[\"image-url\"].values"
   ]
  },
  {
   "cell_type": "code",
   "execution_count": 58,
   "metadata": {},
   "outputs": [],
   "source": [
    "df[\"URL\"]=im[\"url\"]"
   ]
  },
  {
   "cell_type": "code",
   "execution_count": 62,
   "metadata": {},
   "outputs": [
    {
     "data": {
      "text/html": [
       "<div>\n",
       "<style scoped>\n",
       "    .dataframe tbody tr th:only-of-type {\n",
       "        vertical-align: middle;\n",
       "    }\n",
       "\n",
       "    .dataframe tbody tr th {\n",
       "        vertical-align: top;\n",
       "    }\n",
       "\n",
       "    .dataframe thead th {\n",
       "        text-align: right;\n",
       "    }\n",
       "</style>\n",
       "<table border=\"1\" class=\"dataframe\">\n",
       "  <thead>\n",
       "    <tr style=\"text-align: right;\">\n",
       "      <th></th>\n",
       "      <th>TranslatedRecipeName</th>\n",
       "      <th>TranslatedIngredients</th>\n",
       "      <th>TotalTimeInMins</th>\n",
       "      <th>Cuisine</th>\n",
       "      <th>TranslatedInstructions</th>\n",
       "      <th>URL</th>\n",
       "      <th>P-Ingredients</th>\n",
       "      <th>flag</th>\n",
       "      <th>image-url</th>\n",
       "    </tr>\n",
       "  </thead>\n",
       "  <tbody>\n",
       "    <tr>\n",
       "      <th>0</th>\n",
       "      <td>Masala Karela Recipe</td>\n",
       "      <td>6 Karela (Bitter Gourd/ Pavakkai) - deseeded,S...</td>\n",
       "      <td>45</td>\n",
       "      <td>Indian</td>\n",
       "      <td>To begin making the Masala Karela Recipe,de-se...</td>\n",
       "      <td>https://www.archanaskitchen.com/masala-karela-...</td>\n",
       "      <td>karela (bitter gourd pavakkai),salt,onion,gram...</td>\n",
       "      <td>-5</td>\n",
       "      <td>https://www.archanaskitchen.com/images/archana...</td>\n",
       "    </tr>\n",
       "    <tr>\n",
       "      <th>1</th>\n",
       "      <td>Spicy Tomato Rice (Recipe)</td>\n",
       "      <td>2-1 / 2 cups rice - cooked, 3 tomatoes, 3 teas...</td>\n",
       "      <td>15</td>\n",
       "      <td>South Indian Recipes</td>\n",
       "      <td>To make tomato puliogere, first cut the tomato...</td>\n",
       "      <td>https://www.archanaskitchen.com/spicy-tomato-r...</td>\n",
       "      <td>rice,tomatoes,bc belle bhat powder,salt,chickp...</td>\n",
       "      <td>-9</td>\n",
       "      <td>https://www.archanaskitchen.com/images/archana...</td>\n",
       "    </tr>\n",
       "    <tr>\n",
       "      <th>2</th>\n",
       "      <td>Ragi Semiya Upma Recipe - Ragi Millet Vermicel...</td>\n",
       "      <td>1-1/2 cups Rice Vermicelli Noodles (Thin),1 On...</td>\n",
       "      <td>50</td>\n",
       "      <td>South Indian Recipes</td>\n",
       "      <td>To begin making the Ragi Vermicelli Recipe, fi...</td>\n",
       "      <td>https://www.archanaskitchen.com/ragi-vermicell...</td>\n",
       "      <td>rice vermicelli noodles (thin),onion,carrots (...</td>\n",
       "      <td>-10</td>\n",
       "      <td>https://www.archanaskitchen.com/images/archana...</td>\n",
       "    </tr>\n",
       "    <tr>\n",
       "      <th>3</th>\n",
       "      <td>Gongura Chicken Curry Recipe - Andhra Style Go...</td>\n",
       "      <td>500 grams Chicken,2 Onion - chopped,1 Tomato -...</td>\n",
       "      <td>45</td>\n",
       "      <td>Andhra</td>\n",
       "      <td>To begin making Gongura Chicken Curry Recipe f...</td>\n",
       "      <td>https://www.archanaskitchen.com/gongura-chicke...</td>\n",
       "      <td>chicken,onion,tomato,green chillies slit,ginge...</td>\n",
       "      <td>-11</td>\n",
       "      <td>https://www.archanaskitchen.com/images/archana...</td>\n",
       "    </tr>\n",
       "    <tr>\n",
       "      <th>4</th>\n",
       "      <td>Andhra Style Alam Pachadi Recipe - Adrak Chutn...</td>\n",
       "      <td>1 tablespoon chana dal, 1 tablespoon white ura...</td>\n",
       "      <td>30</td>\n",
       "      <td>Andhra</td>\n",
       "      <td>To make Andhra Style Alam Pachadi, first heat ...</td>\n",
       "      <td>https://www.archanaskitchen.com/andhra-style-a...</td>\n",
       "      <td>chana dal,white urad dal,red chillies,coriande...</td>\n",
       "      <td>-8</td>\n",
       "      <td>https://www.archanaskitchen.com/images/archana...</td>\n",
       "    </tr>\n",
       "  </tbody>\n",
       "</table>\n",
       "</div>"
      ],
      "text/plain": [
       "                                TranslatedRecipeName  \\\n",
       "0                               Masala Karela Recipe   \n",
       "1                         Spicy Tomato Rice (Recipe)   \n",
       "2  Ragi Semiya Upma Recipe - Ragi Millet Vermicel...   \n",
       "3  Gongura Chicken Curry Recipe - Andhra Style Go...   \n",
       "4  Andhra Style Alam Pachadi Recipe - Adrak Chutn...   \n",
       "\n",
       "                               TranslatedIngredients  TotalTimeInMins  \\\n",
       "0  6 Karela (Bitter Gourd/ Pavakkai) - deseeded,S...               45   \n",
       "1  2-1 / 2 cups rice - cooked, 3 tomatoes, 3 teas...               15   \n",
       "2  1-1/2 cups Rice Vermicelli Noodles (Thin),1 On...               50   \n",
       "3  500 grams Chicken,2 Onion - chopped,1 Tomato -...               45   \n",
       "4  1 tablespoon chana dal, 1 tablespoon white ura...               30   \n",
       "\n",
       "                Cuisine                             TranslatedInstructions  \\\n",
       "0                Indian  To begin making the Masala Karela Recipe,de-se...   \n",
       "1  South Indian Recipes  To make tomato puliogere, first cut the tomato...   \n",
       "2  South Indian Recipes  To begin making the Ragi Vermicelli Recipe, fi...   \n",
       "3                Andhra  To begin making Gongura Chicken Curry Recipe f...   \n",
       "4                Andhra  To make Andhra Style Alam Pachadi, first heat ...   \n",
       "\n",
       "                                                 URL  \\\n",
       "0  https://www.archanaskitchen.com/masala-karela-...   \n",
       "1  https://www.archanaskitchen.com/spicy-tomato-r...   \n",
       "2  https://www.archanaskitchen.com/ragi-vermicell...   \n",
       "3  https://www.archanaskitchen.com/gongura-chicke...   \n",
       "4  https://www.archanaskitchen.com/andhra-style-a...   \n",
       "\n",
       "                                       P-Ingredients  flag  \\\n",
       "0  karela (bitter gourd pavakkai),salt,onion,gram...    -5   \n",
       "1  rice,tomatoes,bc belle bhat powder,salt,chickp...    -9   \n",
       "2  rice vermicelli noodles (thin),onion,carrots (...   -10   \n",
       "3  chicken,onion,tomato,green chillies slit,ginge...   -11   \n",
       "4  chana dal,white urad dal,red chillies,coriande...    -8   \n",
       "\n",
       "                                           image-url  \n",
       "0  https://www.archanaskitchen.com/images/archana...  \n",
       "1  https://www.archanaskitchen.com/images/archana...  \n",
       "2  https://www.archanaskitchen.com/images/archana...  \n",
       "3  https://www.archanaskitchen.com/images/archana...  \n",
       "4  https://www.archanaskitchen.com/images/archana...  "
      ]
     },
     "execution_count": 62,
     "metadata": {},
     "output_type": "execute_result"
    }
   ],
   "source": [
    "df.head()"
   ]
  },
  {
   "cell_type": "code",
   "execution_count": 61,
   "metadata": {},
   "outputs": [],
   "source": [
    "df.to_csv(\"df-en-final.csv\")"
   ]
  },
  {
   "cell_type": "code",
   "execution_count": 19,
   "metadata": {},
   "outputs": [
    {
     "data": {
      "text/plain": [
       "5666"
      ]
     },
     "execution_count": 19,
     "metadata": {},
     "output_type": "execute_result"
    }
   ],
   "source": [
    "df[\"image-url\"].nunique()"
   ]
  },
  {
   "cell_type": "code",
   "execution_count": 25,
   "metadata": {},
   "outputs": [
    {
     "ename": "SyntaxError",
     "evalue": "invalid syntax (<ipython-input-25-97055e7bcdf9>, line 1)",
     "output_type": "error",
     "traceback": [
      "\u001b[1;36m  File \u001b[1;32m\"<ipython-input-25-97055e7bcdf9>\"\u001b[1;36m, line \u001b[1;32m1\u001b[0m\n\u001b[1;33m    df[df[\"image-url\"]= https://www.archanaskitchen.com/images/archanaskitchen/1-Author/Monika_Manchanda/Nandan_Kozhi__Kerala_Style_Chicken_Curry.jpg\u001b[0m\n\u001b[1;37m                      ^\u001b[0m\n\u001b[1;31mSyntaxError\u001b[0m\u001b[1;31m:\u001b[0m invalid syntax\n"
     ]
    }
   ],
   "source": [
    "df[df[\"image-url\"]= https://www.archanaskitchen.com/images/archanaskitchen/1-Author/Monika_Manchanda/Nandan_Kozhi__Kerala_Style_Chicken_Curry.jpg"
   ]
  },
  {
   "cell_type": "code",
   "execution_count": 32,
   "metadata": {},
   "outputs": [
    {
     "data": {
      "text/plain": [
       "https://www.archanaskitchen.com/images/archanaskitchen/1-Author/Monika_Manchanda/Nandan_Kozhi__Kerala_Style_Chicken_Curry.jpg                                                4\n",
       "https://www.archanaskitchen.com/images/archanaskitchen/1-Author/Preeti_Tamilarasan/Phalguni_Dal_Recipe_original_1600.jpg                                                     3\n",
       "https://www.archanaskitchen.com/images/archanaskitchen/0-Archanas-Kitchen-Recipes/2016/sept-21/Peanut_Coconut_Chutney_Recipe_No_onion_No_Garlic_Fasting_Vrat_Recipe-3.jpg    3\n",
       "https://www.archanaskitchen.com/images/archanaskitchen/0-Affiliate-Articles/sweet_ime_soda.jpg                                                                               3\n",
       "https://www.archanaskitchen.com/images/archanaskitchen/0-Archanas-Kitchen-Recipes/2019/Veg_Hakka_Noodles_recipe_10_1600.jpg                                                  3\n",
       "                                                                                                                                                                            ..\n",
       "https://www.archanaskitchen.com/images/archanaskitchen/0-Archanas-Kitchen-Recipes/2020/Southekayi_Palya_Recipe_Mangalore_Cucumber_Palya_Sabzi_Recipe_Udupi_4_1600.jpg        1\n",
       "https://www.archanaskitchen.com/images/archanaskitchen/1-Author/sibyl-archanaskitchen.com/How_to_Make_Homemade_Flat_Noodles_with_Egg_Recipe.jpg                              1\n",
       "https://www.archanaskitchen.com/images/archanaskitchen/1-Author/sibyl-archanaskitchen.com/Carrot_Radish__Peanut_Salad_with_Lemon_Recipe_.jpg                                 1\n",
       "https://www.archanaskitchen.com/images/archanaskitchen/1-Author/sibyl-archanaskitchen.com/Kumbakonam_filter_Coffee_Recipe_.jpg                                               1\n",
       "https://www.archanaskitchen.com/images/archanaskitchen/0-Archanas-Kitchen-Recipes/2020/Homemade_Quick_Puff_Pastry_Sheet_Recipe_1_1600.jpg                                    1\n",
       "Name: image-url, Length: 5666, dtype: int64"
      ]
     },
     "execution_count": 32,
     "metadata": {},
     "output_type": "execute_result"
    }
   ],
   "source": [
    "df[\"image-url\"].value_counts()"
   ]
  },
  {
   "cell_type": "code",
   "execution_count": 36,
   "metadata": {},
   "outputs": [
    {
     "data": {
      "text/html": [
       "<div>\n",
       "<style scoped>\n",
       "    .dataframe tbody tr th:only-of-type {\n",
       "        vertical-align: middle;\n",
       "    }\n",
       "\n",
       "    .dataframe tbody tr th {\n",
       "        vertical-align: top;\n",
       "    }\n",
       "\n",
       "    .dataframe thead th {\n",
       "        text-align: right;\n",
       "    }\n",
       "</style>\n",
       "<table border=\"1\" class=\"dataframe\">\n",
       "  <thead>\n",
       "    <tr style=\"text-align: right;\">\n",
       "      <th></th>\n",
       "      <th>Unnamed: 0</th>\n",
       "      <th>TranslatedRecipeName</th>\n",
       "      <th>TranslatedIngredients</th>\n",
       "      <th>TotalTimeInMins</th>\n",
       "      <th>Cuisine</th>\n",
       "      <th>TranslatedInstructions</th>\n",
       "      <th>URL</th>\n",
       "      <th>P-Ingredients</th>\n",
       "      <th>flag</th>\n",
       "      <th>image-url</th>\n",
       "    </tr>\n",
       "  </thead>\n",
       "  <tbody>\n",
       "    <tr>\n",
       "      <th>398</th>\n",
       "      <td>398</td>\n",
       "      <td>Kerala Chicken Curry Recipe With Freshly Groun...</td>\n",
       "      <td>500 Chicken - medium sized pieces,1 Onion - ro...</td>\n",
       "      <td>55</td>\n",
       "      <td>Kerala Recipes</td>\n",
       "      <td>To prepare Kerala Chicken Curry With Freshly G...</td>\n",
       "      <td>https://www.archanaskitchen.com/kerala-chicken...</td>\n",
       "      <td>chicken medium sized pieces,onion roughly,ging...</td>\n",
       "      <td>-10</td>\n",
       "      <td>https://www.archanaskitchen.com/images/archana...</td>\n",
       "    </tr>\n",
       "    <tr>\n",
       "      <th>2228</th>\n",
       "      <td>2228</td>\n",
       "      <td>Kerala Chicken Curry Recipe - Nadan Kozhi Curry</td>\n",
       "      <td>500 grams Chicken - curry-cut with bones,2 tea...</td>\n",
       "      <td>40</td>\n",
       "      <td>Kerala Recipes</td>\n",
       "      <td>To begin making Kerala Chicken Curry Recipe, w...</td>\n",
       "      <td>https://www.archanaskitchen.com/kerala-chicken...</td>\n",
       "      <td>chicken currycut with bones,red chilli powder,...</td>\n",
       "      <td>-9</td>\n",
       "      <td>https://www.archanaskitchen.com/images/archana...</td>\n",
       "    </tr>\n",
       "    <tr>\n",
       "      <th>3353</th>\n",
       "      <td>3353</td>\n",
       "      <td>Nandan Kozhi Recipe  - Kerala Style Chicken Curry</td>\n",
       "      <td>500 grams Chicken - curry cut,3 Onions - slice...</td>\n",
       "      <td>50</td>\n",
       "      <td>Kerala Recipes</td>\n",
       "      <td>To begin making the Nandan Kozhi recipe, first...</td>\n",
       "      <td>https://www.archanaskitchen.com/nandan-kozhi-r...</td>\n",
       "      <td>chicken curry cut,onion,tomatoes,ginger,cloves...</td>\n",
       "      <td>-8</td>\n",
       "      <td>https://www.archanaskitchen.com/images/archana...</td>\n",
       "    </tr>\n",
       "    <tr>\n",
       "      <th>3356</th>\n",
       "      <td>3356</td>\n",
       "      <td>Kerala Chicken Curry Recipe</td>\n",
       "      <td>400 grams Chicken - cut into medium sized piec...</td>\n",
       "      <td>70</td>\n",
       "      <td>Kerala Recipes</td>\n",
       "      <td>To prepare the Kerala Chicken Curry, in a mixi...</td>\n",
       "      <td>https://www.archanaskitchen.com/kerala-chicken...</td>\n",
       "      <td>chicken cut into medium sized pieces,curd (dah...</td>\n",
       "      <td>-11</td>\n",
       "      <td>https://www.archanaskitchen.com/images/archana...</td>\n",
       "    </tr>\n",
       "  </tbody>\n",
       "</table>\n",
       "</div>"
      ],
      "text/plain": [
       "      Unnamed: 0                               TranslatedRecipeName  \\\n",
       "398          398  Kerala Chicken Curry Recipe With Freshly Groun...   \n",
       "2228        2228    Kerala Chicken Curry Recipe - Nadan Kozhi Curry   \n",
       "3353        3353  Nandan Kozhi Recipe  - Kerala Style Chicken Curry   \n",
       "3356        3356                        Kerala Chicken Curry Recipe   \n",
       "\n",
       "                                  TranslatedIngredients  TotalTimeInMins  \\\n",
       "398   500 Chicken - medium sized pieces,1 Onion - ro...               55   \n",
       "2228  500 grams Chicken - curry-cut with bones,2 tea...               40   \n",
       "3353  500 grams Chicken - curry cut,3 Onions - slice...               50   \n",
       "3356  400 grams Chicken - cut into medium sized piec...               70   \n",
       "\n",
       "             Cuisine                             TranslatedInstructions  \\\n",
       "398   Kerala Recipes  To prepare Kerala Chicken Curry With Freshly G...   \n",
       "2228  Kerala Recipes  To begin making Kerala Chicken Curry Recipe, w...   \n",
       "3353  Kerala Recipes  To begin making the Nandan Kozhi recipe, first...   \n",
       "3356  Kerala Recipes  To prepare the Kerala Chicken Curry, in a mixi...   \n",
       "\n",
       "                                                    URL  \\\n",
       "398   https://www.archanaskitchen.com/kerala-chicken...   \n",
       "2228  https://www.archanaskitchen.com/kerala-chicken...   \n",
       "3353  https://www.archanaskitchen.com/nandan-kozhi-r...   \n",
       "3356  https://www.archanaskitchen.com/kerala-chicken...   \n",
       "\n",
       "                                          P-Ingredients  flag  \\\n",
       "398   chicken medium sized pieces,onion roughly,ging...   -10   \n",
       "2228  chicken currycut with bones,red chilli powder,...    -9   \n",
       "3353  chicken curry cut,onion,tomatoes,ginger,cloves...    -8   \n",
       "3356  chicken cut into medium sized pieces,curd (dah...   -11   \n",
       "\n",
       "                                              image-url  \n",
       "398   https://www.archanaskitchen.com/images/archana...  \n",
       "2228  https://www.archanaskitchen.com/images/archana...  \n",
       "3353  https://www.archanaskitchen.com/images/archana...  \n",
       "3356  https://www.archanaskitchen.com/images/archana...  "
      ]
     },
     "execution_count": 36,
     "metadata": {},
     "output_type": "execute_result"
    }
   ],
   "source": [
    "df[df[\"image-url\"]== \"https://www.archanaskitchen.com/images/archanaskitchen/1-Author/Monika_Manchanda/Nandan_Kozhi__Kerala_Style_Chicken_Curry.jpg\"]"
   ]
  },
  {
   "cell_type": "code",
   "execution_count": 39,
   "metadata": {},
   "outputs": [],
   "source": [
    "def imc(text):\n",
    "    if \"https\" in text:\n",
    "        return 1\n",
    "    else:\n",
    "        \n",
    "        return 0\n",
    "df[\"imcheck\"]=df[\"image-url\"].apply(imc)"
   ]
  },
  {
   "cell_type": "code",
   "execution_count": 693,
   "metadata": {},
   "outputs": [],
   "source": [
    "df=pd.read_csv(\"df-en-final.csv\")"
   ]
  },
  {
   "cell_type": "code",
   "execution_count": 694,
   "metadata": {},
   "outputs": [
    {
     "data": {
      "text/plain": [
       "0       karela (bitter gourd pavakkai),salt,onion,gram...\n",
       "1       rice,tomato,bc belle bhat powder,salt,chickpea...\n",
       "2       rice vermicelli noodles (thin),onion,carrots (...\n",
       "3       chicken,onion,tomato,green chillies,ginger,clo...\n",
       "4       chana dal,white urad dal,red chillies,coriande...\n",
       "                              ...                        \n",
       "5946    paneer,sugar,cardamom powder (elaichi),saffron...\n",
       "5947    risotto,parmesan cheese,gorgonzola cheese cube...\n",
       "5948    quinoa,sugar,cardamom powder (elaichi),milk,co...\n",
       "5949    spring onion (bulb greens),tamarind water,gram...\n",
       "5950    chicken,mustard oil,ghee,curd,cinnamon stick (...\n",
       "Name: P-Ingredients, Length: 5951, dtype: object"
      ]
     },
     "execution_count": 694,
     "metadata": {},
     "output_type": "execute_result"
    }
   ],
   "source": [
    "df[\"P-Ingredients\"]"
   ]
  },
  {
   "cell_type": "code",
   "execution_count": 695,
   "metadata": {},
   "outputs": [],
   "source": [
    "def preprocess(text):\n",
    "\n",
    "    delword=\"julienned,overnight,minutes,dressing,in cubes,in water least hours,(or any other herb of choice),peeled,cut into cubes,beaten with little water \\\n",
    "    ,kneading,(low fat),cut into sm piece,(for ),to make sandwiches,add you like loose gravy,leaves sm bunch,lukewarm,cut into florets \\\n",
    "    ,seasoning,handful,halved,broken,beaten,softened,room temperature,cut into segments,cut into diagonals,squeezed into juice \\\n",
    "    ,soaked,clean,roughly,neat,mashed,crushed,toasted,lightly,coarsely,( hrs.),sm bunch,taste,pounded,spread,long,slit,tighten,spread,little,torn \\\n",
    "    ,adjustable,sized,(you can also use irish cream milk),adjust spice threshold,(unsalted),active,( divided into two equal portions) \\\n",
    "    ,( divided into two equal portions),(canned ),(adjust),(dahi yogurt),make the batter,cut into strips,cut into sm florets,warm,lukewarm \\\n",
    "    ,one head,(% fat will do),very thin,dessicated,leaves bunch,(or ),adjust,chilled,dusting,(used ),(depending upon how spicy you want) \\\n",
    "    ,(preferably with skin),( tbsp),melted,hours,made,your choice,greasing pan,crumbled,cut into angular slices,strands in milk,(use % fat),liter \\\n",
    "    ,(veganalmond milk instead),purpose,into puree,tablespoon,cut into triangle,in water,(used large ones),cut diagony,pureecut into sticks \\\n",
    "    ,(omit ginger jain),( greasing palms plate),( based on pungency),shelled deveined,soaked,clean,neat,roughly,rough,mashed,crushed,toasted,lighltly \\\n",
    "    ,(hrs.),coarsely,roughly,sm bunch,tighten,slit,pounded,little,long,(or large onion),(about gram)\\\n",
    "    , reduce bitter from bitter gourd,not available,wash,cut one cubes,removed,cut  thin wedges with seeds removed \\\n",
    "    ,kaffir lime leaves you can,home,into halves,to pieces,blanched,(rind),fine variety,roasted,pureed,you can thin,(optional) \\\n",
    "    ,(used % cocoa),(dried raw green mangoes easily available indian stores),like juliennes,pitted,making dosa,big,(or rock candy sugar)\\\n",
    "    ,much,grind smooth paste,clarified butter,(can reduce ½ your mangoes are very sweet),( ),slivered,into chunks \\\n",
    "    ,into cubes,make powder,greasing the breads,( you like sweetness),(kala namak),into diamonds,goat meat with bone \\\n",
    "    ,(like adding less sugar please your ),ghee coat the pan ( you can an oil spray),gooseberry size,one bunch,whisked,into medium cubes \\\n",
    "    (or combination flours),chunks,drained,rinsed,into florets,(add serving kids crowd with sweet tooth),into rings,into round slices \\\n",
    "    into two halves,serving,bite size,sprinkle,until soft,hard,yolks,thick,whites,boil peel,less too sour,boil boil,(you can substitute with palm sugar) \\\n",
    "    ,with leaf half will also do,with leaf half will also do,clotted,add,chopped,four pieces,grease the mould,half the size lemon \\\n",
    "    ,toast the burger buns,(divided),while,vegans can substitute this ingredient with almond milk,brioche bread preferred,cup,store bought. \\\n",
    "    mildly soured,(clotted', '),per the experiment,also ced sago,(reserve ),(as ),(soak ),other water fish,peel,½ pieces,ghee dosa,reserve \\\n",
    "    ,* pices, * rectangles,cm pieces,your,plus ghee (vegans can coconut oil),(this makes the meat tender),ends,' pieces,trained remove lumps \\\n",
    "    ,fried,tightly,(sour),( large) scrubbed,stock ed,yogurt –,(optional just give ness gravy),(sm),बड़े चमच्च हींग,per need,full fat \\\n",
    "    ,you can skip this rice,(or make glaze),(to rub hands before shaping peda),quarters,per you,(or make firm dough),large dice,length wise \\\n",
    "    ,½ buttermilk,coating,drizzle,low fat,(refer notes),( reduce quantity ),bite pieces,bite pieces,compress take coriander leaves \\\n",
    "    ,picked,refrigerated,atste,half half (,(reduce quantity ),tate,make sure the stalks have been only leaves used,out the seeds,coursely \\\n",
    "    , other fruits are also,sour variety,(prefer ),the dosa,the sandwiches,tenderize the chicken,straight,liced,hin roun dels,from the middle \\\n",
    "    ,till golden brown,pieces,about,medium cubes,( spice preference),(cut ),petals,(or same quantity onion tomato),(sambar onion) (sambar onion) \\\n",
    "    ,half,rings,until brown,pasted,one,large pieces,(or half ghee half oil),one squares,circles grilled,grilled,(sambar onion) regular onion \\\n",
    "    ,wedges,partly,thingly,½,(lengthwise preferably),rounds,half layers separated,(sambar onion)or regular onion',(about ),caramelized \\\n",
    "    ,medium,refrigerated,keep the dough moist,crispy,make paste,roundels,(if using unsalted juice),( the heat the chilli),directly white \\\n",
    "    ,pickled,tossing,half,sauteed ground,thin stripes, straight thin,(sambar onion) red onion,thin rings,caramelized,bottom take\"\n",
    "    \n",
    "    stopwords = {\"'\",\".\",\"each\",\"steam\",\"fine\",\"thin\",\"sk\",\"es\",\"cas\",\"very\",\"round\",\"liter\",\"size\",\"+\",\"'s\",\"whisk\",\"(with full,)\",\"s\",\"fry\",\"beat\",\"( )\",\"=\",\"into cubes\",\"cup\",\"cups\",\"with\",\"into\",\"()\",\"add\",\"slices\",\"raw\",\"to\",\"lengthwise\",\"in\",\"show\",\"soaked\",\"clean\",\"neat\",\"rough\",\"mashed\",\"crushed\",\"toasted\",\"lightly\",\"( hrs.)\",\"coarsely\",\"roughly\",\n",
    "                 \"of\",\"to use\",\"slit\",\"cted\",\"bits\",\"sm bunch\",\"taste\",\"puree\",\"tighten\",\"torn\",\"spread\",\"pounded\",\"little\",\"long\",\"ss\",\"ct\"\n",
    "                 ,\"b\",\"sm\",\"cpu\",\"ll\",\"cd\",\"per your\",\"use\",\"in\"\"tsp\",\"any\",\"d\",\"ly\",\"+\",\"chop\",\"well\",\"cut\",'and','as','if','it','at','is','or',\"gm\",\"for\",\"ml\",\"whole\",\"puree\"}    \n",
    "    \n",
    "\n",
    "\n",
    "    \n",
    "    text=text.replace(\"lemon juice from lemons\",\"lemon juice\")\n",
    "    text=text.replace(\"ripe bananas\",\"bananas\")\n",
    "    text=text.replace(\"water water\",\"water\")\n",
    "    text=text.replace(\"'dry yeast dry yeast\",\"dry yeast\")\n",
    "    text=text.replace(\"milk)\",\"milk\")\n",
    "    text=text.replace(\"sunflower oil the onion\",\"sunflower oil, onion\")\n",
    "    text=text.replace(\"oniononion\",\"onion\")\n",
    "    text=text.replace(\"oniononion\",\"onion\")\n",
    "    text=text.replace(\"onion take green chillies\",\"onion,green chillies\")\n",
    "    text=text.replace(\"sprigs mintonionand cook till turns brown.\",\"sprigs mint,onion\")\n",
    "    text=text.replace(\"mixed vegetables onion\",\"mixed vegetables,onion\")\n",
    "    text=text.replace(\"onion ground paste\",\"onion\")\n",
    "    text=text.replace(\"(pearl onion)\",\"onion\")\n",
    "    text=text.replace(\"water onion\",\"water,onion\")\n",
    "    text=text.replace(\"milk)\",\"milk\")\n",
    "    text=text.replace(\"large onion\",\"onion\")\n",
    "    text=text.replace(\"onionand\",\"onion\")\n",
    "    text=text.replace(\"lemon juice curd\",\"lemon juice\")\n",
    "    text=text.replace(\"salt kala namak\",\"salt\")\n",
    "    text=text.replace(\"orange zest\",\"oranges\")\n",
    "    text=text.replace(\"milk milk\",\"milk\")\n",
    "    text=text.replace(\"lemon zest\",\"lemon\")\n",
    "    text=text.replace(\"salt pepper\",\"salt,pepper\")\n",
    "    text=text.replace(\"sugar sugar\",\"sugar\")\n",
    "    text=text.replace(\"sugar honey\",\"honey\")\n",
    "    text=text.replace(\"tomatoesor\",\"tomato\")\n",
    "    text=text.replace(\"tomatoes\",\"tomato\")\n",
    "    text=text.replace(\"onionfor\",\"onion\")\n",
    "    text=text.replace(\"coconut coconut\",\"cocunut\")\n",
    "    text=text.replace(\"garam masala powderof garam masala\",\"garam masala\")\n",
    "    text=text.replace(\"egg eggs depending on how many tarts you have prepared\",\"eggs\")\n",
    "    text=text.replace(\"salt you are using unsalted butter\",\"butter\")\n",
    "    text=text.replace(\"lemon juice can add lemon\",\"lemon\")\n",
    "    text=text.replace(\"sugar ground\",\"sugar\")\n",
    "    text=text.replace(\"milk preferably ‘whole milk’\",\"milk\")\n",
    "    text=text.replace(\"water leftover water chana\",\"water\")\n",
    "    text=text.replace(\"cooked rice\",\"rice\")\n",
    "    text=text.replace(\"oranges\",\"orange\")\n",
    "    text=text.replace(\"brush before baking\",\"\")\n",
    "    text=text.replace(\"tomato grated\",\"tomato\")\n",
    "    text=text.replace(\"lemons juiced\",\"lemon juice\")\n",
    "    text=text.replace(\"lemon juice squeezed\",\"lemon juice\")\n",
    "    text=text.replace(\"risotto risotto (recipe below)\",\"risotto\")\n",
    "    text=text.replace(\"broccoli head\",\"broccoli\")\n",
    "    text=text.replace(\"badam (almond) slices\",\"badam (almond)\")\n",
    "    text=text.replace(\"sunflower oil fry\",\"sunflower oil\")\n",
    "    text=text.replace(\"rock salt\",\"salt\")\n",
    "    text=text.replace(\"sea salt\",\"salt\")\n",
    "   \n",
    "    text=text.split(\",\")\n",
    "    x=\"\"\n",
    "    for i in text:\n",
    "          resultwords = [word for word in i.split() if word not in stopwords]\n",
    "          result = \" \".join(resultwords)\n",
    "          x+=\",\"+result\n",
    "    text=x[1:]\n",
    "    for i in delword.split(\",\"):\n",
    "         text = text.replace(i, '')\n",
    "    bar=\"\"   \n",
    "    for i in text.split(\",\"):\n",
    "             bar+=i.strip()+\",\"\n",
    "    bar=bar[:-1]\n",
    "   \n",
    "    bar=bar.replace(\"cream\",\",\")\n",
    "    bar=bar.replace(\",,\",\",\")\n",
    "    bar=bar.replace(\", ,\",\",\")\n",
    "    return bar"
   ]
  },
  {
   "cell_type": "code",
   "execution_count": 696,
   "metadata": {},
   "outputs": [],
   "source": [
    "df[\"P-Ingredients\"]=df[\"P-Ingredients\"].apply(preprocess)"
   ]
  },
  {
   "cell_type": "code",
   "execution_count": 697,
   "metadata": {},
   "outputs": [
    {
     "data": {
      "text/plain": [
       "array(['wheat flour,ragi flour (finger millet nagli),instant oats (oatmeal),sesame seeds (til seeds),water ( degrees),hy,dry yeast,salt,virgin olive oil,pizza pasta sauce,mozzarella cheese,button mushrooms,green bell pepper (capsicum),green zucchini,dried oregano pizza,salt,pepper',\n",
       "       'carrot,potatoes potato,suran,green peas,raisins,dates,horse,onion,tomato,garlic,ginger,green chillies,turmeric powder,red chilli powder,dhansak masala,salt,oil',\n",
       "       'mixed vegetables frozen,onion,cloves garlic,tomato,pasta wheat rotini,kabuli chana (white chickpeas) un,tomato ketchup,dried basil leaves,cinnamon powder (dalchini),paprika powder red chilli flakes,black peppercorns,turmeric powder (haldi),salt,water,virgin olive oil',\n",
       "       'wheat flour,dry yeast,water,sugar,curd,salt',\n",
       "       'sprig tulsi (holy basil),betel leaves (paan),cloves garlic,ajwain (carom seeds),black pepper powder,cumin seeds (jeera),tamarind,tomato,curry leaves,ginger,asafoetida (hing),salt,turmeric powder (haldi),water,rasam powder,coriander (dhania) leaves,ghee,mustard seeds,dry red chilli',\n",
       "       'wheat flour,baking powder,baking soda,vanilla,cocoa powder mixed tbsp. water,strawberry compote,curd,virgin olive oil,condensed milk,butterscotch chips almonds',\n",
       "       'amla (nellikai gooseberry) bite cubes,green chilli,achari masala,red chilli powder,turmeric powder (haldi),jaggery,salt,fennel seeds (saunf),methi seeds (fenugreek seeds),mustard seeds,sunflower oil,asafoetida (hing)',\n",
       "       'mooli mullangi (radish),mooli ke patte (radish greens),green chillies,mustard oil,mustard seeds,ajwain (carom seeds),asafoetida (hing),turmeric powder (haldi),amchur (dry mango powder),salt',\n",
       "       'eggs,onion,tomato,coriander powder (dhania),garam masala powder,red chilli powder,cinnamon stick (dalchini),cloves (laung),sunflower oil,salt,coriander (dhania) seeds,cloves garlic,ginger,coconut,fennel seeds (saunf),black peppercorns,poppy seeds,cumin seeds (jeera),dry red chilli',\n",
       "       'potatoes (aloo),drumstick,mustard seeds,cumin seeds (jeera),dry red chillies,cloves garlic,turmeric powder (haldi),panch phoran masala,mustard oil,salt'],\n",
       "      dtype=object)"
      ]
     },
     "execution_count": 697,
     "metadata": {},
     "output_type": "execute_result"
    }
   ],
   "source": [
    "df[\"P-Ingredients\"].sample(10).values"
   ]
  },
  {
   "cell_type": "code",
   "execution_count": 698,
   "metadata": {},
   "outputs": [],
   "source": [
    "df.to_csv(\"df-en-final.csv\")"
   ]
  },
  {
   "cell_type": "code",
   "execution_count": 651,
   "metadata": {},
   "outputs": [],
   "source": [
    "count={}\n",
    "for i in range(len(df)):\n",
    "    for i in df.loc[i,\"P-Ingredients\"].split(\",\"):\n",
    "        if i in count.keys():\n",
    "            count[str(i)]+=1\n",
    "        else:\n",
    "            count[str(i)]=1  "
   ]
  },
  {
   "cell_type": "code",
   "execution_count": 652,
   "metadata": {},
   "outputs": [
    {
     "data": {
      "text/plain": [
       "6078"
      ]
     },
     "execution_count": 652,
     "metadata": {},
     "output_type": "execute_result"
    }
   ],
   "source": [
    "len(count)"
   ]
  },
  {
   "cell_type": "code",
   "execution_count": 653,
   "metadata": {},
   "outputs": [
    {
     "data": {
      "text/plain": [
       "{'salt': 5410,\n",
       " 'sunflower oil': 2252,\n",
       " 'onion': 2222,\n",
       " 'turmeric powder (haldi)': 1917,\n",
       " 'red chilli powder': 1693,\n",
       " 'cloves garlic': 1547,\n",
       " 'ginger': 1400,\n",
       " 'tomato': 1329,\n",
       " 'cumin seeds (jeera)': 1309,\n",
       " 'green chillies': 1268,\n",
       " 'water': 1114,\n",
       " 'mustard seeds': 1077,\n",
       " 'sugar': 1056,\n",
       " 'ghee': 856,\n",
       " 'asafoetida (hing)': 854,\n",
       " 'coriander (dhania) leaves': 812,\n",
       " 'garam masala powder': 809,\n",
       " 'black pepper powder': 800,\n",
       " 'lemon juice': 788,\n",
       " 'sprig curry leaves': 787,\n",
       " 'coconut': 764,\n",
       " 'coriander powder (dhania)': 732,\n",
       " 'virgin olive oil': 705,\n",
       " 'cumin powder (jeera)': 654,\n",
       " 'dry red chillies': 653,\n",
       " 'green chilli': 648,\n",
       " 'butter': 634,\n",
       " 'milk': 556,\n",
       " 'curd': 548,\n",
       " 'cinnamon stick (dalchini)': 508,\n",
       " 'flour (maida)': 502,\n",
       " 'wheat flour': 460,\n",
       " 'black peppercorns': 451,\n",
       " 'sprig coriander (dhania) leaves': 449,\n",
       " 'cloves (laung)': 428,\n",
       " 'cardamom (elaichi) podsseeds': 426,\n",
       " 'jaggery': 408,\n",
       " 'curry leaves': 373,\n",
       " 'white urad dal (split)': 366,\n",
       " 'fennel seeds (saunf)': 322,\n",
       " 'gram flour (besan)': 318,\n",
       " 'bay leaf (tej patta)': 314,\n",
       " 'ginger garlic paste': 314,\n",
       " 'eggs': 311,\n",
       " 'cardamom powder (elaichi)': 307,\n",
       " 'coriander (dhania) seeds': 305,\n",
       " 'carrot (gajjar)': 303,\n",
       " 'cashew nuts': 300,\n",
       " 'vanilla': 289,\n",
       " 'dry red chilli': 287,\n",
       " 'green bell pepper (capsicum)': 284,\n",
       " 'chana dal (bengal gram dal)': 281,\n",
       " 'honey': 279,\n",
       " 'red chilli flakes': 279,\n",
       " 'methi seeds (fenugreek seeds)': 278,\n",
       " 'mint leaves (pudina)': 278,\n",
       " 'potatoes (aloo)': 275,\n",
       " 'baking powder': 270,\n",
       " 'garlic': 261,\n",
       " 'rice': 242,\n",
       " 'mustard oil': 239,\n",
       " 'ajwain (carom seeds)': 233,\n",
       " 'pepper': 229,\n",
       " 'green peas (matar)': 222,\n",
       " 'dried oregano': 222,\n",
       " 'chaat masala powder': 214,\n",
       " 'peanuts (moongphali)': 211,\n",
       " 'paneer': 208,\n",
       " 'soy sauce': 207,\n",
       " 'oil': 205,\n",
       " 'badam (almond)': 205,\n",
       " 'amchur (dry mango powder)': 204,\n",
       " 'turmeric powder': 204,\n",
       " 'sesame seeds (til seeds)': 201,\n",
       " 'corn flour': 196,\n",
       " 'red bell pepper (capsicum)': 195,\n",
       " 'cinnamon powder (dalchini)': 188,\n",
       " 'coconut milk': 182,\n",
       " 'rice flour': 181,\n",
       " 'carrots (gajjar)': 168,\n",
       " 'coconut oil': 168,\n",
       " 'saffron strands': 167,\n",
       " 'kashmiri red chilli powder': 166,\n",
       " 'button mushrooms': 164,\n",
       " 'egg': 163,\n",
       " 'sesame (gingelly) oil': 161,\n",
       " 'baking soda': 160,\n",
       " 'potato (aloo)': 160,\n",
       " 'arhar dal (split toor dal)': 157,\n",
       " 'raisins': 157,\n",
       " 'caster sugar': 156,\n",
       " 'sweet corn': 144,\n",
       " 'hung curd (greek yogurt)': 142,\n",
       " 'coriander (dhania)': 138,\n",
       " 'pistachios': 135,\n",
       " 'brown sugar (demerara sugar)': 133,\n",
       " 'kasuri methi (dried fenugreek leaves)': 132,\n",
       " 'sooji (semolina rava)': 131,\n",
       " 'tamarind water': 128,\n",
       " 'poppy seeds': 126,\n",
       " 'cumin seeds': 125,\n",
       " 'yellow moong dal (split)': 118,\n",
       " 'cheese': 117,\n",
       " 'tamarind paste': 115,\n",
       " 'mozzarella cheese': 115,\n",
       " 'red chilli sauce': 115,\n",
       " 'spinach leaves (palak)': 114,\n",
       " 'green beans (french beans)': 113,\n",
       " 'instant oats (oatmeal)': 112,\n",
       " 'cabbage (patta gobi muttaikose)': 108,\n",
       " 'spinach': 107,\n",
       " 'coriander powder': 106,\n",
       " 'bay leaves (tej patta)': 105,\n",
       " 'cucumber': 103,\n",
       " 'black cardamom (badi elaichi)': 102,\n",
       " 'basil leaves': 102,\n",
       " 'basmati rice': 102,\n",
       " 'tamarind': 96,\n",
       " 'walnuts': 96,\n",
       " 'dry yeast': 95,\n",
       " 'lemon': 95,\n",
       " 'cocoa powder': 94,\n",
       " 'vinegar': 94,\n",
       " 'sambar powder': 93,\n",
       " 'methi leaves (fenugreek leaves)': 92,\n",
       " 'brinjal (baingan eggplant)': 91,\n",
       " 'spring onion greens': 90,\n",
       " 'paprika powder': 90,\n",
       " 'wheat bread crumbs': 89,\n",
       " 'star anise': 88,\n",
       " 'parmesan cheese': 87,\n",
       " 'chicken breasts': 86,\n",
       " 'mustard': 84,\n",
       " 'broccoli': 83,\n",
       " 'pearl onion (sambar onion)': 83,\n",
       " 'wheat brown bread': 82,\n",
       " 'parsley leaves': 81,\n",
       " 'white urad dal': 79,\n",
       " 'cauliflower (gobi)': 78,\n",
       " 'yellow bell pepper (capsicum)': 78,\n",
       " 'ginger paste': 77,\n",
       " 'dry ginger powder': 77,\n",
       " 'bananas': 76,\n",
       " 'nutmeg powder': 75,\n",
       " 'asafoetida': 74,\n",
       " 'kabuli chana (white chickpeas)': 73,\n",
       " 'black salt': 71,\n",
       " 'chicken': 70,\n",
       " 'spring onion (bulb greens)': 69,\n",
       " 'tomato ketchup': 68,\n",
       " 'kalonji (onion nigella seeds)': 68,\n",
       " 'beetroot': 67,\n",
       " 'vegetable stock': 65,\n",
       " 'sprig mint leaves (pudina)': 65,\n",
       " 'cheddar cheese': 62,\n",
       " 'kaddu (parangikai pumpkin)': 62,\n",
       " 'mixed herbs (dried)': 62,\n",
       " 'tofu': 61,\n",
       " 'dates': 60,\n",
       " 'garlic paste': 59,\n",
       " 'clove garlic': 57,\n",
       " 'heavy whipping': 57,\n",
       " 'coriander (dhania) leaves sprigs': 57,\n",
       " 'mango (raw)': 57,\n",
       " 'green zucchini': 56,\n",
       " 'dried thyme leaves': 56,\n",
       " 'masoor dal': 55,\n",
       " '': 54,\n",
       " 'rajma (large kidney beans)': 54,\n",
       " 'black pepper corns': 52,\n",
       " 'lemon juiced': 52,\n",
       " 'mango (ripe)': 52,\n",
       " 'black urad dal (split)': 51,\n",
       " 'black olives': 51,\n",
       " 'condensed milk': 51,\n",
       " 'cherry tomato': 51,\n",
       " 'green chutney (coriander mint)': 50,\n",
       " 'orange': 50,\n",
       " 'green moong dal': 50,\n",
       " 'strawberries': 50,\n",
       " 'cumin powder': 49,\n",
       " 'green moong sprouts': 49,\n",
       " 'icing sugar': 49,\n",
       " 'britannia': 48,\n",
       " 'kala chana (brown chickpeas)': 48,\n",
       " 'vivatta maida': 48,\n",
       " 'dry coconut (kopra)': 47,\n",
       " 'bottle gourd (lauki)': 47,\n",
       " 'poha (flattened rice)': 46,\n",
       " 'ragi flour (finger millet nagli)': 46,\n",
       " 'sprig basil leaves': 45,\n",
       " 'mutton': 45,\n",
       " 'dark chocolate': 44,\n",
       " 'liter milk': 44,\n",
       " 'rosemary': 43,\n",
       " 'ghee oil': 43,\n",
       " 'orange juice': 43,\n",
       " 'enos fruit salt': 42,\n",
       " 'panch phoran masala': 42,\n",
       " 'rose water': 42,\n",
       " 'green coriander': 41,\n",
       " 'banana': 41,\n",
       " 'feta cheese': 41,\n",
       " 'ice cubes': 40,\n",
       " 'mace (javitri)': 40,\n",
       " 'sweet chutney (date tamarind)': 40,\n",
       " 'mooli mullangi (radish)': 40,\n",
       " 'pickled jalapenos': 39,\n",
       " 'italian': 39,\n",
       " 'dill leaves': 39,\n",
       " 'fennel powder': 39,\n",
       " 'baby potatoes': 38,\n",
       " 'anardana powder (pomegranate seed powder)': 38,\n",
       " 'water knead': 38,\n",
       " 'apple': 38,\n",
       " 'chocolate chips': 38,\n",
       " 'khoya (mawa)': 37,\n",
       " 'garlic powder': 36,\n",
       " 'sprig parsley leaves': 36,\n",
       " 'iceberg lettuce': 36,\n",
       " 'red chillies': 35,\n",
       " 'rye': 35,\n",
       " 'gram dal (pottukadalai)': 35,\n",
       " 'bhindi (lady fingerokra)': 35,\n",
       " 'tabasco original sauce': 34,\n",
       " 'cinnamon': 34,\n",
       " 'pomegranate fruit kernels': 34,\n",
       " 'cauliflower (gobi) florets': 34,\n",
       " 'chia seeds': 34,\n",
       " 'pineapple': 34,\n",
       " 'buttermilk': 34,\n",
       " 'baby corn': 33,\n",
       " 'green chilli paste': 33,\n",
       " 'boneless chicken': 32,\n",
       " 'quinoa': 32,\n",
       " 'coriander': 31,\n",
       " 'bajra flour ( pearl millet)': 31,\n",
       " 'black eyed beans (lobia)': 31,\n",
       " 'lemon wedges': 31,\n",
       " 'idli rice': 31,\n",
       " 'milk powder': 30,\n",
       " 'almond meal (badam powder)': 30,\n",
       " 'jowar flour (sorghum)': 30,\n",
       " 'sweet potatoes': 30,\n",
       " 'peanut butter': 30,\n",
       " 'cashews': 29,\n",
       " 'flax seed powder (flax meal)': 29,\n",
       " 'celery': 29,\n",
       " 'sour': 29,\n",
       " 'mixed nuts': 28,\n",
       " 'soda': 28,\n",
       " 'nutmeg': 28,\n",
       " 'tortillas': 27,\n",
       " 'bay leaf': 27,\n",
       " 'sriracha sauce': 27,\n",
       " 'cardamom': 27,\n",
       " 'red onion': 27,\n",
       " 'black peppercorns ground': 27,\n",
       " 'pizza pasta sauce': 27,\n",
       " 'karela (bitter gourd pavakkai)': 26,\n",
       " 'brown rice': 26,\n",
       " 'prawns': 26,\n",
       " 'elephant yam (suransenairatalu)': 26,\n",
       " 'avocado': 26,\n",
       " 'coriander seeds': 25,\n",
       " 'green chilli sauce': 25,\n",
       " 'wheat (dalia godumai rava)': 25,\n",
       " 'white pepper powder': 25,\n",
       " 'classic mayonnaise (with egg)': 25,\n",
       " 'chilli vinegar': 25,\n",
       " 'tamarind lemon': 25,\n",
       " 'almonds (badam)': 25,\n",
       " 'fenugreek seeds': 25,\n",
       " 'kokum (malabar tamarind)': 25,\n",
       " 'tomato pasta sauce': 24,\n",
       " 'makki ka atta (yellow corn meal flour)': 24,\n",
       " 'broccoli florets': 24,\n",
       " 'sweet spicy red chilli sauce (tomato chilli sauce)': 24,\n",
       " 'dark soy sauce': 24,\n",
       " 'asafetida': 24,\n",
       " 'gingelly oil': 24,\n",
       " 'green beans (french beans) pieces': 24,\n",
       " 'byadagi dried chillies': 24,\n",
       " 'sev': 23,\n",
       " 'onion paste': 23,\n",
       " 'gram flour': 23,\n",
       " 'instant coffee powder': 23,\n",
       " 'idli dosa batter': 23,\n",
       " 'foxtail millet': 23,\n",
       " 'coriander (dhania) powder': 23,\n",
       " 'sweet potato': 23,\n",
       " 'drumstick pieces': 22,\n",
       " 'dijon mustard': 22,\n",
       " 'cumin': 22,\n",
       " 'sunflower oil ghee': 22,\n",
       " 'cumin (jeera) seeds': 22,\n",
       " 'apples': 22,\n",
       " 'chana dal': 21,\n",
       " 'pav bhaji masala': 21,\n",
       " 'red chilli': 21,\n",
       " 'cranberries': 21,\n",
       " 'coriander (dhania) leavesfor': 20,\n",
       " 'garlic cloves': 20,\n",
       " 'rolled oats instant oats': 20,\n",
       " 'papaya': 20,\n",
       " 'muesli': 20,\n",
       " 'horse gram dal (kollu kulith)': 20,\n",
       " 'red wine vinaigrette': 19,\n",
       " 'sprig green coriander': 19,\n",
       " 'spaghetti pasta': 19,\n",
       " 'red yellow green bell peppers (capsicum)': 19,\n",
       " 'thyme leaves': 19,\n",
       " 'sabudana (tapioca pearls)': 19,\n",
       " 'black urad dal': 19,\n",
       " 'maharashtrian goda masala': 19,\n",
       " 'oats flour': 19,\n",
       " 'green bell peppers': 19,\n",
       " 'figaro pure olive oil': 19,\n",
       " 'white vinegar': 18,\n",
       " 'capsicum (green)': 18,\n",
       " 'cabbage': 18,\n",
       " 'red yellow green bell pepper (capsicum)': 18,\n",
       " 'mustard sauce': 18,\n",
       " 'cinnamon stick': 18,\n",
       " 'carrots': 18,\n",
       " 'penne pasta': 18,\n",
       " 'rasam powder': 17,\n",
       " 'sprig spring onion (bulb greens)': 17,\n",
       " 'colocasia root (arbi)': 17,\n",
       " 'rice vinegar': 17,\n",
       " 'drumstick leaves (moringamurungai keerai)': 17,\n",
       " 'tahini': 17,\n",
       " 'ridge gourd (turai peerkangai)': 17,\n",
       " 'mango pulp (puree)': 16,\n",
       " 'coriander leaves': 16,\n",
       " 'soy (nuggets)': 16,\n",
       " 'phool makhana (lotus seeds)': 16,\n",
       " 'kashmiri dry red chillies': 16,\n",
       " 'black pepper powder ground': 16,\n",
       " 'black sesame seeds': 16,\n",
       " 'sprig thyme leaves': 16,\n",
       " 'balsamic vinegar': 16,\n",
       " 'stalks spring onion (bulb greens)': 15,\n",
       " 'tomato salsa': 15,\n",
       " 'yogurt': 15,\n",
       " 'green peas': 15,\n",
       " 'apple cider vinegar': 15,\n",
       " 'sunflower seeds': 15,\n",
       " 'nutralite garlic oregano': 15,\n",
       " 'dried basil leaves': 15,\n",
       " 'wheat brown bread slices': 15,\n",
       " 'britannia cheese block': 15,\n",
       " 'palm sugar': 15,\n",
       " 'peanuts': 15,\n",
       " 'hakka noodles': 14,\n",
       " 'dried figs': 14,\n",
       " 'potatoes': 14,\n",
       " 'bay leaves': 14,\n",
       " 'english cucumber': 14,\n",
       " 'nutralite classic': 14,\n",
       " 'watermelon': 14,\n",
       " 'kiwi': 14,\n",
       " 'beetroots': 14,\n",
       " 'green beans': 13,\n",
       " 'cloves cloves (laung)': 13,\n",
       " 'salted butter': 13,\n",
       " 'sesame oil': 13,\n",
       " 'sprig coriander': 13,\n",
       " 'lentil sugar': 13,\n",
       " 'fish sauce': 13,\n",
       " 'flax seeds': 13,\n",
       " 'onion thin straight': 13,\n",
       " 'butter cold': 13,\n",
       " 'melon seeds': 13,\n",
       " 'jackfruit (kathal)': 13,\n",
       " 'curry powder': 13,\n",
       " 'vegetable stock water': 13,\n",
       " 'puffed rice': 13,\n",
       " 'barnyard millet': 13,\n",
       " 'sprig spring onion greens': 13,\n",
       " 'carrot': 12,\n",
       " 'rice wine vinegar': 12,\n",
       " 'chicken medium pieces': 12,\n",
       " 'pumpkin seeds': 12,\n",
       " 'dried rose petals': 12,\n",
       " 'amla (nellikai gooseberry)': 12,\n",
       " 'light soy sauce': 12,\n",
       " 'green moong dal (split)': 12,\n",
       " 'cashew nuts ground paste': 12,\n",
       " 'buckwheat flour (kuttu ka atta)': 12,\n",
       " 'purple cabbage': 12,\n",
       " 'nutella': 12,\n",
       " 'boondi': 12,\n",
       " 'thai red curry paste': 12,\n",
       " 'maple syrup honey': 12,\n",
       " 'ricotta cheese': 12,\n",
       " 'avarekalu lilva beans': 12,\n",
       " 'onion powder': 11,\n",
       " 'chicken stock': 11,\n",
       " 'green amaranth leaves': 11,\n",
       " 'apricots': 11,\n",
       " 'lettuce leaves': 11,\n",
       " 'gulkand': 11,\n",
       " 'black rice': 11,\n",
       " 'egg white': 11,\n",
       " 'kala jeera': 11,\n",
       " 'pav buns': 11,\n",
       " 'stone flower': 11,\n",
       " 'wheat bread crumbs coating': 11,\n",
       " 'semiya (vermicelli)': 11,\n",
       " 'tandoori masala': 11,\n",
       " 'bean sprouts': 11,\n",
       " 'rose petals': 11,\n",
       " 'custard powder': 11,\n",
       " 'thai red chilli (birds eye chilli)': 11,\n",
       " 'macaroni pasta': 11,\n",
       " 'sun dried tomato': 11,\n",
       " 'curry leaves sprigs': 11,\n",
       " 'burger buns': 10,\n",
       " 'bud garlic': 10,\n",
       " 'baguette': 10,\n",
       " 'arhar dal': 10,\n",
       " 'nutralite cheesy garlic mayo': 10,\n",
       " 'chinese spice powder': 10,\n",
       " 'del monte cheesy garlic mayo': 10,\n",
       " 'methi powder (fenugreek powder)': 10,\n",
       " 'salt per': 10,\n",
       " 'salt salt': 10,\n",
       " 'tender coconut water': 10,\n",
       " 'paneer cubes': 10,\n",
       " 'del monte mint mayo': 10,\n",
       " 'parsley': 10,\n",
       " 'groundnut powder': 10,\n",
       " 'rajgira flour (amaranth flour)': 10,\n",
       " 'yellow zucchini': 10,\n",
       " 'badam (almond) skin': 10,\n",
       " 'aerated water (soda water)': 10,\n",
       " 'prunes': 10,\n",
       " 'lemon juice from one lemon': 10,\n",
       " 'spice powder': 10,\n",
       " 'ghee butter': 10,\n",
       " 'ragi seeds': 10,\n",
       " 'blueberries': 10,\n",
       " 'prawns deveined': 10,\n",
       " 'schezwan sauce': 10,\n",
       " 'rolled oats': 10,\n",
       " 'red cabbage': 10,\n",
       " 'rice vermicelli noodles (thin)': 9,\n",
       " 'ginger peel': 9,\n",
       " 'mango': 9,\n",
       " 'black pepper': 9,\n",
       " 'button mushrooms quarters': 9,\n",
       " 'pointed gourd (parval)': 9,\n",
       " 'stalks lemongrass': 9,\n",
       " 'gawar phali (kothavarangai cluster beans)': 9,\n",
       " 'coconut milk thin': 9,\n",
       " 'del monte corn kernels': 9,\n",
       " 'bajra (seeds)': 9,\n",
       " 'jowar seeds': 9,\n",
       " 'sprigs coriander (dhania) leaves': 9,\n",
       " 'ice': 9,\n",
       " 'barley (seeds)': 9,\n",
       " 'wheat bran': 9,\n",
       " 'cucumbers': 9,\n",
       " 'puff pastry sheet': 9,\n",
       " 'drumstick': 9,\n",
       " 'saffron strands milk': 9,\n",
       " 'sprig dill leaves': 9,\n",
       " 'pepper powder': 9,\n",
       " 'tamarind marble': 9,\n",
       " 'green chillies()': 9,\n",
       " 'olive oil': 9,\n",
       " 'dosa rice': 9,\n",
       " 'white chocolate': 9,\n",
       " 'tamarind lemon size': 9,\n",
       " 'mace powder': 9,\n",
       " 'del monte black olives': 9,\n",
       " 'del monte tandoori mayo': 9,\n",
       " 'cloves (laung) garlic': 9,\n",
       " 'onion ground paste': 9,\n",
       " 'double': 9,\n",
       " 'vellai poosanikai (ash gourdwhite pumpkin)': 8,\n",
       " 'black beans': 8,\n",
       " 'soy granules': 8,\n",
       " 'fennel': 8,\n",
       " 'cardamom powder': 8,\n",
       " 'jackfruit seeds (kathal)': 8,\n",
       " 'eggplant': 8,\n",
       " 'bok choy': 8,\n",
       " 'tomato paste': 8,\n",
       " 'brown cardamom (badi elaichi)': 8,\n",
       " 'taco shells': 8,\n",
       " 'tomato pulp': 8,\n",
       " 'mango powder': 8,\n",
       " 'sprig coriander (dhania) leavesfor': 8,\n",
       " 'edible silver foilleaf (chandi ka vark)': 8,\n",
       " 'bhindi (lady fingerokra) pieces': 8,\n",
       " 'caramelized onion': 8,\n",
       " 'cloves garlic pound': 8,\n",
       " 'pink masoor dal (split)': 8,\n",
       " 'chocolate bar': 8,\n",
       " 'leek': 8,\n",
       " 'gram butter': 8,\n",
       " 'potato': 8,\n",
       " 'kashmiri dry red chilli': 8,\n",
       " 'soybeans (whole soya dal)': 8,\n",
       " 'dark chocolate chips': 8,\n",
       " 'kasuri methi': 8,\n",
       " 'green seedless grapes': 8,\n",
       " 'lemongrass': 8,\n",
       " 'tutti frutti': 8,\n",
       " 'red matta rice': 8,\n",
       " 'shrimps deveined': 8,\n",
       " 'cranberries dried': 8,\n",
       " 'water knead the dough': 8,\n",
       " 'badi (wadi)': 8,\n",
       " 'sweet potato skin': 8,\n",
       " 'tomato basil pasta sauce': 8,\n",
       " 'chicken breasts boneless': 8,\n",
       " 'stalks celery': 8,\n",
       " 'mutton on the bone': 8,\n",
       " 'date syrup': 8,\n",
       " 'sprig rosemary': 8,\n",
       " 'green chillies paste': 8,\n",
       " 'cherries': 8,\n",
       " 'gelatin': 8,\n",
       " 'mint': 7,\n",
       " 'sesame seeds (til seeds) white': 7,\n",
       " 'chicken legs': 7,\n",
       " 'sprigs coriander': 7,\n",
       " 'kasundi mustard sauce': 7,\n",
       " 'capsicum (red)': 7,\n",
       " 'thai basil leaves': 7,\n",
       " 'mixed dry fruits': 7,\n",
       " 'salt oil': 7,\n",
       " 'refried beans': 7,\n",
       " 'mint leaves (pudina) sprigs': 7,\n",
       " 'potatoes (aloo) skin': 7,\n",
       " 'pecans': 7,\n",
       " 'figs': 7,\n",
       " 'pomegranate': 7,\n",
       " 'mascarpone cheese': 7,\n",
       " 'stalks spring onion greens': 7,\n",
       " 'urad dal flour': 7,\n",
       " 'lemon juice lemon': 7,\n",
       " 'confectioners sugar': 7,\n",
       " 'chenna': 7,\n",
       " 'achari mayo': 7,\n",
       " 'worcestershire sauce': 7,\n",
       " 'eggless mayonnaise': 7,\n",
       " 'britannia cheezza': 7,\n",
       " 'green olives': 7,\n",
       " 'sunflower oil oil': 7,\n",
       " 'tofu firm': 7,\n",
       " 'tamarind gooseberry': 7,\n",
       " 'cashew nuts paste': 7,\n",
       " 'chironji': 7,\n",
       " 'del monte spaghetti pasta': 7,\n",
       " 'idli dosa podi (milagai powder)': 7,\n",
       " 'arborio rice': 7,\n",
       " 'maple syrup': 7,\n",
       " 'yellow mustard seeds': 7,\n",
       " ')': 7,\n",
       " 'saffron strands generous': 7,\n",
       " 'mangalorean cucumber': 7,\n",
       " 'achari masala': 7,\n",
       " 'palm jaggery': 7,\n",
       " 'guava': 7,\n",
       " 'chicken with bone': 7,\n",
       " 'black salt salt': 7,\n",
       " 'peppermint': 7,\n",
       " 'pumpkin': 7,\n",
       " 'almond milk (badam milk)': 7,\n",
       " 'stalk celery': 7,\n",
       " 'avarekai (broad beans)': 7,\n",
       " 'potato (aloo) skin': 7,\n",
       " 'mint leaves': 6,\n",
       " 'rice rava': 6,\n",
       " 'liter milk full': 6,\n",
       " 'tindora (dondakaya kovakkai)': 6,\n",
       " 'green onion': 6,\n",
       " 'kasoori methi': 6,\n",
       " 'tulsi (holy basil)': 6,\n",
       " 'vanilla ice': 6,\n",
       " 'chocolate sauce': 6,\n",
       " 'chana masala powder': 6,\n",
       " 'spinach leaves (palak) bunch': 6,\n",
       " 'mustard greens': 6,\n",
       " 'thandai masala': 6,\n",
       " 'pizza': 6,\n",
       " 'spirulina': 6,\n",
       " 'ginger ground paste': 6,\n",
       " 'lemon squeezed': 6,\n",
       " 'chiroti rava': 6,\n",
       " 'sunflower oil butter': 6,\n",
       " 'fish fillet': 6,\n",
       " 'digestive biscuit': 6,\n",
       " 'green chillies straight': 6,\n",
       " 'lahsun ki chutney (red garlic chutney)': 6,\n",
       " 'virgin olive oil butter': 6,\n",
       " 'mixed vegetables': 6,\n",
       " 'tomato ripe': 6,\n",
       " 'condensed milk sweetened': 6,\n",
       " 'gram flour (sattu ka atta)': 6,\n",
       " 'pickled onion': 6,\n",
       " 'wheat flour maida': 6,\n",
       " 'sunflower oil brush': 6,\n",
       " 'jackfruit ripe (kathal)': 6,\n",
       " 'cocoa powder unsweetened': 6,\n",
       " 'conchiglie pasta': 6,\n",
       " 'yellow moong dal': 6,\n",
       " 'coconut sugar': 6,\n",
       " 'lotus stem': 6,\n",
       " 'harissa paste': 6,\n",
       " 'curd sour': 6,\n",
       " 'mixed fruits': 6,\n",
       " 'couscous': 6,\n",
       " 'dry mix herbs': 6,\n",
       " 'red wine': 6,\n",
       " 'chaat masala powder sprinkling': 6,\n",
       " 'clove powder (laung)': 6,\n",
       " 'sichuan peppercorns': 6,\n",
       " 'hoisin sauce': 6,\n",
       " 'basil pesto': 6,\n",
       " 'water water': 6,\n",
       " 'guacamole': 6,\n",
       " 'sunflower oil pan': 6,\n",
       " 'red chilli paste': 6,\n",
       " 'saffron strands strands': 6,\n",
       " 'pineapple juice': 6,\n",
       " 'cloves garlic ground paste': 6,\n",
       " 'liter milk full fat': 6,\n",
       " 'wheat flour tortilla': 6,\n",
       " 'chicken thighs': 6,\n",
       " 'decorative sugar (cake candy s)': 6,\n",
       " 'wheat berries wheat': 6,\n",
       " 'potatoes boil': 6,\n",
       " 'cayenne pepper': 6,\n",
       " 'dried green peas (vatana)': 6,\n",
       " 'cinnamon powder': 6,\n",
       " 'idli': 5,\n",
       " 'cheese slices': 5,\n",
       " 'fenugreek': 5,\n",
       " 'sprig mint': 5,\n",
       " 'peanuts roast': 5,\n",
       " 'suran': 5,\n",
       " 'biryani masala': 5,\n",
       " 'hummus': 5,\n",
       " 'tzatziki': 5,\n",
       " 'oreo biscuits': 5,\n",
       " 'button mushrooms quatered': 5,\n",
       " 'potatoes (aloo) cubes': 5,\n",
       " 'pine nuts': 5,\n",
       " 'jaggery sugar': 5,\n",
       " 'ginger ground': 5,\n",
       " 'sprigs curry leaves': 5,\n",
       " 'pani puris': 5,\n",
       " 'sesame seeds (til seeds) dry': 5,\n",
       " 'green chillies thin straight': 5,\n",
       " 'green peas (matar) frozen': 5,\n",
       " 'peanuts (moongphali) ground': 5,\n",
       " 'kalonji seeds': 5,\n",
       " 'onion slices': 5,\n",
       " 'butter greasing': 5,\n",
       " 'turnips': 5,\n",
       " 'almond essence (badam essence)': 5,\n",
       " 'multigrain digestive oat biscuits': 5,\n",
       " 'wheat noodles': 5,\n",
       " 'dates seedless': 5,\n",
       " 'onion straight thin': 5,\n",
       " 'chicken curry pieces': 5,\n",
       " 'dhansak masala': 5,\n",
       " 'carrot (gajjar) diagony': 5,\n",
       " 'singhade (water chestnut)': 5,\n",
       " 'britannia cheese four pepper tango': 5,\n",
       " 'black grapes': 5,\n",
       " 'rosemary dried': 5,\n",
       " 'govind bhog rice': 5,\n",
       " 'dry fruits': 5,\n",
       " 'fennel seeds': 5,\n",
       " 'kewra water': 5,\n",
       " 'corn kernels': 5,\n",
       " 'britannia cheese garlic': 5,\n",
       " 'guntur dried chillies': 5,\n",
       " 'canned cherries': 5,\n",
       " 'bacon strips': 5,\n",
       " 'arugula leaves': 5,\n",
       " 'shrimps': 5,\n",
       " 'spirali pasta': 5,\n",
       " 'peanut oil': 5,\n",
       " 'baby spinach': 5,\n",
       " 'sunflower oil greasing': 5,\n",
       " 'capers': 5,\n",
       " 'coriander (dhania) leaves chopped': 5,\n",
       " 'milk low fat': 5,\n",
       " 'lemon juice from lemon': 5,\n",
       " 'mutton boneless': 5,\n",
       " 'banana leaf': 5,\n",
       " 'basil leaves sprigs': 5,\n",
       " 'polenta': 5,\n",
       " 'goat cheese': 5,\n",
       " 'chow chow (chayote squash)': 5,\n",
       " 'garlic butter': 5,\n",
       " \"za'atar\": 5,\n",
       " 'kosher salt': 5,\n",
       " 'corn flour tortilla': 5,\n",
       " 'tinda (apple gourd)': 5,\n",
       " 'canola oil': 5,\n",
       " 'mini pita breads': 5,\n",
       " 'kalmatta olives': 5,\n",
       " 'kaffir lime leaves': 5,\n",
       " 'sugar jaggery': 5,\n",
       " 'green chillies verticy': 5,\n",
       " 'chicken boneless': 5,\n",
       " 'wheat brown bread wheat': 5,\n",
       " 'carrot (gajjar) th': 5,\n",
       " 'asafoetida (hing) generous': 5,\n",
       " 'red radish': 5,\n",
       " 'chives': 5,\n",
       " 'mooli ke patte (radish greens)': 5,\n",
       " 'rice paper rolls': 5,\n",
       " 'sweet corn kernels': 5,\n",
       " 'butter oil': 5,\n",
       " 'garlic pods': 5,\n",
       " 's virgin olive oil': 5,\n",
       " 'cup coconut': 5,\n",
       " 'chicken breasts cubes': 5,\n",
       " 'canned black beans': 5,\n",
       " 'gelatin unflavoured': 5,\n",
       " 'banana flower (vazhaipoo)': 5,\n",
       " 'rice noodles (flat)': 5,\n",
       " 'barbeque sauce': 5,\n",
       " 'marie biscuit': 5,\n",
       " 'peanuts (moongphali) pound': 5,\n",
       " 'chicken with bones': 5,\n",
       " 'honey maple syrup': 5,\n",
       " 'water the dough': 5,\n",
       " 'bay leaf break': 4,\n",
       " 'amla': 4,\n",
       " 'sugar honey': 4,\n",
       " 'split mustard seeds (rai kuria)': 4,\n",
       " 'tea leaves': 4,\n",
       " 'oregano': 4,\n",
       " 'cane sugar': 4,\n",
       " 'rice (raw rice)': 4,\n",
       " 'spoon turmeric powder': 4,\n",
       " 'del monte sandwich': 4,\n",
       " 'brinjal (baingan eggplant) pieces': 4,\n",
       " 'tamarind pulp': 4,\n",
       " 'chocolate ganache': 4,\n",
       " 'large cardamom': 4,\n",
       " 'star anis': 4,\n",
       " 'lemon juice drops': 4,\n",
       " 'coffee decoction': 4,\n",
       " 'enos fruit salt baking powder': 4,\n",
       " 'almonds': 4,\n",
       " 'yellow food colour': 4,\n",
       " 'ghee roasting': 4,\n",
       " 'ghee the parathas': 4,\n",
       " 'mutton kheema': 4,\n",
       " 'ginger juliennes': 4,\n",
       " 'flour ( flour)': 4,\n",
       " 'poppy seeds paste': 4,\n",
       " 'sprig tulsi (holy basil)': 4,\n",
       " 'betel leaves (paan)': 4,\n",
       " 'cup curd': 4,\n",
       " 'salt .': 4,\n",
       " 'salt ( your )': 4,\n",
       " 'pie crust': 4,\n",
       " 'sesame powder': 4,\n",
       " 'oil ghee': 4,\n",
       " 'sunflower oil tempering': 4,\n",
       " 'green chawli beans (yard beanskaramanibarbati)': 4,\n",
       " 'pineapple slices': 4,\n",
       " 'strawberry compote': 4,\n",
       " 'onion peel': 4,\n",
       " 'ginger julienne': 4,\n",
       " 'moth dal (matki)': 4,\n",
       " 'dagad phool (pathar phoolblack stone flower)': 4,\n",
       " 'sunflower oil grease': 4,\n",
       " 'fennel seeds (saunf) ground powder': 4,\n",
       " 'seeraga (jeeraga) samba rice': 4,\n",
       " 'green chickpeas': 4,\n",
       " 'herb butter': 4,\n",
       " 'rose essence': 4,\n",
       " 'del monte cheesy dip': 4,\n",
       " 'methi leaves (fenugreek leaves) bunch': 4,\n",
       " 'sunflower oil brushing': 4,\n",
       " 'amaranth seeds (rajgira)': 4,\n",
       " 'bathua leaves': 4,\n",
       " 'thai green curry paste': 4,\n",
       " 'sugar syrup': 4,\n",
       " 'toothpicks': 4,\n",
       " 'liter vegetable stock': 4,\n",
       " 'white broad beans': 4,\n",
       " 'green zucchini slices': 4,\n",
       " 'britannia cheese classic': 4,\n",
       " 'spoon garam masala powder': 4,\n",
       " 'instant oats (oatmeal) instant': 4,\n",
       " 'ghee ghee': 4,\n",
       " 'pears': 4,\n",
       " 'mint leaves (pudina) a': 4,\n",
       " 'turmeric': 4,\n",
       " 'fruits': 4,\n",
       " 'horse gram dal (kollu kulith) sprouted': 4,\n",
       " 'sprig ginger teriyaki sauce': 4,\n",
       " 'cloves (laung) cloves': 4,\n",
       " 'onion medium': 4,\n",
       " 'mutton with bone': 4,\n",
       " 'pomfret fish': 4,\n",
       " 'fish': 4,\n",
       " 'red poha (flattened red rice)': 4,\n",
       " 'snake gourd (pudulangai)': 4,\n",
       " 'caramel sauce': 4,\n",
       " 'amul': 4,\n",
       " 'stalk coriander (dhania) leaves': 4,\n",
       " 'cup cheese': 4,\n",
       " 'mustard powder': 4,\n",
       " 'butter pea size pieces': 4,\n",
       " 'ginger juice': 4,\n",
       " 'water vegetable stock': 4,\n",
       " 'kaddu (parangikai pumpkin) skin': 4,\n",
       " 'semolina': 4,\n",
       " 'spinach bunch': 4,\n",
       " 'green bell pepper (capsicum) th': 4,\n",
       " 'britannia cheese asli pepper': 4,\n",
       " 'sunflower oil drizzle': 4,\n",
       " 'cumin powder (jeera) ground': 4,\n",
       " 'onion caramelized': 4,\n",
       " 'saffron strands strands milk': 4,\n",
       " 'singoda flour (water chestnut)': 4,\n",
       " 'green beans (french beans) diagony': 4,\n",
       " 'mixed sprouts': 4,\n",
       " 'chayote': 4,\n",
       " 'water cold': 4,\n",
       " 'green brinjal (green aubergine)': 4,\n",
       " 'red amaranth leaves': 4,\n",
       " 'avocados': 4,\n",
       " 'fried bread cubes (croutons)': 4,\n",
       " 'cabbage (patta gobi muttaikose) leaves': 4,\n",
       " 'red bell pepper (capsicum) s': 4,\n",
       " 'cup water': 4,\n",
       " 'peaches': 4,\n",
       " 'walnuts pine nuts': 4,\n",
       " 'dry kashmiri chillies': 4,\n",
       " 'meat masala': 4,\n",
       " 'galangal ginger': 4,\n",
       " 'milk brushing': 4,\n",
       " 'chicken wings': 4,\n",
       " 'chocolate shavings': 4,\n",
       " 'watermelon seeds': 4,\n",
       " 'chicken drumstick': 4,\n",
       " 'milk cold': 4,\n",
       " 'parsley leaves dried': 4,\n",
       " 'green grapes': 4,\n",
       " 'water needed': 4,\n",
       " 'veeba sweet chilli sauce': 4,\n",
       " 'stalk spring onion greens': 4,\n",
       " 'del monte farfe pasta': 4,\n",
       " 'poppy seeds ground paste': 4,\n",
       " 'tea bags': 4,\n",
       " 'walnuts pecans': 4,\n",
       " 'honey sugar': 4,\n",
       " 'dog bread': 4,\n",
       " 'coconut pieces': 4,\n",
       " 'liter water': 4,\n",
       " 'soy (nuggets) water': 4,\n",
       " 'saltoil': 4,\n",
       " 'dry white wine': 4,\n",
       " 'paneer s': 4,\n",
       " 'britannia cheese mexican chilli': 4,\n",
       " 'sundakkai (turkey berries)': 4,\n",
       " 'bottle gourd (lauki) cubes': 4,\n",
       " 'tur dal': 4,\n",
       " 'sunflower oil tikkis': 4,\n",
       " 'assam tea leaves': 4,\n",
       " 'cup sugar': 4,\n",
       " 'figs quarters': 4,\n",
       " 'malwani masala': 4,\n",
       " 'pasta fusilli': 4,\n",
       " 'sweet potatoes skin': 4,\n",
       " 'thai yellow curry paste': 4,\n",
       " 'asafoetida (hing) asafoetida': 4,\n",
       " 'cloves (laung) ground': 4,\n",
       " 'onionlengthwise': 4,\n",
       " 'chickpea lentils': 3,\n",
       " 'red chilli powder cayenne pepper': 3,\n",
       " 'gourd peel': 3,\n",
       " 'green chillies straight thin': 3,\n",
       " 'potatoes peel': 3,\n",
       " 'cloves': 3,\n",
       " 'green peas steam': 3,\n",
       " 'urad dal': 3,\n",
       " 'split methi seeds (methi kuria)': 3,\n",
       " 'coal giving smoked flavour': 3,\n",
       " 'jasmine rice': 3,\n",
       " 'black gram': 3,\n",
       " 'summer salad': 3,\n",
       " 'vanilla drops': 3,\n",
       " 'onion red': 3,\n",
       " 'kidney beans': 3,\n",
       " 'ginger grated': 3,\n",
       " 'black peppers': 3,\n",
       " 'curry leaves break': 3,\n",
       " 'mace': 3,\n",
       " 'wheat flakes (cereal)': 3,\n",
       " 'aloo bhujia': 3,\n",
       " 'moth sprouts (matki)': 3,\n",
       " 'brinjal': 3,\n",
       " 'milk luke': 3,\n",
       " 'ghee greasing': 3,\n",
       " 's': 3,\n",
       " 'saffron': 3,\n",
       " 'corn flour mixed with water': 3,\n",
       " 'red matta rice par': 3,\n",
       " 'sprig natural bourbon vanilla': 3,\n",
       " 'coconut milk toddy': 3,\n",
       " 'coconut grated': 3,\n",
       " 'green peas boil': 3,\n",
       " 'flour (maida) plus': 3,\n",
       " 'cashew nuts fried': 3,\n",
       " 'tapioca root': 3,\n",
       " 'red bell pepper (capsicum) slices': 3,\n",
       " 'cashew nuts water': 3,\n",
       " 'apples peel': 3,\n",
       " 'sunflower oil saffola': 3,\n",
       " 'egg noodles': 3,\n",
       " 'ghee greasing the plate': 3,\n",
       " 'sunflower oil drops greasing': 3,\n",
       " 'ghee sesame oil': 3,\n",
       " 'potato masala': 3,\n",
       " 'mint powder (pudina)': 3,\n",
       " 'cup kabuli chana (white chickpeas)': 3,\n",
       " 'rice water': 3,\n",
       " 'knol khol (ganth gobikadam)': 3,\n",
       " 'chicken breasts pieces': 3,\n",
       " 'amchur powder': 3,\n",
       " 'garlic ground': 3,\n",
       " 'cayenne pepper ground': 3,\n",
       " 'rose water drops': 3,\n",
       " 'sooji (semolina rava) semolina': 3,\n",
       " 'sunflower oil tossing': 3,\n",
       " 'brinjal (baingan eggplant) wedges': 3,\n",
       " 'cucumber peel': 3,\n",
       " 'flour (maida) wheat flour': 3,\n",
       " 'badi hari mirch (large green chilli)': 3,\n",
       " 'coconut scrapped': 3,\n",
       " 'parmigiano reggiano cheese': 3,\n",
       " 'white onion': 3,\n",
       " 'corn meal': 3,\n",
       " 'mixed vegetables (beans': 3,\n",
       " 'vangi bath powder': 3,\n",
       " 'chipotle sauce': 3,\n",
       " 'bagel': 3,\n",
       " 'virgin olive oil drizzling': 3,\n",
       " 'green chilliesor': 3,\n",
       " 'khuskhus': 3,\n",
       " 'virgin olive oil ( virgin)': 3,\n",
       " 'colocasia root (arbi) skin': 3,\n",
       " 'curd (sour)': 3,\n",
       " 'cumin powder (jeera) (roast ground)': 3,\n",
       " 'milk milk': 3,\n",
       " 'bay leaf (tej patta) half': 3,\n",
       " 'butter cooled': 3,\n",
       " 'sprigs basil leaves': 3,\n",
       " 'baked beans': 3,\n",
       " 'sprigs spring onion greens': 3,\n",
       " 'kaffir lime leaves lemon leaves': 3,\n",
       " 'wheat germ': 3,\n",
       " 'garlic ground paste': 3,\n",
       " 'pistachios ground': 3,\n",
       " 'eggs flax meal egg replacer': 3,\n",
       " 'bay leaves (tej patta) half': 3,\n",
       " 'sultanas': 3,\n",
       " 'green toor dal (pigeon pea)': 3,\n",
       " 'hazelnut': 3,\n",
       " 'red bell pepper (capsicum) stripes': 3,\n",
       " 'turmeric root': 3,\n",
       " 'curd beat': 3,\n",
       " 'onionfor': 3,\n",
       " 'brussel sprouts': 3,\n",
       " 'cloves garlic fine': 3,\n",
       " 'green bell pepper (capsicum) squares': 3,\n",
       " 'water bind the dough': 3,\n",
       " 'kala chana (brown chickpeas) sprouted': 3,\n",
       " 'sesame (gingelly) oil vegetable oil': 3,\n",
       " 'cowpea': 3,\n",
       " 'edible camphor (pacha karpooram)': 3,\n",
       " 'cup milk': 3,\n",
       " 'ghee fry': 3,\n",
       " 'cinnamon stick (dalchini) ground': 3,\n",
       " 'nutmeg ground': 3,\n",
       " 'seer fish': 3,\n",
       " 'britannia cheese cubes': 3,\n",
       " 'arrowroot flour': 3,\n",
       " 'green romaine lettuce': 3,\n",
       " 'red seedless grapes': 3,\n",
       " 'red grapes': 3,\n",
       " 'coconut coconut': 3,\n",
       " 'red chilli flakes black pepper powder': 3,\n",
       " ...}"
      ]
     },
     "execution_count": 653,
     "metadata": {},
     "output_type": "execute_result"
    }
   ],
   "source": [
    "dict(sorted(count.items(), key=lambda item: item[1] ,reverse=True))"
   ]
  },
  {
   "cell_type": "code",
   "execution_count": 317,
   "metadata": {},
   "outputs": [
    {
     "data": {
      "text/plain": [
       "'thai red chilli (birds eye chilli),thai red chilli (birds eye chilli)'"
      ]
     },
     "execution_count": 317,
     "metadata": {},
     "output_type": "execute_result"
    }
   ],
   "source": [
    "    text=\"thai red a chilli (birds eye chilli),thai red chilli (birds eye chilli)\"\n",
    "    text=text.split(\",\")\n",
    "    x=\"\"\n",
    "    for i in text:\n",
    "          resultwords = [word for word in i.split() if word not in stopwords]\n",
    "          result = \" \".join(resultwords)\n",
    "          x+=\",\"+result\n",
    "    text=x[1:]\n",
    "    text"
   ]
  },
  {
   "cell_type": "code",
   "execution_count": null,
   "metadata": {},
   "outputs": [],
   "source": []
  }
 ],
 "metadata": {
  "kernelspec": {
   "display_name": "Python 3",
   "language": "python",
   "name": "python3"
  },
  "language_info": {
   "codemirror_mode": {
    "name": "ipython",
    "version": 3
   },
   "file_extension": ".py",
   "mimetype": "text/x-python",
   "name": "python",
   "nbconvert_exporter": "python",
   "pygments_lexer": "ipython3",
   "version": "3.6.12"
  }
 },
 "nbformat": 4,
 "nbformat_minor": 4
}
