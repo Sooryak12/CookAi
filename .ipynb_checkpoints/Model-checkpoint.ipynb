{
 "cells": [
  {
   "cell_type": "code",
   "execution_count": 1,
   "metadata": {},
   "outputs": [],
   "source": [
    "import pandas as pd\n",
    "import numpy as np\n",
    "import  fuzzywuzzy.fuzz as fuzz"
   ]
  },
  {
   "cell_type": "code",
   "execution_count": 3,
   "metadata": {},
   "outputs": [],
   "source": [
    "import time"
   ]
  },
  {
   "cell_type": "code",
   "execution_count": 16,
   "metadata": {},
   "outputs": [],
   "source": [
    "df=pd.read_csv(\"df-en-processed.csv\")"
   ]
  },
  {
   "cell_type": "code",
   "execution_count": 153,
   "metadata": {},
   "outputs": [
    {
     "data": {
      "text/plain": [
       "array(['Kabuli Chana (White Chickpeas) Soaked Overnight, Onions in chunks, Green Bell Pepper (Capsicum) in chunks, cloves Garlic , inch Ginger , Green Chilli Slit, Tomato Pureed, Cinnamon Stick (Dalchini), Cloves (Laung), Bay leaf (tej patta), Black cardamom (Badi Elaichi), Coriander Powder (Dhania), Cumin powder (Jeera), Kashmiri Red Chilli Powder, Amchur (Dry Mango Powder), Garam masala powder, Ajwain (Carom seeds), Ghee,Salt',\n",
       "       'Gram flour (besan),Sugar (grinded) , Badam (Almond), Pistachios, Chironji, Melon seeds, Fox nuts, Fresh coconut , Ghee, Cardamom (Elaichi) PodsSeeds, Cashew nuts',\n",
       "       'Quinoa, Sugar, Cardamom Powder (Elaichi), Milk vegans can substitute this ingredient with almond milk, Condensed Milk khoya (mawa), Ghee, Saffron strands,Mixed nuts'],\n",
       "      dtype=object)"
      ]
     },
     "execution_count": 153,
     "metadata": {},
     "output_type": "execute_result"
    }
   ],
   "source": [
    "df[\"P-Ingredients\"].sample(3).values"
   ]
  },
  {
   "cell_type": "code",
   "execution_count": 48,
   "metadata": {},
   "outputs": [],
   "source": [
    "user_ingredients=\"Eggs hard & halved, Onion , Tomato , Coriander Powder (Dhania), Garam masala powder, Red Chilli powder, Cinnamon Stick (Dalchini), Cloves (Laung), Sunflower Oil,Salt , Coriander (Dhania) Seeds\""
   ]
  },
  {
   "cell_type": "code",
   "execution_count": 5,
   "metadata": {},
   "outputs": [],
   "source": [
    "ing=\"Green Amaranth Leaves , Onion , Turmeric powder (Haldi), Curd (Dahi Yogurt),Salt ,Sunflower Oil, Fresh coconut , Green Chilli, sprig Coriander (Dhania) Leaves\""
   ]
  },
  {
   "cell_type": "code",
   "execution_count": 151,
   "metadata": {},
   "outputs": [
    {
     "data": {
      "text/plain": [
       "'def Cook(user_ingredients,df1):\\n    rows=6269\\n    for b in range(rows):\\n        flag=0\\n        for j in  user_ingredients.split(\",\"):\\n              for i in df1.loc[b,\"P-Ingredients\"].split(\",\"):\\n                if fuzz.token_set_ratio(i,j)>80:\\n                        flag=flag+1\\n                        break                                 \\n        df1.loc[b,\"flag\"]=flag\\n   # final_df=df1.sort_values(by=\"flag\",ascending=False).head(10)\\n    return df1\\n    '"
      ]
     },
     "execution_count": 151,
     "metadata": {},
     "output_type": "execute_result"
    }
   ],
   "source": [
    "\"\"\"def Cook(user_ingredients,df1):\n",
    "    rows=6269\n",
    "    for b in range(rows):\n",
    "        flag=0\n",
    "        for j in  user_ingredients.split(\",\"):\n",
    "              for i in df1.loc[b,\"P-Ingredients\"].split(\",\"):\n",
    "                if fuzz.token_set_ratio(i,j)>80:\n",
    "                        flag=flag+1\n",
    "                        break                                 \n",
    "        df1.loc[b,\"flag\"]=flag\n",
    "   # final_df=df1.sort_values(by=\"flag\",ascending=False).head(10)\n",
    "    return df1\n",
    "    \"\"\""
   ]
  },
  {
   "cell_type": "code",
   "execution_count": 24,
   "metadata": {},
   "outputs": [
    {
     "name": "stdout",
     "output_type": "stream",
     "text": [
      "-26.411508321762085\n"
     ]
    }
   ],
   "source": [
    "start=time.time()\n",
    "d=Cook(ing,df)\n",
    "end=time.time()\n",
    "print(start-end)"
   ]
  },
  {
   "cell_type": "code",
   "execution_count": 26,
   "metadata": {},
   "outputs": [
    {
     "data": {
      "text/plain": [
       "2     1086\n",
       "1     1049\n",
       "3      897\n",
       "4      795\n",
       "0      675\n",
       "5      636\n",
       "6      484\n",
       "7      332\n",
       "8      222\n",
       "9       81\n",
       "10      18\n",
       "11       1\n",
       "Name: flag, dtype: int64"
      ]
     },
     "execution_count": 26,
     "metadata": {},
     "output_type": "execute_result"
    }
   ],
   "source": [
    "d[\"flag\"].value_counts("
   ]
  },
  {
   "cell_type": "code",
   "execution_count": 47,
   "metadata": {},
   "outputs": [],
   "source": [
    "df=pd.read_csv(\"df-en-processed.csv\")"
   ]
  },
  {
   "cell_type": "code",
   "execution_count": 137,
   "metadata": {},
   "outputs": [],
   "source": [
    "user_ingredients=\"Green Amaranth Leaves , Onion , Turmeric powder (Haldi), Curd (Dahi Yogurt),Salt ,Sunflower Oil, Fresh coconut , Green Chilli, sprig Coriander (Dhania) Leaves,Sunflower Oil\""
   ]
  },
  {
   "cell_type": "code",
   "execution_count": 141,
   "metadata": {},
   "outputs": [
    {
     "name": "stdout",
     "output_type": "stream",
     "text": [
      "Salt \n",
      " Green Chilli\n",
      "Sunflower Oil\n",
      "Green Amaranth Leaves \n",
      " Fresh coconut \n",
      " sprig Coriander (Dhania) Leaves\n",
      " Onion \n",
      " Curd (Dahi Yogurt)\n",
      " Turmeric powder (Haldi)\n"
     ]
    }
   ],
   "source": [
    "for i in set(user_ingredients.split(\",\")):\n",
    "    print(i)"
   ]
  },
  {
   "cell_type": "code",
   "execution_count": 150,
   "metadata": {},
   "outputs": [],
   "source": [
    "user_ingredients=\"Eggs hard & halved, Onion , Tomato , Coriander Powder (Dhania), Garam masala powder, Red Chilli powder, Cinnamon Stick (Dalchini), Cloves (Laung), Sunflower Oil,Salt , Coriander (Dhania) Seeds\""
   ]
  },
  {
   "cell_type": "code",
   "execution_count": 143,
   "metadata": {},
   "outputs": [],
   "source": [
    "def Cook2(Pingredients):    \n",
    "    \"Comparing the Recipe Ingredients and User Ingredients and decreasing count value for each Recipe ingredient missing.\\\n",
    "     Count describes the no. of ingredients missing from user ingredients to make that recipe.\"\n",
    "        flag,count=0,0\n",
    "        for i in set(Pingredients.split(\",\")):\n",
    "            for j in  user_ingredients.split(\",\"):\n",
    "                if fuzz.token_set_ratio(i,j)>80:                    \n",
    "                    flag=1 \n",
    "                    break\n",
    "            if (flag==0):\n",
    "                count-=1\n",
    "            else:\n",
    "                flag=0\n",
    "        return count"
   ]
  },
  {
   "cell_type": "code",
   "execution_count": 144,
   "metadata": {},
   "outputs": [
    {
     "name": "stdout",
     "output_type": "stream",
     "text": [
      "21.186512231826782\n"
     ]
    }
   ],
   "source": [
    "start=time.time()\n",
    "df[\"flag\"]=df[\"P-Ingredients\"].apply(Cook2)\n",
    "end=time.time()\n",
    "print(end-start)"
   ]
  },
  {
   "cell_type": "code",
   "execution_count": 145,
   "metadata": {},
   "outputs": [
    {
     "data": {
      "text/plain": [
       "-8     792\n",
       "-7     713\n",
       "-6     658\n",
       "-9     637\n",
       "-10    613\n",
       "-5     518\n",
       "-11    479\n",
       "-12    386\n",
       "-4     293\n",
       "-13    281\n",
       "-14    185\n",
       "-3     160\n",
       "-15    149\n",
       "-16     91\n",
       "-17     75\n",
       "-2      60\n",
       "-18     53\n",
       "-19     38\n",
       "-20     22\n",
       "-22     20\n",
       "-21     19\n",
       "-1      11\n",
       "-26      5\n",
       "-24      5\n",
       "-27      3\n",
       "-23      3\n",
       "-28      2\n",
       "-25      2\n",
       "-31      1\n",
       "-30      1\n",
       " 0       1\n",
       "Name: flag, dtype: int64"
      ]
     },
     "execution_count": 145,
     "metadata": {},
     "output_type": "execute_result"
    }
   ],
   "source": [
    "df[\"flag\"].value_counts()"
   ]
  },
  {
   "cell_type": "code",
   "execution_count": 146,
   "metadata": {},
   "outputs": [
    {
     "data": {
      "text/plain": [
       "1417    Broken Raw Rice (Sona Masuri any local rice), ...\n",
       "1608    Green Chillies, Curd (Dahi Yogurt) thick, Wate...\n",
       "1610     Condensed Milk, Curd (Dahi Yogurt) thick whisked\n",
       "1738    Green Chillies, Turmeric powder (Haldi), Salt,...\n",
       "2235    Wheat Flour, Curd (Dahi Yogurt),Salt ,Sunflowe...\n",
       "3766                                        Sprouted Ragi\n",
       "4125                       Egg, Sunflower Oil,Salt Pepper\n",
       "4194    Red matta rice Basmati Rice, Fresh coconut , Salt\n",
       "5173    Rice soaked to hours,Sunflower Oil drizzling,Salt\n",
       "5463    Mooli Mullangi (Radish) , Coriander (Dhania) L...\n",
       "5743    Nendra Pazham Banana (Ripe),Sunflower Oil to c...\n",
       "Name: P-Ingredients, dtype: object"
      ]
     },
     "execution_count": 146,
     "metadata": {},
     "output_type": "execute_result"
    }
   ],
   "source": [
    "df[df[\"flag\"]==-1][\"P-Ingredients\"]"
   ]
  },
  {
   "cell_type": "code",
   "execution_count": 147,
   "metadata": {},
   "outputs": [
    {
     "data": {
      "text/plain": [
       "array(['Broken Raw Rice (Sona Masuri any local rice), Fresh coconut ,Salt ,Sunflower Oil to grease the pan'],\n",
       "      dtype=object)"
      ]
     },
     "execution_count": 147,
     "metadata": {},
     "output_type": "execute_result"
    }
   ],
   "source": [
    "df.loc[1417,[\"P-Ingredients\"]].values#,\"TranslatedRecipeName\"]]"
   ]
  },
  {
   "cell_type": "code",
   "execution_count": 136,
   "metadata": {},
   "outputs": [
    {
     "data": {
      "text/plain": [
       "'5743,5173,4846,4125,3766,422,80,442,583,4994,5466,5463,5440,5383,5374,4994,1571,3311,3222,2305,1571,605,423'"
      ]
     },
     "execution_count": 136,
     "metadata": {},
     "output_type": "execute_result"
    }
   ],
   "source": [
    "\"5743,5173,4846,4125,3766,422,80,442,583,4994,5466,5463,5440,5383,5374,4994,1571,3311,3222,2305,1571,605,423\""
   ]
  },
  {
   "cell_type": "code",
   "execution_count": 152,
   "metadata": {},
   "outputs": [
    {
     "name": "stdout",
     "output_type": "stream",
     "text": [
      "Help on method drop in module pandas.core.frame:\n",
      "\n",
      "drop(labels=None, axis=0, index=None, columns=None, level=None, inplace=False, errors='raise') method of pandas.core.frame.DataFrame instance\n",
      "    Drop specified labels from rows or columns.\n",
      "    \n",
      "    Remove rows or columns by specifying label names and corresponding\n",
      "    axis, or by specifying directly index or column names. When using a\n",
      "    multi-index, labels on different levels can be removed by specifying\n",
      "    the level.\n",
      "    \n",
      "    Parameters\n",
      "    ----------\n",
      "    labels : single label or list-like\n",
      "        Index or column labels to drop.\n",
      "    axis : {0 or 'index', 1 or 'columns'}, default 0\n",
      "        Whether to drop labels from the index (0 or 'index') or\n",
      "        columns (1 or 'columns').\n",
      "    index : single label or list-like\n",
      "        Alternative to specifying axis (``labels, axis=0``\n",
      "        is equivalent to ``index=labels``).\n",
      "    columns : single label or list-like\n",
      "        Alternative to specifying axis (``labels, axis=1``\n",
      "        is equivalent to ``columns=labels``).\n",
      "    level : int or level name, optional\n",
      "        For MultiIndex, level from which the labels will be removed.\n",
      "    inplace : bool, default False\n",
      "        If False, return a copy. Otherwise, do operation\n",
      "        inplace and return None.\n",
      "    errors : {'ignore', 'raise'}, default 'raise'\n",
      "        If 'ignore', suppress error and only existing labels are\n",
      "        dropped.\n",
      "    \n",
      "    Returns\n",
      "    -------\n",
      "    DataFrame\n",
      "        DataFrame without the removed index or column labels.\n",
      "    \n",
      "    Raises\n",
      "    ------\n",
      "    KeyError\n",
      "        If any of the labels is not found in the selected axis.\n",
      "    \n",
      "    See Also\n",
      "    --------\n",
      "    DataFrame.loc : Label-location based indexer for selection by label.\n",
      "    DataFrame.dropna : Return DataFrame with labels on given axis omitted\n",
      "        where (all or any) data are missing.\n",
      "    DataFrame.drop_duplicates : Return DataFrame with duplicate rows\n",
      "        removed, optionally only considering certain columns.\n",
      "    Series.drop : Return Series with specified index labels removed.\n",
      "    \n",
      "    Examples\n",
      "    --------\n",
      "    >>> df = pd.DataFrame(np.arange(12).reshape(3, 4),\n",
      "    ...                   columns=['A', 'B', 'C', 'D'])\n",
      "    >>> df\n",
      "       A  B   C   D\n",
      "    0  0  1   2   3\n",
      "    1  4  5   6   7\n",
      "    2  8  9  10  11\n",
      "    \n",
      "    Drop columns\n",
      "    \n",
      "    >>> df.drop(['B', 'C'], axis=1)\n",
      "       A   D\n",
      "    0  0   3\n",
      "    1  4   7\n",
      "    2  8  11\n",
      "    \n",
      "    >>> df.drop(columns=['B', 'C'])\n",
      "       A   D\n",
      "    0  0   3\n",
      "    1  4   7\n",
      "    2  8  11\n",
      "    \n",
      "    Drop a row by index\n",
      "    \n",
      "    >>> df.drop([0, 1])\n",
      "       A  B   C   D\n",
      "    2  8  9  10  11\n",
      "    \n",
      "    Drop columns and/or rows of MultiIndex DataFrame\n",
      "    \n",
      "    >>> midx = pd.MultiIndex(levels=[['lama', 'cow', 'falcon'],\n",
      "    ...                              ['speed', 'weight', 'length']],\n",
      "    ...                      codes=[[0, 0, 0, 1, 1, 1, 2, 2, 2],\n",
      "    ...                             [0, 1, 2, 0, 1, 2, 0, 1, 2]])\n",
      "    >>> df = pd.DataFrame(index=midx, columns=['big', 'small'],\n",
      "    ...                   data=[[45, 30], [200, 100], [1.5, 1], [30, 20],\n",
      "    ...                         [250, 150], [1.5, 0.8], [320, 250],\n",
      "    ...                         [1, 0.8], [0.3, 0.2]])\n",
      "    >>> df\n",
      "                    big     small\n",
      "    lama    speed   45.0    30.0\n",
      "            weight  200.0   100.0\n",
      "            length  1.5     1.0\n",
      "    cow     speed   30.0    20.0\n",
      "            weight  250.0   150.0\n",
      "            length  1.5     0.8\n",
      "    falcon  speed   320.0   250.0\n",
      "            weight  1.0     0.8\n",
      "            length  0.3     0.2\n",
      "    \n",
      "    >>> df.drop(index='cow', columns='small')\n",
      "                    big\n",
      "    lama    speed   45.0\n",
      "            weight  200.0\n",
      "            length  1.5\n",
      "    falcon  speed   320.0\n",
      "            weight  1.0\n",
      "            length  0.3\n",
      "    \n",
      "    >>> df.drop(index='length', level=1)\n",
      "                    big     small\n",
      "    lama    speed   45.0    30.0\n",
      "            weight  200.0   100.0\n",
      "    cow     speed   30.0    20.0\n",
      "            weight  250.0   150.0\n",
      "    falcon  speed   320.0   250.0\n",
      "            weight  1.0     0.8\n",
      "\n"
     ]
    }
   ],
   "source": [
    "help(df.drop)"
   ]
  },
  {
   "cell_type": "code",
   "execution_count": null,
   "metadata": {},
   "outputs": [],
   "source": []
  }
 ],
 "metadata": {
  "kernelspec": {
   "display_name": "Python 3",
   "language": "python",
   "name": "python3"
  },
  "language_info": {
   "codemirror_mode": {
    "name": "ipython",
    "version": 3
   },
   "file_extension": ".py",
   "mimetype": "text/x-python",
   "name": "python",
   "nbconvert_exporter": "python",
   "pygments_lexer": "ipython3",
   "version": "3.6.12"
  }
 },
 "nbformat": 4,
 "nbformat_minor": 4
}
