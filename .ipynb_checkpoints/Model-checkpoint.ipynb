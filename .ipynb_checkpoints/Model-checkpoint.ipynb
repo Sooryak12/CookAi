{
 "cells": [
  {
   "cell_type": "code",
   "execution_count": 1,
   "metadata": {},
   "outputs": [],
   "source": [
    "import pandas as pd\n",
    "import numpy as np\n",
    "import fuzzywuzzy.fuzz as fuzz\n",
    "import time"
   ]
  },
  {
   "cell_type": "code",
   "execution_count": 26,
   "metadata": {},
   "outputs": [],
   "source": [
    "df=pd.read_csv(\"df-en-processed.csv\")"
   ]
  },
  {
   "cell_type": "code",
   "execution_count": 153,
   "metadata": {},
   "outputs": [
    {
     "data": {
      "text/plain": [
       "array(['Kabuli Chana (White Chickpeas) Soaked Overnight, Onions in chunks, Green Bell Pepper (Capsicum) in chunks, cloves Garlic , inch Ginger , Green Chilli Slit, Tomato Pureed, Cinnamon Stick (Dalchini), Cloves (Laung), Bay leaf (tej patta), Black cardamom (Badi Elaichi), Coriander Powder (Dhania), Cumin powder (Jeera), Kashmiri Red Chilli Powder, Amchur (Dry Mango Powder), Garam masala powder, Ajwain (Carom seeds), Ghee,Salt',\n",
       "       'Gram flour (besan),Sugar (grinded) , Badam (Almond), Pistachios, Chironji, Melon seeds, Fox nuts, Fresh coconut , Ghee, Cardamom (Elaichi) PodsSeeds, Cashew nuts',\n",
       "       'Quinoa, Sugar, Cardamom Powder (Elaichi), Milk vegans can substitute this ingredient with almond milk, Condensed Milk khoya (mawa), Ghee, Saffron strands,Mixed nuts'],\n",
       "      dtype=object)"
      ]
     },
     "execution_count": 153,
     "metadata": {},
     "output_type": "execute_result"
    }
   ],
   "source": [
    "df[\"P-Ingredients\"].sample(3).values"
   ]
  },
  {
   "cell_type": "code",
   "execution_count": 23,
   "metadata": {},
   "outputs": [],
   "source": [
    "user_ingredients=\"Eggs hard & halved, Onion , Tomato , Coriander Powder (Dhania), Garam masala powder, Red Chilli powder, Cinnamon Stick (Dalchini), Cloves (Laung), Sunflower Oil,Salt , Coriander (Dhania) Seeds\""
   ]
  },
  {
   "cell_type": "code",
   "execution_count": 34,
   "metadata": {},
   "outputs": [],
   "source": [
    "def Cook2(Pingredients):    \n",
    "        \"Comparing the Recipe Ingredients and User Ingredients and decreasing count value for each Recipe ingredient missing.\\\n",
    "        Count describes the no. of ingredients missing from user ingredients to make that recipe.\"\n",
    "        flag,count=0,0\n",
    "        for i in set(Pingredients.split(\",\")):\n",
    "            for j in  user_ingredients.split(\",\"):\n",
    "                if fuzz.token_set_ratio(i,j)>80:                    \n",
    "                    flag=1 \n",
    "                    break\n",
    "            if (flag==0):\n",
    "                count-=1\n",
    "            else:\n",
    "                flag=0\n",
    "        return count"
   ]
  },
  {
   "cell_type": "code",
   "execution_count": 35,
   "metadata": {},
   "outputs": [
    {
     "name": "stdout",
     "output_type": "stream",
     "text": [
      "13.805257320404053\n"
     ]
    }
   ],
   "source": [
    "start=time.time()\n",
    "df[\"flag\"]=df[\"P-Ingredients\"].apply(Cook2)\n",
    "end=time.time()\n",
    "print(end-start)"
   ]
  },
  {
   "cell_type": "code",
   "execution_count": 36,
   "metadata": {},
   "outputs": [
    {
     "data": {
      "text/plain": [
       "-10    578\n",
       "-11    567\n",
       "-9     567\n",
       "-12    517\n",
       "-13    498\n",
       "-8     452\n",
       "-14    410\n",
       "-7     387\n",
       "-15    345\n",
       "-6     335\n",
       "-16    275\n",
       "-5     230\n",
       "-17    194\n",
       "-4     173\n",
       "-18    168\n",
       "-3     109\n",
       "-19    100\n",
       "-20     74\n",
       "-22     58\n",
       "-21     53\n",
       "-2      38\n",
       "-23     32\n",
       "-24     27\n",
       "-25     22\n",
       "-26     15\n",
       "-1       8\n",
       "-28      7\n",
       "-27      4\n",
       "-29      4\n",
       "-30      4\n",
       "-33      3\n",
       " 0       1\n",
       "Name: flag, dtype: int64"
      ]
     },
     "execution_count": 36,
     "metadata": {},
     "output_type": "execute_result"
    }
   ],
   "source": [
    "df[\"flag\"].value_counts()"
   ]
  },
  {
   "cell_type": "code",
   "execution_count": 41,
   "metadata": {},
   "outputs": [
    {
     "data": {
      "text/plain": [
       "2618    Fresh coconut , Jaggery crumbled, Cardamom Pow...\n",
       "3868    Walnuts, Sugar, Ghee, Cardamom (Elaichi) PodsS...\n",
       "3906    Idli dosa mixture sesame oil ghee, per the exp...\n",
       "4271               Gram flour (besan), Ghee, Sugar, Water\n",
       "4495    Gram flour (besan),Sugar (grinded) , Badam (Al...\n",
       "4902                    Badam (Almond), Milk, Sugar, Ghee\n",
       "5169    Mango Pulp (Puree), Sugar, Ghee greasing, Card...\n",
       "5713    Gram flour (besan), Ghee, Sugar, Water, Cardam...\n",
       "Name: P-Ingredients, dtype: object"
      ]
     },
     "execution_count": 41,
     "metadata": {},
     "output_type": "execute_result"
    }
   ],
   "source": [
    "df[df[\"flag\"]==-1][\"P-Ingredients\"]"
   ]
  },
  {
   "cell_type": "code",
   "execution_count": 40,
   "metadata": {},
   "outputs": [
    {
     "data": {
      "text/plain": [
       "'Gram flour (besan),Sugar (grinded) , Badam (Almond), Pistachios, Chironji, Melon seeds, Fox nuts, Fresh coconut , Ghee, Cardamom (Elaichi) PodsSeeds'"
      ]
     },
     "execution_count": 40,
     "metadata": {},
     "output_type": "execute_result"
    }
   ],
   "source": [
    "user_ingredients"
   ]
  },
  {
   "cell_type": "code",
   "execution_count": 42,
   "metadata": {},
   "outputs": [
    {
     "data": {
      "text/plain": [
       "array(['Gram flour (besan),Sugar (grinded) , Badam (Almond), Pistachios, Chironji, Melon seeds, Fox nuts, Fresh coconut , Ghee, Cardamom (Elaichi) PodsSeeds, Cashew nuts'],\n",
       "      dtype=object)"
      ]
     },
     "execution_count": 42,
     "metadata": {},
     "output_type": "execute_result"
    }
   ],
   "source": [
    "df.loc[4495,[\"P-Ingredients\"]].values#,\"TranslatedRecipeName\"]]"
   ]
  },
  {
   "cell_type": "code",
   "execution_count": 46,
   "metadata": {},
   "outputs": [
    {
     "data": {
      "text/plain": [
       "315      0\n",
       "5169    -1\n",
       "2618    -1\n",
       "4902    -1\n",
       "4271    -1\n",
       "        ..\n",
       "950    -30\n",
       "5260   -30\n",
       "1329   -33\n",
       "4163   -33\n",
       "151    -33\n",
       "Name: flag, Length: 6255, dtype: int64"
      ]
     },
     "execution_count": 46,
     "metadata": {},
     "output_type": "execute_result"
    }
   ],
   "source": [
    "Cookdf=df.sort_values(by=\"flag\",ascending=False).head(10)"
   ]
  },
  {
   "cell_type": "markdown",
   "metadata": {},
   "source": [
    "### Model:"
   ]
  },
  {
   "cell_type": "code",
   "execution_count": null,
   "metadata": {},
   "outputs": [],
   "source": [
    "def CookMan(df,user_ingredients):\n",
    "    def Cook2(Pingredients):    \n",
    "        \"Comparing the Recipe Ingredients and User Ingredients and decreasing count value for each Recipe ingredient missing.\\\n",
    "        Count describes the no. of ingredients missing from user ingredients to make that recipe.\"\n",
    "        flag,count=0,0\n",
    "        for i in set(Pingredients.split(\",\")):\n",
    "            for j in  user_ingredients.split(\",\"):\n",
    "                if fuzz.token_set_ratio(i,j)>80:                    \n",
    "                    flag=1 \n",
    "                    break\n",
    "            if (flag==0):\n",
    "                count-=1\n",
    "            else:\n",
    "                flag=0\n",
    "        return count\n",
    "    df[\"flag\"]=df[\"P-Ingredients\"].apply(Cook2)\n",
    "    Cookdf=df.sort_values(by=\"flag\",ascending=False).head(10)\n",
    "    def Missing(Pingredients):\n",
    "        flag=0\n",
    "        miss=\"\"\n",
    "        for i in set(Pingredients.split(\",\")):\n",
    "            for j in  user_ingredients.split(\",\"):\n",
    "                if fuzz.token_set_ratio(i,j)>80:                    \n",
    "                    flag=1 \n",
    "                    break\n",
    "            if (flag==0):\n",
    "                miss+=i+\",\"\n",
    "                \n",
    "            else:\n",
    "                flag=0\n",
    "        miss = miss[:-1]+\".\"\n",
    "        return miss\n",
    "    Cookdf[\"Missing\"]=Cookdf[\"P-Ingredients\"].apply(Missing)\n",
    "    return Cookdf    "
   ]
  },
  {
   "cell_type": "markdown",
   "metadata": {},
   "source": [
    "# Full Code"
   ]
  },
  {
   "cell_type": "code",
   "execution_count": 43,
   "metadata": {},
   "outputs": [],
   "source": [
    "import pandas as pd\n",
    "import numpy as np\n",
    "import fuzzywuzzy.fuzz as fuzz\n",
    "\n",
    "df=pd.read_csv(\"df-en-processed.csv\")\n",
    "user_ingredients=\"Eggs hard & halved, Onion , Tomato , Coriander Powder (Dhania), Garam masala powder, Red Chilli powder, \\\n",
    "Cinnamon Stick (Dalchini), Cloves (Laung), Sunflower Oil,Salt , Coriander (Dhania) Seeds\"\n",
    "\n",
    "def Cookman(df,user_ingredients):\n",
    "    def Cook2(Pingredients):    \n",
    "        \"Comparing the Recipe Ingredients and User Ingredients and decreasing count value for each Recipe ingredient missing.\\\n",
    "        Count describes the no. of ingredients missing from user ingredients to make that recipe.\"\n",
    "        flag,count=0,0\n",
    "        for i in set(Pingredients.split(\",\")):\n",
    "            for j in  user_ingredients.split(\",\"):\n",
    "                if fuzz.token_set_ratio(i,j)>80:                    \n",
    "                    flag=1 \n",
    "                    break\n",
    "            if (flag==0):\n",
    "                count-=1\n",
    "            else:\n",
    "                flag=0\n",
    "        return count\n",
    "    df[\"flag\"]=df[\"P-Ingredients\"].apply(Cook2)\n",
    "    Cookdf=df.sort_values(by=\"flag\",ascending=False).head(10)\n",
    "    def Missing(Pingredients):\n",
    "        flag=0\n",
    "        miss=\"\"\n",
    "        for i in set(Pingredients.split(\",\")):\n",
    "            for j in  user_ingredients.split(\",\"):\n",
    "                if fuzz.token_set_ratio(i,j)>80:                    \n",
    "                    flag=1 \n",
    "                    break\n",
    "            if (flag==0):\n",
    "                miss+=i+\",\"\n",
    "                \n",
    "            else:\n",
    "                flag=0\n",
    "        miss = miss[:-1]+\".\"\n",
    "        return miss\n",
    "    Cookdf[\"Missing\"]=Cookdf[\"P-Ingredients\"].apply(Missing)\n",
    "    return Cookdf\n",
    "\n",
    "Cookdf=Cookman(df,user_ingredients)"
   ]
  },
  {
   "cell_type": "code",
   "execution_count": 44,
   "metadata": {},
   "outputs": [
    {
     "data": {
      "text/html": [
       "<div>\n",
       "<style scoped>\n",
       "    .dataframe tbody tr th:only-of-type {\n",
       "        vertical-align: middle;\n",
       "    }\n",
       "\n",
       "    .dataframe tbody tr th {\n",
       "        vertical-align: top;\n",
       "    }\n",
       "\n",
       "    .dataframe thead th {\n",
       "        text-align: right;\n",
       "    }\n",
       "</style>\n",
       "<table border=\"1\" class=\"dataframe\">\n",
       "  <thead>\n",
       "    <tr style=\"text-align: right;\">\n",
       "      <th></th>\n",
       "      <th>TranslatedRecipeName</th>\n",
       "      <th>TranslatedIngredients</th>\n",
       "      <th>PrepTimeInMins</th>\n",
       "      <th>CookTimeInMins</th>\n",
       "      <th>TotalTimeInMins</th>\n",
       "      <th>Servings</th>\n",
       "      <th>Cuisine</th>\n",
       "      <th>Course</th>\n",
       "      <th>Diet</th>\n",
       "      <th>TranslatedInstructions</th>\n",
       "      <th>URL</th>\n",
       "      <th>lang</th>\n",
       "      <th>P-Ingredients</th>\n",
       "      <th>flag</th>\n",
       "      <th>instruc-lang</th>\n",
       "      <th>Missing</th>\n",
       "    </tr>\n",
       "  </thead>\n",
       "  <tbody>\n",
       "    <tr>\n",
       "      <th>2496</th>\n",
       "      <td>Multa Black Arabic Recipe (Arabic Gravy Steele)</td>\n",
       "      <td>500 grams Colocasia root (Arbi),Sunflower Oil ...</td>\n",
       "      <td>10</td>\n",
       "      <td>30</td>\n",
       "      <td>40</td>\n",
       "      <td>4</td>\n",
       "      <td>North Indian Recipes</td>\n",
       "      <td>Lunch</td>\n",
       "      <td>Vegetarian</td>\n",
       "      <td>To begin making the Multani Kaali Arbi Recipe,...</td>\n",
       "      <td>http://www.archanaskitchen.com/multani-kaali-a...</td>\n",
       "      <td>en</td>\n",
       "      <td>Colocasia root (Arbi),Sunflower Oil ,Salt , Re...</td>\n",
       "      <td>-1</td>\n",
       "      <td>en</td>\n",
       "      <td>Colocasia root (Arbi).</td>\n",
       "    </tr>\n",
       "    <tr>\n",
       "      <th>1138</th>\n",
       "      <td>Crispy Crunchy Roti Ke Papad Recipe</td>\n",
       "      <td>4 Tawa Paratha - or rotis leftover,Sunflower O...</td>\n",
       "      <td>0</td>\n",
       "      <td>45</td>\n",
       "      <td>45</td>\n",
       "      <td>4</td>\n",
       "      <td>Indian</td>\n",
       "      <td>Snack</td>\n",
       "      <td>Vegetarian</td>\n",
       "      <td>To begin making the Crispy Crunchy Roti Ke Pap...</td>\n",
       "      <td>http://www.archanaskitchen.com/crispy-crunchy-...</td>\n",
       "      <td>en</td>\n",
       "      <td>Tawa Paratha rotis leftover,Sunflower Oil , Ch...</td>\n",
       "      <td>-1</td>\n",
       "      <td>en</td>\n",
       "      <td>Tawa Paratha rotis leftover.</td>\n",
       "    </tr>\n",
       "    <tr>\n",
       "      <th>3793</th>\n",
       "      <td>Tawa Paratha Recipe - Plain Paratha</td>\n",
       "      <td>1 cup Whole Wheat Flour,1/2 teaspoon Salt,Sunf...</td>\n",
       "      <td>20</td>\n",
       "      <td>20</td>\n",
       "      <td>40</td>\n",
       "      <td>4</td>\n",
       "      <td>North Indian Recipes</td>\n",
       "      <td>Main Course</td>\n",
       "      <td>Vegetarian</td>\n",
       "      <td>To begin making the Tawa Paratha, in a large b...</td>\n",
       "      <td>http://www.archanaskitchen.com/plain-paratha-t...</td>\n",
       "      <td>en</td>\n",
       "      <td>Wheat Flour, Salt,Sunflower Oil kneading,Ghee ...</td>\n",
       "      <td>-2</td>\n",
       "      <td>en</td>\n",
       "      <td>Ghee oil cooking (),Wheat Flour.</td>\n",
       "    </tr>\n",
       "    <tr>\n",
       "      <th>580</th>\n",
       "      <td>Tomato Noodle Soup Recipe</td>\n",
       "      <td>4 tomatoes - chopped, 2 onions, 1 tablespoon o...</td>\n",
       "      <td>10</td>\n",
       "      <td>30</td>\n",
       "      <td>40</td>\n",
       "      <td>2</td>\n",
       "      <td>Fusion</td>\n",
       "      <td>Dinner</td>\n",
       "      <td>Vegetarian</td>\n",
       "      <td>To make tomato noodle soup recipe, first boil ...</td>\n",
       "      <td>https://www.archanaskitchen.com/tomato-noodle-...</td>\n",
       "      <td>en</td>\n",
       "      <td>tomatoes , onions, olive oil, salt according ,...</td>\n",
       "      <td>-2</td>\n",
       "      <td>en</td>\n",
       "      <td>black pepper powderof Hakka noodles, olive oil.</td>\n",
       "    </tr>\n",
       "    <tr>\n",
       "      <th>2151</th>\n",
       "      <td>Tawa Tandoori Roti Recipe</td>\n",
       "      <td>2 cups Whole Wheat Flour,1/4 cup Curd (Dahi / ...</td>\n",
       "      <td>30</td>\n",
       "      <td>30</td>\n",
       "      <td>60</td>\n",
       "      <td>4</td>\n",
       "      <td>North Indian Recipes</td>\n",
       "      <td>Lunch</td>\n",
       "      <td>Vegetarian</td>\n",
       "      <td>To begin making the Tawa Tandoori Roti Recipe,...</td>\n",
       "      <td>https://www.archanaskitchen.com/tawa-tandoori-...</td>\n",
       "      <td>en</td>\n",
       "      <td>Wheat Flour, Curd (Dahi Yogurt),Salt ,Sunflowe...</td>\n",
       "      <td>-2</td>\n",
       "      <td>en</td>\n",
       "      <td>Wheat Flour, Curd (Dahi Yogurt).</td>\n",
       "    </tr>\n",
       "    <tr>\n",
       "      <th>3721</th>\n",
       "      <td>Homemade Soft Idli (Recipe In Hindi)</td>\n",
       "      <td>Idli dosa mixture - sesame oil - or ghee, as p...</td>\n",
       "      <td>480</td>\n",
       "      <td>20</td>\n",
       "      <td>500</td>\n",
       "      <td>4</td>\n",
       "      <td>South Indian Recipes</td>\n",
       "      <td>South Indian Breakfast</td>\n",
       "      <td>High Protein Vegetarian</td>\n",
       "      <td>To make idli, firstly apply a little sesame oi...</td>\n",
       "      <td>https://www.archanaskitchen.com/homemade-soft-...</td>\n",
       "      <td>en</td>\n",
       "      <td>Idli dosa mixture sesame oil ghee, per the exp...</td>\n",
       "      <td>-2</td>\n",
       "      <td>en</td>\n",
       "      <td>Idli dosa mixture sesame oil ghee, per the exp...</td>\n",
       "    </tr>\n",
       "    <tr>\n",
       "      <th>4366</th>\n",
       "      <td>Ujju Rotti Recipe (Indian Rice Flat Bread)</td>\n",
       "      <td>1 cup Rice flour,1-1/2 cups Water,Salt - to ta...</td>\n",
       "      <td>20</td>\n",
       "      <td>30</td>\n",
       "      <td>50</td>\n",
       "      <td>2</td>\n",
       "      <td>Indian</td>\n",
       "      <td>Indian Breakfast</td>\n",
       "      <td>Gluten Free</td>\n",
       "      <td>To prepare Ujju Rotti Recipe (Indian Rice Flat...</td>\n",
       "      <td>http://www.archanaskitchen.com/ujju-rotti-reci...</td>\n",
       "      <td>en</td>\n",
       "      <td>Rice flour, Water,Salt , Sunflower Oil</td>\n",
       "      <td>-2</td>\n",
       "      <td>en</td>\n",
       "      <td>Rice flour, Water.</td>\n",
       "    </tr>\n",
       "    <tr>\n",
       "      <th>1555</th>\n",
       "      <td>Instant Palkova Recipe (Milk Based Sweet Recipe)</td>\n",
       "      <td>400 grams Condensed Milk,2 tablespoons Curd (D...</td>\n",
       "      <td>10</td>\n",
       "      <td>20</td>\n",
       "      <td>30</td>\n",
       "      <td>2</td>\n",
       "      <td>Tamil Nadu</td>\n",
       "      <td>Dessert</td>\n",
       "      <td>Vegetarian</td>\n",
       "      <td>To prepare this easy Instant Palkova Recipe, t...</td>\n",
       "      <td>http://www.archanaskitchen.com/instant-palkova...</td>\n",
       "      <td>en</td>\n",
       "      <td>Condensed Milk, Curd (Dahi Yogurt) thick whisked</td>\n",
       "      <td>-2</td>\n",
       "      <td>en</td>\n",
       "      <td>Curd (Dahi Yogurt) thick whisked,Condensed Milk.</td>\n",
       "    </tr>\n",
       "    <tr>\n",
       "      <th>4183</th>\n",
       "      <td>Jhurre Jhule Aloo Bhaja Recipe</td>\n",
       "      <td>2 Potatoes (Aloo),20 Curry leaves,1/2 teaspoon...</td>\n",
       "      <td>10</td>\n",
       "      <td>20</td>\n",
       "      <td>30</td>\n",
       "      <td>3</td>\n",
       "      <td>Bengali Recipes</td>\n",
       "      <td>Snack</td>\n",
       "      <td>Vegetarian</td>\n",
       "      <td>To begin making Jhure Jhure Aloo Bhaja recipe,...</td>\n",
       "      <td>https://www.archanaskitchen.com/jhure-jhure-al...</td>\n",
       "      <td>en</td>\n",
       "      <td>Potatoes (Aloo), Curry leaves, Red Chilli powd...</td>\n",
       "      <td>-2</td>\n",
       "      <td>en</td>\n",
       "      <td>Curry leaves,Potatoes (Aloo).</td>\n",
       "    </tr>\n",
       "    <tr>\n",
       "      <th>1374</th>\n",
       "      <td>Mangalorean Neer Dosa Recipe-Savory Rice &amp; Coc...</td>\n",
       "      <td>2 cups Broken Raw Rice - (Sona Masuri or any l...</td>\n",
       "      <td>20</td>\n",
       "      <td>30</td>\n",
       "      <td>50</td>\n",
       "      <td>4</td>\n",
       "      <td>Mangalorean</td>\n",
       "      <td>South Indian Breakfast</td>\n",
       "      <td>Vegetarian</td>\n",
       "      <td>To begin making the Mangalorean Neer Dosa Reci...</td>\n",
       "      <td>https://www.archanaskitchen.com/magalorean-nee...</td>\n",
       "      <td>en</td>\n",
       "      <td>Broken Raw Rice (Sona Masuri any local rice), ...</td>\n",
       "      <td>-2</td>\n",
       "      <td>en</td>\n",
       "      <td>Fresh coconut ,Broken Raw Rice (Sona Masuri a...</td>\n",
       "    </tr>\n",
       "  </tbody>\n",
       "</table>\n",
       "</div>"
      ],
      "text/plain": [
       "                                   TranslatedRecipeName  \\\n",
       "2496    Multa Black Arabic Recipe (Arabic Gravy Steele)   \n",
       "1138                Crispy Crunchy Roti Ke Papad Recipe   \n",
       "3793                Tawa Paratha Recipe - Plain Paratha   \n",
       "580                           Tomato Noodle Soup Recipe   \n",
       "2151                          Tawa Tandoori Roti Recipe   \n",
       "3721               Homemade Soft Idli (Recipe In Hindi)   \n",
       "4366         Ujju Rotti Recipe (Indian Rice Flat Bread)   \n",
       "1555   Instant Palkova Recipe (Milk Based Sweet Recipe)   \n",
       "4183                     Jhurre Jhule Aloo Bhaja Recipe   \n",
       "1374  Mangalorean Neer Dosa Recipe-Savory Rice & Coc...   \n",
       "\n",
       "                                  TranslatedIngredients  PrepTimeInMins  \\\n",
       "2496  500 grams Colocasia root (Arbi),Sunflower Oil ...              10   \n",
       "1138  4 Tawa Paratha - or rotis leftover,Sunflower O...               0   \n",
       "3793  1 cup Whole Wheat Flour,1/2 teaspoon Salt,Sunf...              20   \n",
       "580   4 tomatoes - chopped, 2 onions, 1 tablespoon o...              10   \n",
       "2151  2 cups Whole Wheat Flour,1/4 cup Curd (Dahi / ...              30   \n",
       "3721  Idli dosa mixture - sesame oil - or ghee, as p...             480   \n",
       "4366  1 cup Rice flour,1-1/2 cups Water,Salt - to ta...              20   \n",
       "1555  400 grams Condensed Milk,2 tablespoons Curd (D...              10   \n",
       "4183  2 Potatoes (Aloo),20 Curry leaves,1/2 teaspoon...              10   \n",
       "1374  2 cups Broken Raw Rice - (Sona Masuri or any l...              20   \n",
       "\n",
       "      CookTimeInMins  TotalTimeInMins  Servings               Cuisine  \\\n",
       "2496              30               40         4  North Indian Recipes   \n",
       "1138              45               45         4                Indian   \n",
       "3793              20               40         4  North Indian Recipes   \n",
       "580               30               40         2                Fusion   \n",
       "2151              30               60         4  North Indian Recipes   \n",
       "3721              20              500         4  South Indian Recipes   \n",
       "4366              30               50         2                Indian   \n",
       "1555              20               30         2            Tamil Nadu   \n",
       "4183              20               30         3       Bengali Recipes   \n",
       "1374              30               50         4           Mangalorean   \n",
       "\n",
       "                      Course                     Diet  \\\n",
       "2496                   Lunch               Vegetarian   \n",
       "1138                   Snack               Vegetarian   \n",
       "3793             Main Course               Vegetarian   \n",
       "580                   Dinner               Vegetarian   \n",
       "2151                   Lunch               Vegetarian   \n",
       "3721  South Indian Breakfast  High Protein Vegetarian   \n",
       "4366        Indian Breakfast              Gluten Free   \n",
       "1555                 Dessert               Vegetarian   \n",
       "4183                   Snack               Vegetarian   \n",
       "1374  South Indian Breakfast               Vegetarian   \n",
       "\n",
       "                                 TranslatedInstructions  \\\n",
       "2496  To begin making the Multani Kaali Arbi Recipe,...   \n",
       "1138  To begin making the Crispy Crunchy Roti Ke Pap...   \n",
       "3793  To begin making the Tawa Paratha, in a large b...   \n",
       "580   To make tomato noodle soup recipe, first boil ...   \n",
       "2151  To begin making the Tawa Tandoori Roti Recipe,...   \n",
       "3721  To make idli, firstly apply a little sesame oi...   \n",
       "4366  To prepare Ujju Rotti Recipe (Indian Rice Flat...   \n",
       "1555  To prepare this easy Instant Palkova Recipe, t...   \n",
       "4183  To begin making Jhure Jhure Aloo Bhaja recipe,...   \n",
       "1374  To begin making the Mangalorean Neer Dosa Reci...   \n",
       "\n",
       "                                                    URL lang  \\\n",
       "2496  http://www.archanaskitchen.com/multani-kaali-a...   en   \n",
       "1138  http://www.archanaskitchen.com/crispy-crunchy-...   en   \n",
       "3793  http://www.archanaskitchen.com/plain-paratha-t...   en   \n",
       "580   https://www.archanaskitchen.com/tomato-noodle-...   en   \n",
       "2151  https://www.archanaskitchen.com/tawa-tandoori-...   en   \n",
       "3721  https://www.archanaskitchen.com/homemade-soft-...   en   \n",
       "4366  http://www.archanaskitchen.com/ujju-rotti-reci...   en   \n",
       "1555  http://www.archanaskitchen.com/instant-palkova...   en   \n",
       "4183  https://www.archanaskitchen.com/jhure-jhure-al...   en   \n",
       "1374  https://www.archanaskitchen.com/magalorean-nee...   en   \n",
       "\n",
       "                                          P-Ingredients  flag instruc-lang  \\\n",
       "2496  Colocasia root (Arbi),Sunflower Oil ,Salt , Re...    -1           en   \n",
       "1138  Tawa Paratha rotis leftover,Sunflower Oil , Ch...    -1           en   \n",
       "3793  Wheat Flour, Salt,Sunflower Oil kneading,Ghee ...    -2           en   \n",
       "580   tomatoes , onions, olive oil, salt according ,...    -2           en   \n",
       "2151  Wheat Flour, Curd (Dahi Yogurt),Salt ,Sunflowe...    -2           en   \n",
       "3721  Idli dosa mixture sesame oil ghee, per the exp...    -2           en   \n",
       "4366             Rice flour, Water,Salt , Sunflower Oil    -2           en   \n",
       "1555   Condensed Milk, Curd (Dahi Yogurt) thick whisked    -2           en   \n",
       "4183  Potatoes (Aloo), Curry leaves, Red Chilli powd...    -2           en   \n",
       "1374  Broken Raw Rice (Sona Masuri any local rice), ...    -2           en   \n",
       "\n",
       "                                                Missing  \n",
       "2496                             Colocasia root (Arbi).  \n",
       "1138                       Tawa Paratha rotis leftover.  \n",
       "3793                   Ghee oil cooking (),Wheat Flour.  \n",
       "580     black pepper powderof Hakka noodles, olive oil.  \n",
       "2151                   Wheat Flour, Curd (Dahi Yogurt).  \n",
       "3721  Idli dosa mixture sesame oil ghee, per the exp...  \n",
       "4366                                 Rice flour, Water.  \n",
       "1555   Curd (Dahi Yogurt) thick whisked,Condensed Milk.  \n",
       "4183                      Curry leaves,Potatoes (Aloo).  \n",
       "1374   Fresh coconut ,Broken Raw Rice (Sona Masuri a...  "
      ]
     },
     "execution_count": 44,
     "metadata": {},
     "output_type": "execute_result"
    }
   ],
   "source": [
    "Cookdf"
   ]
  },
  {
   "cell_type": "code",
   "execution_count": 36,
   "metadata": {},
   "outputs": [
    {
     "data": {
      "text/plain": [
       "2496                              .Colocasia root (Arbi).\n",
       "1138                        .Tawa Paratha rotis leftover.\n",
       "3793                     Ghee oil cooking ().Wheat Flour.\n",
       "580       black pepper powderof Hakka noodles. olive oil.\n",
       "2151                     Wheat Flour. Curd (Dahi Yogurt).\n",
       "3721    Idli dosa mixture sesame oil ghee. per the exp...\n",
       "4366                                  .Rice flour. Water.\n",
       "1555     Curd (Dahi Yogurt) thick whisked.Condensed Milk.\n",
       "4183                      . Curry leaves.Potatoes (Aloo).\n",
       "1374     Fresh coconut .Broken Raw Rice (Sona Masuri a...\n",
       "Name: Missing, dtype: object"
      ]
     },
     "execution_count": 36,
     "metadata": {},
     "output_type": "execute_result"
    }
   ],
   "source": [
    "Cookdf[\"Missing\"]"
   ]
  },
  {
   "cell_type": "code",
   "execution_count": 25,
   "metadata": {},
   "outputs": [
    {
     "data": {
      "text/plain": [
       "0       To begin making the Masala Karela Recipe,de-se...\n",
       "1       To make tomato puliogere, first cut the tomato...\n",
       "2       To begin making the Ragi Vermicelli Recipe, fi...\n",
       "3       To begin making Gongura Chicken Curry Recipe f...\n",
       "4       To make Andhra Style Alam Pachadi, first heat ...\n",
       "                              ...                        \n",
       "6250    To begin making the Saffron Paneer Peda recipe...\n",
       "6251    To begin making the Italian Arancini Rice Ball...\n",
       "6252    To begin making Quinoa Phirnee Recipe, place a...\n",
       "6253    To begin making Ullikadala Pulusu Recipe | Spr...\n",
       "6254    To begin making the Kashmiri Kokur Yakhni reci...\n",
       "Name: TranslatedInstructions, Length: 6255, dtype: object"
      ]
     },
     "execution_count": 25,
     "metadata": {},
     "output_type": "execute_result"
    }
   ],
   "source": [
    "df[\"TranslatedInstructions\"]"
   ]
  },
  {
   "cell_type": "code",
   "execution_count": 22,
   "metadata": {},
   "outputs": [
    {
     "data": {
      "text/plain": [
       "array(['http://www.archanaskitchen.com/kashmiri-saag-recipe-kashmiri-style-spinach-palak'],\n",
       "      dtype=object)"
      ]
     },
     "execution_count": 22,
     "metadata": {},
     "output_type": "execute_result"
    }
   ],
   "source": [
    "df[\"URL\"].sample(1).values"
   ]
  },
  {
   "cell_type": "code",
   "execution_count": null,
   "metadata": {},
   "outputs": [],
   "source": []
  }
 ],
 "metadata": {
  "kernelspec": {
   "display_name": "Python 3",
   "language": "python",
   "name": "python3"
  },
  "language_info": {
   "codemirror_mode": {
    "name": "ipython",
    "version": 3
   },
   "file_extension": ".py",
   "mimetype": "text/x-python",
   "name": "python",
   "nbconvert_exporter": "python",
   "pygments_lexer": "ipython3",
   "version": "3.6.12"
  }
 },
 "nbformat": 4,
 "nbformat_minor": 4
}
