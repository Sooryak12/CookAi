{
 "cells": [
  {
   "cell_type": "code",
   "execution_count": 18,
   "metadata": {},
   "outputs": [],
   "source": [
    "import pandas as pd\n",
    "import numpy as np\n",
    "import fuzzywuzzy.fuzz as fuzz\n",
    "import time"
   ]
  },
  {
   "cell_type": "code",
   "execution_count": 19,
   "metadata": {},
   "outputs": [],
   "source": [
    "df=pd.read_csv(\"df-en-processed.csv\")"
   ]
  },
  {
   "cell_type": "code",
   "execution_count": 153,
   "metadata": {},
   "outputs": [
    {
     "data": {
      "text/plain": [
       "array(['Kabuli Chana (White Chickpeas) Soaked Overnight, Onions in chunks, Green Bell Pepper (Capsicum) in chunks, cloves Garlic , inch Ginger , Green Chilli Slit, Tomato Pureed, Cinnamon Stick (Dalchini), Cloves (Laung), Bay leaf (tej patta), Black cardamom (Badi Elaichi), Coriander Powder (Dhania), Cumin powder (Jeera), Kashmiri Red Chilli Powder, Amchur (Dry Mango Powder), Garam masala powder, Ajwain (Carom seeds), Ghee,Salt',\n",
       "       'Gram flour (besan),Sugar (grinded) , Badam (Almond), Pistachios, Chironji, Melon seeds, Fox nuts, Fresh coconut , Ghee, Cardamom (Elaichi) PodsSeeds, Cashew nuts',\n",
       "       'Quinoa, Sugar, Cardamom Powder (Elaichi), Milk vegans can substitute this ingredient with almond milk, Condensed Milk khoya (mawa), Ghee, Saffron strands,Mixed nuts'],\n",
       "      dtype=object)"
      ]
     },
     "execution_count": 153,
     "metadata": {},
     "output_type": "execute_result"
    }
   ],
   "source": [
    "df[\"P-Ingredients\"].sample(3).values"
   ]
  },
  {
   "cell_type": "code",
   "execution_count": 23,
   "metadata": {},
   "outputs": [],
   "source": [
    "user_ingredients=\"Eggs hard & halved, Onion , Tomato , Coriander Powder (Dhania), Garam masala powder, Red Chilli powder, Cinnamon Stick (Dalchini), Cloves (Laung), Sunflower Oil,Salt , Coriander (Dhania) Seeds\""
   ]
  },
  {
   "cell_type": "code",
   "execution_count": 34,
   "metadata": {},
   "outputs": [],
   "source": [
    "def Cook2(Pingredients):    \n",
    "        \"Comparing the Recipe Ingredients and User Ingredients and decreasing count value for each Recipe ingredient missing.\\\n",
    "        Count describes the no. of ingredients missing from user ingredients to make that recipe.\"\n",
    "        flag,count=0,0\n",
    "        for i in set(Pingredients.split(\",\")):\n",
    "            for j in  user_ingredients.split(\",\"):\n",
    "                if fuzz.token_set_ratio(i,j)>80:                    \n",
    "                    flag=1 \n",
    "                    break\n",
    "            if (flag==0):\n",
    "                count-=1\n",
    "            else:\n",
    "                flag=0\n",
    "        return count"
   ]
  },
  {
   "cell_type": "code",
   "execution_count": 35,
   "metadata": {},
   "outputs": [
    {
     "name": "stdout",
     "output_type": "stream",
     "text": [
      "13.805257320404053\n"
     ]
    }
   ],
   "source": [
    "start=time.time()\n",
    "df[\"flag\"]=df[\"P-Ingredients\"].apply(Cook2)\n",
    "end=time.time()\n",
    "print(end-start)"
   ]
  },
  {
   "cell_type": "code",
   "execution_count": 36,
   "metadata": {},
   "outputs": [
    {
     "data": {
      "text/plain": [
       "-10    578\n",
       "-11    567\n",
       "-9     567\n",
       "-12    517\n",
       "-13    498\n",
       "-8     452\n",
       "-14    410\n",
       "-7     387\n",
       "-15    345\n",
       "-6     335\n",
       "-16    275\n",
       "-5     230\n",
       "-17    194\n",
       "-4     173\n",
       "-18    168\n",
       "-3     109\n",
       "-19    100\n",
       "-20     74\n",
       "-22     58\n",
       "-21     53\n",
       "-2      38\n",
       "-23     32\n",
       "-24     27\n",
       "-25     22\n",
       "-26     15\n",
       "-1       8\n",
       "-28      7\n",
       "-27      4\n",
       "-29      4\n",
       "-30      4\n",
       "-33      3\n",
       " 0       1\n",
       "Name: flag, dtype: int64"
      ]
     },
     "execution_count": 36,
     "metadata": {},
     "output_type": "execute_result"
    }
   ],
   "source": [
    "df[\"flag\"].value_counts()"
   ]
  },
  {
   "cell_type": "code",
   "execution_count": 41,
   "metadata": {},
   "outputs": [
    {
     "data": {
      "text/plain": [
       "2618    Fresh coconut , Jaggery crumbled, Cardamom Pow...\n",
       "3868    Walnuts, Sugar, Ghee, Cardamom (Elaichi) PodsS...\n",
       "3906    Idli dosa mixture sesame oil ghee, per the exp...\n",
       "4271               Gram flour (besan), Ghee, Sugar, Water\n",
       "4495    Gram flour (besan),Sugar (grinded) , Badam (Al...\n",
       "4902                    Badam (Almond), Milk, Sugar, Ghee\n",
       "5169    Mango Pulp (Puree), Sugar, Ghee greasing, Card...\n",
       "5713    Gram flour (besan), Ghee, Sugar, Water, Cardam...\n",
       "Name: P-Ingredients, dtype: object"
      ]
     },
     "execution_count": 41,
     "metadata": {},
     "output_type": "execute_result"
    }
   ],
   "source": [
    "df[df[\"flag\"]==-1][\"P-Ingredients\"]"
   ]
  },
  {
   "cell_type": "code",
   "execution_count": 40,
   "metadata": {},
   "outputs": [
    {
     "data": {
      "text/plain": [
       "'Gram flour (besan),Sugar (grinded) , Badam (Almond), Pistachios, Chironji, Melon seeds, Fox nuts, Fresh coconut , Ghee, Cardamom (Elaichi) PodsSeeds'"
      ]
     },
     "execution_count": 40,
     "metadata": {},
     "output_type": "execute_result"
    }
   ],
   "source": [
    "user_ingredients"
   ]
  },
  {
   "cell_type": "code",
   "execution_count": 42,
   "metadata": {},
   "outputs": [
    {
     "data": {
      "text/plain": [
       "array(['Gram flour (besan),Sugar (grinded) , Badam (Almond), Pistachios, Chironji, Melon seeds, Fox nuts, Fresh coconut , Ghee, Cardamom (Elaichi) PodsSeeds, Cashew nuts'],\n",
       "      dtype=object)"
      ]
     },
     "execution_count": 42,
     "metadata": {},
     "output_type": "execute_result"
    }
   ],
   "source": [
    "df.loc[4495,[\"P-Ingredients\"]].values#,\"TranslatedRecipeName\"]]"
   ]
  },
  {
   "cell_type": "code",
   "execution_count": 46,
   "metadata": {},
   "outputs": [
    {
     "data": {
      "text/plain": [
       "315      0\n",
       "5169    -1\n",
       "2618    -1\n",
       "4902    -1\n",
       "4271    -1\n",
       "        ..\n",
       "950    -30\n",
       "5260   -30\n",
       "1329   -33\n",
       "4163   -33\n",
       "151    -33\n",
       "Name: flag, Length: 6255, dtype: int64"
      ]
     },
     "execution_count": 46,
     "metadata": {},
     "output_type": "execute_result"
    }
   ],
   "source": [
    "Cookdf=df.sort_values(by=\"flag\",ascending=False).head(10)"
   ]
  },
  {
   "cell_type": "markdown",
   "metadata": {},
   "source": [
    "### Model:"
   ]
  },
  {
   "cell_type": "code",
   "execution_count": null,
   "metadata": {},
   "outputs": [],
   "source": [
    "def CookMan(df,user_ingredients):\n",
    "    def Cook2(Pingredients):    \n",
    "        \"Comparing the Recipe Ingredients and User Ingredients and decreasing count value for each Recipe ingredient missing.\\\n",
    "        Count describes the no. of ingredients missing from user ingredients to make that recipe.\"\n",
    "        flag,count=0,0\n",
    "        for i in set(Pingredients.split(\",\")):\n",
    "            for j in  user_ingredients.split(\",\"):\n",
    "                if fuzz.token_set_ratio(i,j)>80:                    \n",
    "                    flag=1 \n",
    "                    break\n",
    "            if (flag==0):\n",
    "                count-=1\n",
    "            else:\n",
    "                flag=0\n",
    "        return count\n",
    "    df[\"flag\"]=df[\"P-Ingredients\"].apply(Cook2)\n",
    "    Cookdf=df.sort_values(by=\"flag\",ascending=False).head(10)\n",
    "    return Cookdf"
   ]
  },
  {
   "cell_type": "markdown",
   "metadata": {},
   "source": [
    "# Full Code"
   ]
  },
  {
   "cell_type": "code",
   "execution_count": 48,
   "metadata": {},
   "outputs": [],
   "source": [
    "import pandas as pd\n",
    "import numpy as np\n",
    "import fuzzywuzzy.fuzz as fuzz\n",
    "\n",
    "df=pd.read_csv(\"df-en-processed.csv\")\n",
    "user_ingredients=\"Eggs hard & halved, Onion , Tomato , Coriander Powder (Dhania), Garam masala powder, Red Chilli powder, \\\n",
    "Cinnamon Stick (Dalchini), Cloves (Laung), Sunflower Oil,Salt , Coriander (Dhania) Seeds\"\n",
    "\n",
    "def Cookman(df,user_ingredients):\n",
    "    def Cook2(Pingredients):    \n",
    "        \"Comparing the Recipe Ingredients and User Ingredients and decreasing count value for each Recipe ingredient missing.\\\n",
    "        Count describes the no. of ingredients missing from user ingredients to make that recipe.\"\n",
    "        flag,count=0,0\n",
    "        for i in set(Pingredients.split(\",\")):\n",
    "            for j in  user_ingredients.split(\",\"):\n",
    "                if fuzz.token_set_ratio(i,j)>80:                    \n",
    "                    flag=1 \n",
    "                    break\n",
    "            if (flag==0):\n",
    "                count-=1\n",
    "            else:\n",
    "                flag=0\n",
    "        return count\n",
    "    df[\"flag\"]=df[\"P-Ingredients\"].apply(Cook2)\n",
    "    Cookdf=df.sort_values(by=\"flag\",ascending=False).head(10)\n",
    "    return Cookdf\n",
    "\n",
    "Cookdf=Cookman(df,user_ingredients)"
   ]
  },
  {
   "cell_type": "code",
   "execution_count": 52,
   "metadata": {},
   "outputs": [
    {
     "data": {
      "text/plain": [
       "array(['Tawa Paratha rotis leftover,Sunflower Oil , Chaat Masala Powder,Salt , Red Chilli powder',\n",
       "       'Colocasia root (Arbi),Sunflower Oil ,Salt , Red Chilli powder, sprig Coriander (Dhania) Leaves',\n",
       "       'Wheat Flour, Salt,Ghee to layer cooking parathas',\n",
       "       'All Purpose Flour (Maida),Sunflower Oil to cook,Salt , Sugar, Kalonji (Onion Nigella Seeds)',\n",
       "       'Potatoes (Aloo), Curry leaves, Red Chilli powder,Sunflower Oil deep ,Salt',\n",
       "       'gram Mango (Raw) (baby mangoes), Red Chilli powder, Mustard seeds , Rock Salt',\n",
       "       'Condensed Milk, Curd (Dahi Yogurt) thick whisked',\n",
       "       'Eggs, Chicken , Soy sauce, Stalk Spring Onion (Bulb & Greens) ,Salt to season,Sunflower Oil',\n",
       "       'tomatoes , onions, olive oil, salt according , black pepper powderof Hakka noodles',\n",
       "       'Mozzarella cheese parmesan cheese, Cumin seeds (Jeera)'],\n",
       "      dtype=object)"
      ]
     },
     "execution_count": 52,
     "metadata": {},
     "output_type": "execute_result"
    }
   ],
   "source": [
    "Cookdf[\"P-Ingredients\"].values"
   ]
  },
  {
   "cell_type": "code",
   "execution_count": null,
   "metadata": {},
   "outputs": [],
   "source": []
  }
 ],
 "metadata": {
  "kernelspec": {
   "display_name": "Python 3",
   "language": "python",
   "name": "python3"
  },
  "language_info": {
   "codemirror_mode": {
    "name": "ipython",
    "version": 3
   },
   "file_extension": ".py",
   "mimetype": "text/x-python",
   "name": "python",
   "nbconvert_exporter": "python",
   "pygments_lexer": "ipython3",
   "version": "3.6.12"
  }
 },
 "nbformat": 4,
 "nbformat_minor": 4
}
