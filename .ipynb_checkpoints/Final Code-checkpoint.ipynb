{
 "cells": [
  {
   "cell_type": "code",
   "execution_count": 160,
   "metadata": {},
   "outputs": [
    {
     "name": "stdout",
     "output_type": "stream",
     "text": [
      "0.6120870113372803\n"
     ]
    }
   ],
   "source": [
    "import azure.functions as func\n",
    "import pandas as pd\n",
    "import numpy as np\n",
    "import fuzzywuzzy.fuzz as fuzz\n",
    "import os\n",
    "import json\n",
    "\n",
    "\n",
    "df=pd.read_csv(\"df-en-final.csv\")\n",
    "user_ingredients='egg,onion,tomato,rice,turmeric powder (haldi),red chilli powder,salt'\n",
    "df[\"Ingredient-count\"]=df[\"P-Ingredients\"].apply(lambda x:len(x.split(\",\")))\n",
    "df=df[df[\"Ingredient-count\"]>4]\n",
    "df.reset_index(drop=True,inplace=True)\n",
    "\n",
    "def CookMan(df,user_ingredients):\n",
    "    \n",
    "    class Recipe: \n",
    "   \n",
    " \n",
    "        def __init__(self, title,ing,time,missing,imgurl,cuisine,instructions): \n",
    "            self.title = title \n",
    "            self.ingredients=ing\n",
    "            self.time=time\n",
    "            self.missing=missing\n",
    "            self.imgurl=imgurl \n",
    "            self.cuisine=cuisine\n",
    "            self.instructions=instructions            \n",
    "        def dump(self):\n",
    "            return {\"RecipeList\": {'title': self.title,\n",
    "                               'ingredients': self.ingredients,\n",
    "                               'time': self.time,\n",
    "                               'missing': self.missing,\n",
    "                               'imgurl':self.imgurl,\n",
    "                               'cuisine':self.cuisine,\n",
    "                               'instructions':self.instructions }}\n",
    "\n",
    "\n",
    "    def Cook2(Pingredients):    \n",
    "        \"Comparing the Recipe Ingredients and User Ingredients and decreasing count value for each Recipe ingredient missing.\\\n",
    "        Count describes the no. of ingredients missing from user ingredients to make that recipe.\"\n",
    "        flag,count=0,0\n",
    "        ulcount=0\n",
    "        for i in set(Pingredients.split(\",\")):\n",
    "            for j in  user_ingredients.split(\",\"):\n",
    "                if i==j.strip():               \n",
    "                    flag=1\n",
    "                    ulcount=1\n",
    "                    break\n",
    "            if (flag==0):\n",
    "                count-=1\n",
    "            else:\n",
    "                flag=0\n",
    "            if count<-10:\n",
    "                return count\n",
    "        if(ulcount==0):\n",
    "            return count-1\n",
    "        else:\n",
    "            return count\n",
    "\n",
    "    def MainCook(Pingredients):    \n",
    "        flag,count=0,0\n",
    "        ullcount=0\n",
    "        for i in set(Pingredients.split(\",\")):\n",
    "            for j in  user_ingredients.split(\",\"):\n",
    "                if fuzz.token_set_ratio(i,j.strip())>80:                 \n",
    "                    flag=1 \n",
    "                    break\n",
    "            if (flag==0):\n",
    "                count-=1\n",
    "            else:\n",
    "                flag=0\n",
    "        if(ullcount==0):\n",
    "            return count-1\n",
    "        else:\n",
    "            return count        \n",
    "    \n",
    "    \n",
    "    df[\"flag\"]=df[\"P-Ingredients\"].apply(Cook2)  \n",
    "    df=df.sort_values(by=\"flag\",ascending=False).head(100)\n",
    "    df[\"flag2\"]=df[\"P-Ingredients\"].apply(MainCook)\n",
    "    df=df.sort_values(by=\"flag2\",ascending=False)\n",
    "\n",
    "    def Missing(Pingredients):\n",
    "        flag=0\n",
    "        miss=\"\"\n",
    "        for i in set(Pingredients.split(\",\")):\n",
    "            for j in  user_ingredients.split(\",\"):\n",
    "                if fuzz.token_set_ratio(i,j.strip())>80:                    \n",
    "                    flag=1 \n",
    "                    break\n",
    "            if (flag==0):\n",
    "                miss+=i+\",\"\n",
    "                \n",
    "            else:\n",
    "                flag=0\n",
    "        miss = miss[:-1]\n",
    "        return miss\n",
    "    df[\"Missing\"]=df[\"P-Ingredients\"].apply(Missing)\n",
    "    df.drop(columns=[\"flag2\",\"flag\",\"P-Ingredients\",\"URL\"],inplace=True)\n",
    "    df.reset_index(inplace=True,drop=True)\n",
    "    Cookdf=df.head(30)\n",
    "    mylist=[]\n",
    "    for i in range(5):\n",
    "        title = Cookdf.loc[i,\"TranslatedRecipeName\"]\n",
    "        ing=Cookdf.loc[i,\"TranslatedIngredients\"]\n",
    "        time=int(Cookdf.loc[i,\"TotalTimeInMins\"])\n",
    "        missing=Cookdf.loc[i,\"Missing\"]\n",
    "        imgurl = Cookdf.loc[i,\"image-url\"]\n",
    "        cuisine=Cookdf.loc[i,\"Cuisine\"]\n",
    "        instructions=Cookdf.loc[i,\"TranslatedInstructions\"]\n",
    "        mylist.append(Recipe(title,ing,time,missing,imgurl,cuisine,instructions))        \n",
    "    dfjson=json.dumps([o.dump() for o in mylist])\n",
    "    return dfjson\n",
    "\n",
    "Cookdff=CookMan(df,user_ingredients)"
   ]
  },
  {
   "cell_type": "code",
   "execution_count": 161,
   "metadata": {},
   "outputs": [],
   "source": [
    "parsed =  json.loads(Cookdff)"
   ]
  },
  {
   "cell_type": "code",
   "execution_count": 164,
   "metadata": {},
   "outputs": [
    {
     "data": {
      "text/plain": [
       "[{'RecipeList': {'title': 'Lacha Onion Recipe - Masala Pickled Onions',\n",
       "   'ingredients': 'Black Salt (Kala Namak) - as required,Salt - to taste,1/2 teaspoon Chaat Masala Powder,2 Onions - cut into thin rings,1 Lemon - juice extracted,1/2 teaspoon Red Chilli powder',\n",
       "   'time': 10,\n",
       "   'missing': 'chaat masala powder,lemon juice',\n",
       "   'imgurl': 'https://www.archanaskitchen.com/images/archanaskitchen/0-Archanas-Kitchen-Recipes/2019/Masala_and_Plain_Lacha_Pyaz_Recipe_1.png',\n",
       "   'cuisine': 'North Indian Recipes',\n",
       "   'instructions': 'To begin making the Simple Lacha Pyaz Recipe - Pickled Onions  into a mixing bowl add the onion rings, lemon juice and sprinkle black salt to taste. Mix well to combine. Cover the bowl and allow the onions to rest in the lemon juice for about an hour.The Simple Lacha Pyaz Recipe - Pickled Onions are ready to be served after an hour.To make the Masala Lacha Pyaz Recipe - Pickled OnionsInto a mixing bowl add the onion rings, lemon juice, red chilli powder, chaat masala powder and salt to taste. Mix well to combine.Cover the bowl and allow the onions to rest in the lemon juice for about an hour. The Masala Lacha Pyaz Recipe - Pickled Onions are ready to be served after an hour.Serve the Pickled Onions along with a meal Smoked Tandoori Paneer Tikka, Smoked Dal Makhani Dhaba Style and Pudina Tawa Paratha.'}},\n",
       " {'RecipeList': {'title': 'Porridge Bread Recipe',\n",
       "   'ingredients': 'Salt - to taste,1 cup Khichdi/Pongal,1/4 cup Rice flour - or as needed,1/4 cup Onion - finely diced (optional),Sunflower Oil - as needed',\n",
       "   'time': 15,\n",
       "   'missing': 'khichdipongal,sunflower oil',\n",
       "   'imgurl': 'https://www.archanaskitchen.com/images/archanaskitchen/1-Author/Gauravi_Vinay/Kichdi_rotti.jpg',\n",
       "   'cuisine': 'Indian',\n",
       "   'instructions': 'To begin making the Khichdi Roti recipe, cut out a large baking paper to the size of your tava and smear it with some oil.In a mixing bowl add khichdi (use room temperature or cold, hot kichdi will get messy), enough rice flour, very little salt to adjust the seasoning and chopped onions.Mix them all together, you should get a well combined mixture and not very moist, if you still find it very moist add in an extra tablespoon of rice flour at a time.Meanwhile, heat the tava on low flame.Place a golf ball sized mixture on the baking sheet and smear some oil on your palm and pat it on the baking sheet to resemble a round roti.You can pat it as thin or as thick as you like. Now transfer the sheet onto the hot tava and let it sit for 15-20 seconds and then peel off the baking paper gently.Drizzle some oil around it and cook until golden brown and flip onto the other side.Adding the rice flour totally depends on the consistency of your khichdi, needs a bit of eye balling in the measurement of rice flour.Serve Khichdi Roti with Burani Raita and Aam Ka Achaar for a perfect meal.'}},\n",
       " {'RecipeList': {'title': 'Karnataka Style Set Dosa Recipe',\n",
       "   'ingredients': '2 teaspoons Salt,1/2 cup White Urad Dal (Whole),2 teaspoons Methi Seeds (Fenugreek Seeds),2 cups Idli Rice,1 cup Poha (Flattened rice)',\n",
       "   'time': 390,\n",
       "   'missing': 'white urad dal,methi seeds (fenugreek seeds)',\n",
       "   'imgurl': 'https://www.archanaskitchen.com/images/archanaskitchen/Indian_Breakfast_Tiffins/Karanataka_Style_Set_Dosa_Recipe_Thick_Pancakes_Indian_Vegetarian_Archanas_Kitchen-1.jpg',\n",
       "   'cuisine': 'Karnataka',\n",
       "   'instructions': \"To begin making the Karnataka Style Set Dosa Recipe, we will first soak the rice and flattened rice/poha together in one bowl and the urad dal along with the fenugreek seeds in another bowl. Soak them for at least 6 hours.After 6 hours, grind the urad dal into a fine smooth batter. While grinding add just enough water to make it into a very very smooth batter. The batter will look fluffy. Pour this batter into a large container.Grind the rice and flattened rice into a smooth paste, adding just the required amount of water to grind into a almost smooth batter and thick batter. Adding too much water will make the dosa batter too watery. Combine the urad and rice batter, add salt to taste and set aside for at least 12 hours or overnight until the batter ferments. You will notice the batter would have doubled in volume.Do make sure you place the batter in a large container so it has enough room to increase in its volume.Once risen in volume, stir the batter just a little to combine it through. Take care not to stir it vigorously, as it will loose it fluffiness.Heat a skillet over medium heat. You will know its heat just right, when you sprinkle some water over the skillet, it will sizzle. Pour a ladleful of batter over the skillet and allow it to spread on its own (just a bit). The set dosa is like a pancake. It's a little thick and fluffy. Cover the dosa with a lid and allow to cook in its own steam for a few minutes.Once you notice the top is steamed and cooked through, you can remove it from the skillet and serve. Proceed the same way to make the remaining set dosas.Serve the Karnataka Style Set Dosas along with three different types of chutneys like Tomato Onion Chutney, Coconut Coriander Chutney and Ginger Walnut Chutney. \"}},\n",
       " {'RecipeList': {'title': 'Udupi Red Parboiled Rice Shavige Recipe',\n",
       "   'ingredients': '3 cups Water -,Salt - to taste,1/2 cup Fresh coconut - grated,1 cup Dosa rice,4 cups Red matta rice - boiled',\n",
       "   'time': 120,\n",
       "   'missing': 'coconut,water',\n",
       "   'imgurl': 'https://www.archanaskitchen.com/images/archanaskitchen/1-Author/Smitha-Kalluraya/Udupi_Red_Parboiled_Rice_Shavige_1600.jpg',\n",
       "   'cuisine': 'Udupi',\n",
       "   'instructions': \"To begin making the Udupi Red Parboiled Rice Shavige recipe, soak red parboiled rice and dosa rice in water for 8 to 10 hours.Drain water and grind it to very smooth paste adding little water along with grated coconut. Add salt to taste. Don't make thin paste, the batter should be spoonable thick. To a greased container, fill the ground thick batter. Place it in a steamer and cook for 30 to 35 minutes. Check if its cooked by piercing a toothpick. If it is done, the toothpick will come out clean. Unmould from the container and place the cooked dough into the idiyappam press when it is hot. Press in a circular shape. You will see strands of Red Parboiled Rice Shavige coming. Serve Red Parboiled Rice Shavige with fresh coconut milk / season it as lemon sevai.Serve Shavige along with South Indian Coconut Chutney or you can make other recipes like Kara Sevai.\"}},\n",
       " {'RecipeList': {'title': 'Onion Mango Salad Recipe - Instant Mango Pickle',\n",
       "   'ingredients': '1 teaspoon Cumin powder (Jeera),Salt - to taste,1/3 cup Jaggery - grated,1 cup Onions - grated,2 teaspoons Red Chilli powder,1-1/2 cups Mango (Raw) - peeled and grated',\n",
       "   'time': 20,\n",
       "   'missing': 'mango (raw),jaggery,cumin powder (jeera)',\n",
       "   'imgurl': 'https://www.archanaskitchen.com/images/archanaskitchen/1-Author/Sheetal_Bhatt/Kanda_Keri_Nu_Kachumber_The_classic_Gujarati_raw_mango_relish.jpg',\n",
       "   'cuisine': 'Indian',\n",
       "   'instructions': 'To prepare this simple Kanda Keri Nu Kachumber recipe, keep all the ingredients handy and prepare them as per requirement.Bring all the ingredients together in a large bowl.Using hands, massage the Keri Nu Kachumber so that the jaggery mixes well.Once well mixed, transfer the Keri Nu Kachumber in a glass serving bowl.This Kanda Keri Nu Kachumber Recipe-Gujarati raw mango relish stays well up to a week in the refrigerator.'}}]"
      ]
     },
     "execution_count": 164,
     "metadata": {},
     "output_type": "execute_result"
    }
   ],
   "source": [
    "parsed"
   ]
  },
  {
   "cell_type": "code",
   "execution_count": 146,
   "metadata": {},
   "outputs": [],
   "source": [
    "class Recipe: \n",
    "   \n",
    "    # init method or constructor  \n",
    "    def __init__(self, title,ing,time,missing,imgurl,cuisine,instructions): \n",
    "        self.title = title \n",
    "        self.ingredients=ing\n",
    "        self.time=time\n",
    "        self.missing=missing\n",
    "        self.imgurl=imgurl\n",
    "        self.cusine=cuisine\n",
    "        self.instructions=instructions\n",
    "    def dump(self):\n",
    "        return {\"RecipeList\": {'title': self.title,\n",
    "                               'ingredients': self.ingredients,\n",
    "                               'time': self.time,\n",
    "                               'missing': self.missing,\n",
    "                               'imgurl':self.imgurl,\n",
    "                               'cuisine':self.cuisine,\n",
    "                               'instructions':self.instructions\n",
    "                               }}"
   ]
  },
  {
   "cell_type": "code",
   "execution_count": 147,
   "metadata": {},
   "outputs": [
    {
     "ename": "AttributeError",
     "evalue": "'str' object has no attribute 'loc'",
     "output_type": "error",
     "traceback": [
      "\u001b[1;31m---------------------------------------------------------------------------\u001b[0m",
      "\u001b[1;31mAttributeError\u001b[0m                            Traceback (most recent call last)",
      "\u001b[1;32m<ipython-input-147-e652d1eb1a2e>\u001b[0m in \u001b[0;36m<module>\u001b[1;34m\u001b[0m\n\u001b[0;32m      1\u001b[0m \u001b[0mmylist\u001b[0m\u001b[1;33m=\u001b[0m\u001b[1;33m[\u001b[0m\u001b[1;33m]\u001b[0m\u001b[1;33m\u001b[0m\u001b[1;33m\u001b[0m\u001b[0m\n\u001b[0;32m      2\u001b[0m \u001b[1;32mfor\u001b[0m \u001b[0mi\u001b[0m \u001b[1;32min\u001b[0m \u001b[0mrange\u001b[0m\u001b[1;33m(\u001b[0m\u001b[1;36m2\u001b[0m\u001b[1;33m)\u001b[0m\u001b[1;33m:\u001b[0m\u001b[1;33m\u001b[0m\u001b[1;33m\u001b[0m\u001b[0m\n\u001b[1;32m----> 3\u001b[1;33m      \u001b[0mtitle\u001b[0m \u001b[1;33m=\u001b[0m \u001b[0mCookdf\u001b[0m\u001b[1;33m.\u001b[0m\u001b[0mloc\u001b[0m\u001b[1;33m[\u001b[0m\u001b[0mi\u001b[0m\u001b[1;33m,\u001b[0m\u001b[1;34m\"TranslatedRecipeName\"\u001b[0m\u001b[1;33m]\u001b[0m\u001b[1;33m\u001b[0m\u001b[1;33m\u001b[0m\u001b[0m\n\u001b[0m\u001b[0;32m      4\u001b[0m      \u001b[0ming\u001b[0m\u001b[1;33m=\u001b[0m\u001b[0mCookdf\u001b[0m\u001b[1;33m.\u001b[0m\u001b[0mloc\u001b[0m\u001b[1;33m[\u001b[0m\u001b[0mi\u001b[0m\u001b[1;33m,\u001b[0m\u001b[1;34m\"TranslatedIngredients\"\u001b[0m\u001b[1;33m]\u001b[0m\u001b[1;33m\u001b[0m\u001b[1;33m\u001b[0m\u001b[0m\n\u001b[0;32m      5\u001b[0m      \u001b[0mtime\u001b[0m\u001b[1;33m=\u001b[0m\u001b[0mint\u001b[0m\u001b[1;33m(\u001b[0m\u001b[0mCookdf\u001b[0m\u001b[1;33m.\u001b[0m\u001b[0mloc\u001b[0m\u001b[1;33m[\u001b[0m\u001b[0mi\u001b[0m\u001b[1;33m,\u001b[0m\u001b[1;34m\"TotalTimeInMins\"\u001b[0m\u001b[1;33m]\u001b[0m\u001b[1;33m)\u001b[0m\u001b[1;33m\u001b[0m\u001b[1;33m\u001b[0m\u001b[0m\n",
      "\u001b[1;31mAttributeError\u001b[0m: 'str' object has no attribute 'loc'"
     ]
    }
   ],
   "source": [
    "mylist=[]\n",
    "for i in range(2):\n",
    "     title = Cookdf.loc[i,\"TranslatedRecipeName\"]\n",
    "     ing=Cookdf.loc[i,\"TranslatedIngredients\"]\n",
    "     time=int(Cookdf.loc[i,\"TotalTimeInMins\"])\n",
    "     missing=Cookdf.loc[i,\"Missing\"]\n",
    "     imgurl =Cookdf.loc[i,\"image-url\"]\n",
    "     cuisine=Cookdf.loc[i,\"Cuisine\"]\n",
    "     instructions=Cookdf.loc[i,\"TranslatedInstructions\"]\n",
    "     mylist.append(Recipe(title,ing,time,missing,imgurl,cuisine,instructions))"
   ]
  },
  {
   "cell_type": "code",
   "execution_count": 145,
   "metadata": {},
   "outputs": [
    {
     "data": {
      "text/plain": [
       "Index(['TranslatedRecipeName', 'TranslatedIngredients', 'TotalTimeInMins',\n",
       "       'Cuisine', 'TranslatedInstructions', 'URL', 'P-Ingredients', 'flag',\n",
       "       'image-url', 'Ingredient-count'],\n",
       "      dtype='object')"
      ]
     },
     "execution_count": 145,
     "metadata": {},
     "output_type": "execute_result"
    }
   ],
   "source": [
    "df.columns"
   ]
  },
  {
   "cell_type": "code",
   "execution_count": 140,
   "metadata": {},
   "outputs": [],
   "source": [
    "t=json.dumps([o.dump() for o in mylist])"
   ]
  },
  {
   "cell_type": "code",
   "execution_count": 142,
   "metadata": {},
   "outputs": [
    {
     "data": {
      "text/plain": [
       "'{\"RecipeList\": {\"title\": \"Lacha Onion Recipe - Masala Pickled Onions\", \"ingredients\": \"Black Salt (Kala Namak) - as required,Salt - to taste,1/2 teaspoon Chaat Masala Powder,2 Onions - cut into thin rings,1 Lemon - juice extracted,1/2 teaspoon Red Chilli powder\", \"time\": 10, \"missing\": \"chaat masala powder,lemon juice\", \"imgurl\": \"https://www.archanaskitchen.com/images/archanaskitchen/0-Archanas-Kitchen-Recipes/2019/Masala_and_Plain_Lacha_Pyaz_Recipe_1.png\"}}, {\"RecipeList\": {\"title\": \"Porridge Bread Recipe\", \"ingredients\": \"Salt - to taste,1 cup Khichdi/Pongal,1/4 cup Rice flour - or as needed,1/4 cup Onion - finely diced (optional),Sunflower Oil - as needed\", \"time\": 15, \"missing\": \"khichdipongal,sunflower oil\", \"imgurl\": \"https://www.archanaskitchen.com/images/archanaskitchen/1-Author/Gauravi_Vinay/Kichdi_rotti.jpg\"}}'"
      ]
     },
     "execution_count": 142,
     "metadata": {},
     "output_type": "execute_result"
    }
   ],
   "source": [
    "t[1:-1]"
   ]
  },
  {
   "cell_type": "code",
   "execution_count": null,
   "metadata": {},
   "outputs": [],
   "source": []
  }
 ],
 "metadata": {
  "kernelspec": {
   "display_name": "Python 3",
   "language": "python",
   "name": "python3"
  },
  "language_info": {
   "codemirror_mode": {
    "name": "ipython",
    "version": 3
   },
   "file_extension": ".py",
   "mimetype": "text/x-python",
   "name": "python",
   "nbconvert_exporter": "python",
   "pygments_lexer": "ipython3",
   "version": "3.6.12"
  }
 },
 "nbformat": 4,
 "nbformat_minor": 4
}
