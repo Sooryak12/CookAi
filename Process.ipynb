{
 "cells": [
  {
   "cell_type": "code",
   "execution_count": 1,
   "metadata": {},
   "outputs": [],
   "source": [
    "import pandas as pd\n",
    "import numpy as np\n",
    "import matplotlib.pyplot as plt\n",
    "import seaborn as sns\n",
    "import re\n",
    "%matplotlib inline\n",
    "from langdetect import detect\n",
    "import  fuzzywuzzy.fuzz as fuzz\n",
    "import time\n",
    "from langdetect import detect"
   ]
  },
  {
   "cell_type": "code",
   "execution_count": 35,
   "metadata": {},
   "outputs": [],
   "source": [
    "df=pd.read_csv(\"IndianFoodDatasetCSV.csv\")\n",
    "pd.set_option('display.max_rows', 500)"
   ]
  },
  {
   "cell_type": "code",
   "execution_count": 36,
   "metadata": {},
   "outputs": [],
   "source": [
    "df.drop([\"RecipeName\",\"Ingredients\",\"Instructions\"],axis=1,inplace=True)\n",
    "df.dropna(inplace=True)\n",
    "df.reset_index(drop=True,inplace=True)"
   ]
  },
  {
   "cell_type": "code",
   "execution_count": 37,
   "metadata": {},
   "outputs": [
    {
     "name": "stdout",
     "output_type": "stream",
     "text": [
      "68.83786153793335\n"
     ]
    }
   ],
   "source": [
    "start=time.time()\n",
    "df[\"lang\"]=df[\"TranslatedIngredients\"].apply(lambda x:detect(x))\n",
    "end = time.time()\n",
    "print(end - start)      "
   ]
  },
  {
   "cell_type": "code",
   "execution_count": 38,
   "metadata": {},
   "outputs": [],
   "source": [
    "df=df[df[\"lang\"]==\"en\"]"
   ]
  },
  {
   "cell_type": "code",
   "execution_count": 39,
   "metadata": {},
   "outputs": [
    {
     "data": {
      "text/plain": [
       "en    6276\n",
       "Name: lang, dtype: int64"
      ]
     },
     "execution_count": 39,
     "metadata": {},
     "output_type": "execute_result"
    }
   ],
   "source": [
    "df[\"lang\"].value_counts()"
   ]
  },
  {
   "cell_type": "code",
   "execution_count": 40,
   "metadata": {},
   "outputs": [],
   "source": [
    "df.to_csv('df-lan.csv',index=False)"
   ]
  },
  {
   "cell_type": "code",
   "execution_count": 41,
   "metadata": {},
   "outputs": [],
   "source": [
    "df=pd.read_csv(\"df-lan.csv\")"
   ]
  },
  {
   "cell_type": "code",
   "execution_count": 42,
   "metadata": {},
   "outputs": [],
   "source": [
    "def preprocess(text):\n",
    "    text=re.sub(r'[0-9]+', '', text)\n",
    "    delword=\"Teaspoon,teaspoon,teaspoons,-,/,to taste,as needed,shredded,cup,cups,washed,sliced,finely,few,chopped,tablespoons,\\\n",
    "    Fresh,optional,peeled ,Cubed,for garnishing,garnishing,grams,washed, finely chopped,chopped,frying,tablespoon,deseeded,thinly,\\\n",
    "    ,smearing,as per taste,as required, vegans can eliminate this ingredient, roasted,coarsely pounded,\\\n",
    "    ,required,plain,diced,minced,mixed with warm milk,boiled,steamed,as per taste,grated,made into paste,,cooked,\\\n",
    "    taste,(remove seeds fibre any),(Whole),peel cut into rings,(fine variety),cleaned,but recommended,(leftover water from washing rice)\\\n",
    "    to cook,quartered\"\n",
    "    \n",
    "    stopwords = {'and','as','if','it','at','is','or',\"gm\",\"for\",\"ml\",\"whole\"}\n",
    "    \n",
    "    for i in delword.split(\",\"):\n",
    "        text = text.replace(i, '')\n",
    "    text = re.sub(r'\\s+', ' ', text)\n",
    "    text= re.sub('(\\\\b[A-Za-z] \\\\b|\\\\b [A-Za-z]\\\\b)', '', text)\n",
    "    text=' '.join(filter(lambda x: x.lower() not in stopwords,  text.split()))\n",
    "    return text"
   ]
  },
  {
   "cell_type": "code",
   "execution_count": 43,
   "metadata": {},
   "outputs": [],
   "source": [
    "df1=df.copy()"
   ]
  },
  {
   "cell_type": "code",
   "execution_count": 44,
   "metadata": {},
   "outputs": [],
   "source": [
    "df1[\"P-Ingredients\"]=df1[\"TranslatedIngredients\"].apply(preprocess)"
   ]
  },
  {
   "cell_type": "code",
   "execution_count": 45,
   "metadata": {},
   "outputs": [
    {
     "data": {
      "text/plain": [
       "array(['Karela (Bitter Gourd Pavakkai) ,Salt , Onion , Gram flour (besan), Turmeric powder (Haldi), Red Chilli powder, Cumin seeds (Jeera), Coriander Powder (Dhania), Amchur (Dry Mango Powder),Sunflower Oil',\n",
       "       'rice , tomatoes, BC Belle Bhat powder, salt , chickpea lentils, cumin seeds, white urad dal, mustard, green chilli, dry red chilli, cashew peanuts, oilasafoetida',\n",
       "       'Rice Vermicelli Noodles (Thin), Onion , Carrots (Gajjar) , Green peas (Matar), Green Chillies, Asafoetida (hing), Mustard seeds, White Urad Dal (Split), Ghee, sprig Curry leaves,Salt , Lemon juice',\n",
       "       ...,\n",
       "       'Quinoa, Sugar, Cardamom Powder (Elaichi), Milk vegans can substitute this ingredient with almond milk, Condensed Milk khoya (mawa), Ghee, Saffron strands,Mixed nuts',\n",
       "       'Spring Onion (Bulb & Greens) , Tamarind Water, Gram flour (besan), Sunflower Oil, Mustard seeds, Cumin seeds (Jeera), Dry Red Chillies, pinch Asafoetida (hing), pinch Turmeric powder (Haldi),Salt to atste, Coriander (Dhania) Seeds, Cumin seeds (Jeera), Mustard seeds, Methi Seeds (Fenugreek Seeds), Water',\n",
       "       'kg Chicken medium pieces, Mustard oil,Ghee , kg Curd (Dahi Yogurt), inch Cinnamon Stick (Dalchini), to Black cardamom (Badi Elaichi), to Cloves (Laung), Asafoetida (hing), Bay leaf (tej patta), Cumin seeds (Jeera), Fennel Powder,Salt , Mint Leaves (Pudina) dry'],\n",
       "      dtype=object)"
      ]
     },
     "execution_count": 45,
     "metadata": {},
     "output_type": "execute_result"
    }
   ],
   "source": [
    "df1[\"P-Ingredients\"].values"
   ]
  },
  {
   "cell_type": "code",
   "execution_count": 46,
   "metadata": {},
   "outputs": [],
   "source": [
    "import random\n",
    "def rd():\n",
    "    i=random.randint(0,6321)\n",
    "    x=df1.loc[i,\"P-Ingredients\"]\n",
    "    print(x)\n",
    "    print(i)\n",
    "    return x"
   ]
  },
  {
   "cell_type": "code",
   "execution_count": 47,
   "metadata": {},
   "outputs": [
    {
     "name": "stdout",
     "output_type": "stream",
     "text": [
      "Chicken chicken gm, Baby corn baby corn gm, Onion , Green Bell Pepper (Capsicum) , Carrot (Gajjar) , Egg,Salt , Red Chilli flakes, Corn flour, White pepper powder, Schezwan sauce, Tomato Ketchup,Sunflower Oil to fry the chicken, Sugar, Button mushrooms , Asparagus , Carrot (Gajjar) , Onion ,Ginger ,Garlic , Fresh Red chillies, Sunflower Oil, Teriyaki Sauce,White pepper powder ,Salt , Fried Rice chicken ,French Fries\n",
      "5570\n"
     ]
    }
   ],
   "source": [
    "tester=rd()"
   ]
  },
  {
   "cell_type": "code",
   "execution_count": 48,
   "metadata": {},
   "outputs": [],
   "source": [
    "df1[\"flag\"]=0"
   ]
  },
  {
   "cell_type": "code",
   "execution_count": 49,
   "metadata": {},
   "outputs": [
    {
     "data": {
      "text/plain": [
       "26"
      ]
     },
     "execution_count": 49,
     "metadata": {},
     "output_type": "execute_result"
    }
   ],
   "source": [
    "user_ingredients='Gram flour, Curd , Green Chillies made into paste, Lemon juice, Enos fruit salt,Salt , Sunflower Oil, Mustard seeds, Cumin seeds (Jeera), Asafoetida (hing), Green Chillies, Red Chilli powder, Turmeric powder, Jaggery,Salt  , Sunflower Oil, Mustard seeds, Cumin seeds, Asafoetida , Green Chillies, Red Chilli powder, Turmeric, Jaggery , Tamarind ,Salt , Coriander '\n",
    "len(user_ingredients.split(\",\"))"
   ]
  },
  {
   "cell_type": "code",
   "execution_count": 50,
   "metadata": {},
   "outputs": [],
   "source": [
    "df1.reset_index(drop=True,inplace=True)"
   ]
  },
  {
   "cell_type": "code",
   "execution_count": 51,
   "metadata": {},
   "outputs": [
    {
     "name": "stdout",
     "output_type": "stream",
     "text": [
      "<class 'pandas.core.frame.DataFrame'>\n",
      "RangeIndex: 6276 entries, 0 to 6275\n",
      "Data columns (total 15 columns):\n",
      " #   Column                  Non-Null Count  Dtype \n",
      "---  ------                  --------------  ----- \n",
      " 0   Srno                    6276 non-null   int64 \n",
      " 1   TranslatedRecipeName    6276 non-null   object\n",
      " 2   TranslatedIngredients   6276 non-null   object\n",
      " 3   PrepTimeInMins          6276 non-null   int64 \n",
      " 4   CookTimeInMins          6276 non-null   int64 \n",
      " 5   TotalTimeInMins         6276 non-null   int64 \n",
      " 6   Servings                6276 non-null   int64 \n",
      " 7   Cuisine                 6276 non-null   object\n",
      " 8   Course                  6276 non-null   object\n",
      " 9   Diet                    6276 non-null   object\n",
      " 10  TranslatedInstructions  6276 non-null   object\n",
      " 11  URL                     6276 non-null   object\n",
      " 12  lang                    6276 non-null   object\n",
      " 13  P-Ingredients           6276 non-null   object\n",
      " 14  flag                    6276 non-null   int64 \n",
      "dtypes: int64(6), object(9)\n",
      "memory usage: 735.6+ KB\n"
     ]
    }
   ],
   "source": [
    "df1.info()"
   ]
  },
  {
   "cell_type": "code",
   "execution_count": 19,
   "metadata": {},
   "outputs": [],
   "source": [
    "rows=6269"
   ]
  },
  {
   "cell_type": "code",
   "execution_count": 52,
   "metadata": {},
   "outputs": [
    {
     "name": "stdout",
     "output_type": "stream",
     "text": [
      "61.400166034698486\n"
     ]
    }
   ],
   "source": [
    "def Cook2(Pingredients):    \n",
    "        \"Comparing the Recipe Ingredients and User Ingredients and decreasing count value for each Recipe ingredient missing.\\\n",
    "        Count describes the no. of ingredients missing from user ingredients to make that recipe.\"\n",
    "        flag,count=0,0\n",
    "        for i in set(Pingredients.split(\",\")):\n",
    "            for j in  user_ingredients.split(\",\"):\n",
    "                if fuzz.token_set_ratio(i,j)>80:                    \n",
    "                    flag=1 \n",
    "                    break\n",
    "            if (flag==0):\n",
    "                count-=1\n",
    "            else:\n",
    "                flag=0\n",
    "        return count"
   ]
  },
  {
   "cell_type": "code",
   "execution_count": null,
   "metadata": {},
   "outputs": [],
   "source": [
    "df[\"flag\"]=df[\"P-Ingredients\"].apply(Cook2)"
   ]
  },
  {
   "cell_type": "code",
   "execution_count": 53,
   "metadata": {},
   "outputs": [
    {
     "data": {
      "text/plain": [
       "'coconut milk, water, chana lentils, green chillies do more less you wish, oil, mustard, small Spoon turmeric powder, cumin seeds, curry leaves little, salt , coriander leaves little'"
      ]
     },
     "execution_count": 53,
     "metadata": {},
     "output_type": "execute_result"
    }
   ],
   "source": [
    "df1.loc[93,\"P-Ingredients\"]"
   ]
  },
  {
   "cell_type": "code",
   "execution_count": 54,
   "metadata": {},
   "outputs": [
    {
     "data": {
      "text/plain": [
       "4     654\n",
       "0     532\n",
       "6     449\n",
       "12    429\n",
       "11    424\n",
       "8     395\n",
       "9     394\n",
       "13    379\n",
       "10    373\n",
       "5     352\n",
       "14    306\n",
       "7     284\n",
       "15    260\n",
       "3     256\n",
       "16    175\n",
       "2     171\n",
       "1     161\n",
       "17    112\n",
       "18     84\n",
       "19     43\n",
       "20     19\n",
       "21     13\n",
       "22      8\n",
       "24      1\n",
       "26      1\n",
       "23      1\n",
       "Name: flag, dtype: int64"
      ]
     },
     "execution_count": 54,
     "metadata": {},
     "output_type": "execute_result"
    }
   ],
   "source": [
    "df1[\"flag\"].value_counts()"
   ]
  },
  {
   "cell_type": "code",
   "execution_count": 55,
   "metadata": {},
   "outputs": [
    {
     "data": {
      "text/html": [
       "<div>\n",
       "<style scoped>\n",
       "    .dataframe tbody tr th:only-of-type {\n",
       "        vertical-align: middle;\n",
       "    }\n",
       "\n",
       "    .dataframe tbody tr th {\n",
       "        vertical-align: top;\n",
       "    }\n",
       "\n",
       "    .dataframe thead th {\n",
       "        text-align: right;\n",
       "    }\n",
       "</style>\n",
       "<table border=\"1\" class=\"dataframe\">\n",
       "  <thead>\n",
       "    <tr style=\"text-align: right;\">\n",
       "      <th></th>\n",
       "      <th>Srno</th>\n",
       "      <th>TranslatedRecipeName</th>\n",
       "      <th>TranslatedIngredients</th>\n",
       "      <th>PrepTimeInMins</th>\n",
       "      <th>CookTimeInMins</th>\n",
       "      <th>TotalTimeInMins</th>\n",
       "      <th>Servings</th>\n",
       "      <th>Cuisine</th>\n",
       "      <th>Course</th>\n",
       "      <th>Diet</th>\n",
       "      <th>TranslatedInstructions</th>\n",
       "      <th>URL</th>\n",
       "      <th>lang</th>\n",
       "      <th>P-Ingredients</th>\n",
       "      <th>flag</th>\n",
       "    </tr>\n",
       "  </thead>\n",
       "  <tbody>\n",
       "    <tr>\n",
       "      <th>3293</th>\n",
       "      <td>4502</td>\n",
       "      <td>Rasawala Dhokla Recipe</td>\n",
       "      <td>2 cups Gram flour (besan),1/2 cup Curd (Dahi /...</td>\n",
       "      <td>5</td>\n",
       "      <td>10</td>\n",
       "      <td>15</td>\n",
       "      <td>4</td>\n",
       "      <td>Gujarati Recipes﻿</td>\n",
       "      <td>North Indian Breakfast</td>\n",
       "      <td>Vegetarian</td>\n",
       "      <td>To begin making the Rasawala Dhokla recipe, in...</td>\n",
       "      <td>http://www.archanaskitchen.com/rasawala-dhokla...</td>\n",
       "      <td>en</td>\n",
       "      <td>Gram flour (besan), Curd (Dahi Yogurt), Green ...</td>\n",
       "      <td>26</td>\n",
       "    </tr>\n",
       "    <tr>\n",
       "      <th>4847</th>\n",
       "      <td>7665</td>\n",
       "      <td>Maharashtrian Golyachi Amti Recipe (Besan Ball...</td>\n",
       "      <td>1 cup Gram flour (besan),1 tablespoon Sunflowe...</td>\n",
       "      <td>10</td>\n",
       "      <td>20</td>\n",
       "      <td>30</td>\n",
       "      <td>4</td>\n",
       "      <td>Maharashtrian Recipes</td>\n",
       "      <td>Side Dish</td>\n",
       "      <td>Vegetarian</td>\n",
       "      <td>To Make Balls/Golyachi (kofta)To begin Maharas...</td>\n",
       "      <td>http://www.archanaskitchen.com/maharashtrian-g...</td>\n",
       "      <td>en</td>\n",
       "      <td>Gram flour (besan), Sunflower Oil, Ajwain (Car...</td>\n",
       "      <td>24</td>\n",
       "    </tr>\n",
       "    <tr>\n",
       "      <th>647</th>\n",
       "      <td>714</td>\n",
       "      <td>Dal Dhokli Recipe With Sprouted Moong Dal</td>\n",
       "      <td>3/4 cup Whole Wheat Flour,1/4 cup Gram flour (...</td>\n",
       "      <td>10</td>\n",
       "      <td>45</td>\n",
       "      <td>55</td>\n",
       "      <td>4</td>\n",
       "      <td>Gujarati Recipes﻿</td>\n",
       "      <td>Lunch</td>\n",
       "      <td>Vegetarian</td>\n",
       "      <td>To begin making the Dal Dhokli Recipe With Spr...</td>\n",
       "      <td>https://www.archanaskitchen.com/dal-dhokli-rec...</td>\n",
       "      <td>en</td>\n",
       "      <td>Wheat Flour, Gram flour (besan), Red Chilli po...</td>\n",
       "      <td>23</td>\n",
       "    </tr>\n",
       "    <tr>\n",
       "      <th>5386</th>\n",
       "      <td>9153</td>\n",
       "      <td>Tindora Ka Salan Recipe</td>\n",
       "      <td>250 grams Tindora (Dondakaya/ Kovakkai) - slit...</td>\n",
       "      <td>10</td>\n",
       "      <td>20</td>\n",
       "      <td>30</td>\n",
       "      <td>4</td>\n",
       "      <td>North Indian Recipes</td>\n",
       "      <td>Side Dish</td>\n",
       "      <td>Vegetarian</td>\n",
       "      <td>To begin making the Tindora Ka Salan Recipe, d...</td>\n",
       "      <td>https://www.archanaskitchen.com/tindora-ka-sal...</td>\n",
       "      <td>en</td>\n",
       "      <td>Tindora (Dondakaya Kovakkai) slitted keeping t...</td>\n",
       "      <td>22</td>\n",
       "    </tr>\n",
       "    <tr>\n",
       "      <th>4304</th>\n",
       "      <td>6410</td>\n",
       "      <td>Andhra Style Mukkala Pulusu Recipe-Mixed Veget...</td>\n",
       "      <td>1/4 cup Mangalorean cucumber - cut into small ...</td>\n",
       "      <td>10</td>\n",
       "      <td>20</td>\n",
       "      <td>30</td>\n",
       "      <td>4</td>\n",
       "      <td>Andhra</td>\n",
       "      <td>Lunch</td>\n",
       "      <td>Vegetarian</td>\n",
       "      <td>To begin making the Mukkala Pulusu Recipe, fir...</td>\n",
       "      <td>https://www.archanaskitchen.com/mukkala-pulusu...</td>\n",
       "      <td>en</td>\n",
       "      <td>Mangalorean cucumber cut into small chunks, Ca...</td>\n",
       "      <td>22</td>\n",
       "    </tr>\n",
       "    <tr>\n",
       "      <th>302</th>\n",
       "      <td>323</td>\n",
       "      <td>Kurkuri Bhindi With Spicy Tomato Yogurt Gravy ...</td>\n",
       "      <td>250 grams Bhindi (Lady Finger/Okra),Sunflower ...</td>\n",
       "      <td>20</td>\n",
       "      <td>40</td>\n",
       "      <td>60</td>\n",
       "      <td>4</td>\n",
       "      <td>North Indian Recipes</td>\n",
       "      <td>Lunch</td>\n",
       "      <td>Vegetarian</td>\n",
       "      <td>To begin making the Kurkuri Bhindi With Spicy ...</td>\n",
       "      <td>http://www.archanaskitchen.com/kurkuri-bhindi-...</td>\n",
       "      <td>en</td>\n",
       "      <td>Bhindi (Lady FingerOkra),Sunflower Oil deep , ...</td>\n",
       "      <td>22</td>\n",
       "    </tr>\n",
       "    <tr>\n",
       "      <th>3815</th>\n",
       "      <td>5474</td>\n",
       "      <td>Aloo Bonda Recipe (Deep Fried Snack With Potat...</td>\n",
       "      <td>5 Potatoes (Aloo) - boiled,2 teaspoon Mustard ...</td>\n",
       "      <td>10</td>\n",
       "      <td>45</td>\n",
       "      <td>55</td>\n",
       "      <td>2</td>\n",
       "      <td>Bengali Recipes</td>\n",
       "      <td>Snack</td>\n",
       "      <td>Vegetarian</td>\n",
       "      <td>To begin making the Aloo Bonda recipe, firstly...</td>\n",
       "      <td>http://www.archanaskitchen.com/aloo-bonda-reci...</td>\n",
       "      <td>en</td>\n",
       "      <td>Potatoes (Aloo) , Mustard seeds, Cumin seeds (...</td>\n",
       "      <td>22</td>\n",
       "    </tr>\n",
       "    <tr>\n",
       "      <th>6062</th>\n",
       "      <td>12021</td>\n",
       "      <td>Mangalorean Style Bendekayi Huli Koddel Recipe...</td>\n",
       "      <td>2 cups Bhindi (Lady Finger/Okra),1 cup Yellow ...</td>\n",
       "      <td>10</td>\n",
       "      <td>30</td>\n",
       "      <td>40</td>\n",
       "      <td>4</td>\n",
       "      <td>Mangalorean</td>\n",
       "      <td>Lunch</td>\n",
       "      <td>Vegetarian</td>\n",
       "      <td>To begin making the Mangalorean Style Bendekay...</td>\n",
       "      <td>https://www.archanaskitchen.com/mangalorean-st...</td>\n",
       "      <td>en</td>\n",
       "      <td>Bhindi (Lady FingerOkra), Yellow Moong Dal (Sp...</td>\n",
       "      <td>22</td>\n",
       "    </tr>\n",
       "    <tr>\n",
       "      <th>333</th>\n",
       "      <td>358</td>\n",
       "      <td>Potato Stuffed Dal Dhokli Recipe</td>\n",
       "      <td>1 cup Whole Wheat Flour,Salt - to taste,1 tabl...</td>\n",
       "      <td>25</td>\n",
       "      <td>75</td>\n",
       "      <td>100</td>\n",
       "      <td>4</td>\n",
       "      <td>North Indian Recipes</td>\n",
       "      <td>Lunch</td>\n",
       "      <td>Vegetarian</td>\n",
       "      <td>To prepare Potato Stuffed Dal Dhokli Recipe, g...</td>\n",
       "      <td>https://www.archanaskitchen.com/potato-stuffed...</td>\n",
       "      <td>en</td>\n",
       "      <td>Wheat Flour,Salt , Sunflower Oil,Whole Wheat F...</td>\n",
       "      <td>22</td>\n",
       "    </tr>\n",
       "    <tr>\n",
       "      <th>3173</th>\n",
       "      <td>4285</td>\n",
       "      <td>Makai Dhokla Recipe - Savoury Steamed Corn Cake</td>\n",
       "      <td>1 cup Sweet corn,1 cup Corn meal,1/2 cup Curd ...</td>\n",
       "      <td>20</td>\n",
       "      <td>45</td>\n",
       "      <td>65</td>\n",
       "      <td>4</td>\n",
       "      <td>Gujarati Recipes﻿</td>\n",
       "      <td>Snack</td>\n",
       "      <td>High Protein Vegetarian</td>\n",
       "      <td>To begin making the Makai Dhokla, firstly crus...</td>\n",
       "      <td>http://www.archanaskitchen.com/makai-dhokla-sa...</td>\n",
       "      <td>en</td>\n",
       "      <td>Sweet corn, Corn meal, Curd (Dahi Yogurt) whis...</td>\n",
       "      <td>22</td>\n",
       "    </tr>\n",
       "  </tbody>\n",
       "</table>\n",
       "</div>"
      ],
      "text/plain": [
       "       Srno                               TranslatedRecipeName  \\\n",
       "3293   4502                             Rasawala Dhokla Recipe   \n",
       "4847   7665  Maharashtrian Golyachi Amti Recipe (Besan Ball...   \n",
       "647     714          Dal Dhokli Recipe With Sprouted Moong Dal   \n",
       "5386   9153                            Tindora Ka Salan Recipe   \n",
       "4304   6410  Andhra Style Mukkala Pulusu Recipe-Mixed Veget...   \n",
       "302     323  Kurkuri Bhindi With Spicy Tomato Yogurt Gravy ...   \n",
       "3815   5474  Aloo Bonda Recipe (Deep Fried Snack With Potat...   \n",
       "6062  12021  Mangalorean Style Bendekayi Huli Koddel Recipe...   \n",
       "333     358                   Potato Stuffed Dal Dhokli Recipe   \n",
       "3173   4285    Makai Dhokla Recipe - Savoury Steamed Corn Cake   \n",
       "\n",
       "                                  TranslatedIngredients  PrepTimeInMins  \\\n",
       "3293  2 cups Gram flour (besan),1/2 cup Curd (Dahi /...               5   \n",
       "4847  1 cup Gram flour (besan),1 tablespoon Sunflowe...              10   \n",
       "647   3/4 cup Whole Wheat Flour,1/4 cup Gram flour (...              10   \n",
       "5386  250 grams Tindora (Dondakaya/ Kovakkai) - slit...              10   \n",
       "4304  1/4 cup Mangalorean cucumber - cut into small ...              10   \n",
       "302   250 grams Bhindi (Lady Finger/Okra),Sunflower ...              20   \n",
       "3815  5 Potatoes (Aloo) - boiled,2 teaspoon Mustard ...              10   \n",
       "6062  2 cups Bhindi (Lady Finger/Okra),1 cup Yellow ...              10   \n",
       "333   1 cup Whole Wheat Flour,Salt - to taste,1 tabl...              25   \n",
       "3173  1 cup Sweet corn,1 cup Corn meal,1/2 cup Curd ...              20   \n",
       "\n",
       "      CookTimeInMins  TotalTimeInMins  Servings                Cuisine  \\\n",
       "3293              10               15         4      Gujarati Recipes﻿   \n",
       "4847              20               30         4  Maharashtrian Recipes   \n",
       "647               45               55         4      Gujarati Recipes﻿   \n",
       "5386              20               30         4   North Indian Recipes   \n",
       "4304              20               30         4                 Andhra   \n",
       "302               40               60         4   North Indian Recipes   \n",
       "3815              45               55         2        Bengali Recipes   \n",
       "6062              30               40         4            Mangalorean   \n",
       "333               75              100         4   North Indian Recipes   \n",
       "3173              45               65         4      Gujarati Recipes﻿   \n",
       "\n",
       "                      Course                     Diet  \\\n",
       "3293  North Indian Breakfast               Vegetarian   \n",
       "4847               Side Dish               Vegetarian   \n",
       "647                    Lunch               Vegetarian   \n",
       "5386               Side Dish               Vegetarian   \n",
       "4304                   Lunch               Vegetarian   \n",
       "302                    Lunch               Vegetarian   \n",
       "3815                   Snack               Vegetarian   \n",
       "6062                   Lunch               Vegetarian   \n",
       "333                    Lunch               Vegetarian   \n",
       "3173                   Snack  High Protein Vegetarian   \n",
       "\n",
       "                                 TranslatedInstructions  \\\n",
       "3293  To begin making the Rasawala Dhokla recipe, in...   \n",
       "4847  To Make Balls/Golyachi (kofta)To begin Maharas...   \n",
       "647   To begin making the Dal Dhokli Recipe With Spr...   \n",
       "5386  To begin making the Tindora Ka Salan Recipe, d...   \n",
       "4304  To begin making the Mukkala Pulusu Recipe, fir...   \n",
       "302   To begin making the Kurkuri Bhindi With Spicy ...   \n",
       "3815  To begin making the Aloo Bonda recipe, firstly...   \n",
       "6062  To begin making the Mangalorean Style Bendekay...   \n",
       "333   To prepare Potato Stuffed Dal Dhokli Recipe, g...   \n",
       "3173  To begin making the Makai Dhokla, firstly crus...   \n",
       "\n",
       "                                                    URL lang  \\\n",
       "3293  http://www.archanaskitchen.com/rasawala-dhokla...   en   \n",
       "4847  http://www.archanaskitchen.com/maharashtrian-g...   en   \n",
       "647   https://www.archanaskitchen.com/dal-dhokli-rec...   en   \n",
       "5386  https://www.archanaskitchen.com/tindora-ka-sal...   en   \n",
       "4304  https://www.archanaskitchen.com/mukkala-pulusu...   en   \n",
       "302   http://www.archanaskitchen.com/kurkuri-bhindi-...   en   \n",
       "3815  http://www.archanaskitchen.com/aloo-bonda-reci...   en   \n",
       "6062  https://www.archanaskitchen.com/mangalorean-st...   en   \n",
       "333   https://www.archanaskitchen.com/potato-stuffed...   en   \n",
       "3173  http://www.archanaskitchen.com/makai-dhokla-sa...   en   \n",
       "\n",
       "                                          P-Ingredients  flag  \n",
       "3293  Gram flour (besan), Curd (Dahi Yogurt), Green ...    26  \n",
       "4847  Gram flour (besan), Sunflower Oil, Ajwain (Car...    24  \n",
       "647   Wheat Flour, Gram flour (besan), Red Chilli po...    23  \n",
       "5386  Tindora (Dondakaya Kovakkai) slitted keeping t...    22  \n",
       "4304  Mangalorean cucumber cut into small chunks, Ca...    22  \n",
       "302   Bhindi (Lady FingerOkra),Sunflower Oil deep , ...    22  \n",
       "3815  Potatoes (Aloo) , Mustard seeds, Cumin seeds (...    22  \n",
       "6062  Bhindi (Lady FingerOkra), Yellow Moong Dal (Sp...    22  \n",
       "333   Wheat Flour,Salt , Sunflower Oil,Whole Wheat F...    22  \n",
       "3173  Sweet corn, Corn meal, Curd (Dahi Yogurt) whis...    22  "
      ]
     },
     "execution_count": 55,
     "metadata": {},
     "output_type": "execute_result"
    }
   ],
   "source": [
    "df1.sort_values(by=\"flag\",ascending=False).head(10)"
   ]
  },
  {
   "cell_type": "code",
   "execution_count": null,
   "metadata": {},
   "outputs": [],
   "source": [
    "df1.reset_index(drop=True,inplace=True)"
   ]
  },
  {
   "cell_type": "code",
   "execution_count": null,
   "metadata": {},
   "outputs": [],
   "source": [
    "df1.drop([5743,5173,4846,4125,3766,422,80,442,583,4994,5466,5463,5440,5383,5374,4994,1571,3311,3222,2305,1571,605,423],inplace=True)"
   ]
  },
  {
   "cell_type": "code",
   "execution_count": null,
   "metadata": {},
   "outputs": [],
   "source": [
    "df.reset_index(drop=True,inplace=True)"
   ]
  },
  {
   "cell_type": "code",
   "execution_count": 56,
   "metadata": {},
   "outputs": [],
   "source": [
    "df1.to_csv('df-en-processed.csv',index=False)"
   ]
  },
  {
   "cell_type": "markdown",
   "metadata": {},
   "source": [
    "To Preprocess Instructions"
   ]
  },
  {
   "cell_type": "code",
   "execution_count": 2,
   "metadata": {},
   "outputs": [],
   "source": [
    "df=pd.read_csv(\"df-en-processed.csv\")"
   ]
  },
  {
   "cell_type": "code",
   "execution_count": 16,
   "metadata": {},
   "outputs": [
    {
     "data": {
      "text/plain": [
       "'To begin making\\xa0Pudina Khara Pongal Recipe, wash and soak the rice and dal for 20 minutes.Make a paste of mint/pudina, coriander, green chilli and ginger using a mixer grinder and keep aside.Now, heat oil in the pressure cooker, add the cumin seeds and let it crackle.Add the soaked rice and dal and fry for a few minutes.Add the mint coriander paste and saute for a minute.Add 5 cups of water, season with salt and pressure cook for 4 to 5 whistles and keep aside.In the mean prepare the tadka by heating ghee in a small tadka pan.Add in the cumin seeds, peppercorns and let it crackle.Add the cashew halves and fry till they turn golden.Add the curry leaves and asafoetida and turn off the flame.Once the pressure has been released, open the lid and mash the pongal mixture.Add in the tadka over it and\\xa0Serve the Pudina Khara Pongal Recipe along with\\xa0Kathirikai Gothsu Recipe (Spicy and Tangy Eggplant Curry)and\\xa0South Indian Coconut Chutney\\xa0for a relaxed weekend breakfast.'"
      ]
     },
     "execution_count": 16,
     "metadata": {},
     "output_type": "execute_result"
    }
   ],
   "source": [
    "df.loc[5,\"TranslatedInstructions\"]"
   ]
  },
  {
   "cell_type": "code",
   "execution_count": 23,
   "metadata": {},
   "outputs": [],
   "source": [
    "def pre(text):\n",
    "\n",
    "    delword=\"\\xa0,\\n\"    \n",
    "    for i in delword.split(\",\"):\n",
    "        text = text.replace(i, ' ')\n",
    "    return text"
   ]
  },
  {
   "cell_type": "code",
   "execution_count": 22,
   "metadata": {},
   "outputs": [],
   "source": [
    "testtext='To begin making\\xa0Pudina Khara Pongal Recipe, wash and soak the rice and dal for 20 minutes.Make a paste of mint/pudina, coriander, green chilli and ginger using a mixer grinder and keep aside.Now, heat oil in the pressure cooker, add the cumin seeds and let it crackle.Add the soaked rice and dal and fry for a few minutes.Add the mint coriander paste and saute for a minute.Add 5 cups of water, season with salt and pressure cook for 4 to 5 whistles and keep aside.In the mean prepare the tadka by heating ghee in a small tadka pan.Add in the cumin seeds, peppercorns and let it crackle.Add the cashew halves and fry till they turn golden.Add the curry leaves and asafoetida and turn off the flame.Once the pressure has been released, open the lid and mash the pongal mixture.Add in the tadka over it and\\xa0Serve the Pudina Khara Pongal Recipe along with\\xa0Kathirikai Gothsu Recipe (Spicy and Tangy Eggplant Curry)and\\xa0South Indian Coconut Chutney\\xa0for a relaxed weekend breakfast.'"
   ]
  },
  {
   "cell_type": "code",
   "execution_count": 24,
   "metadata": {},
   "outputs": [],
   "source": [
    "d=pre(testtext)"
   ]
  },
  {
   "cell_type": "code",
   "execution_count": 25,
   "metadata": {},
   "outputs": [
    {
     "data": {
      "text/plain": [
       "'To begin making Pudina Khara Pongal Recipe, wash and soak the rice and dal for 20 minutes.Make a paste of mint/pudina, coriander, green chilli and ginger using a mixer grinder and keep aside.Now, heat oil in the pressure cooker, add the cumin seeds and let it crackle.Add the soaked rice and dal and fry for a few minutes.Add the mint coriander paste and saute for a minute.Add 5 cups of water, season with salt and pressure cook for 4 to 5 whistles and keep aside.In the mean prepare the tadka by heating ghee in a small tadka pan.Add in the cumin seeds, peppercorns and let it crackle.Add the cashew halves and fry till they turn golden.Add the curry leaves and asafoetida and turn off the flame.Once the pressure has been released, open the lid and mash the pongal mixture.Add in the tadka over it and Serve the Pudina Khara Pongal Recipe along with Kathirikai Gothsu Recipe (Spicy and Tangy Eggplant Curry)and South Indian Coconut Chutney for a relaxed weekend breakfast.'"
      ]
     },
     "execution_count": 25,
     "metadata": {},
     "output_type": "execute_result"
    }
   ],
   "source": [
    "d"
   ]
  },
  {
   "cell_type": "code",
   "execution_count": 26,
   "metadata": {},
   "outputs": [
    {
     "data": {
      "text/plain": [
       "Index(['TranslatedRecipeName', 'TranslatedIngredients', 'PrepTimeInMins',\n",
       "       'CookTimeInMins', 'TotalTimeInMins', 'Servings', 'Cuisine', 'Course',\n",
       "       'Diet', 'TranslatedInstructions', 'URL', 'lang', 'P-Ingredients',\n",
       "       'flag'],\n",
       "      dtype='object')"
      ]
     },
     "execution_count": 26,
     "metadata": {},
     "output_type": "execute_result"
    }
   ],
   "source": [
    "df.columns"
   ]
  },
  {
   "cell_type": "code",
   "execution_count": 27,
   "metadata": {},
   "outputs": [],
   "source": [
    "df[\"instruc-lang\"]=df[\"TranslatedInstructions\"].apply(lambda x:detect(x))"
   ]
  },
  {
   "cell_type": "code",
   "execution_count": 28,
   "metadata": {},
   "outputs": [
    {
     "data": {
      "text/plain": [
       "en    5990\n",
       "hi     265\n",
       "Name: instruc-lang, dtype: int64"
      ]
     },
     "execution_count": 28,
     "metadata": {},
     "output_type": "execute_result"
    }
   ],
   "source": [
    "df[\"instruc-lang\"].value_counts()"
   ]
  },
  {
   "cell_type": "code",
   "execution_count": 29,
   "metadata": {},
   "outputs": [],
   "source": [
    "df=df[df[\"instruc-lang\"]==\"en\"]"
   ]
  },
  {
   "cell_type": "code",
   "execution_count": 31,
   "metadata": {},
   "outputs": [
    {
     "name": "stderr",
     "output_type": "stream",
     "text": [
      "C:\\Users\\soory\\.conda\\envs\\tensorflow\\lib\\site-packages\\ipykernel_launcher.py:1: SettingWithCopyWarning: \n",
      "A value is trying to be set on a copy of a slice from a DataFrame.\n",
      "Try using .loc[row_indexer,col_indexer] = value instead\n",
      "\n",
      "See the caveats in the documentation: https://pandas.pydata.org/pandas-docs/stable/user_guide/indexing.html#returning-a-view-versus-a-copy\n",
      "  \"\"\"Entry point for launching an IPython kernel.\n"
     ]
    }
   ],
   "source": [
    "df[\"TranslatedInstructions\"]=df[\"TranslatedInstructions\"].apply(pre)"
   ]
  },
  {
   "cell_type": "code",
   "execution_count": 34,
   "metadata": {},
   "outputs": [
    {
     "data": {
      "text/plain": [
       "'To begin making the homemade baked beans recipe, we first have to soak the beans overnight for about 8 hours in water.We also have to make the cooked tomato puree. Click here to see the recipe of how to make tomato puree at home.Once the beans are soaked well, our next step is to cook them. I like using the pressure cooker method to cook the beans. Place the beans in the pressure, place the weight on, cover the pan and cook it along with 2-1/2 cups of water. After you heat 4 to 5 whistles, turn the heat to low and cook for another 15 minutes.Turn off the heat and allow the pressure cooker to release its pressure naturally. This would take another 10 minutes. The beans continue to cook under the pressure even when it is turned off.Once the pressure is released, open the cooker and drain out the excess liquids. You store this liquid and use it in the vegetable stock or risotto.Once the beans are cooked, our next step is to spice it up to make the baked beans.Heat oil in a sauce pan on medium heat; add in the onions and garlic and give it a light sauté until the onions are tender. Add the tomatoes, honey and the spices and give it a stir.Add in the cooked drained beans into the tomato gravy. Stir fry the beans until the beans get well coated with the tomatoes. Cover the pan, turn the heat to low and simmer the beans for about 30 minutes until you noticed the beans are well coated with the spices and tomatoes. Check the salt and seasoning levels and adjust to suit your taste.You can optionally garnish the Homemade Baked Beans with coriander leaves and serve it along with toast, or Potato Cakes Recipe.'"
      ]
     },
     "execution_count": 34,
     "metadata": {},
     "output_type": "execute_result"
    }
   ],
   "source": [
    "df.loc[10,\"TranslatedInstructions\"]"
   ]
  },
  {
   "cell_type": "code",
   "execution_count": 35,
   "metadata": {},
   "outputs": [],
   "source": [
    "df.to_csv('df-en-processed.csv',index=False)"
   ]
  },
  {
   "cell_type": "code",
   "execution_count": null,
   "metadata": {},
   "outputs": [],
   "source": [
    "\n",
    "df=pd.read_csv(\"df-en-processed.csv\")\n",
    "user_ingredients=\"Eggs hard & halved, Onion , Tomato , Coriander Powder (Dhania), Garam masala powder, Red Chilli powder, \\\n",
    "Cinnamon Stick (Dalchini), Cloves (Laung), Sunflower Oil,Salt , Coriander (Dhania) Seeds\"\n",
    "\n",
    "\n",
    "    \n",
    "    return Cookdf\n",
    "\n",
    "Cookdf=Cookman(df,user_ingredients)"
   ]
  },
  {
   "cell_type": "code",
   "execution_count": null,
   "metadata": {},
   "outputs": [],
   "source": [
    "def Cookman(df,user_ingredients):\n",
    "    def Cook2(Pingredients):    \n",
    "        \"Comparing the Recipe Ingredients and User Ingredients and decreasing count value for each Recipe ingredient missing.\\\n",
    "        Count describes the no. of ingredients missing from user ingredients to make that recipe.\"\n",
    "        flag,count=0,0\n",
    "        for i in set(Pingredients.split(\",\")):\n",
    "            for j in  user_ingredients.split(\",\"):\n",
    "                if fuzz.token_set_ratio(i,j)>80:                    \n",
    "                    flag=1 \n",
    "                    break\n",
    "            if (flag==0):\n",
    "                count-=1\n",
    "            else:\n",
    "                flag=0\n",
    "        return count\n",
    "    df[\"flag\"]=df[\"P-Ingredients\"].apply(Cook2)\n",
    "    Cookdf=df.sort_values(by=\"flag\",ascending=False).head(10)\n",
    "    def Missing(Cookdf):\n",
    "        flag=0\n",
    "        miss=\"\"\n",
    "        for i in set(Pingredients.split(\",\")):\n",
    "            for j in  user_ingredients.split(\",\"):\n",
    "                if fuzz.token_set_ratio(i,j)>80:                    \n",
    "                    flag=1 \n",
    "                    break\n",
    "            if (flag==0):\n",
    "                miss+=i+\",\"\n",
    "            miss = miss[:-1]+\".\"\n",
    "            else:\n",
    "                flag=0\n",
    "        return miss\n",
    "    Cookdf[\"Missing\"]=Cookdf[\"P-Ingredients\"].apply(Missing)\n",
    "    return Cookdf"
   ]
  },
  {
   "cell_type": "code",
   "execution_count": 46,
   "metadata": {},
   "outputs": [],
   "source": [
    "miss=\"\"\n",
    "i=[\"hi\",\"bi\"]\n",
    "for b in i:    \n",
    "   miss+=b+\",\"\n",
    "miss = miss[:-1]+\".\""
   ]
  },
  {
   "cell_type": "code",
   "execution_count": 47,
   "metadata": {},
   "outputs": [
    {
     "data": {
      "text/plain": [
       "'hi,bi.'"
      ]
     },
     "execution_count": 47,
     "metadata": {},
     "output_type": "execute_result"
    }
   ],
   "source": [
    "miss"
   ]
  },
  {
   "cell_type": "code",
   "execution_count": null,
   "metadata": {},
   "outputs": [],
   "source": []
  }
 ],
 "metadata": {
  "kernelspec": {
   "display_name": "Python 3",
   "language": "python",
   "name": "python3"
  },
  "language_info": {
   "codemirror_mode": {
    "name": "ipython",
    "version": 3
   },
   "file_extension": ".py",
   "mimetype": "text/x-python",
   "name": "python",
   "nbconvert_exporter": "python",
   "pygments_lexer": "ipython3",
   "version": "3.6.12"
  }
 },
 "nbformat": 4,
 "nbformat_minor": 4
}
