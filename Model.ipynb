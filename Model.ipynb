{
 "cells": [
  {
   "cell_type": "code",
   "execution_count": 1,
   "metadata": {},
   "outputs": [],
   "source": [
    "import pandas as pd\n",
    "import numpy as np\n",
    "import fuzzywuzzy.fuzz as fuzz\n",
    "import time"
   ]
  },
  {
   "cell_type": "code",
   "execution_count": 2,
   "metadata": {},
   "outputs": [],
   "source": [
    "df=pd.read_csv(\"df-en-processed.csv\")"
   ]
  },
  {
   "cell_type": "code",
   "execution_count": 153,
   "metadata": {},
   "outputs": [
    {
     "data": {
      "text/plain": [
       "array(['Kabuli Chana (White Chickpeas) Soaked Overnight, Onions in chunks, Green Bell Pepper (Capsicum) in chunks, cloves Garlic , inch Ginger , Green Chilli Slit, Tomato Pureed, Cinnamon Stick (Dalchini), Cloves (Laung), Bay leaf (tej patta), Black cardamom (Badi Elaichi), Coriander Powder (Dhania), Cumin powder (Jeera), Kashmiri Red Chilli Powder, Amchur (Dry Mango Powder), Garam masala powder, Ajwain (Carom seeds), Ghee,Salt',\n",
       "       'Gram flour (besan),Sugar (grinded) , Badam (Almond), Pistachios, Chironji, Melon seeds, Fox nuts, Fresh coconut , Ghee, Cardamom (Elaichi) PodsSeeds, Cashew nuts',\n",
       "       'Quinoa, Sugar, Cardamom Powder (Elaichi), Milk vegans can substitute this ingredient with almond milk, Condensed Milk khoya (mawa), Ghee, Saffron strands,Mixed nuts'],\n",
       "      dtype=object)"
      ]
     },
     "execution_count": 153,
     "metadata": {},
     "output_type": "execute_result"
    }
   ],
   "source": [
    "df[\"P-Ingredients\"].sample(3).values"
   ]
  },
  {
   "cell_type": "code",
   "execution_count": 23,
   "metadata": {},
   "outputs": [],
   "source": [
    "user_ingredients=\"Eggs hard & halved, Onion , Tomato , Coriander Powder (Dhania), Garam masala powder, Red Chilli powder, Cinnamon Stick (Dalchini), Cloves (Laung), Sunflower Oil,Salt , Coriander (Dhania) Seeds\""
   ]
  },
  {
   "cell_type": "code",
   "execution_count": 34,
   "metadata": {},
   "outputs": [],
   "source": [
    "def Cook2(Pingredients):    \n",
    "        \"Comparing the Recipe Ingredients and User Ingredients and decreasing count value for each Recipe ingredient missing.\\\n",
    "        Count describes the no. of ingredients missing from user ingredients to make that recipe.\"\n",
    "        flag,count=0,0\n",
    "        for i in set(Pingredients.split(\",\")):\n",
    "            for j in  user_ingredients.split(\",\"):\n",
    "                if fuzz.token_set_ratio(i,j)>80:                    \n",
    "                    flag=1 \n",
    "                    break\n",
    "            if (flag==0):\n",
    "                count-=1\n",
    "            else:\n",
    "                flag=0\n",
    "        return count"
   ]
  },
  {
   "cell_type": "code",
   "execution_count": 35,
   "metadata": {},
   "outputs": [
    {
     "name": "stdout",
     "output_type": "stream",
     "text": [
      "13.805257320404053\n"
     ]
    }
   ],
   "source": [
    "start=time.time()\n",
    "df[\"flag\"]=df[\"P-Ingredients\"].apply(Cook2)\n",
    "end=time.time()\n",
    "print(end-start)"
   ]
  },
  {
   "cell_type": "code",
   "execution_count": 36,
   "metadata": {},
   "outputs": [
    {
     "data": {
      "text/plain": [
       "-10    578\n",
       "-11    567\n",
       "-9     567\n",
       "-12    517\n",
       "-13    498\n",
       "-8     452\n",
       "-14    410\n",
       "-7     387\n",
       "-15    345\n",
       "-6     335\n",
       "-16    275\n",
       "-5     230\n",
       "-17    194\n",
       "-4     173\n",
       "-18    168\n",
       "-3     109\n",
       "-19    100\n",
       "-20     74\n",
       "-22     58\n",
       "-21     53\n",
       "-2      38\n",
       "-23     32\n",
       "-24     27\n",
       "-25     22\n",
       "-26     15\n",
       "-1       8\n",
       "-28      7\n",
       "-27      4\n",
       "-29      4\n",
       "-30      4\n",
       "-33      3\n",
       " 0       1\n",
       "Name: flag, dtype: int64"
      ]
     },
     "execution_count": 36,
     "metadata": {},
     "output_type": "execute_result"
    }
   ],
   "source": [
    "df[\"flag\"].value_counts()"
   ]
  },
  {
   "cell_type": "code",
   "execution_count": 41,
   "metadata": {},
   "outputs": [
    {
     "data": {
      "text/plain": [
       "2618    Fresh coconut , Jaggery crumbled, Cardamom Pow...\n",
       "3868    Walnuts, Sugar, Ghee, Cardamom (Elaichi) PodsS...\n",
       "3906    Idli dosa mixture sesame oil ghee, per the exp...\n",
       "4271               Gram flour (besan), Ghee, Sugar, Water\n",
       "4495    Gram flour (besan),Sugar (grinded) , Badam (Al...\n",
       "4902                    Badam (Almond), Milk, Sugar, Ghee\n",
       "5169    Mango Pulp (Puree), Sugar, Ghee greasing, Card...\n",
       "5713    Gram flour (besan), Ghee, Sugar, Water, Cardam...\n",
       "Name: P-Ingredients, dtype: object"
      ]
     },
     "execution_count": 41,
     "metadata": {},
     "output_type": "execute_result"
    }
   ],
   "source": [
    "df[df[\"flag\"]==-1][\"P-Ingredients\"]"
   ]
  },
  {
   "cell_type": "code",
   "execution_count": 40,
   "metadata": {},
   "outputs": [
    {
     "data": {
      "text/plain": [
       "'Gram flour (besan),Sugar (grinded) , Badam (Almond), Pistachios, Chironji, Melon seeds, Fox nuts, Fresh coconut , Ghee, Cardamom (Elaichi) PodsSeeds'"
      ]
     },
     "execution_count": 40,
     "metadata": {},
     "output_type": "execute_result"
    }
   ],
   "source": [
    "user_ingredients"
   ]
  },
  {
   "cell_type": "code",
   "execution_count": 42,
   "metadata": {},
   "outputs": [
    {
     "data": {
      "text/plain": [
       "array(['Gram flour (besan),Sugar (grinded) , Badam (Almond), Pistachios, Chironji, Melon seeds, Fox nuts, Fresh coconut , Ghee, Cardamom (Elaichi) PodsSeeds, Cashew nuts'],\n",
       "      dtype=object)"
      ]
     },
     "execution_count": 42,
     "metadata": {},
     "output_type": "execute_result"
    }
   ],
   "source": [
    "df.loc[4495,[\"P-Ingredients\"]].values#,\"TranslatedRecipeName\"]]"
   ]
  },
  {
   "cell_type": "code",
   "execution_count": 46,
   "metadata": {},
   "outputs": [
    {
     "data": {
      "text/plain": [
       "315      0\n",
       "5169    -1\n",
       "2618    -1\n",
       "4902    -1\n",
       "4271    -1\n",
       "        ..\n",
       "950    -30\n",
       "5260   -30\n",
       "1329   -33\n",
       "4163   -33\n",
       "151    -33\n",
       "Name: flag, Length: 6255, dtype: int64"
      ]
     },
     "execution_count": 46,
     "metadata": {},
     "output_type": "execute_result"
    }
   ],
   "source": [
    "Cookdf=df.sort_values(by=\"flag\",ascending=False).head(10)"
   ]
  },
  {
   "cell_type": "markdown",
   "metadata": {},
   "source": [
    "### Model:"
   ]
  },
  {
   "cell_type": "code",
   "execution_count": null,
   "metadata": {},
   "outputs": [],
   "source": [
    "def CookMan(df,user_ingredients):\n",
    "    def Cook2(Pingredients):    \n",
    "        \"Comparing the Recipe Ingredients and User Ingredients and decreasing count value for each Recipe ingredient missing.\\\n",
    "        Count describes the no. of ingredients missing from user ingredients to make that recipe.\"\n",
    "        flag,count=0,0\n",
    "        for i in set(Pingredients.split(\",\")):\n",
    "            for j in  user_ingredients.split(\",\"):\n",
    "                if fuzz.token_set_ratio(i,j)>80:                    \n",
    "                    flag=1 \n",
    "                    break\n",
    "            if (flag==0):\n",
    "                count-=1\n",
    "            else:\n",
    "                flag=0\n",
    "        return count\n",
    "    df[\"flag\"]=df[\"P-Ingredients\"].apply(Cook2)\n",
    "    Cookdf=df.sort_values(by=\"flag\",ascending=False).head(10)\n",
    "    return Cookdf"
   ]
  },
  {
   "cell_type": "markdown",
   "metadata": {},
   "source": [
    "# Full Code"
   ]
  },
  {
   "cell_type": "code",
   "execution_count": 23,
   "metadata": {},
   "outputs": [],
   "source": [
    "import pandas as pd\n",
    "import numpy as np\n",
    "import fuzzywuzzy.fuzz as fuzz\n",
    "\n",
    "df=pd.read_csv(\"df-en-processed.csv\")\n",
    "user_ingredients=\"Eggs hard & halved, Onion , Tomato , Coriander Powder (Dhania), Garam masala powder, Red Chilli powder, \\\n",
    "Cinnamon Stick (Dalchini), Cloves (Laung), Sunflower Oil,Salt , Coriander (Dhania) Seeds\"\n",
    "\n",
    "def Cookman(df,user_ingredients):\n",
    "    def Cook2(Pingredients):    \n",
    "        \"Comparing the Recipe Ingredients and User Ingredients and decreasing count value for each Recipe ingredient missing.\\\n",
    "        Count describes the no. of ingredients missing from user ingredients to make that recipe.\"\n",
    "        flag,count=0,0\n",
    "        for i in set(Pingredients.split(\",\")):\n",
    "            for j in  user_ingredients.split(\",\"):\n",
    "                if fuzz.token_set_ratio(i,j)>80:                    \n",
    "                    flag=1 \n",
    "                    break\n",
    "            if (flag==0):\n",
    "                count-=1\n",
    "            else:\n",
    "                flag=0\n",
    "        return count\n",
    "    df[\"flag\"]=df[\"P-Ingredients\"].apply(Cook2)\n",
    "    Cookdf=df.sort_values(by=\"flag\",ascending=False).head(10)\n",
    "    return Cookdf\n",
    "\n",
    "Cookdf=Cookman(df,user_ingredients)"
   ]
  },
  {
   "cell_type": "code",
   "execution_count": 24,
   "metadata": {},
   "outputs": [
    {
     "data": {
      "text/html": [
       "<div>\n",
       "<style scoped>\n",
       "    .dataframe tbody tr th:only-of-type {\n",
       "        vertical-align: middle;\n",
       "    }\n",
       "\n",
       "    .dataframe tbody tr th {\n",
       "        vertical-align: top;\n",
       "    }\n",
       "\n",
       "    .dataframe thead th {\n",
       "        text-align: right;\n",
       "    }\n",
       "</style>\n",
       "<table border=\"1\" class=\"dataframe\">\n",
       "  <thead>\n",
       "    <tr style=\"text-align: right;\">\n",
       "      <th></th>\n",
       "      <th>TranslatedRecipeName</th>\n",
       "      <th>TranslatedIngredients</th>\n",
       "      <th>PrepTimeInMins</th>\n",
       "      <th>CookTimeInMins</th>\n",
       "      <th>TotalTimeInMins</th>\n",
       "      <th>Servings</th>\n",
       "      <th>Cuisine</th>\n",
       "      <th>Course</th>\n",
       "      <th>Diet</th>\n",
       "      <th>TranslatedInstructions</th>\n",
       "      <th>URL</th>\n",
       "      <th>lang</th>\n",
       "      <th>P-Ingredients</th>\n",
       "      <th>flag</th>\n",
       "    </tr>\n",
       "  </thead>\n",
       "  <tbody>\n",
       "    <tr>\n",
       "      <th>1157</th>\n",
       "      <td>Crispy Crunchy Roti Ke Papad Recipe</td>\n",
       "      <td>4 Tawa Paratha - or rotis leftover,Sunflower O...</td>\n",
       "      <td>0</td>\n",
       "      <td>45</td>\n",
       "      <td>45</td>\n",
       "      <td>4</td>\n",
       "      <td>Indian</td>\n",
       "      <td>Snack</td>\n",
       "      <td>Vegetarian</td>\n",
       "      <td>To begin making the Crispy Crunchy Roti Ke Pap...</td>\n",
       "      <td>http://www.archanaskitchen.com/crispy-crunchy-...</td>\n",
       "      <td>en</td>\n",
       "      <td>Tawa Paratha rotis leftover,Sunflower Oil , Ch...</td>\n",
       "      <td>-1</td>\n",
       "    </tr>\n",
       "    <tr>\n",
       "      <th>2605</th>\n",
       "      <td>Multa Black Arabic Recipe (Arabic Gravy Steele)</td>\n",
       "      <td>500 grams Colocasia root (Arbi),Sunflower Oil ...</td>\n",
       "      <td>10</td>\n",
       "      <td>30</td>\n",
       "      <td>40</td>\n",
       "      <td>4</td>\n",
       "      <td>North Indian Recipes</td>\n",
       "      <td>Lunch</td>\n",
       "      <td>Vegetarian</td>\n",
       "      <td>To begin making the Multani Kaali Arbi Recipe,...</td>\n",
       "      <td>http://www.archanaskitchen.com/multani-kaali-a...</td>\n",
       "      <td>en</td>\n",
       "      <td>Colocasia root (Arbi),Sunflower Oil ,Salt , Re...</td>\n",
       "      <td>-1</td>\n",
       "    </tr>\n",
       "    <tr>\n",
       "      <th>2477</th>\n",
       "      <td>Whole Wheat Lachha Paratha Recipe-Multilayered...</td>\n",
       "      <td>2 cups Whole Wheat Flour,1 teaspoon Salt,Ghee ...</td>\n",
       "      <td>30</td>\n",
       "      <td>40</td>\n",
       "      <td>70</td>\n",
       "      <td>3</td>\n",
       "      <td>Indian</td>\n",
       "      <td>Dinner</td>\n",
       "      <td>Diabetic Friendly</td>\n",
       "      <td>To begin making the Whole Wheat Lachha Paratha...</td>\n",
       "      <td>https://www.archanaskitchen.com/whole-wheat-la...</td>\n",
       "      <td>en</td>\n",
       "      <td>Wheat Flour, Salt,Ghee to layer cooking parathas</td>\n",
       "      <td>-2</td>\n",
       "    </tr>\n",
       "    <tr>\n",
       "      <th>3721</th>\n",
       "      <td>Elo Jhelo Nimki Recipe</td>\n",
       "      <td>1-1/2 cups All Purpose Flour (Maida),Sunflower...</td>\n",
       "      <td>5</td>\n",
       "      <td>50</td>\n",
       "      <td>55</td>\n",
       "      <td>4</td>\n",
       "      <td>Bengali Recipes</td>\n",
       "      <td>Snack</td>\n",
       "      <td>Vegetarian</td>\n",
       "      <td>We begin making Elo Jhelo Nimki Recipe with ta...</td>\n",
       "      <td>https://www.archanaskitchen.com/elo-jhelo-nimk...</td>\n",
       "      <td>en</td>\n",
       "      <td>All Purpose Flour (Maida),Sunflower Oil to coo...</td>\n",
       "      <td>-2</td>\n",
       "    </tr>\n",
       "    <tr>\n",
       "      <th>4393</th>\n",
       "      <td>Jhurre Jhule Aloo Bhaja Recipe</td>\n",
       "      <td>2 Potatoes (Aloo),20 Curry leaves,1/2 teaspoon...</td>\n",
       "      <td>10</td>\n",
       "      <td>20</td>\n",
       "      <td>30</td>\n",
       "      <td>3</td>\n",
       "      <td>Bengali Recipes</td>\n",
       "      <td>Snack</td>\n",
       "      <td>Vegetarian</td>\n",
       "      <td>To begin making Jhure Jhure Aloo Bhaja recipe,...</td>\n",
       "      <td>https://www.archanaskitchen.com/jhure-jhure-al...</td>\n",
       "      <td>en</td>\n",
       "      <td>Potatoes (Aloo), Curry leaves, Red Chilli powd...</td>\n",
       "      <td>-2</td>\n",
       "    </tr>\n",
       "    <tr>\n",
       "      <th>5618</th>\n",
       "      <td>Vadu Mangai Pickle Recipe - Tender Small Raw M...</td>\n",
       "      <td>250 gram Mango (Raw) - (baby mangoes),1 cup Re...</td>\n",
       "      <td>30</td>\n",
       "      <td>45</td>\n",
       "      <td>75</td>\n",
       "      <td>15</td>\n",
       "      <td>South Indian Recipes</td>\n",
       "      <td>Side Dish</td>\n",
       "      <td>Vegetarian</td>\n",
       "      <td>To begin making the Vadu Mangai Pickle Recipe,...</td>\n",
       "      <td>https://www.archanaskitchen.com/vadu-mangai-re...</td>\n",
       "      <td>en</td>\n",
       "      <td>gram Mango (Raw) (baby mangoes), Red Chilli po...</td>\n",
       "      <td>-2</td>\n",
       "    </tr>\n",
       "    <tr>\n",
       "      <th>1603</th>\n",
       "      <td>Instant Palkova Recipe (Milk Based Sweet Recipe)</td>\n",
       "      <td>400 grams Condensed Milk,2 tablespoons Curd (D...</td>\n",
       "      <td>10</td>\n",
       "      <td>20</td>\n",
       "      <td>30</td>\n",
       "      <td>2</td>\n",
       "      <td>Tamil Nadu</td>\n",
       "      <td>Dessert</td>\n",
       "      <td>Vegetarian</td>\n",
       "      <td>To prepare this easy Instant Palkova Recipe, t...</td>\n",
       "      <td>http://www.archanaskitchen.com/instant-palkova...</td>\n",
       "      <td>en</td>\n",
       "      <td>Condensed Milk, Curd (Dahi Yogurt) thick whisked</td>\n",
       "      <td>-2</td>\n",
       "    </tr>\n",
       "    <tr>\n",
       "      <th>5341</th>\n",
       "      <td>Thai Style Kai Jeow Moo Sab Recipe - Omelette ...</td>\n",
       "      <td>4 Whole Eggs,2 tablespoon Chicken - minced,3/4...</td>\n",
       "      <td>5</td>\n",
       "      <td>15</td>\n",
       "      <td>20</td>\n",
       "      <td>2</td>\n",
       "      <td>Thai</td>\n",
       "      <td>World Breakfast</td>\n",
       "      <td>Non Vegeterian</td>\n",
       "      <td>To begin making the Thai Style Kai Jeow Moo Sa...</td>\n",
       "      <td>https://www.archanaskitchen.com/thai-style-kai...</td>\n",
       "      <td>en</td>\n",
       "      <td>Eggs, Chicken , Soy sauce, Stalk Spring Onion ...</td>\n",
       "      <td>-2</td>\n",
       "    </tr>\n",
       "    <tr>\n",
       "      <th>580</th>\n",
       "      <td>Tomato Noodle Soup Recipe</td>\n",
       "      <td>4 tomatoes - chopped, 2 onions, 1 tablespoon o...</td>\n",
       "      <td>10</td>\n",
       "      <td>30</td>\n",
       "      <td>40</td>\n",
       "      <td>2</td>\n",
       "      <td>Fusion</td>\n",
       "      <td>Dinner</td>\n",
       "      <td>Vegetarian</td>\n",
       "      <td>To make tomato noodle soup recipe, first boil ...</td>\n",
       "      <td>https://www.archanaskitchen.com/tomato-noodle-...</td>\n",
       "      <td>en</td>\n",
       "      <td>tomatoes , onions, olive oil, salt according ,...</td>\n",
       "      <td>-2</td>\n",
       "    </tr>\n",
       "    <tr>\n",
       "      <th>2413</th>\n",
       "      <td>Crunchy Baked Cheese Crisps Recipe</td>\n",
       "      <td>1 cup Mozzarella cheese - or parmesan cheese,1...</td>\n",
       "      <td>5</td>\n",
       "      <td>6</td>\n",
       "      <td>11</td>\n",
       "      <td>4</td>\n",
       "      <td>Continental</td>\n",
       "      <td>Appetizer</td>\n",
       "      <td>Vegetarian</td>\n",
       "      <td>To begin making  Crunchy Baked Cheese Crisps R...</td>\n",
       "      <td>http://www.archanaskitchen.com/crunchy-baked-c...</td>\n",
       "      <td>en</td>\n",
       "      <td>Mozzarella cheese parmesan cheese, Cumin seeds...</td>\n",
       "      <td>-2</td>\n",
       "    </tr>\n",
       "  </tbody>\n",
       "</table>\n",
       "</div>"
      ],
      "text/plain": [
       "                                   TranslatedRecipeName  \\\n",
       "1157                Crispy Crunchy Roti Ke Papad Recipe   \n",
       "2605    Multa Black Arabic Recipe (Arabic Gravy Steele)   \n",
       "2477  Whole Wheat Lachha Paratha Recipe-Multilayered...   \n",
       "3721                             Elo Jhelo Nimki Recipe   \n",
       "4393                     Jhurre Jhule Aloo Bhaja Recipe   \n",
       "5618  Vadu Mangai Pickle Recipe - Tender Small Raw M...   \n",
       "1603   Instant Palkova Recipe (Milk Based Sweet Recipe)   \n",
       "5341  Thai Style Kai Jeow Moo Sab Recipe - Omelette ...   \n",
       "580                           Tomato Noodle Soup Recipe   \n",
       "2413                 Crunchy Baked Cheese Crisps Recipe   \n",
       "\n",
       "                                  TranslatedIngredients  PrepTimeInMins  \\\n",
       "1157  4 Tawa Paratha - or rotis leftover,Sunflower O...               0   \n",
       "2605  500 grams Colocasia root (Arbi),Sunflower Oil ...              10   \n",
       "2477  2 cups Whole Wheat Flour,1 teaspoon Salt,Ghee ...              30   \n",
       "3721  1-1/2 cups All Purpose Flour (Maida),Sunflower...               5   \n",
       "4393  2 Potatoes (Aloo),20 Curry leaves,1/2 teaspoon...              10   \n",
       "5618  250 gram Mango (Raw) - (baby mangoes),1 cup Re...              30   \n",
       "1603  400 grams Condensed Milk,2 tablespoons Curd (D...              10   \n",
       "5341  4 Whole Eggs,2 tablespoon Chicken - minced,3/4...               5   \n",
       "580   4 tomatoes - chopped, 2 onions, 1 tablespoon o...              10   \n",
       "2413  1 cup Mozzarella cheese - or parmesan cheese,1...               5   \n",
       "\n",
       "      CookTimeInMins  TotalTimeInMins  Servings               Cuisine  \\\n",
       "1157              45               45         4                Indian   \n",
       "2605              30               40         4  North Indian Recipes   \n",
       "2477              40               70         3                Indian   \n",
       "3721              50               55         4       Bengali Recipes   \n",
       "4393              20               30         3       Bengali Recipes   \n",
       "5618              45               75        15  South Indian Recipes   \n",
       "1603              20               30         2            Tamil Nadu   \n",
       "5341              15               20         2                  Thai   \n",
       "580               30               40         2                Fusion   \n",
       "2413               6               11         4           Continental   \n",
       "\n",
       "               Course               Diet  \\\n",
       "1157            Snack         Vegetarian   \n",
       "2605            Lunch         Vegetarian   \n",
       "2477           Dinner  Diabetic Friendly   \n",
       "3721            Snack         Vegetarian   \n",
       "4393            Snack         Vegetarian   \n",
       "5618        Side Dish         Vegetarian   \n",
       "1603          Dessert         Vegetarian   \n",
       "5341  World Breakfast     Non Vegeterian   \n",
       "580            Dinner         Vegetarian   \n",
       "2413        Appetizer         Vegetarian   \n",
       "\n",
       "                                 TranslatedInstructions  \\\n",
       "1157  To begin making the Crispy Crunchy Roti Ke Pap...   \n",
       "2605  To begin making the Multani Kaali Arbi Recipe,...   \n",
       "2477  To begin making the Whole Wheat Lachha Paratha...   \n",
       "3721  We begin making Elo Jhelo Nimki Recipe with ta...   \n",
       "4393  To begin making Jhure Jhure Aloo Bhaja recipe,...   \n",
       "5618  To begin making the Vadu Mangai Pickle Recipe,...   \n",
       "1603  To prepare this easy Instant Palkova Recipe, t...   \n",
       "5341  To begin making the Thai Style Kai Jeow Moo Sa...   \n",
       "580   To make tomato noodle soup recipe, first boil ...   \n",
       "2413  To begin making  Crunchy Baked Cheese Crisps R...   \n",
       "\n",
       "                                                    URL lang  \\\n",
       "1157  http://www.archanaskitchen.com/crispy-crunchy-...   en   \n",
       "2605  http://www.archanaskitchen.com/multani-kaali-a...   en   \n",
       "2477  https://www.archanaskitchen.com/whole-wheat-la...   en   \n",
       "3721  https://www.archanaskitchen.com/elo-jhelo-nimk...   en   \n",
       "4393  https://www.archanaskitchen.com/jhure-jhure-al...   en   \n",
       "5618  https://www.archanaskitchen.com/vadu-mangai-re...   en   \n",
       "1603  http://www.archanaskitchen.com/instant-palkova...   en   \n",
       "5341  https://www.archanaskitchen.com/thai-style-kai...   en   \n",
       "580   https://www.archanaskitchen.com/tomato-noodle-...   en   \n",
       "2413  http://www.archanaskitchen.com/crunchy-baked-c...   en   \n",
       "\n",
       "                                          P-Ingredients  flag  \n",
       "1157  Tawa Paratha rotis leftover,Sunflower Oil , Ch...    -1  \n",
       "2605  Colocasia root (Arbi),Sunflower Oil ,Salt , Re...    -1  \n",
       "2477   Wheat Flour, Salt,Ghee to layer cooking parathas    -2  \n",
       "3721  All Purpose Flour (Maida),Sunflower Oil to coo...    -2  \n",
       "4393  Potatoes (Aloo), Curry leaves, Red Chilli powd...    -2  \n",
       "5618  gram Mango (Raw) (baby mangoes), Red Chilli po...    -2  \n",
       "1603   Condensed Milk, Curd (Dahi Yogurt) thick whisked    -2  \n",
       "5341  Eggs, Chicken , Soy sauce, Stalk Spring Onion ...    -2  \n",
       "580   tomatoes , onions, olive oil, salt according ,...    -2  \n",
       "2413  Mozzarella cheese parmesan cheese, Cumin seeds...    -2  "
      ]
     },
     "execution_count": 24,
     "metadata": {},
     "output_type": "execute_result"
    }
   ],
   "source": [
    "Cookdf"
   ]
  },
  {
   "cell_type": "code",
   "execution_count": 52,
   "metadata": {},
   "outputs": [
    {
     "data": {
      "text/plain": [
       "array(['Tawa Paratha rotis leftover,Sunflower Oil , Chaat Masala Powder,Salt , Red Chilli powder',\n",
       "       'Colocasia root (Arbi),Sunflower Oil ,Salt , Red Chilli powder, sprig Coriander (Dhania) Leaves',\n",
       "       'Wheat Flour, Salt,Ghee to layer cooking parathas',\n",
       "       'All Purpose Flour (Maida),Sunflower Oil to cook,Salt , Sugar, Kalonji (Onion Nigella Seeds)',\n",
       "       'Potatoes (Aloo), Curry leaves, Red Chilli powder,Sunflower Oil deep ,Salt',\n",
       "       'gram Mango (Raw) (baby mangoes), Red Chilli powder, Mustard seeds , Rock Salt',\n",
       "       'Condensed Milk, Curd (Dahi Yogurt) thick whisked',\n",
       "       'Eggs, Chicken , Soy sauce, Stalk Spring Onion (Bulb & Greens) ,Salt to season,Sunflower Oil',\n",
       "       'tomatoes , onions, olive oil, salt according , black pepper powderof Hakka noodles',\n",
       "       'Mozzarella cheese parmesan cheese, Cumin seeds (Jeera)'],\n",
       "      dtype=object)"
      ]
     },
     "execution_count": 52,
     "metadata": {},
     "output_type": "execute_result"
    }
   ],
   "source": [
    "Cookdf[\"P-Ingredients\"].values"
   ]
  },
  {
   "cell_type": "code",
   "execution_count": 6,
   "metadata": {},
   "outputs": [
    {
     "data": {
      "text/html": [
       "<div>\n",
       "<style scoped>\n",
       "    .dataframe tbody tr th:only-of-type {\n",
       "        vertical-align: middle;\n",
       "    }\n",
       "\n",
       "    .dataframe tbody tr th {\n",
       "        vertical-align: top;\n",
       "    }\n",
       "\n",
       "    .dataframe thead th {\n",
       "        text-align: right;\n",
       "    }\n",
       "</style>\n",
       "<table border=\"1\" class=\"dataframe\">\n",
       "  <thead>\n",
       "    <tr style=\"text-align: right;\">\n",
       "      <th></th>\n",
       "      <th>TranslatedRecipeName</th>\n",
       "      <th>TranslatedIngredients</th>\n",
       "      <th>PrepTimeInMins</th>\n",
       "      <th>CookTimeInMins</th>\n",
       "      <th>TotalTimeInMins</th>\n",
       "      <th>Servings</th>\n",
       "      <th>Cuisine</th>\n",
       "      <th>Course</th>\n",
       "      <th>Diet</th>\n",
       "      <th>TranslatedInstructions</th>\n",
       "      <th>URL</th>\n",
       "      <th>lang</th>\n",
       "      <th>P-Ingredients</th>\n",
       "      <th>flag</th>\n",
       "    </tr>\n",
       "  </thead>\n",
       "  <tbody>\n",
       "    <tr>\n",
       "      <th>0</th>\n",
       "      <td>Masala Karela Recipe</td>\n",
       "      <td>6 Karela (Bitter Gourd/ Pavakkai) - deseeded,S...</td>\n",
       "      <td>15</td>\n",
       "      <td>30</td>\n",
       "      <td>45</td>\n",
       "      <td>6</td>\n",
       "      <td>Indian</td>\n",
       "      <td>Side Dish</td>\n",
       "      <td>Diabetic Friendly</td>\n",
       "      <td>To begin making the Masala Karela Recipe,de-se...</td>\n",
       "      <td>https://www.archanaskitchen.com/masala-karela-...</td>\n",
       "      <td>en</td>\n",
       "      <td>Karela (Bitter Gourd Pavakkai) ,Salt , Onion ,...</td>\n",
       "      <td>-9</td>\n",
       "    </tr>\n",
       "    <tr>\n",
       "      <th>1</th>\n",
       "      <td>Spicy Tomato Rice (Recipe)</td>\n",
       "      <td>2-1 / 2 cups rice - cooked, 3 tomatoes, 3 teas...</td>\n",
       "      <td>5</td>\n",
       "      <td>10</td>\n",
       "      <td>15</td>\n",
       "      <td>3</td>\n",
       "      <td>South Indian Recipes</td>\n",
       "      <td>Main Course</td>\n",
       "      <td>Vegetarian</td>\n",
       "      <td>To make tomato puliogere, first cut the tomato...</td>\n",
       "      <td>http://www.archanaskitchen.com/spicy-tomato-ri...</td>\n",
       "      <td>en</td>\n",
       "      <td>rice , tomatoes, BC Belle Bhat powder, salt , ...</td>\n",
       "      <td>-12</td>\n",
       "    </tr>\n",
       "    <tr>\n",
       "      <th>2</th>\n",
       "      <td>Ragi Semiya Upma Recipe - Ragi Millet Vermicel...</td>\n",
       "      <td>1-1/2 cups Rice Vermicelli Noodles (Thin),1 On...</td>\n",
       "      <td>20</td>\n",
       "      <td>30</td>\n",
       "      <td>50</td>\n",
       "      <td>4</td>\n",
       "      <td>South Indian Recipes</td>\n",
       "      <td>South Indian Breakfast</td>\n",
       "      <td>High Protein Vegetarian</td>\n",
       "      <td>To begin making the Ragi Vermicelli Recipe, fi...</td>\n",
       "      <td>http://www.archanaskitchen.com/ragi-vermicelli...</td>\n",
       "      <td>en</td>\n",
       "      <td>Rice Vermicelli Noodles (Thin), Onion , Carrot...</td>\n",
       "      <td>-11</td>\n",
       "    </tr>\n",
       "    <tr>\n",
       "      <th>3</th>\n",
       "      <td>Gongura Chicken Curry Recipe - Andhra Style Go...</td>\n",
       "      <td>500 grams Chicken,2 Onion - chopped,1 Tomato -...</td>\n",
       "      <td>15</td>\n",
       "      <td>30</td>\n",
       "      <td>45</td>\n",
       "      <td>4</td>\n",
       "      <td>Andhra</td>\n",
       "      <td>Lunch</td>\n",
       "      <td>Non Vegeterian</td>\n",
       "      <td>To begin making Gongura Chicken Curry Recipe f...</td>\n",
       "      <td>http://www.archanaskitchen.com/gongura-chicken...</td>\n",
       "      <td>en</td>\n",
       "      <td>Chicken, Onion , Tomato , Green Chillies slit,...</td>\n",
       "      <td>-17</td>\n",
       "    </tr>\n",
       "    <tr>\n",
       "      <th>4</th>\n",
       "      <td>Andhra Style Alam Pachadi Recipe - Adrak Chutn...</td>\n",
       "      <td>1 tablespoon chana dal, 1 tablespoon white ura...</td>\n",
       "      <td>10</td>\n",
       "      <td>20</td>\n",
       "      <td>30</td>\n",
       "      <td>4</td>\n",
       "      <td>Andhra</td>\n",
       "      <td>South Indian Breakfast</td>\n",
       "      <td>Vegetarian</td>\n",
       "      <td>To make Andhra Style Alam Pachadi, first heat ...</td>\n",
       "      <td>https://www.archanaskitchen.com/andhra-style-a...</td>\n",
       "      <td>en</td>\n",
       "      <td>chana dal, white urad dal, red chillies, coria...</td>\n",
       "      <td>-12</td>\n",
       "    </tr>\n",
       "  </tbody>\n",
       "</table>\n",
       "</div>"
      ],
      "text/plain": [
       "                                TranslatedRecipeName  \\\n",
       "0                               Masala Karela Recipe   \n",
       "1                         Spicy Tomato Rice (Recipe)   \n",
       "2  Ragi Semiya Upma Recipe - Ragi Millet Vermicel...   \n",
       "3  Gongura Chicken Curry Recipe - Andhra Style Go...   \n",
       "4  Andhra Style Alam Pachadi Recipe - Adrak Chutn...   \n",
       "\n",
       "                               TranslatedIngredients  PrepTimeInMins  \\\n",
       "0  6 Karela (Bitter Gourd/ Pavakkai) - deseeded,S...              15   \n",
       "1  2-1 / 2 cups rice - cooked, 3 tomatoes, 3 teas...               5   \n",
       "2  1-1/2 cups Rice Vermicelli Noodles (Thin),1 On...              20   \n",
       "3  500 grams Chicken,2 Onion - chopped,1 Tomato -...              15   \n",
       "4  1 tablespoon chana dal, 1 tablespoon white ura...              10   \n",
       "\n",
       "   CookTimeInMins  TotalTimeInMins  Servings               Cuisine  \\\n",
       "0              30               45         6                Indian   \n",
       "1              10               15         3  South Indian Recipes   \n",
       "2              30               50         4  South Indian Recipes   \n",
       "3              30               45         4                Andhra   \n",
       "4              20               30         4                Andhra   \n",
       "\n",
       "                   Course                     Diet  \\\n",
       "0               Side Dish        Diabetic Friendly   \n",
       "1             Main Course               Vegetarian   \n",
       "2  South Indian Breakfast  High Protein Vegetarian   \n",
       "3                   Lunch           Non Vegeterian   \n",
       "4  South Indian Breakfast               Vegetarian   \n",
       "\n",
       "                              TranslatedInstructions  \\\n",
       "0  To begin making the Masala Karela Recipe,de-se...   \n",
       "1  To make tomato puliogere, first cut the tomato...   \n",
       "2  To begin making the Ragi Vermicelli Recipe, fi...   \n",
       "3  To begin making Gongura Chicken Curry Recipe f...   \n",
       "4  To make Andhra Style Alam Pachadi, first heat ...   \n",
       "\n",
       "                                                 URL lang  \\\n",
       "0  https://www.archanaskitchen.com/masala-karela-...   en   \n",
       "1  http://www.archanaskitchen.com/spicy-tomato-ri...   en   \n",
       "2  http://www.archanaskitchen.com/ragi-vermicelli...   en   \n",
       "3  http://www.archanaskitchen.com/gongura-chicken...   en   \n",
       "4  https://www.archanaskitchen.com/andhra-style-a...   en   \n",
       "\n",
       "                                       P-Ingredients  flag  \n",
       "0  Karela (Bitter Gourd Pavakkai) ,Salt , Onion ,...    -9  \n",
       "1  rice , tomatoes, BC Belle Bhat powder, salt , ...   -12  \n",
       "2  Rice Vermicelli Noodles (Thin), Onion , Carrot...   -11  \n",
       "3  Chicken, Onion , Tomato , Green Chillies slit,...   -17  \n",
       "4  chana dal, white urad dal, red chillies, coria...   -12  "
      ]
     },
     "execution_count": 6,
     "metadata": {},
     "output_type": "execute_result"
    }
   ],
   "source": [
    "df.head()"
   ]
  },
  {
   "cell_type": "code",
   "execution_count": 22,
   "metadata": {},
   "outputs": [
    {
     "data": {
      "text/plain": [
       "array(['http://www.archanaskitchen.com/kashmiri-saag-recipe-kashmiri-style-spinach-palak'],\n",
       "      dtype=object)"
      ]
     },
     "execution_count": 22,
     "metadata": {},
     "output_type": "execute_result"
    }
   ],
   "source": [
    "df[\"URL\"].sample(1).values"
   ]
  },
  {
   "cell_type": "code",
   "execution_count": null,
   "metadata": {},
   "outputs": [],
   "source": [
    "\\xa0"
   ]
  }
 ],
 "metadata": {
  "kernelspec": {
   "display_name": "Python 3",
   "language": "python",
   "name": "python3"
  },
  "language_info": {
   "codemirror_mode": {
    "name": "ipython",
    "version": 3
   },
   "file_extension": ".py",
   "mimetype": "text/x-python",
   "name": "python",
   "nbconvert_exporter": "python",
   "pygments_lexer": "ipython3",
   "version": "3.6.12"
  }
 },
 "nbformat": 4,
 "nbformat_minor": 4
}
