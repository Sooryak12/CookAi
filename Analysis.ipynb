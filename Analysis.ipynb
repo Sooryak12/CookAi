{
 "cells": [
  {
   "cell_type": "code",
   "execution_count": 1,
   "metadata": {},
   "outputs": [],
   "source": [
    "import pandas as pd\n",
    "import numpy as np\n",
    "import matplotlib.pyplot as plt\n",
    "import seaborn as sns\n",
    "import re\n",
    "%matplotlib inline"
   ]
  },
  {
   "cell_type": "code",
   "execution_count": 5,
   "metadata": {},
   "outputs": [],
   "source": [
    "from googletrans import Translator\n",
    "translator = Translator()"
   ]
  },
  {
   "cell_type": "markdown",
   "metadata": {},
   "source": [
    "## Todo:\n",
    "    Couldnt implement sample model because of translation issues.\n",
    "    convert all the hindi text to english.\n",
    "    Flagging is providing wrong results have to check on it.\n",
    "    "
   ]
  },
  {
   "cell_type": "code",
   "execution_count": 6,
   "metadata": {},
   "outputs": [],
   "source": [
    "df=pd.read_csv(\"IndianFoodDatasetCSV.csv\")\n",
    "pd.set_option('display.max_rows', 500)"
   ]
  },
  {
   "cell_type": "code",
   "execution_count": 7,
   "metadata": {},
   "outputs": [],
   "source": [
    "df.drop([\"RecipeName\",\"Ingredients\",\"Instructions\"],axis=1,inplace=True)"
   ]
  },
  {
   "cell_type": "code",
   "execution_count": 8,
   "metadata": {},
   "outputs": [],
   "source": [
    "df.dropna(inplace=True)\n",
    "df.reset_index(drop=True,inplace=True)"
   ]
  },
  {
   "cell_type": "code",
   "execution_count": 9,
   "metadata": {},
   "outputs": [
    {
     "name": "stdout",
     "output_type": "stream",
     "text": [
      "<class 'pandas.core.frame.DataFrame'>\n",
      "RangeIndex: 6865 entries, 0 to 6864\n",
      "Data columns (total 12 columns):\n",
      " #   Column                  Non-Null Count  Dtype \n",
      "---  ------                  --------------  ----- \n",
      " 0   Srno                    6865 non-null   int64 \n",
      " 1   TranslatedRecipeName    6865 non-null   object\n",
      " 2   TranslatedIngredients   6865 non-null   object\n",
      " 3   PrepTimeInMins          6865 non-null   int64 \n",
      " 4   CookTimeInMins          6865 non-null   int64 \n",
      " 5   TotalTimeInMins         6865 non-null   int64 \n",
      " 6   Servings                6865 non-null   int64 \n",
      " 7   Cuisine                 6865 non-null   object\n",
      " 8   Course                  6865 non-null   object\n",
      " 9   Diet                    6865 non-null   object\n",
      " 10  TranslatedInstructions  6865 non-null   object\n",
      " 11  URL                     6865 non-null   object\n",
      "dtypes: int64(5), object(7)\n",
      "memory usage: 643.7+ KB\n"
     ]
    }
   ],
   "source": [
    "df.info()"
   ]
  },
  {
   "cell_type": "code",
   "execution_count": 10,
   "metadata": {},
   "outputs": [
    {
     "data": {
      "text/html": [
       "<div>\n",
       "<style scoped>\n",
       "    .dataframe tbody tr th:only-of-type {\n",
       "        vertical-align: middle;\n",
       "    }\n",
       "\n",
       "    .dataframe tbody tr th {\n",
       "        vertical-align: top;\n",
       "    }\n",
       "\n",
       "    .dataframe thead th {\n",
       "        text-align: right;\n",
       "    }\n",
       "</style>\n",
       "<table border=\"1\" class=\"dataframe\">\n",
       "  <thead>\n",
       "    <tr style=\"text-align: right;\">\n",
       "      <th></th>\n",
       "      <th>Srno</th>\n",
       "      <th>PrepTimeInMins</th>\n",
       "      <th>CookTimeInMins</th>\n",
       "      <th>TotalTimeInMins</th>\n",
       "      <th>Servings</th>\n",
       "    </tr>\n",
       "  </thead>\n",
       "  <tbody>\n",
       "    <tr>\n",
       "      <th>count</th>\n",
       "      <td>6865.000000</td>\n",
       "      <td>6865.000000</td>\n",
       "      <td>6865.000000</td>\n",
       "      <td>6865.000000</td>\n",
       "      <td>6865.000000</td>\n",
       "    </tr>\n",
       "    <tr>\n",
       "      <th>mean</th>\n",
       "      <td>4904.034669</td>\n",
       "      <td>28.591260</td>\n",
       "      <td>30.833795</td>\n",
       "      <td>59.425055</td>\n",
       "      <td>5.613256</td>\n",
       "    </tr>\n",
       "    <tr>\n",
       "      <th>std</th>\n",
       "      <td>3479.580199</td>\n",
       "      <td>81.076862</td>\n",
       "      <td>34.030198</td>\n",
       "      <td>88.736882</td>\n",
       "      <td>26.233181</td>\n",
       "    </tr>\n",
       "    <tr>\n",
       "      <th>min</th>\n",
       "      <td>1.000000</td>\n",
       "      <td>0.000000</td>\n",
       "      <td>0.000000</td>\n",
       "      <td>0.000000</td>\n",
       "      <td>1.000000</td>\n",
       "    </tr>\n",
       "    <tr>\n",
       "      <th>25%</th>\n",
       "      <td>1956.000000</td>\n",
       "      <td>10.000000</td>\n",
       "      <td>20.000000</td>\n",
       "      <td>30.000000</td>\n",
       "      <td>4.000000</td>\n",
       "    </tr>\n",
       "    <tr>\n",
       "      <th>50%</th>\n",
       "      <td>4305.000000</td>\n",
       "      <td>15.000000</td>\n",
       "      <td>30.000000</td>\n",
       "      <td>40.000000</td>\n",
       "      <td>4.000000</td>\n",
       "    </tr>\n",
       "    <tr>\n",
       "      <th>75%</th>\n",
       "      <td>7360.000000</td>\n",
       "      <td>20.000000</td>\n",
       "      <td>35.000000</td>\n",
       "      <td>55.000000</td>\n",
       "      <td>4.000000</td>\n",
       "    </tr>\n",
       "    <tr>\n",
       "      <th>max</th>\n",
       "      <td>14211.000000</td>\n",
       "      <td>2880.000000</td>\n",
       "      <td>900.000000</td>\n",
       "      <td>2925.000000</td>\n",
       "      <td>1000.000000</td>\n",
       "    </tr>\n",
       "  </tbody>\n",
       "</table>\n",
       "</div>"
      ],
      "text/plain": [
       "               Srno  PrepTimeInMins  CookTimeInMins  TotalTimeInMins  \\\n",
       "count   6865.000000     6865.000000     6865.000000      6865.000000   \n",
       "mean    4904.034669       28.591260       30.833795        59.425055   \n",
       "std     3479.580199       81.076862       34.030198        88.736882   \n",
       "min        1.000000        0.000000        0.000000         0.000000   \n",
       "25%     1956.000000       10.000000       20.000000        30.000000   \n",
       "50%     4305.000000       15.000000       30.000000        40.000000   \n",
       "75%     7360.000000       20.000000       35.000000        55.000000   \n",
       "max    14211.000000     2880.000000      900.000000      2925.000000   \n",
       "\n",
       "          Servings  \n",
       "count  6865.000000  \n",
       "mean      5.613256  \n",
       "std      26.233181  \n",
       "min       1.000000  \n",
       "25%       4.000000  \n",
       "50%       4.000000  \n",
       "75%       4.000000  \n",
       "max    1000.000000  "
      ]
     },
     "execution_count": 10,
     "metadata": {},
     "output_type": "execute_result"
    }
   ],
   "source": [
    "df.describe()"
   ]
  },
  {
   "cell_type": "code",
   "execution_count": 11,
   "metadata": {},
   "outputs": [
    {
     "data": {
      "text/html": [
       "<div>\n",
       "<style scoped>\n",
       "    .dataframe tbody tr th:only-of-type {\n",
       "        vertical-align: middle;\n",
       "    }\n",
       "\n",
       "    .dataframe tbody tr th {\n",
       "        vertical-align: top;\n",
       "    }\n",
       "\n",
       "    .dataframe thead th {\n",
       "        text-align: right;\n",
       "    }\n",
       "</style>\n",
       "<table border=\"1\" class=\"dataframe\">\n",
       "  <thead>\n",
       "    <tr style=\"text-align: right;\">\n",
       "      <th></th>\n",
       "      <th>Srno</th>\n",
       "      <th>TranslatedRecipeName</th>\n",
       "      <th>TranslatedIngredients</th>\n",
       "      <th>PrepTimeInMins</th>\n",
       "      <th>CookTimeInMins</th>\n",
       "      <th>TotalTimeInMins</th>\n",
       "      <th>Servings</th>\n",
       "      <th>Cuisine</th>\n",
       "      <th>Course</th>\n",
       "      <th>Diet</th>\n",
       "      <th>TranslatedInstructions</th>\n",
       "      <th>URL</th>\n",
       "    </tr>\n",
       "  </thead>\n",
       "  <tbody>\n",
       "    <tr>\n",
       "      <th>0</th>\n",
       "      <td>1</td>\n",
       "      <td>Masala Karela Recipe</td>\n",
       "      <td>6 Karela (Bitter Gourd/ Pavakkai) - deseeded,S...</td>\n",
       "      <td>15</td>\n",
       "      <td>30</td>\n",
       "      <td>45</td>\n",
       "      <td>6</td>\n",
       "      <td>Indian</td>\n",
       "      <td>Side Dish</td>\n",
       "      <td>Diabetic Friendly</td>\n",
       "      <td>To begin making the Masala Karela Recipe,de-se...</td>\n",
       "      <td>https://www.archanaskitchen.com/masala-karela-...</td>\n",
       "    </tr>\n",
       "    <tr>\n",
       "      <th>1</th>\n",
       "      <td>2</td>\n",
       "      <td>Spicy Tomato Rice (Recipe)</td>\n",
       "      <td>2-1 / 2 cups rice - cooked, 3 tomatoes, 3 teas...</td>\n",
       "      <td>5</td>\n",
       "      <td>10</td>\n",
       "      <td>15</td>\n",
       "      <td>3</td>\n",
       "      <td>South Indian Recipes</td>\n",
       "      <td>Main Course</td>\n",
       "      <td>Vegetarian</td>\n",
       "      <td>To make tomato puliogere, first cut the tomato...</td>\n",
       "      <td>http://www.archanaskitchen.com/spicy-tomato-ri...</td>\n",
       "    </tr>\n",
       "    <tr>\n",
       "      <th>2</th>\n",
       "      <td>3</td>\n",
       "      <td>Ragi Semiya Upma Recipe - Ragi Millet Vermicel...</td>\n",
       "      <td>1-1/2 cups Rice Vermicelli Noodles (Thin),1 On...</td>\n",
       "      <td>20</td>\n",
       "      <td>30</td>\n",
       "      <td>50</td>\n",
       "      <td>4</td>\n",
       "      <td>South Indian Recipes</td>\n",
       "      <td>South Indian Breakfast</td>\n",
       "      <td>High Protein Vegetarian</td>\n",
       "      <td>To begin making the Ragi Vermicelli Recipe, fi...</td>\n",
       "      <td>http://www.archanaskitchen.com/ragi-vermicelli...</td>\n",
       "    </tr>\n",
       "    <tr>\n",
       "      <th>3</th>\n",
       "      <td>4</td>\n",
       "      <td>Gongura Chicken Curry Recipe - Andhra Style Go...</td>\n",
       "      <td>500 grams Chicken,2 Onion - chopped,1 Tomato -...</td>\n",
       "      <td>15</td>\n",
       "      <td>30</td>\n",
       "      <td>45</td>\n",
       "      <td>4</td>\n",
       "      <td>Andhra</td>\n",
       "      <td>Lunch</td>\n",
       "      <td>Non Vegeterian</td>\n",
       "      <td>To begin making Gongura Chicken Curry Recipe f...</td>\n",
       "      <td>http://www.archanaskitchen.com/gongura-chicken...</td>\n",
       "    </tr>\n",
       "    <tr>\n",
       "      <th>4</th>\n",
       "      <td>5</td>\n",
       "      <td>Andhra Style Alam Pachadi Recipe - Adrak Chutn...</td>\n",
       "      <td>1 tablespoon chana dal, 1 tablespoon white ura...</td>\n",
       "      <td>10</td>\n",
       "      <td>20</td>\n",
       "      <td>30</td>\n",
       "      <td>4</td>\n",
       "      <td>Andhra</td>\n",
       "      <td>South Indian Breakfast</td>\n",
       "      <td>Vegetarian</td>\n",
       "      <td>To make Andhra Style Alam Pachadi, first heat ...</td>\n",
       "      <td>https://www.archanaskitchen.com/andhra-style-a...</td>\n",
       "    </tr>\n",
       "  </tbody>\n",
       "</table>\n",
       "</div>"
      ],
      "text/plain": [
       "   Srno                               TranslatedRecipeName  \\\n",
       "0     1                               Masala Karela Recipe   \n",
       "1     2                         Spicy Tomato Rice (Recipe)   \n",
       "2     3  Ragi Semiya Upma Recipe - Ragi Millet Vermicel...   \n",
       "3     4  Gongura Chicken Curry Recipe - Andhra Style Go...   \n",
       "4     5  Andhra Style Alam Pachadi Recipe - Adrak Chutn...   \n",
       "\n",
       "                               TranslatedIngredients  PrepTimeInMins  \\\n",
       "0  6 Karela (Bitter Gourd/ Pavakkai) - deseeded,S...              15   \n",
       "1  2-1 / 2 cups rice - cooked, 3 tomatoes, 3 teas...               5   \n",
       "2  1-1/2 cups Rice Vermicelli Noodles (Thin),1 On...              20   \n",
       "3  500 grams Chicken,2 Onion - chopped,1 Tomato -...              15   \n",
       "4  1 tablespoon chana dal, 1 tablespoon white ura...              10   \n",
       "\n",
       "   CookTimeInMins  TotalTimeInMins  Servings               Cuisine  \\\n",
       "0              30               45         6                Indian   \n",
       "1              10               15         3  South Indian Recipes   \n",
       "2              30               50         4  South Indian Recipes   \n",
       "3              30               45         4                Andhra   \n",
       "4              20               30         4                Andhra   \n",
       "\n",
       "                   Course                     Diet  \\\n",
       "0               Side Dish        Diabetic Friendly   \n",
       "1             Main Course               Vegetarian   \n",
       "2  South Indian Breakfast  High Protein Vegetarian   \n",
       "3                   Lunch           Non Vegeterian   \n",
       "4  South Indian Breakfast               Vegetarian   \n",
       "\n",
       "                              TranslatedInstructions  \\\n",
       "0  To begin making the Masala Karela Recipe,de-se...   \n",
       "1  To make tomato puliogere, first cut the tomato...   \n",
       "2  To begin making the Ragi Vermicelli Recipe, fi...   \n",
       "3  To begin making Gongura Chicken Curry Recipe f...   \n",
       "4  To make Andhra Style Alam Pachadi, first heat ...   \n",
       "\n",
       "                                                 URL  \n",
       "0  https://www.archanaskitchen.com/masala-karela-...  \n",
       "1  http://www.archanaskitchen.com/spicy-tomato-ri...  \n",
       "2  http://www.archanaskitchen.com/ragi-vermicelli...  \n",
       "3  http://www.archanaskitchen.com/gongura-chicken...  \n",
       "4  https://www.archanaskitchen.com/andhra-style-a...  "
      ]
     },
     "execution_count": 11,
     "metadata": {},
     "output_type": "execute_result"
    }
   ],
   "source": [
    "df.head()"
   ]
  },
  {
   "cell_type": "code",
   "execution_count": 12,
   "metadata": {},
   "outputs": [
    {
     "data": {
      "text/plain": [
       "Indian                      1157\n",
       "Continental                 1020\n",
       "North Indian Recipes         936\n",
       "South Indian Recipes         681\n",
       "Italian Recipes              235\n",
       "Bengali Recipes              175\n",
       "Maharashtrian Recipes        173\n",
       "Kerala Recipes               163\n",
       "Tamil Nadu                   156\n",
       "Karnataka                    149\n",
       "Fusion                       135\n",
       "Rajasthani                   123\n",
       "Mexican                      119\n",
       "Andhra                       118\n",
       "Gujarati Recipes﻿            115\n",
       "Goan Recipes                  99\n",
       "Punjabi                       84\n",
       "Chettinad                     74\n",
       "Asian                         72\n",
       "Thai                          66\n",
       "Chinese                       59\n",
       "Kashmiri                      59\n",
       "French                        54\n",
       "Middle Eastern                53\n",
       "Mangalorean                   49\n",
       "Indo Chinese                  48\n",
       "Parsi Recipes                 48\n",
       "Awadhi                        45\n",
       "Oriya Recipes                 34\n",
       "Sindhi                        33\n",
       "Konkan                        32\n",
       "Mughlai                       31\n",
       "Mediterranean                 29\n",
       "Bihari                        29\n",
       "Assamese                      28\n",
       "Hyderabadi                    28\n",
       "European                      20\n",
       "North East India Recipes      18\n",
       "African                       18\n",
       "Himachal                      17\n",
       "Greek                         17\n",
       "Sri Lankan                    15\n",
       "Udupi                         15\n",
       "Coorg                         14\n",
       "Uttar Pradesh                 14\n",
       "North Karnataka               14\n",
       "Coastal Karnataka             14\n",
       "Lucknowi                      13\n",
       "Malabar                       13\n",
       "Japanese                      13\n",
       "South Karnataka               11\n",
       "Vietnamese                    11\n",
       "Pakistani                     11\n",
       "Malvani                        9\n",
       "Indonesian                     9\n",
       "Nepalese                       8\n",
       "American                       7\n",
       "Cantonese                      7\n",
       "World Breakfast                6\n",
       "Sichuan                        6\n",
       "British                        5\n",
       "Malaysian                      5\n",
       "Nagaland                       5\n",
       "Caribbean                      4\n",
       "Arab                           4\n",
       "Uttarakhand-North Kumaon       4\n",
       "Haryana                        3\n",
       "Hunan                          3\n",
       "Korean                         3\n",
       "Kongunadu                      3\n",
       "Afghan                         3\n",
       "Jharkhand                      2\n",
       "Snack                          2\n",
       "Appetizer                      2\n",
       "Dessert                        1\n",
       "Lunch                          1\n",
       "Shandong                       1\n",
       "Jewish                         1\n",
       "Dinner                         1\n",
       "Side Dish                      1\n",
       "Brunch                         1\n",
       "Burmese                        1\n",
       "Name: Cuisine, dtype: int64"
      ]
     },
     "execution_count": 12,
     "metadata": {},
     "output_type": "execute_result"
    }
   ],
   "source": [
    "df[\"Cuisine\"].value_counts()"
   ]
  },
  {
   "cell_type": "code",
   "execution_count": 13,
   "metadata": {},
   "outputs": [
    {
     "data": {
      "text/plain": [
       "Lunch                           1763\n",
       "Side Dish                        992\n",
       "Snack                            876\n",
       "Dinner                           781\n",
       "Dessert                          659\n",
       "Appetizer                        637\n",
       "Main Course                      315\n",
       "South Indian Breakfast           260\n",
       "World Breakfast                  260\n",
       "North Indian Breakfast           122\n",
       "Indian Breakfast                 101\n",
       "Vegetarian                        47\n",
       "One Pot Dish                      33\n",
       "High Protein Vegetarian            7\n",
       "Brunch                             4\n",
       "Vegan                              3\n",
       "Non Vegeterian                     2\n",
       "Eggetarian                         1\n",
       "No Onion No Garlic (Sattvic)       1\n",
       "Sugar Free Diet                    1\n",
       "Name: Course, dtype: int64"
      ]
     },
     "execution_count": 13,
     "metadata": {},
     "output_type": "execute_result"
    }
   ],
   "source": [
    "df[\"Course\"].value_counts()"
   ]
  },
  {
   "cell_type": "code",
   "execution_count": 14,
   "metadata": {},
   "outputs": [
    {
     "data": {
      "text/plain": [
       "Vegetarian                      4706\n",
       "High Protein Vegetarian          705\n",
       "Non Vegeterian                   427\n",
       "Eggetarian                       344\n",
       "Diabetic Friendly                260\n",
       "High Protein Non Vegetarian      225\n",
       "No Onion No Garlic (Sattvic)      73\n",
       "Vegan                             61\n",
       "Gluten Free                       50\n",
       "Sugar Free Diet                   14\n",
       "Name: Diet, dtype: int64"
      ]
     },
     "execution_count": 14,
     "metadata": {},
     "output_type": "execute_result"
    }
   ],
   "source": [
    "df[\"Diet\"].value_counts()"
   ]
  },
  {
   "cell_type": "code",
   "execution_count": 15,
   "metadata": {},
   "outputs": [
    {
     "data": {
      "text/html": [
       "<div>\n",
       "<style scoped>\n",
       "    .dataframe tbody tr th:only-of-type {\n",
       "        vertical-align: middle;\n",
       "    }\n",
       "\n",
       "    .dataframe tbody tr th {\n",
       "        vertical-align: top;\n",
       "    }\n",
       "\n",
       "    .dataframe thead th {\n",
       "        text-align: right;\n",
       "    }\n",
       "</style>\n",
       "<table border=\"1\" class=\"dataframe\">\n",
       "  <thead>\n",
       "    <tr style=\"text-align: right;\">\n",
       "      <th></th>\n",
       "      <th>Srno</th>\n",
       "      <th>TranslatedRecipeName</th>\n",
       "      <th>TranslatedIngredients</th>\n",
       "      <th>PrepTimeInMins</th>\n",
       "      <th>CookTimeInMins</th>\n",
       "      <th>TotalTimeInMins</th>\n",
       "      <th>Servings</th>\n",
       "      <th>Cuisine</th>\n",
       "      <th>Course</th>\n",
       "      <th>Diet</th>\n",
       "      <th>TranslatedInstructions</th>\n",
       "      <th>URL</th>\n",
       "    </tr>\n",
       "  </thead>\n",
       "  <tbody>\n",
       "    <tr>\n",
       "      <th>0</th>\n",
       "      <td>1</td>\n",
       "      <td>Masala Karela Recipe</td>\n",
       "      <td>6 Karela (Bitter Gourd/ Pavakkai) - deseeded,S...</td>\n",
       "      <td>15</td>\n",
       "      <td>30</td>\n",
       "      <td>45</td>\n",
       "      <td>6</td>\n",
       "      <td>Indian</td>\n",
       "      <td>Side Dish</td>\n",
       "      <td>Diabetic Friendly</td>\n",
       "      <td>To begin making the Masala Karela Recipe,de-se...</td>\n",
       "      <td>https://www.archanaskitchen.com/masala-karela-...</td>\n",
       "    </tr>\n",
       "    <tr>\n",
       "      <th>1</th>\n",
       "      <td>2</td>\n",
       "      <td>Spicy Tomato Rice (Recipe)</td>\n",
       "      <td>2-1 / 2 cups rice - cooked, 3 tomatoes, 3 teas...</td>\n",
       "      <td>5</td>\n",
       "      <td>10</td>\n",
       "      <td>15</td>\n",
       "      <td>3</td>\n",
       "      <td>South Indian Recipes</td>\n",
       "      <td>Main Course</td>\n",
       "      <td>Vegetarian</td>\n",
       "      <td>To make tomato puliogere, first cut the tomato...</td>\n",
       "      <td>http://www.archanaskitchen.com/spicy-tomato-ri...</td>\n",
       "    </tr>\n",
       "    <tr>\n",
       "      <th>2</th>\n",
       "      <td>3</td>\n",
       "      <td>Ragi Semiya Upma Recipe - Ragi Millet Vermicel...</td>\n",
       "      <td>1-1/2 cups Rice Vermicelli Noodles (Thin),1 On...</td>\n",
       "      <td>20</td>\n",
       "      <td>30</td>\n",
       "      <td>50</td>\n",
       "      <td>4</td>\n",
       "      <td>South Indian Recipes</td>\n",
       "      <td>South Indian Breakfast</td>\n",
       "      <td>High Protein Vegetarian</td>\n",
       "      <td>To begin making the Ragi Vermicelli Recipe, fi...</td>\n",
       "      <td>http://www.archanaskitchen.com/ragi-vermicelli...</td>\n",
       "    </tr>\n",
       "    <tr>\n",
       "      <th>3</th>\n",
       "      <td>4</td>\n",
       "      <td>Gongura Chicken Curry Recipe - Andhra Style Go...</td>\n",
       "      <td>500 grams Chicken,2 Onion - chopped,1 Tomato -...</td>\n",
       "      <td>15</td>\n",
       "      <td>30</td>\n",
       "      <td>45</td>\n",
       "      <td>4</td>\n",
       "      <td>Andhra</td>\n",
       "      <td>Lunch</td>\n",
       "      <td>Non Vegeterian</td>\n",
       "      <td>To begin making Gongura Chicken Curry Recipe f...</td>\n",
       "      <td>http://www.archanaskitchen.com/gongura-chicken...</td>\n",
       "    </tr>\n",
       "    <tr>\n",
       "      <th>4</th>\n",
       "      <td>5</td>\n",
       "      <td>Andhra Style Alam Pachadi Recipe - Adrak Chutn...</td>\n",
       "      <td>1 tablespoon chana dal, 1 tablespoon white ura...</td>\n",
       "      <td>10</td>\n",
       "      <td>20</td>\n",
       "      <td>30</td>\n",
       "      <td>4</td>\n",
       "      <td>Andhra</td>\n",
       "      <td>South Indian Breakfast</td>\n",
       "      <td>Vegetarian</td>\n",
       "      <td>To make Andhra Style Alam Pachadi, first heat ...</td>\n",
       "      <td>https://www.archanaskitchen.com/andhra-style-a...</td>\n",
       "    </tr>\n",
       "  </tbody>\n",
       "</table>\n",
       "</div>"
      ],
      "text/plain": [
       "   Srno                               TranslatedRecipeName  \\\n",
       "0     1                               Masala Karela Recipe   \n",
       "1     2                         Spicy Tomato Rice (Recipe)   \n",
       "2     3  Ragi Semiya Upma Recipe - Ragi Millet Vermicel...   \n",
       "3     4  Gongura Chicken Curry Recipe - Andhra Style Go...   \n",
       "4     5  Andhra Style Alam Pachadi Recipe - Adrak Chutn...   \n",
       "\n",
       "                               TranslatedIngredients  PrepTimeInMins  \\\n",
       "0  6 Karela (Bitter Gourd/ Pavakkai) - deseeded,S...              15   \n",
       "1  2-1 / 2 cups rice - cooked, 3 tomatoes, 3 teas...               5   \n",
       "2  1-1/2 cups Rice Vermicelli Noodles (Thin),1 On...              20   \n",
       "3  500 grams Chicken,2 Onion - chopped,1 Tomato -...              15   \n",
       "4  1 tablespoon chana dal, 1 tablespoon white ura...              10   \n",
       "\n",
       "   CookTimeInMins  TotalTimeInMins  Servings               Cuisine  \\\n",
       "0              30               45         6                Indian   \n",
       "1              10               15         3  South Indian Recipes   \n",
       "2              30               50         4  South Indian Recipes   \n",
       "3              30               45         4                Andhra   \n",
       "4              20               30         4                Andhra   \n",
       "\n",
       "                   Course                     Diet  \\\n",
       "0               Side Dish        Diabetic Friendly   \n",
       "1             Main Course               Vegetarian   \n",
       "2  South Indian Breakfast  High Protein Vegetarian   \n",
       "3                   Lunch           Non Vegeterian   \n",
       "4  South Indian Breakfast               Vegetarian   \n",
       "\n",
       "                              TranslatedInstructions  \\\n",
       "0  To begin making the Masala Karela Recipe,de-se...   \n",
       "1  To make tomato puliogere, first cut the tomato...   \n",
       "2  To begin making the Ragi Vermicelli Recipe, fi...   \n",
       "3  To begin making Gongura Chicken Curry Recipe f...   \n",
       "4  To make Andhra Style Alam Pachadi, first heat ...   \n",
       "\n",
       "                                                 URL  \n",
       "0  https://www.archanaskitchen.com/masala-karela-...  \n",
       "1  http://www.archanaskitchen.com/spicy-tomato-ri...  \n",
       "2  http://www.archanaskitchen.com/ragi-vermicelli...  \n",
       "3  http://www.archanaskitchen.com/gongura-chicken...  \n",
       "4  https://www.archanaskitchen.com/andhra-style-a...  "
      ]
     },
     "execution_count": 15,
     "metadata": {},
     "output_type": "execute_result"
    }
   ],
   "source": [
    "df.head()"
   ]
  },
  {
   "cell_type": "code",
   "execution_count": 16,
   "metadata": {},
   "outputs": [
    {
     "name": "stdout",
     "output_type": "stream",
     "text": [
      "1129\n",
      "No-Bake Tangy Lemon Pie Recipe\n",
      "\n",
      "\n",
      "1 1/2 cups Digestive biscuit - crushed,80 grams Butter - melted,1 can Condensed Milk - (refer notes),110 grams Butter - melted,3 Lemon - juice freshly squeezed (use more if you like a little more tanginess),1 tablespoon Lemon zest - grated (add or reduce quantity as per taste),4 tablespoons Sugar - (add or reduce quantity as per taste),3 teaspoons Gelatin - (powder)\n",
      "\n",
      "\n"
     ]
    }
   ],
   "source": [
    "for i in range (1) :\n",
    "    x=np.random.randint(0,high=6481)\n",
    "    print(x)\n",
    "    print(df.iloc[x,1])\n",
    "    print(\"\\n\")\n",
    "    print(df.iloc[x,2])\n",
    "    print(\"\\n\")"
   ]
  },
  {
   "cell_type": "code",
   "execution_count": 17,
   "metadata": {},
   "outputs": [
    {
     "data": {
      "text/plain": [
       "'\\nSome Ingredients are not translated .\\n\\nPreProcessing:\\nRemove Numbers.\\nEither do this :Remove everything in between brackets .\\nMake it as a Feature  as :\\nIn brackets they are written in our common terms .We can use that as Ingredients in app itself.\\nRemove word Teaspoon,Teaspoons,cup,cups,chopped,washed,sliced,finely,few\\nremove symbols like \"-\",\"to taste\",\"as needed \",\"shredded\"\\n'"
      ]
     },
     "execution_count": 17,
     "metadata": {},
     "output_type": "execute_result"
    }
   ],
   "source": [
    "# There are some recipes  not translated.\n",
    "\n",
    "\"\"\"\n",
    "Plan 1:\n",
    "1]find cosine similiarity between Ingredients and Recipes .(here ingredients must be cleaned but not one hot encoded)\n",
    "\n",
    "2]Build a Recommender System .\n",
    "For Building a recommender system we must have user logins.\n",
    "their login details transferred to a db where we can use it collabirative Filtering recommender method to Recommend Productss\n",
    "\n",
    "Plan2:\n",
    "1]One hot encode ingredients \n",
    "\n",
    "\"\"\"\n",
    "\n",
    "#If we Use Translated Ingredients to find the similiarity :\n",
    "\"\"\"\n",
    "Some Ingredients are not translated .\n",
    "\n",
    "PreProcessing:\n",
    "Remove Numbers.\n",
    "Either do this :Remove everything in between brackets .\n",
    "Make it as a Feature  as :\n",
    "In brackets they are written in our common terms .We can use that as Ingredients in app itself.\n",
    "Remove word Teaspoon,Teaspoons,cup,cups,chopped,washed,sliced,finely,few\n",
    "remove symbols like \"-\",\"to taste\",\"as needed \",\"shredded\"\n",
    "\"\"\"\n"
   ]
  },
  {
   "cell_type": "markdown",
   "metadata": {},
   "source": [
    "## PreProcessing"
   ]
  },
  {
   "cell_type": "code",
   "execution_count": 18,
   "metadata": {},
   "outputs": [
    {
     "data": {
      "text/plain": [
       "'PreProcessing:\\nRemove Numbers.\\nEither do this :Remove everything in between brackets .\\nMake it as a Feature  as :\\nIn brackets they are written in our common terms .We can use that as Ingredients in app itself.\\nRemove word Teaspoon,Teaspoons,cup,cups,chopped,washed,sliced,finely,few\\nremove symbols like \"-\",\"to taste\",\"as needed \",\"shredded\"\\n'"
      ]
     },
     "execution_count": 18,
     "metadata": {},
     "output_type": "execute_result"
    }
   ],
   "source": [
    "\"\"\"PreProcessing:\n",
    "Remove Numbers.\n",
    "Either do this :Remove everything in between brackets .\n",
    "Make it as a Feature  as :\n",
    "In brackets they are written in our common terms .We can use that as Ingredients in app itself.\n",
    "Remove word Teaspoon,Teaspoons,cup,cups,chopped,washed,sliced,finely,few\n",
    "remove symbols like \"-\",\"to taste\",\"as needed \",\"shredded\"\n",
    "\"\"\"\n"
   ]
  },
  {
   "cell_type": "code",
   "execution_count": 19,
   "metadata": {},
   "outputs": [],
   "source": [
    "import random"
   ]
  },
  {
   "cell_type": "code",
   "execution_count": 20,
   "metadata": {},
   "outputs": [
    {
     "name": "stdout",
     "output_type": "stream",
     "text": [
      "1 cup Whole Wheat Flour,Water - as required,3/4 cup Masoor Dal (Whole),1 tablespoon Cumin powder (Jeera),1 tablespoon Coriander Powder (Dhania),1 tablespoon Turmeric powder (Haldi),1 tablespoon Red Chilli powder,1 tablespoon Ginger Garlic Paste,1/2 cup Onions - chopped,4 cloves Garlic - chopped,2 Green Chillies - finely chopped,1 teaspoon Cumin seeds (Jeera),Ghee - as required,Coriander (Dhania) Leaves - for garnish\n"
     ]
    }
   ],
   "source": [
    "def rd():\n",
    "    i=random.randint(0,6321)\n",
    "    x=df.iloc[i,2]\n",
    "    print(x)\n",
    "    return x\n",
    "tester=rd()"
   ]
  },
  {
   "cell_type": "code",
   "execution_count": 21,
   "metadata": {},
   "outputs": [],
   "source": [
    "def preprocess(text):\n",
    "    text=re.sub(r'[0-9]+', '', text)\n",
    "    delword=\"Teaspoon,teaspoon,teaspoons,-,/,to taste,as needed,shredded,cup,cups,washed,sliced,finely,few,chopped,tablespoons,\\\n",
    "       Fresh,optional,peeled ,Cubed,for garnishing,garnishing,grams.washed, finely chopped,chopped,frying,grams'\"\n",
    "    \n",
    "    for i in delword.split(\",\"):\n",
    "        text = text.replace(i, '')\n",
    "    text = re.sub(r'\\s+', ' ', text)\n",
    "    return text"
   ]
  },
  {
   "cell_type": "code",
   "execution_count": 22,
   "metadata": {},
   "outputs": [
    {
     "data": {
      "text/plain": [
       "' Whole Wheat Flour,Water as required, Masoor Dal (Whole), tablespoon Cumin powder (Jeera), tablespoon Coriander Powder (Dhania), tablespoon Turmeric powder (Haldi), tablespoon Red Chilli powder, tablespoon Ginger Garlic Paste, Onions , cloves Garlic , Green Chillies , Cumin seeds (Jeera),Ghee as required,Coriander (Dhania) Leaves for garnish'"
      ]
     },
     "execution_count": 22,
     "metadata": {},
     "output_type": "execute_result"
    }
   ],
   "source": [
    "preprocess(tester)"
   ]
  },
  {
   "cell_type": "code",
   "execution_count": 23,
   "metadata": {},
   "outputs": [
    {
     "data": {
      "text/plain": [
       "0       6 Karela (Bitter Gourd/ Pavakkai) - deseeded,S...\n",
       "1       2-1 / 2 cups rice - cooked, 3 tomatoes, 3 teas...\n",
       "2       1-1/2 cups Rice Vermicelli Noodles (Thin),1 On...\n",
       "3       500 grams Chicken,2 Onion - chopped,1 Tomato -...\n",
       "4       1 tablespoon chana dal, 1 tablespoon white ura...\n",
       "                              ...                        \n",
       "6860    20 बटन मशरुम,2 प्याज - काट ले,1 टमाटर - बारीक ...\n",
       "6861    1 बड़ा चम्मच तेल,1 कप गेहूं का आटा,नमक - स्वाद ...\n",
       "6862    150 grams Spring Onion (Bulb & Greens) - chopp...\n",
       "6863    1 kg Chicken - medium pieces,1/2 cup Mustard o...\n",
       "6864    2 बड़े चम्मच हरी मूंग दाल,2 बड़े चम्मच सफ़ेद उरद ...\n",
       "Name: TranslatedIngredients, Length: 6865, dtype: object"
      ]
     },
     "execution_count": 23,
     "metadata": {},
     "output_type": "execute_result"
    }
   ],
   "source": [
    "df[\"TranslatedIngredients\"]"
   ]
  },
  {
   "cell_type": "code",
   "execution_count": 24,
   "metadata": {},
   "outputs": [
    {
     "data": {
      "text/plain": [
       "'2 बड़े चम्मच हरी मूंग दाल,2 बड़े चम्मच सफ़ेद उरद दाल,2 बड़े चम्मच काली उरद दाल (स्प्लिट),2 बड़े चम्मच मसूर दाल\\xa0(स्प्लिट),2 बड़े चम्मच मसूर दाल,2 बड़े चम्मच राजमा,2 बड़े चम्मच काबुली चना या छोला,1/4 कप पिली मूंग दाल - 20 मिनट के लिए भिगो दे,1 बड़ा चम्मच अरहर दाल - 20 मिनट के लिए भिगो दे,1 प्याज - बारीक काट ले,1 टमाटर - बारीक काट ले,1 बड़ा चम्मच अदरक लहसुन का पेस्ट,1 हरी मिर्च - सीधा काट ले,2 छोटे चम्मच धनिया पाउडर,1 छोटा चम्मच लाल मिर्च पाउडर,2 छोटे चम्मच गरम मसाला पाउडर,1 बड़ा चम्मच कसूरी मेथी,1 इंच अदरक - सीधा और पतला काट ले,2 बड़े चम्मच घी,1 छोटा चम्मच जीरा,1 दालचीनी,नमक - स्वाद अनुसार'"
      ]
     },
     "execution_count": 24,
     "metadata": {},
     "output_type": "execute_result"
    }
   ],
   "source": [
    "df[\"TranslatedIngredients\"][6864]"
   ]
  },
  {
   "cell_type": "code",
   "execution_count": 26,
   "metadata": {},
   "outputs": [
    {
     "data": {
      "text/plain": [
       "'2 tbsp. Green moong dal, 2 tbsp. Chickpeas, 1/4 cup yellow moong dal - soaked for 20 minutes, 1 tbsp arhar dal - soaked for 20 minutes, 1 onion - finely chopped, 1 tomato - finely chopped, 1 tbsp ginger garlic Paste, 1 green chilli - cut straight, 2 tsp coriander powder, 1 tsp red chilli powder, 2 tsp garam masala powder, 1 tbsp kasoori methi, 1 inch ginger - cut straight and thin, 2 tbsp ghee , 1 tsp cumin, 1 cinnamon, salt - as per taste'"
      ]
     },
     "execution_count": 26,
     "metadata": {},
     "output_type": "execute_result"
    }
   ],
   "source": [
    "t='2 बड़े चम्मच हरी मूंग दाल,2 बड़े चम्मच सफ़ेद उरद दाल,2 बड़े चम्मच काली उरद दाल (स्प्लिट),2 बड़े चम्मच मसूर दाल\\xa0(स्प्लिट),2 बड़े चम्मच मसूर दाल,2 बड़े चम्मच राजमा,2 बड़े चम्मच काबुली चना या छोला,1/4 कप पिली मूंग दाल - 20 मिनट के लिए भिगो दे,1 बड़ा चम्मच अरहर दाल - 20 मिनट के लिए भिगो दे,1 प्याज - बारीक काट ले,1 टमाटर - बारीक काट ले,1 बड़ा चम्मच अदरक लहसुन का पेस्ट,1 हरी मिर्च - सीधा काट ले,2 छोटे चम्मच धनिया पाउडर,1 छोटा चम्मच लाल मिर्च पाउडर,2 छोटे चम्मच गरम मसाला पाउडर,1 बड़ा चम्मच कसूरी मेथी,1 इंच अदरक - सीधा और पतला काट ले,2 बड़े चम्मच घी,1 छोटा चम्मच जीरा,1 दालचीनी,नमक - स्वाद अनुसार'\n",
    "\n",
    "result = translator.translate(t)\n",
    "                              \n",
    "result.text                "
   ]
  },
  {
   "cell_type": "code",
   "execution_count": 27,
   "metadata": {},
   "outputs": [],
   "source": [
    "def trans(i):\n",
    "    result = translator.translate(i)\n",
    "    return result.text"
   ]
  },
  {
   "cell_type": "code",
   "execution_count": 28,
   "metadata": {},
   "outputs": [],
   "source": [
    "df1=df.tail(5).copy()"
   ]
  },
  {
   "cell_type": "code",
   "execution_count": 29,
   "metadata": {},
   "outputs": [
    {
     "data": {
      "text/html": [
       "<div>\n",
       "<style scoped>\n",
       "    .dataframe tbody tr th:only-of-type {\n",
       "        vertical-align: middle;\n",
       "    }\n",
       "\n",
       "    .dataframe tbody tr th {\n",
       "        vertical-align: top;\n",
       "    }\n",
       "\n",
       "    .dataframe thead th {\n",
       "        text-align: right;\n",
       "    }\n",
       "</style>\n",
       "<table border=\"1\" class=\"dataframe\">\n",
       "  <thead>\n",
       "    <tr style=\"text-align: right;\">\n",
       "      <th></th>\n",
       "      <th>Srno</th>\n",
       "      <th>TranslatedRecipeName</th>\n",
       "      <th>TranslatedIngredients</th>\n",
       "      <th>PrepTimeInMins</th>\n",
       "      <th>CookTimeInMins</th>\n",
       "      <th>TotalTimeInMins</th>\n",
       "      <th>Servings</th>\n",
       "      <th>Cuisine</th>\n",
       "      <th>Course</th>\n",
       "      <th>Diet</th>\n",
       "      <th>TranslatedInstructions</th>\n",
       "      <th>URL</th>\n",
       "    </tr>\n",
       "  </thead>\n",
       "  <tbody>\n",
       "    <tr>\n",
       "      <th>6860</th>\n",
       "      <td>14073</td>\n",
       "      <td>Goan Mushroom Xacuti Recipe</td>\n",
       "      <td>20 बटन मशरुम,2 प्याज - काट ले,1 टमाटर - बारीक ...</td>\n",
       "      <td>15</td>\n",
       "      <td>45</td>\n",
       "      <td>60</td>\n",
       "      <td>4</td>\n",
       "      <td>Goan Recipes</td>\n",
       "      <td>Lunch</td>\n",
       "      <td>Vegetarian</td>\n",
       "      <td>गोअन मशरुम जकुटी रेसिपी बनाने के लिए सबसे पहले...</td>\n",
       "      <td>https://www.archanaskitchen.com/goan-mushroom-...</td>\n",
       "    </tr>\n",
       "    <tr>\n",
       "      <th>6861</th>\n",
       "      <td>14107</td>\n",
       "      <td>Sweet Potato &amp; Methi Stuffed Paratha Recipe</td>\n",
       "      <td>1 बड़ा चम्मच तेल,1 कप गेहूं का आटा,नमक - स्वाद ...</td>\n",
       "      <td>30</td>\n",
       "      <td>60</td>\n",
       "      <td>90</td>\n",
       "      <td>4</td>\n",
       "      <td>North Indian Recipes</td>\n",
       "      <td>North Indian Breakfast</td>\n",
       "      <td>Diabetic Friendly</td>\n",
       "      <td>शकरकंदी और मेथी का पराठा रेसिपी बनाने के लिए स...</td>\n",
       "      <td>https://www.archanaskitchen.com/sweet-potato-m...</td>\n",
       "    </tr>\n",
       "    <tr>\n",
       "      <th>6862</th>\n",
       "      <td>14165</td>\n",
       "      <td>Ullikadala Pulusu Recipe | Spring Onion Curry</td>\n",
       "      <td>150 grams Spring Onion (Bulb &amp; Greens) - chopp...</td>\n",
       "      <td>5</td>\n",
       "      <td>10</td>\n",
       "      <td>15</td>\n",
       "      <td>2</td>\n",
       "      <td>Andhra</td>\n",
       "      <td>Side Dish</td>\n",
       "      <td>Vegetarian</td>\n",
       "      <td>To begin making Ullikadala Pulusu Recipe | Spr...</td>\n",
       "      <td>https://www.archanaskitchen.com/ullikadala-pul...</td>\n",
       "    </tr>\n",
       "    <tr>\n",
       "      <th>6863</th>\n",
       "      <td>14167</td>\n",
       "      <td>Kashmiri Style Kokur Yakhni Recipe-Chicken Coo...</td>\n",
       "      <td>1 kg Chicken - medium pieces,1/2 cup Mustard o...</td>\n",
       "      <td>30</td>\n",
       "      <td>45</td>\n",
       "      <td>75</td>\n",
       "      <td>4</td>\n",
       "      <td>Kashmiri</td>\n",
       "      <td>Lunch</td>\n",
       "      <td>Non Vegeterian</td>\n",
       "      <td>To begin making the Kashmiri Kokur Yakhni reci...</td>\n",
       "      <td>http://www.archanaskitchen.com/kashmiri-kokur-...</td>\n",
       "    </tr>\n",
       "    <tr>\n",
       "      <th>6864</th>\n",
       "      <td>14211</td>\n",
       "      <td>Navrang Dal Recipe</td>\n",
       "      <td>2 बड़े चम्मच हरी मूंग दाल,2 बड़े चम्मच सफ़ेद उरद ...</td>\n",
       "      <td>10</td>\n",
       "      <td>30</td>\n",
       "      <td>40</td>\n",
       "      <td>4</td>\n",
       "      <td>North Indian Recipes</td>\n",
       "      <td>Lunch</td>\n",
       "      <td>High Protein Vegetarian</td>\n",
       "      <td>नवरंग दाल रेसिपी  बनाने के लिए सबसे पहले सारी ...</td>\n",
       "      <td>https://www.archanaskitchen.com/navrang-dal-re...</td>\n",
       "    </tr>\n",
       "  </tbody>\n",
       "</table>\n",
       "</div>"
      ],
      "text/plain": [
       "       Srno                               TranslatedRecipeName  \\\n",
       "6860  14073                        Goan Mushroom Xacuti Recipe   \n",
       "6861  14107        Sweet Potato & Methi Stuffed Paratha Recipe   \n",
       "6862  14165      Ullikadala Pulusu Recipe | Spring Onion Curry   \n",
       "6863  14167  Kashmiri Style Kokur Yakhni Recipe-Chicken Coo...   \n",
       "6864  14211                                 Navrang Dal Recipe   \n",
       "\n",
       "                                  TranslatedIngredients  PrepTimeInMins  \\\n",
       "6860  20 बटन मशरुम,2 प्याज - काट ले,1 टमाटर - बारीक ...              15   \n",
       "6861  1 बड़ा चम्मच तेल,1 कप गेहूं का आटा,नमक - स्वाद ...              30   \n",
       "6862  150 grams Spring Onion (Bulb & Greens) - chopp...               5   \n",
       "6863  1 kg Chicken - medium pieces,1/2 cup Mustard o...              30   \n",
       "6864  2 बड़े चम्मच हरी मूंग दाल,2 बड़े चम्मच सफ़ेद उरद ...              10   \n",
       "\n",
       "      CookTimeInMins  TotalTimeInMins  Servings               Cuisine  \\\n",
       "6860              45               60         4          Goan Recipes   \n",
       "6861              60               90         4  North Indian Recipes   \n",
       "6862              10               15         2                Andhra   \n",
       "6863              45               75         4              Kashmiri   \n",
       "6864              30               40         4  North Indian Recipes   \n",
       "\n",
       "                      Course                     Diet  \\\n",
       "6860                   Lunch               Vegetarian   \n",
       "6861  North Indian Breakfast        Diabetic Friendly   \n",
       "6862               Side Dish               Vegetarian   \n",
       "6863                   Lunch           Non Vegeterian   \n",
       "6864                   Lunch  High Protein Vegetarian   \n",
       "\n",
       "                                 TranslatedInstructions  \\\n",
       "6860  गोअन मशरुम जकुटी रेसिपी बनाने के लिए सबसे पहले...   \n",
       "6861  शकरकंदी और मेथी का पराठा रेसिपी बनाने के लिए स...   \n",
       "6862  To begin making Ullikadala Pulusu Recipe | Spr...   \n",
       "6863  To begin making the Kashmiri Kokur Yakhni reci...   \n",
       "6864  नवरंग दाल रेसिपी  बनाने के लिए सबसे पहले सारी ...   \n",
       "\n",
       "                                                    URL  \n",
       "6860  https://www.archanaskitchen.com/goan-mushroom-...  \n",
       "6861  https://www.archanaskitchen.com/sweet-potato-m...  \n",
       "6862  https://www.archanaskitchen.com/ullikadala-pul...  \n",
       "6863  http://www.archanaskitchen.com/kashmiri-kokur-...  \n",
       "6864  https://www.archanaskitchen.com/navrang-dal-re...  "
      ]
     },
     "execution_count": 29,
     "metadata": {},
     "output_type": "execute_result"
    }
   ],
   "source": [
    "df1"
   ]
  },
  {
   "cell_type": "code",
   "execution_count": 31,
   "metadata": {},
   "outputs": [],
   "source": [
    "df1[\"TranslatedIngredients\"] = df1[\"TranslatedIngredients\"].apply(trans)"
   ]
  },
  {
   "cell_type": "code",
   "execution_count": 106,
   "metadata": {},
   "outputs": [
    {
     "data": {
      "text/plain": [
       "0       6 Karela (Bitter Gourd/ Pavakkai) - deseeded,S...\n",
       "1       2-1 / 2 cups rice - cooked, 3 tomatoes, 3 teas...\n",
       "2       1-1/2 cups Rice Vermicelli Noodles (Thin),1 On...\n",
       "3       500 grams Chicken,2 Onion - chopped,1 Tomato -...\n",
       "4       1 tablespoon chana dal, 1 tablespoon white ura...\n",
       "                              ...                        \n",
       "6860    20 बटन मशरुम,2 प्याज - काट ले,1 टमाटर - बारीक ...\n",
       "6861    1 बड़ा चम्मच तेल,1 कप गेहूं का आटा,नमक - स्वाद ...\n",
       "6862    150 grams Spring Onion (Bulb & Greens) - chopp...\n",
       "6863    1 kg Chicken - medium pieces,1/2 cup Mustard o...\n",
       "6864    2 बड़े चम्मच हरी मूंग दाल,2 बड़े चम्मच सफ़ेद उरद ...\n",
       "Name: TranslatedIngredients, Length: 6865, dtype: object"
      ]
     },
     "execution_count": 106,
     "metadata": {},
     "output_type": "execute_result"
    }
   ],
   "source": [
    "df[\"TranslatedIngredients\"]"
   ]
  },
  {
   "cell_type": "code",
   "execution_count": 32,
   "metadata": {},
   "outputs": [
    {
     "data": {
      "text/html": [
       "<div>\n",
       "<style scoped>\n",
       "    .dataframe tbody tr th:only-of-type {\n",
       "        vertical-align: middle;\n",
       "    }\n",
       "\n",
       "    .dataframe tbody tr th {\n",
       "        vertical-align: top;\n",
       "    }\n",
       "\n",
       "    .dataframe thead th {\n",
       "        text-align: right;\n",
       "    }\n",
       "</style>\n",
       "<table border=\"1\" class=\"dataframe\">\n",
       "  <thead>\n",
       "    <tr style=\"text-align: right;\">\n",
       "      <th></th>\n",
       "      <th>Srno</th>\n",
       "      <th>TranslatedRecipeName</th>\n",
       "      <th>TranslatedIngredients</th>\n",
       "      <th>PrepTimeInMins</th>\n",
       "      <th>CookTimeInMins</th>\n",
       "      <th>TotalTimeInMins</th>\n",
       "      <th>Servings</th>\n",
       "      <th>Cuisine</th>\n",
       "      <th>Course</th>\n",
       "      <th>Diet</th>\n",
       "      <th>TranslatedInstructions</th>\n",
       "      <th>URL</th>\n",
       "    </tr>\n",
       "  </thead>\n",
       "  <tbody>\n",
       "    <tr>\n",
       "      <th>6860</th>\n",
       "      <td>14073</td>\n",
       "      <td>Goan Mushroom Xacuti Recipe</td>\n",
       "      <td>20 button mushrooms, 2 onions - chopped, 1 tom...</td>\n",
       "      <td>15</td>\n",
       "      <td>45</td>\n",
       "      <td>60</td>\n",
       "      <td>4</td>\n",
       "      <td>Goan Recipes</td>\n",
       "      <td>Lunch</td>\n",
       "      <td>Vegetarian</td>\n",
       "      <td>गोअन मशरुम जकुटी रेसिपी बनाने के लिए सबसे पहले...</td>\n",
       "      <td>https://www.archanaskitchen.com/goan-mushroom-...</td>\n",
       "    </tr>\n",
       "    <tr>\n",
       "      <th>6861</th>\n",
       "      <td>14107</td>\n",
       "      <td>Sweet Potato &amp; Methi Stuffed Paratha Recipe</td>\n",
       "      <td>1 tbsp oil, 1 cup wheat flour, salt - as per t...</td>\n",
       "      <td>30</td>\n",
       "      <td>60</td>\n",
       "      <td>90</td>\n",
       "      <td>4</td>\n",
       "      <td>North Indian Recipes</td>\n",
       "      <td>North Indian Breakfast</td>\n",
       "      <td>Diabetic Friendly</td>\n",
       "      <td>शकरकंदी और मेथी का पराठा रेसिपी बनाने के लिए स...</td>\n",
       "      <td>https://www.archanaskitchen.com/sweet-potato-m...</td>\n",
       "    </tr>\n",
       "    <tr>\n",
       "      <th>6862</th>\n",
       "      <td>14165</td>\n",
       "      <td>Ullikadala Pulusu Recipe | Spring Onion Curry</td>\n",
       "      <td>150 grams Spring Onion (Bulb &amp; Greens) - chopp...</td>\n",
       "      <td>5</td>\n",
       "      <td>10</td>\n",
       "      <td>15</td>\n",
       "      <td>2</td>\n",
       "      <td>Andhra</td>\n",
       "      <td>Side Dish</td>\n",
       "      <td>Vegetarian</td>\n",
       "      <td>To begin making Ullikadala Pulusu Recipe | Spr...</td>\n",
       "      <td>https://www.archanaskitchen.com/ullikadala-pul...</td>\n",
       "    </tr>\n",
       "    <tr>\n",
       "      <th>6863</th>\n",
       "      <td>14167</td>\n",
       "      <td>Kashmiri Style Kokur Yakhni Recipe-Chicken Coo...</td>\n",
       "      <td>1 kg Chicken - medium pieces,1/2 cup Mustard o...</td>\n",
       "      <td>30</td>\n",
       "      <td>45</td>\n",
       "      <td>75</td>\n",
       "      <td>4</td>\n",
       "      <td>Kashmiri</td>\n",
       "      <td>Lunch</td>\n",
       "      <td>Non Vegeterian</td>\n",
       "      <td>To begin making the Kashmiri Kokur Yakhni reci...</td>\n",
       "      <td>http://www.archanaskitchen.com/kashmiri-kokur-...</td>\n",
       "    </tr>\n",
       "    <tr>\n",
       "      <th>6864</th>\n",
       "      <td>14211</td>\n",
       "      <td>Navrang Dal Recipe</td>\n",
       "      <td>2 tbsp. Green moong dal, 2 tbsp. Chickpeas, 1/...</td>\n",
       "      <td>10</td>\n",
       "      <td>30</td>\n",
       "      <td>40</td>\n",
       "      <td>4</td>\n",
       "      <td>North Indian Recipes</td>\n",
       "      <td>Lunch</td>\n",
       "      <td>High Protein Vegetarian</td>\n",
       "      <td>नवरंग दाल रेसिपी  बनाने के लिए सबसे पहले सारी ...</td>\n",
       "      <td>https://www.archanaskitchen.com/navrang-dal-re...</td>\n",
       "    </tr>\n",
       "  </tbody>\n",
       "</table>\n",
       "</div>"
      ],
      "text/plain": [
       "       Srno                               TranslatedRecipeName  \\\n",
       "6860  14073                        Goan Mushroom Xacuti Recipe   \n",
       "6861  14107        Sweet Potato & Methi Stuffed Paratha Recipe   \n",
       "6862  14165      Ullikadala Pulusu Recipe | Spring Onion Curry   \n",
       "6863  14167  Kashmiri Style Kokur Yakhni Recipe-Chicken Coo...   \n",
       "6864  14211                                 Navrang Dal Recipe   \n",
       "\n",
       "                                  TranslatedIngredients  PrepTimeInMins  \\\n",
       "6860  20 button mushrooms, 2 onions - chopped, 1 tom...              15   \n",
       "6861  1 tbsp oil, 1 cup wheat flour, salt - as per t...              30   \n",
       "6862  150 grams Spring Onion (Bulb & Greens) - chopp...               5   \n",
       "6863  1 kg Chicken - medium pieces,1/2 cup Mustard o...              30   \n",
       "6864  2 tbsp. Green moong dal, 2 tbsp. Chickpeas, 1/...              10   \n",
       "\n",
       "      CookTimeInMins  TotalTimeInMins  Servings               Cuisine  \\\n",
       "6860              45               60         4          Goan Recipes   \n",
       "6861              60               90         4  North Indian Recipes   \n",
       "6862              10               15         2                Andhra   \n",
       "6863              45               75         4              Kashmiri   \n",
       "6864              30               40         4  North Indian Recipes   \n",
       "\n",
       "                      Course                     Diet  \\\n",
       "6860                   Lunch               Vegetarian   \n",
       "6861  North Indian Breakfast        Diabetic Friendly   \n",
       "6862               Side Dish               Vegetarian   \n",
       "6863                   Lunch           Non Vegeterian   \n",
       "6864                   Lunch  High Protein Vegetarian   \n",
       "\n",
       "                                 TranslatedInstructions  \\\n",
       "6860  गोअन मशरुम जकुटी रेसिपी बनाने के लिए सबसे पहले...   \n",
       "6861  शकरकंदी और मेथी का पराठा रेसिपी बनाने के लिए स...   \n",
       "6862  To begin making Ullikadala Pulusu Recipe | Spr...   \n",
       "6863  To begin making the Kashmiri Kokur Yakhni reci...   \n",
       "6864  नवरंग दाल रेसिपी  बनाने के लिए सबसे पहले सारी ...   \n",
       "\n",
       "                                                    URL  \n",
       "6860  https://www.archanaskitchen.com/goan-mushroom-...  \n",
       "6861  https://www.archanaskitchen.com/sweet-potato-m...  \n",
       "6862  https://www.archanaskitchen.com/ullikadala-pul...  \n",
       "6863  http://www.archanaskitchen.com/kashmiri-kokur-...  \n",
       "6864  https://www.archanaskitchen.com/navrang-dal-re...  "
      ]
     },
     "execution_count": 32,
     "metadata": {},
     "output_type": "execute_result"
    }
   ],
   "source": [
    "df1"
   ]
  },
  {
   "cell_type": "code",
   "execution_count": 33,
   "metadata": {},
   "outputs": [
    {
     "ename": "ReadTimeout",
     "evalue": "The read operation timed out",
     "output_type": "error",
     "traceback": [
      "\u001b[1;31m---------------------------------------------------------------------------\u001b[0m",
      "\u001b[1;31mReadTimeout\u001b[0m                               Traceback (most recent call last)",
      "\u001b[1;32m<ipython-input-33-aee1166409ff>\u001b[0m in \u001b[0;36m<module>\u001b[1;34m\u001b[0m\n\u001b[1;32m----> 1\u001b[1;33m \u001b[0mdf\u001b[0m\u001b[1;33m[\u001b[0m\u001b[1;34m\"TranslatedIngredients\"\u001b[0m\u001b[1;33m]\u001b[0m\u001b[1;33m=\u001b[0m\u001b[0mdf\u001b[0m\u001b[1;33m[\u001b[0m\u001b[1;34m\"TranslatedIngredients\"\u001b[0m\u001b[1;33m]\u001b[0m\u001b[1;33m.\u001b[0m\u001b[0mapply\u001b[0m\u001b[1;33m(\u001b[0m\u001b[0mtrans\u001b[0m\u001b[1;33m)\u001b[0m\u001b[1;33m\u001b[0m\u001b[1;33m\u001b[0m\u001b[0m\n\u001b[0m",
      "\u001b[1;32m~\\.conda\\envs\\tensorflow\\lib\\site-packages\\pandas\\core\\series.py\u001b[0m in \u001b[0;36mapply\u001b[1;34m(self, func, convert_dtype, args, **kwds)\u001b[0m\n\u001b[0;32m   4198\u001b[0m             \u001b[1;32melse\u001b[0m\u001b[1;33m:\u001b[0m\u001b[1;33m\u001b[0m\u001b[1;33m\u001b[0m\u001b[0m\n\u001b[0;32m   4199\u001b[0m                 \u001b[0mvalues\u001b[0m \u001b[1;33m=\u001b[0m \u001b[0mself\u001b[0m\u001b[1;33m.\u001b[0m\u001b[0mastype\u001b[0m\u001b[1;33m(\u001b[0m\u001b[0mobject\u001b[0m\u001b[1;33m)\u001b[0m\u001b[1;33m.\u001b[0m\u001b[0m_values\u001b[0m\u001b[1;33m\u001b[0m\u001b[1;33m\u001b[0m\u001b[0m\n\u001b[1;32m-> 4200\u001b[1;33m                 \u001b[0mmapped\u001b[0m \u001b[1;33m=\u001b[0m \u001b[0mlib\u001b[0m\u001b[1;33m.\u001b[0m\u001b[0mmap_infer\u001b[0m\u001b[1;33m(\u001b[0m\u001b[0mvalues\u001b[0m\u001b[1;33m,\u001b[0m \u001b[0mf\u001b[0m\u001b[1;33m,\u001b[0m \u001b[0mconvert\u001b[0m\u001b[1;33m=\u001b[0m\u001b[0mconvert_dtype\u001b[0m\u001b[1;33m)\u001b[0m\u001b[1;33m\u001b[0m\u001b[1;33m\u001b[0m\u001b[0m\n\u001b[0m\u001b[0;32m   4201\u001b[0m \u001b[1;33m\u001b[0m\u001b[0m\n\u001b[0;32m   4202\u001b[0m         \u001b[1;32mif\u001b[0m \u001b[0mlen\u001b[0m\u001b[1;33m(\u001b[0m\u001b[0mmapped\u001b[0m\u001b[1;33m)\u001b[0m \u001b[1;32mand\u001b[0m \u001b[0misinstance\u001b[0m\u001b[1;33m(\u001b[0m\u001b[0mmapped\u001b[0m\u001b[1;33m[\u001b[0m\u001b[1;36m0\u001b[0m\u001b[1;33m]\u001b[0m\u001b[1;33m,\u001b[0m \u001b[0mSeries\u001b[0m\u001b[1;33m)\u001b[0m\u001b[1;33m:\u001b[0m\u001b[1;33m\u001b[0m\u001b[1;33m\u001b[0m\u001b[0m\n",
      "\u001b[1;32mpandas\\_libs\\lib.pyx\u001b[0m in \u001b[0;36mpandas._libs.lib.map_infer\u001b[1;34m()\u001b[0m\n",
      "\u001b[1;32m<ipython-input-27-f88c2c5fe0d9>\u001b[0m in \u001b[0;36mtrans\u001b[1;34m(i)\u001b[0m\n\u001b[0;32m      1\u001b[0m \u001b[1;32mdef\u001b[0m \u001b[0mtrans\u001b[0m\u001b[1;33m(\u001b[0m\u001b[0mi\u001b[0m\u001b[1;33m)\u001b[0m\u001b[1;33m:\u001b[0m\u001b[1;33m\u001b[0m\u001b[1;33m\u001b[0m\u001b[0m\n\u001b[1;32m----> 2\u001b[1;33m     \u001b[0mresult\u001b[0m \u001b[1;33m=\u001b[0m \u001b[0mtranslator\u001b[0m\u001b[1;33m.\u001b[0m\u001b[0mtranslate\u001b[0m\u001b[1;33m(\u001b[0m\u001b[0mi\u001b[0m\u001b[1;33m)\u001b[0m\u001b[1;33m\u001b[0m\u001b[1;33m\u001b[0m\u001b[0m\n\u001b[0m\u001b[0;32m      3\u001b[0m     \u001b[1;32mreturn\u001b[0m \u001b[0mresult\u001b[0m\u001b[1;33m.\u001b[0m\u001b[0mtext\u001b[0m\u001b[1;33m\u001b[0m\u001b[1;33m\u001b[0m\u001b[0m\n",
      "\u001b[1;32m~\\.conda\\envs\\tensorflow\\lib\\site-packages\\googletrans\\client.py\u001b[0m in \u001b[0;36mtranslate\u001b[1;34m(self, text, dest, src, **kwargs)\u001b[0m\n\u001b[0;32m    208\u001b[0m \u001b[1;33m\u001b[0m\u001b[0m\n\u001b[0;32m    209\u001b[0m         \u001b[0morigin\u001b[0m \u001b[1;33m=\u001b[0m \u001b[0mtext\u001b[0m\u001b[1;33m\u001b[0m\u001b[1;33m\u001b[0m\u001b[0m\n\u001b[1;32m--> 210\u001b[1;33m         \u001b[0mdata\u001b[0m\u001b[1;33m,\u001b[0m \u001b[0mresponse\u001b[0m \u001b[1;33m=\u001b[0m \u001b[0mself\u001b[0m\u001b[1;33m.\u001b[0m\u001b[0m_translate\u001b[0m\u001b[1;33m(\u001b[0m\u001b[0mtext\u001b[0m\u001b[1;33m,\u001b[0m \u001b[0mdest\u001b[0m\u001b[1;33m,\u001b[0m \u001b[0msrc\u001b[0m\u001b[1;33m,\u001b[0m \u001b[0mkwargs\u001b[0m\u001b[1;33m)\u001b[0m\u001b[1;33m\u001b[0m\u001b[1;33m\u001b[0m\u001b[0m\n\u001b[0m\u001b[0;32m    211\u001b[0m \u001b[1;33m\u001b[0m\u001b[0m\n\u001b[0;32m    212\u001b[0m         \u001b[1;31m# this code will be updated when the format is changed.\u001b[0m\u001b[1;33m\u001b[0m\u001b[1;33m\u001b[0m\u001b[1;33m\u001b[0m\u001b[0m\n",
      "\u001b[1;32m~\\.conda\\envs\\tensorflow\\lib\\site-packages\\googletrans\\client.py\u001b[0m in \u001b[0;36m_translate\u001b[1;34m(self, text, dest, src, override)\u001b[0m\n\u001b[0;32m    106\u001b[0m \u001b[1;33m\u001b[0m\u001b[0m\n\u001b[0;32m    107\u001b[0m         \u001b[0murl\u001b[0m \u001b[1;33m=\u001b[0m \u001b[0murls\u001b[0m\u001b[1;33m.\u001b[0m\u001b[0mTRANSLATE\u001b[0m\u001b[1;33m.\u001b[0m\u001b[0mformat\u001b[0m\u001b[1;33m(\u001b[0m\u001b[0mhost\u001b[0m\u001b[1;33m=\u001b[0m\u001b[0mself\u001b[0m\u001b[1;33m.\u001b[0m\u001b[0m_pick_service_url\u001b[0m\u001b[1;33m(\u001b[0m\u001b[1;33m)\u001b[0m\u001b[1;33m)\u001b[0m\u001b[1;33m\u001b[0m\u001b[1;33m\u001b[0m\u001b[0m\n\u001b[1;32m--> 108\u001b[1;33m         \u001b[0mr\u001b[0m \u001b[1;33m=\u001b[0m \u001b[0mself\u001b[0m\u001b[1;33m.\u001b[0m\u001b[0mclient\u001b[0m\u001b[1;33m.\u001b[0m\u001b[0mget\u001b[0m\u001b[1;33m(\u001b[0m\u001b[0murl\u001b[0m\u001b[1;33m,\u001b[0m \u001b[0mparams\u001b[0m\u001b[1;33m=\u001b[0m\u001b[0mparams\u001b[0m\u001b[1;33m)\u001b[0m\u001b[1;33m\u001b[0m\u001b[1;33m\u001b[0m\u001b[0m\n\u001b[0m\u001b[0;32m    109\u001b[0m \u001b[1;33m\u001b[0m\u001b[0m\n\u001b[0;32m    110\u001b[0m         \u001b[1;32mif\u001b[0m \u001b[0mr\u001b[0m\u001b[1;33m.\u001b[0m\u001b[0mstatus_code\u001b[0m \u001b[1;33m==\u001b[0m \u001b[1;36m200\u001b[0m\u001b[1;33m:\u001b[0m\u001b[1;33m\u001b[0m\u001b[1;33m\u001b[0m\u001b[0m\n",
      "\u001b[1;32m~\\.conda\\envs\\tensorflow\\lib\\site-packages\\httpx-0.13.3-py3.6.egg\\httpx\\_client.py\u001b[0m in \u001b[0;36mget\u001b[1;34m(self, url, params, headers, cookies, auth, allow_redirects, timeout)\u001b[0m\n\u001b[0;32m    761\u001b[0m             \u001b[0mauth\u001b[0m\u001b[1;33m=\u001b[0m\u001b[0mauth\u001b[0m\u001b[1;33m,\u001b[0m\u001b[1;33m\u001b[0m\u001b[1;33m\u001b[0m\u001b[0m\n\u001b[0;32m    762\u001b[0m             \u001b[0mallow_redirects\u001b[0m\u001b[1;33m=\u001b[0m\u001b[0mallow_redirects\u001b[0m\u001b[1;33m,\u001b[0m\u001b[1;33m\u001b[0m\u001b[1;33m\u001b[0m\u001b[0m\n\u001b[1;32m--> 763\u001b[1;33m             \u001b[0mtimeout\u001b[0m\u001b[1;33m=\u001b[0m\u001b[0mtimeout\u001b[0m\u001b[1;33m,\u001b[0m\u001b[1;33m\u001b[0m\u001b[1;33m\u001b[0m\u001b[0m\n\u001b[0m\u001b[0;32m    764\u001b[0m         )\n\u001b[0;32m    765\u001b[0m \u001b[1;33m\u001b[0m\u001b[0m\n",
      "\u001b[1;32m~\\.conda\\envs\\tensorflow\\lib\\site-packages\\httpx-0.13.3-py3.6.egg\\httpx\\_client.py\u001b[0m in \u001b[0;36mrequest\u001b[1;34m(self, method, url, data, files, json, params, headers, cookies, auth, allow_redirects, timeout)\u001b[0m\n\u001b[0;32m    599\u001b[0m         )\n\u001b[0;32m    600\u001b[0m         return self.send(\n\u001b[1;32m--> 601\u001b[1;33m             \u001b[0mrequest\u001b[0m\u001b[1;33m,\u001b[0m \u001b[0mauth\u001b[0m\u001b[1;33m=\u001b[0m\u001b[0mauth\u001b[0m\u001b[1;33m,\u001b[0m \u001b[0mallow_redirects\u001b[0m\u001b[1;33m=\u001b[0m\u001b[0mallow_redirects\u001b[0m\u001b[1;33m,\u001b[0m \u001b[0mtimeout\u001b[0m\u001b[1;33m=\u001b[0m\u001b[0mtimeout\u001b[0m\u001b[1;33m,\u001b[0m\u001b[1;33m\u001b[0m\u001b[1;33m\u001b[0m\u001b[0m\n\u001b[0m\u001b[0;32m    602\u001b[0m         )\n\u001b[0;32m    603\u001b[0m \u001b[1;33m\u001b[0m\u001b[0m\n",
      "\u001b[1;32m~\\.conda\\envs\\tensorflow\\lib\\site-packages\\httpx-0.13.3-py3.6.egg\\httpx\\_client.py\u001b[0m in \u001b[0;36msend\u001b[1;34m(self, request, stream, auth, allow_redirects, timeout)\u001b[0m\n\u001b[0;32m    619\u001b[0m \u001b[1;33m\u001b[0m\u001b[0m\n\u001b[0;32m    620\u001b[0m         response = self.send_handling_redirects(\n\u001b[1;32m--> 621\u001b[1;33m             \u001b[0mrequest\u001b[0m\u001b[1;33m,\u001b[0m \u001b[0mauth\u001b[0m\u001b[1;33m=\u001b[0m\u001b[0mauth\u001b[0m\u001b[1;33m,\u001b[0m \u001b[0mtimeout\u001b[0m\u001b[1;33m=\u001b[0m\u001b[0mtimeout\u001b[0m\u001b[1;33m,\u001b[0m \u001b[0mallow_redirects\u001b[0m\u001b[1;33m=\u001b[0m\u001b[0mallow_redirects\u001b[0m\u001b[1;33m,\u001b[0m\u001b[1;33m\u001b[0m\u001b[1;33m\u001b[0m\u001b[0m\n\u001b[0m\u001b[0;32m    622\u001b[0m         )\n\u001b[0;32m    623\u001b[0m \u001b[1;33m\u001b[0m\u001b[0m\n",
      "\u001b[1;32m~\\.conda\\envs\\tensorflow\\lib\\site-packages\\httpx-0.13.3-py3.6.egg\\httpx\\_client.py\u001b[0m in \u001b[0;36msend_handling_redirects\u001b[1;34m(self, request, auth, timeout, allow_redirects, history)\u001b[0m\n\u001b[0;32m    646\u001b[0m \u001b[1;33m\u001b[0m\u001b[0m\n\u001b[0;32m    647\u001b[0m             response = self.send_handling_auth(\n\u001b[1;32m--> 648\u001b[1;33m                 \u001b[0mrequest\u001b[0m\u001b[1;33m,\u001b[0m \u001b[0mauth\u001b[0m\u001b[1;33m=\u001b[0m\u001b[0mauth\u001b[0m\u001b[1;33m,\u001b[0m \u001b[0mtimeout\u001b[0m\u001b[1;33m=\u001b[0m\u001b[0mtimeout\u001b[0m\u001b[1;33m,\u001b[0m \u001b[0mhistory\u001b[0m\u001b[1;33m=\u001b[0m\u001b[0mhistory\u001b[0m\u001b[1;33m\u001b[0m\u001b[1;33m\u001b[0m\u001b[0m\n\u001b[0m\u001b[0;32m    649\u001b[0m             )\n\u001b[0;32m    650\u001b[0m             \u001b[0mresponse\u001b[0m\u001b[1;33m.\u001b[0m\u001b[0mhistory\u001b[0m \u001b[1;33m=\u001b[0m \u001b[0mlist\u001b[0m\u001b[1;33m(\u001b[0m\u001b[0mhistory\u001b[0m\u001b[1;33m)\u001b[0m\u001b[1;33m\u001b[0m\u001b[1;33m\u001b[0m\u001b[0m\n",
      "\u001b[1;32m~\\.conda\\envs\\tensorflow\\lib\\site-packages\\httpx-0.13.3-py3.6.egg\\httpx\\_client.py\u001b[0m in \u001b[0;36msend_handling_auth\u001b[1;34m(self, request, history, auth, timeout)\u001b[0m\n\u001b[0;32m    682\u001b[0m         \u001b[0mrequest\u001b[0m \u001b[1;33m=\u001b[0m \u001b[0mnext\u001b[0m\u001b[1;33m(\u001b[0m\u001b[0mauth_flow\u001b[0m\u001b[1;33m)\u001b[0m\u001b[1;33m\u001b[0m\u001b[1;33m\u001b[0m\u001b[0m\n\u001b[0;32m    683\u001b[0m         \u001b[1;32mwhile\u001b[0m \u001b[1;32mTrue\u001b[0m\u001b[1;33m:\u001b[0m\u001b[1;33m\u001b[0m\u001b[1;33m\u001b[0m\u001b[0m\n\u001b[1;32m--> 684\u001b[1;33m             \u001b[0mresponse\u001b[0m \u001b[1;33m=\u001b[0m \u001b[0mself\u001b[0m\u001b[1;33m.\u001b[0m\u001b[0msend_single_request\u001b[0m\u001b[1;33m(\u001b[0m\u001b[0mrequest\u001b[0m\u001b[1;33m,\u001b[0m \u001b[0mtimeout\u001b[0m\u001b[1;33m)\u001b[0m\u001b[1;33m\u001b[0m\u001b[1;33m\u001b[0m\u001b[0m\n\u001b[0m\u001b[0;32m    685\u001b[0m             \u001b[1;32mif\u001b[0m \u001b[0mauth\u001b[0m\u001b[1;33m.\u001b[0m\u001b[0mrequires_response_body\u001b[0m\u001b[1;33m:\u001b[0m\u001b[1;33m\u001b[0m\u001b[1;33m\u001b[0m\u001b[0m\n\u001b[0;32m    686\u001b[0m                 \u001b[0mresponse\u001b[0m\u001b[1;33m.\u001b[0m\u001b[0mread\u001b[0m\u001b[1;33m(\u001b[0m\u001b[1;33m)\u001b[0m\u001b[1;33m\u001b[0m\u001b[1;33m\u001b[0m\u001b[0m\n",
      "\u001b[1;32m~\\.conda\\envs\\tensorflow\\lib\\site-packages\\httpx-0.13.3-py3.6.egg\\httpx\\_client.py\u001b[0m in \u001b[0;36msend_single_request\u001b[1;34m(self, request, timeout)\u001b[0m\n\u001b[0;32m    717\u001b[0m                 \u001b[0mheaders\u001b[0m\u001b[1;33m=\u001b[0m\u001b[0mrequest\u001b[0m\u001b[1;33m.\u001b[0m\u001b[0mheaders\u001b[0m\u001b[1;33m.\u001b[0m\u001b[0mraw\u001b[0m\u001b[1;33m,\u001b[0m\u001b[1;33m\u001b[0m\u001b[1;33m\u001b[0m\u001b[0m\n\u001b[0;32m    718\u001b[0m                 \u001b[0mstream\u001b[0m\u001b[1;33m=\u001b[0m\u001b[0mrequest\u001b[0m\u001b[1;33m.\u001b[0m\u001b[0mstream\u001b[0m\u001b[1;33m,\u001b[0m\u001b[1;33m\u001b[0m\u001b[1;33m\u001b[0m\u001b[0m\n\u001b[1;32m--> 719\u001b[1;33m                 \u001b[0mtimeout\u001b[0m\u001b[1;33m=\u001b[0m\u001b[0mtimeout\u001b[0m\u001b[1;33m.\u001b[0m\u001b[0mas_dict\u001b[0m\u001b[1;33m(\u001b[0m\u001b[1;33m)\u001b[0m\u001b[1;33m,\u001b[0m\u001b[1;33m\u001b[0m\u001b[1;33m\u001b[0m\u001b[0m\n\u001b[0m\u001b[0;32m    720\u001b[0m             )\n\u001b[0;32m    721\u001b[0m         \u001b[1;32mexcept\u001b[0m \u001b[0mHTTPError\u001b[0m \u001b[1;32mas\u001b[0m \u001b[0mexc\u001b[0m\u001b[1;33m:\u001b[0m\u001b[1;33m\u001b[0m\u001b[1;33m\u001b[0m\u001b[0m\n",
      "\u001b[1;32m~\\.conda\\envs\\tensorflow\\lib\\site-packages\\httpcore-0.9.1-py3.6.egg\\httpcore\\_sync\\connection_pool.py\u001b[0m in \u001b[0;36mrequest\u001b[1;34m(self, method, url, headers, stream, timeout)\u001b[0m\n\u001b[0;32m    151\u001b[0m             \u001b[1;32mtry\u001b[0m\u001b[1;33m:\u001b[0m\u001b[1;33m\u001b[0m\u001b[1;33m\u001b[0m\u001b[0m\n\u001b[0;32m    152\u001b[0m                 response = connection.request(\n\u001b[1;32m--> 153\u001b[1;33m                     \u001b[0mmethod\u001b[0m\u001b[1;33m,\u001b[0m \u001b[0murl\u001b[0m\u001b[1;33m,\u001b[0m \u001b[0mheaders\u001b[0m\u001b[1;33m=\u001b[0m\u001b[0mheaders\u001b[0m\u001b[1;33m,\u001b[0m \u001b[0mstream\u001b[0m\u001b[1;33m=\u001b[0m\u001b[0mstream\u001b[0m\u001b[1;33m,\u001b[0m \u001b[0mtimeout\u001b[0m\u001b[1;33m=\u001b[0m\u001b[0mtimeout\u001b[0m\u001b[1;33m\u001b[0m\u001b[1;33m\u001b[0m\u001b[0m\n\u001b[0m\u001b[0;32m    154\u001b[0m                 )\n\u001b[0;32m    155\u001b[0m             \u001b[1;32mexcept\u001b[0m \u001b[0mNewConnectionRequired\u001b[0m\u001b[1;33m:\u001b[0m\u001b[1;33m\u001b[0m\u001b[1;33m\u001b[0m\u001b[0m\n",
      "\u001b[1;32m~\\.conda\\envs\\tensorflow\\lib\\site-packages\\httpcore-0.9.1-py3.6.egg\\httpcore\\_sync\\connection.py\u001b[0m in \u001b[0;36mrequest\u001b[1;34m(self, method, url, headers, stream, timeout)\u001b[0m\n\u001b[0;32m     76\u001b[0m             \u001b[1;34m\"connection.request method=%r url=%r headers=%r\"\u001b[0m\u001b[1;33m,\u001b[0m \u001b[0mmethod\u001b[0m\u001b[1;33m,\u001b[0m \u001b[0murl\u001b[0m\u001b[1;33m,\u001b[0m \u001b[0mheaders\u001b[0m\u001b[1;33m\u001b[0m\u001b[1;33m\u001b[0m\u001b[0m\n\u001b[0;32m     77\u001b[0m         )\n\u001b[1;32m---> 78\u001b[1;33m         \u001b[1;32mreturn\u001b[0m \u001b[0mself\u001b[0m\u001b[1;33m.\u001b[0m\u001b[0mconnection\u001b[0m\u001b[1;33m.\u001b[0m\u001b[0mrequest\u001b[0m\u001b[1;33m(\u001b[0m\u001b[0mmethod\u001b[0m\u001b[1;33m,\u001b[0m \u001b[0murl\u001b[0m\u001b[1;33m,\u001b[0m \u001b[0mheaders\u001b[0m\u001b[1;33m,\u001b[0m \u001b[0mstream\u001b[0m\u001b[1;33m,\u001b[0m \u001b[0mtimeout\u001b[0m\u001b[1;33m)\u001b[0m\u001b[1;33m\u001b[0m\u001b[1;33m\u001b[0m\u001b[0m\n\u001b[0m\u001b[0;32m     79\u001b[0m \u001b[1;33m\u001b[0m\u001b[0m\n\u001b[0;32m     80\u001b[0m     \u001b[1;32mdef\u001b[0m \u001b[0m_open_socket\u001b[0m\u001b[1;33m(\u001b[0m\u001b[0mself\u001b[0m\u001b[1;33m,\u001b[0m \u001b[0mtimeout\u001b[0m\u001b[1;33m:\u001b[0m \u001b[0mTimeoutDict\u001b[0m \u001b[1;33m=\u001b[0m \u001b[1;32mNone\u001b[0m\u001b[1;33m)\u001b[0m \u001b[1;33m->\u001b[0m \u001b[0mSyncSocketStream\u001b[0m\u001b[1;33m:\u001b[0m\u001b[1;33m\u001b[0m\u001b[1;33m\u001b[0m\u001b[0m\n",
      "\u001b[1;32m~\\.conda\\envs\\tensorflow\\lib\\site-packages\\httpcore-0.9.1-py3.6.egg\\httpcore\\_sync\\http2.py\u001b[0m in \u001b[0;36mrequest\u001b[1;34m(self, method, url, headers, stream, timeout)\u001b[0m\n\u001b[0;32m    116\u001b[0m             \u001b[0mself\u001b[0m\u001b[1;33m.\u001b[0m\u001b[0mstreams\u001b[0m\u001b[1;33m[\u001b[0m\u001b[0mstream_id\u001b[0m\u001b[1;33m]\u001b[0m \u001b[1;33m=\u001b[0m \u001b[0mh2_stream\u001b[0m\u001b[1;33m\u001b[0m\u001b[1;33m\u001b[0m\u001b[0m\n\u001b[0;32m    117\u001b[0m             \u001b[0mself\u001b[0m\u001b[1;33m.\u001b[0m\u001b[0mevents\u001b[0m\u001b[1;33m[\u001b[0m\u001b[0mstream_id\u001b[0m\u001b[1;33m]\u001b[0m \u001b[1;33m=\u001b[0m \u001b[1;33m[\u001b[0m\u001b[1;33m]\u001b[0m\u001b[1;33m\u001b[0m\u001b[1;33m\u001b[0m\u001b[0m\n\u001b[1;32m--> 118\u001b[1;33m             \u001b[1;32mreturn\u001b[0m \u001b[0mh2_stream\u001b[0m\u001b[1;33m.\u001b[0m\u001b[0mrequest\u001b[0m\u001b[1;33m(\u001b[0m\u001b[0mmethod\u001b[0m\u001b[1;33m,\u001b[0m \u001b[0murl\u001b[0m\u001b[1;33m,\u001b[0m \u001b[0mheaders\u001b[0m\u001b[1;33m,\u001b[0m \u001b[0mstream\u001b[0m\u001b[1;33m,\u001b[0m \u001b[0mtimeout\u001b[0m\u001b[1;33m)\u001b[0m\u001b[1;33m\u001b[0m\u001b[1;33m\u001b[0m\u001b[0m\n\u001b[0m\u001b[0;32m    119\u001b[0m         \u001b[1;32mexcept\u001b[0m \u001b[0mException\u001b[0m\u001b[1;33m:\u001b[0m\u001b[1;33m\u001b[0m\u001b[1;33m\u001b[0m\u001b[0m\n\u001b[0;32m    120\u001b[0m             \u001b[0mself\u001b[0m\u001b[1;33m.\u001b[0m\u001b[0mmax_streams_semaphore\u001b[0m\u001b[1;33m.\u001b[0m\u001b[0mrelease\u001b[0m\u001b[1;33m(\u001b[0m\u001b[1;33m)\u001b[0m\u001b[1;33m\u001b[0m\u001b[1;33m\u001b[0m\u001b[0m\n",
      "\u001b[1;32m~\\.conda\\envs\\tensorflow\\lib\\site-packages\\httpcore-0.9.1-py3.6.egg\\httpcore\\_sync\\http2.py\u001b[0m in \u001b[0;36mrequest\u001b[1;34m(self, method, url, headers, stream, timeout)\u001b[0m\n\u001b[0;32m    290\u001b[0m \u001b[1;33m\u001b[0m\u001b[0m\n\u001b[0;32m    291\u001b[0m         \u001b[1;31m# Receive the response.\u001b[0m\u001b[1;33m\u001b[0m\u001b[1;33m\u001b[0m\u001b[1;33m\u001b[0m\u001b[0m\n\u001b[1;32m--> 292\u001b[1;33m         \u001b[0mstatus_code\u001b[0m\u001b[1;33m,\u001b[0m \u001b[0mheaders\u001b[0m \u001b[1;33m=\u001b[0m \u001b[0mself\u001b[0m\u001b[1;33m.\u001b[0m\u001b[0mreceive_response\u001b[0m\u001b[1;33m(\u001b[0m\u001b[0mtimeout\u001b[0m\u001b[1;33m)\u001b[0m\u001b[1;33m\u001b[0m\u001b[1;33m\u001b[0m\u001b[0m\n\u001b[0m\u001b[0;32m    293\u001b[0m         \u001b[0mreason_phrase\u001b[0m \u001b[1;33m=\u001b[0m \u001b[0mget_reason_phrase\u001b[0m\u001b[1;33m(\u001b[0m\u001b[0mstatus_code\u001b[0m\u001b[1;33m)\u001b[0m\u001b[1;33m\u001b[0m\u001b[1;33m\u001b[0m\u001b[0m\n\u001b[0;32m    294\u001b[0m         stream = SyncByteStream(\n",
      "\u001b[1;32m~\\.conda\\envs\\tensorflow\\lib\\site-packages\\httpcore-0.9.1-py3.6.egg\\httpcore\\_sync\\http2.py\u001b[0m in \u001b[0;36mreceive_response\u001b[1;34m(self, timeout)\u001b[0m\n\u001b[0;32m    342\u001b[0m         \"\"\"\n\u001b[0;32m    343\u001b[0m         \u001b[1;32mwhile\u001b[0m \u001b[1;32mTrue\u001b[0m\u001b[1;33m:\u001b[0m\u001b[1;33m\u001b[0m\u001b[1;33m\u001b[0m\u001b[0m\n\u001b[1;32m--> 344\u001b[1;33m             \u001b[0mevent\u001b[0m \u001b[1;33m=\u001b[0m \u001b[0mself\u001b[0m\u001b[1;33m.\u001b[0m\u001b[0mconnection\u001b[0m\u001b[1;33m.\u001b[0m\u001b[0mwait_for_event\u001b[0m\u001b[1;33m(\u001b[0m\u001b[0mself\u001b[0m\u001b[1;33m.\u001b[0m\u001b[0mstream_id\u001b[0m\u001b[1;33m,\u001b[0m \u001b[0mtimeout\u001b[0m\u001b[1;33m)\u001b[0m\u001b[1;33m\u001b[0m\u001b[1;33m\u001b[0m\u001b[0m\n\u001b[0m\u001b[0;32m    345\u001b[0m             \u001b[1;32mif\u001b[0m \u001b[0misinstance\u001b[0m\u001b[1;33m(\u001b[0m\u001b[0mevent\u001b[0m\u001b[1;33m,\u001b[0m \u001b[0mh2\u001b[0m\u001b[1;33m.\u001b[0m\u001b[0mevents\u001b[0m\u001b[1;33m.\u001b[0m\u001b[0mResponseReceived\u001b[0m\u001b[1;33m)\u001b[0m\u001b[1;33m:\u001b[0m\u001b[1;33m\u001b[0m\u001b[1;33m\u001b[0m\u001b[0m\n\u001b[0;32m    346\u001b[0m                 \u001b[1;32mbreak\u001b[0m\u001b[1;33m\u001b[0m\u001b[1;33m\u001b[0m\u001b[0m\n",
      "\u001b[1;32m~\\.conda\\envs\\tensorflow\\lib\\site-packages\\httpcore-0.9.1-py3.6.egg\\httpcore\\_sync\\http2.py\u001b[0m in \u001b[0;36mwait_for_event\u001b[1;34m(self, stream_id, timeout)\u001b[0m\n\u001b[0;32m    195\u001b[0m         \u001b[1;32mwith\u001b[0m \u001b[0mself\u001b[0m\u001b[1;33m.\u001b[0m\u001b[0mread_lock\u001b[0m\u001b[1;33m:\u001b[0m\u001b[1;33m\u001b[0m\u001b[1;33m\u001b[0m\u001b[0m\n\u001b[0;32m    196\u001b[0m             \u001b[1;32mwhile\u001b[0m \u001b[1;32mnot\u001b[0m \u001b[0mself\u001b[0m\u001b[1;33m.\u001b[0m\u001b[0mevents\u001b[0m\u001b[1;33m[\u001b[0m\u001b[0mstream_id\u001b[0m\u001b[1;33m]\u001b[0m\u001b[1;33m:\u001b[0m\u001b[1;33m\u001b[0m\u001b[1;33m\u001b[0m\u001b[0m\n\u001b[1;32m--> 197\u001b[1;33m                 \u001b[0mself\u001b[0m\u001b[1;33m.\u001b[0m\u001b[0mreceive_events\u001b[0m\u001b[1;33m(\u001b[0m\u001b[0mtimeout\u001b[0m\u001b[1;33m)\u001b[0m\u001b[1;33m\u001b[0m\u001b[1;33m\u001b[0m\u001b[0m\n\u001b[0m\u001b[0;32m    198\u001b[0m         \u001b[1;32mreturn\u001b[0m \u001b[0mself\u001b[0m\u001b[1;33m.\u001b[0m\u001b[0mevents\u001b[0m\u001b[1;33m[\u001b[0m\u001b[0mstream_id\u001b[0m\u001b[1;33m]\u001b[0m\u001b[1;33m.\u001b[0m\u001b[0mpop\u001b[0m\u001b[1;33m(\u001b[0m\u001b[1;36m0\u001b[0m\u001b[1;33m)\u001b[0m\u001b[1;33m\u001b[0m\u001b[1;33m\u001b[0m\u001b[0m\n\u001b[0;32m    199\u001b[0m \u001b[1;33m\u001b[0m\u001b[0m\n",
      "\u001b[1;32m~\\.conda\\envs\\tensorflow\\lib\\site-packages\\httpcore-0.9.1-py3.6.egg\\httpcore\\_sync\\http2.py\u001b[0m in \u001b[0;36mreceive_events\u001b[1;34m(self, timeout)\u001b[0m\n\u001b[0;32m    202\u001b[0m         \u001b[0mRead\u001b[0m \u001b[0msome\u001b[0m \u001b[0mdata\u001b[0m \u001b[1;32mfrom\u001b[0m \u001b[0mthe\u001b[0m \u001b[0mnetwork\u001b[0m\u001b[1;33m,\u001b[0m \u001b[1;32mand\u001b[0m \u001b[0mupdate\u001b[0m \u001b[0mthe\u001b[0m \u001b[0mH2\u001b[0m \u001b[0mstate\u001b[0m\u001b[1;33m.\u001b[0m\u001b[1;33m\u001b[0m\u001b[1;33m\u001b[0m\u001b[0m\n\u001b[0;32m    203\u001b[0m         \"\"\"\n\u001b[1;32m--> 204\u001b[1;33m         \u001b[0mdata\u001b[0m \u001b[1;33m=\u001b[0m \u001b[0mself\u001b[0m\u001b[1;33m.\u001b[0m\u001b[0msocket\u001b[0m\u001b[1;33m.\u001b[0m\u001b[0mread\u001b[0m\u001b[1;33m(\u001b[0m\u001b[0mself\u001b[0m\u001b[1;33m.\u001b[0m\u001b[0mREAD_NUM_BYTES\u001b[0m\u001b[1;33m,\u001b[0m \u001b[0mtimeout\u001b[0m\u001b[1;33m)\u001b[0m\u001b[1;33m\u001b[0m\u001b[1;33m\u001b[0m\u001b[0m\n\u001b[0m\u001b[0;32m    205\u001b[0m         \u001b[0mevents\u001b[0m \u001b[1;33m=\u001b[0m \u001b[0mself\u001b[0m\u001b[1;33m.\u001b[0m\u001b[0mh2_state\u001b[0m\u001b[1;33m.\u001b[0m\u001b[0mreceive_data\u001b[0m\u001b[1;33m(\u001b[0m\u001b[0mdata\u001b[0m\u001b[1;33m)\u001b[0m\u001b[1;33m\u001b[0m\u001b[1;33m\u001b[0m\u001b[0m\n\u001b[0;32m    206\u001b[0m         \u001b[1;32mfor\u001b[0m \u001b[0mevent\u001b[0m \u001b[1;32min\u001b[0m \u001b[0mevents\u001b[0m\u001b[1;33m:\u001b[0m\u001b[1;33m\u001b[0m\u001b[1;33m\u001b[0m\u001b[0m\n",
      "\u001b[1;32m~\\.conda\\envs\\tensorflow\\lib\\site-packages\\httpcore-0.9.1-py3.6.egg\\httpcore\\_backends\\sync.py\u001b[0m in \u001b[0;36mread\u001b[1;34m(self, n, timeout)\u001b[0m\n\u001b[0;32m     60\u001b[0m             \u001b[1;32mwith\u001b[0m \u001b[0mmap_exceptions\u001b[0m\u001b[1;33m(\u001b[0m\u001b[0mexc_map\u001b[0m\u001b[1;33m)\u001b[0m\u001b[1;33m:\u001b[0m\u001b[1;33m\u001b[0m\u001b[1;33m\u001b[0m\u001b[0m\n\u001b[0;32m     61\u001b[0m                 \u001b[0mself\u001b[0m\u001b[1;33m.\u001b[0m\u001b[0msock\u001b[0m\u001b[1;33m.\u001b[0m\u001b[0msettimeout\u001b[0m\u001b[1;33m(\u001b[0m\u001b[0mread_timeout\u001b[0m\u001b[1;33m)\u001b[0m\u001b[1;33m\u001b[0m\u001b[1;33m\u001b[0m\u001b[0m\n\u001b[1;32m---> 62\u001b[1;33m                 \u001b[1;32mreturn\u001b[0m \u001b[0mself\u001b[0m\u001b[1;33m.\u001b[0m\u001b[0msock\u001b[0m\u001b[1;33m.\u001b[0m\u001b[0mrecv\u001b[0m\u001b[1;33m(\u001b[0m\u001b[0mn\u001b[0m\u001b[1;33m)\u001b[0m\u001b[1;33m\u001b[0m\u001b[1;33m\u001b[0m\u001b[0m\n\u001b[0m\u001b[0;32m     63\u001b[0m \u001b[1;33m\u001b[0m\u001b[0m\n\u001b[0;32m     64\u001b[0m     \u001b[1;32mdef\u001b[0m \u001b[0mwrite\u001b[0m\u001b[1;33m(\u001b[0m\u001b[0mself\u001b[0m\u001b[1;33m,\u001b[0m \u001b[0mdata\u001b[0m\u001b[1;33m:\u001b[0m \u001b[0mbytes\u001b[0m\u001b[1;33m,\u001b[0m \u001b[0mtimeout\u001b[0m\u001b[1;33m:\u001b[0m \u001b[0mTimeoutDict\u001b[0m\u001b[1;33m)\u001b[0m \u001b[1;33m->\u001b[0m \u001b[1;32mNone\u001b[0m\u001b[1;33m:\u001b[0m\u001b[1;33m\u001b[0m\u001b[1;33m\u001b[0m\u001b[0m\n",
      "\u001b[1;32m~\\.conda\\envs\\tensorflow\\lib\\contextlib.py\u001b[0m in \u001b[0;36m__exit__\u001b[1;34m(self, type, value, traceback)\u001b[0m\n\u001b[0;32m     97\u001b[0m                 \u001b[0mvalue\u001b[0m \u001b[1;33m=\u001b[0m \u001b[0mtype\u001b[0m\u001b[1;33m(\u001b[0m\u001b[1;33m)\u001b[0m\u001b[1;33m\u001b[0m\u001b[1;33m\u001b[0m\u001b[0m\n\u001b[0;32m     98\u001b[0m             \u001b[1;32mtry\u001b[0m\u001b[1;33m:\u001b[0m\u001b[1;33m\u001b[0m\u001b[1;33m\u001b[0m\u001b[0m\n\u001b[1;32m---> 99\u001b[1;33m                 \u001b[0mself\u001b[0m\u001b[1;33m.\u001b[0m\u001b[0mgen\u001b[0m\u001b[1;33m.\u001b[0m\u001b[0mthrow\u001b[0m\u001b[1;33m(\u001b[0m\u001b[0mtype\u001b[0m\u001b[1;33m,\u001b[0m \u001b[0mvalue\u001b[0m\u001b[1;33m,\u001b[0m \u001b[0mtraceback\u001b[0m\u001b[1;33m)\u001b[0m\u001b[1;33m\u001b[0m\u001b[1;33m\u001b[0m\u001b[0m\n\u001b[0m\u001b[0;32m    100\u001b[0m             \u001b[1;32mexcept\u001b[0m \u001b[0mStopIteration\u001b[0m \u001b[1;32mas\u001b[0m \u001b[0mexc\u001b[0m\u001b[1;33m:\u001b[0m\u001b[1;33m\u001b[0m\u001b[1;33m\u001b[0m\u001b[0m\n\u001b[0;32m    101\u001b[0m                 \u001b[1;31m# Suppress StopIteration *unless* it's the same exception that\u001b[0m\u001b[1;33m\u001b[0m\u001b[1;33m\u001b[0m\u001b[1;33m\u001b[0m\u001b[0m\n",
      "\u001b[1;32m~\\.conda\\envs\\tensorflow\\lib\\site-packages\\httpcore-0.9.1-py3.6.egg\\httpcore\\_exceptions.py\u001b[0m in \u001b[0;36mmap_exceptions\u001b[1;34m(map)\u001b[0m\n\u001b[0;32m     10\u001b[0m         \u001b[1;32mfor\u001b[0m \u001b[0mfrom_exc\u001b[0m\u001b[1;33m,\u001b[0m \u001b[0mto_exc\u001b[0m \u001b[1;32min\u001b[0m \u001b[0mmap\u001b[0m\u001b[1;33m.\u001b[0m\u001b[0mitems\u001b[0m\u001b[1;33m(\u001b[0m\u001b[1;33m)\u001b[0m\u001b[1;33m:\u001b[0m\u001b[1;33m\u001b[0m\u001b[1;33m\u001b[0m\u001b[0m\n\u001b[0;32m     11\u001b[0m             \u001b[1;32mif\u001b[0m \u001b[0misinstance\u001b[0m\u001b[1;33m(\u001b[0m\u001b[0mexc\u001b[0m\u001b[1;33m,\u001b[0m \u001b[0mfrom_exc\u001b[0m\u001b[1;33m)\u001b[0m\u001b[1;33m:\u001b[0m\u001b[1;33m\u001b[0m\u001b[1;33m\u001b[0m\u001b[0m\n\u001b[1;32m---> 12\u001b[1;33m                 \u001b[1;32mraise\u001b[0m \u001b[0mto_exc\u001b[0m\u001b[1;33m(\u001b[0m\u001b[0mexc\u001b[0m\u001b[1;33m)\u001b[0m \u001b[1;32mfrom\u001b[0m \u001b[1;32mNone\u001b[0m\u001b[1;33m\u001b[0m\u001b[1;33m\u001b[0m\u001b[0m\n\u001b[0m\u001b[0;32m     13\u001b[0m         \u001b[1;32mraise\u001b[0m\u001b[1;33m\u001b[0m\u001b[1;33m\u001b[0m\u001b[0m\n\u001b[0;32m     14\u001b[0m \u001b[1;33m\u001b[0m\u001b[0m\n",
      "\u001b[1;31mReadTimeout\u001b[0m: The read operation timed out"
     ]
    }
   ],
   "source": [
    "df[\"TranslatedIngredients\"]=df[\"TranslatedIngredients\"].apply(trans)"
   ]
  },
  {
   "cell_type": "code",
   "execution_count": 63,
   "metadata": {},
   "outputs": [],
   "source": [
    "m=\"50 grams Sun Dried Tomatoes - drain the excess oil,1 sprig Basil leaves - roughly chopped,2 cloves Garlic - finely chopped,1 tablespoon Badam (Almond) - roasted,1 tablespoon Parmigiano reggiano cheese - grated,2 tablespoons Extra Virgin Olive Oil,1/2 tablespoon Whole Black Peppercorns,Salt - to taste,1 tablespoon Extra Virgin Olive Oil,1/2 Red Bell pepper (Capsicum) - diced,1/2 Green Bell Pepper (Capsicum) - diced,1/2 Yellow Bell Pepper (Capsicum) - diced,2 tablespoons Black olives - sliced,2 tablespoons Pickled Jalapenos - sliced,3 tablespoons Sun Dried Tomato Pesto,1 Whole Egg,3/4 cup Milk,1/4 cup Sunflower Oil,1 teaspoon Sugar,2 teaspoons Baking powder,Salt - to taste,1 cup Whole Wheat Flour,1 teaspoon Black pepper powder,1 teaspoon Dried oregano\""
   ]
  },
  {
   "cell_type": "code",
   "execution_count": 105,
   "metadata": {},
   "outputs": [
    {
     "data": {
      "text/plain": [
       "' grams Sun Dried Tomatoes drain the excess oil, sprig Basil leaves roughly , cloves Garlic , tablespoon Badam (Almond) roasted, tablespoon Parmigiano reggiano cheese grated, Extra Virgin Olive Oil, tablespoon Whole Black Peppercorns,Salt , tablespoon Extra Virgin Olive Oil, Red Bell pepper (Capsicum) diced, Green Bell Pepper (Capsicum) diced, Yellow Bell Pepper (Capsicum) diced, Black olives , Pickled Jalapenos , Sun Dried Tomato Pesto, Whole Egg, Milk, Sunflower Oil, Sugar, s Baking powder,Salt , Whole Wheat Flour, Black pepper powder, Dried oregano'"
      ]
     },
     "execution_count": 105,
     "metadata": {},
     "output_type": "execute_result"
    }
   ],
   "source": [
    "preprocess(m)"
   ]
  },
  {
   "cell_type": "code",
   "execution_count": 64,
   "metadata": {},
   "outputs": [],
   "source": [
    "translate_text = translator.translate(m,lang_tgt='en') "
   ]
  },
  {
   "cell_type": "code",
   "execution_count": null,
   "metadata": {},
   "outputs": [],
   "source": []
  },
  {
   "cell_type": "code",
   "execution_count": null,
   "metadata": {},
   "outputs": [],
   "source": []
  },
  {
   "cell_type": "code",
   "execution_count": null,
   "metadata": {},
   "outputs": [],
   "source": []
  },
  {
   "cell_type": "code",
   "execution_count": null,
   "metadata": {},
   "outputs": [],
   "source": []
  },
  {
   "cell_type": "code",
   "execution_count": null,
   "metadata": {},
   "outputs": [],
   "source": []
  },
  {
   "cell_type": "code",
   "execution_count": null,
   "metadata": {},
   "outputs": [],
   "source": []
  },
  {
   "cell_type": "code",
   "execution_count": 48,
   "metadata": {},
   "outputs": [
    {
     "data": {
      "text/plain": [
       "'http://www.archanaskitchen.com/spicy-tomato-rice-recipe-in-hindi'"
      ]
     },
     "execution_count": 48,
     "metadata": {},
     "output_type": "execute_result"
    }
   ],
   "source": [
    "df.loc[1,\"URL\"]"
   ]
  },
  {
   "cell_type": "markdown",
   "metadata": {},
   "source": [
    "## Choosing Algo to find Similiarity"
   ]
  },
  {
   "cell_type": "code",
   "execution_count": 7,
   "metadata": {},
   "outputs": [],
   "source": [
    "from  textdistance import sorensen,jaccard\n",
    "import  fuzzywuzzy.fuzz as fuzz"
   ]
  },
  {
   "cell_type": "code",
   "execution_count": 26,
   "metadata": {},
   "outputs": [],
   "source": [
    "x=\"Cooked rice,Onion ,Chicken thigh  and cut to bite size, Extra Virgin Olive Oil, Mixed vegetables  (green bell pepper and red bell pepper are used here), Soy sauce,Red Chilli sauce,Salt ,Black pepper powder,Eggs, Milk, Extra Virgin Olive Oil, Cheddar cheese,Roasted tomato pasta sauce \"\n",
    "y=\"Cooked rice,Onion ,Chicken thigh, Extra Virgin Olive Oil, Mixed vegetables, Soy sauce, Red Chilli sauce,Salt ,Black pepper powder - to taste,Eggs, Milk,Extra Virgin Olive Oil,Cheddar cheese - shredded,Roasted tomato pasta sauce\"\n",
    "z=\"Cooked rice,Onion ,Chicken thigh, Extra Virgin Olive Oil, Mixed vegetables, Soy sauce\""
   ]
  },
  {
   "cell_type": "code",
   "execution_count": 22,
   "metadata": {},
   "outputs": [],
   "source": [
    "x=x.split(\",\")\n",
    "y=y.split(\",\")\n",
    "z=z.split(\",\")"
   ]
  },
  {
   "cell_type": "code",
   "execution_count": 23,
   "metadata": {},
   "outputs": [
    {
     "name": "stdout",
     "output_type": "stream",
     "text": [
      "0.6\n",
      "\n",
      " 0.42857142857142855\n",
      "100\n"
     ]
    },
    {
     "data": {
      "text/plain": [
       "99"
      ]
     },
     "execution_count": 23,
     "metadata": {},
     "output_type": "execute_result"
    }
   ],
   "source": [
    "print(sorensen(z,y))\n",
    "print(\"\\n {}\".format(jaccard(z,y)))\n",
    "print(fuzz.token_set_ratio(y,z))\n",
    "fuzz.partial_ratio(y,z)"
   ]
  },
  {
   "cell_type": "code",
   "execution_count": null,
   "metadata": {},
   "outputs": [],
   "source": [
    "print(sorensen(x,y))\n",
    "print(\"\\n {}\".format(jaccard(x,y)))\n",
    "print(fuzz.token_set_ratio(x,y))\n",
    "print(fuzz.partial_ratio(x,y))"
   ]
  },
  {
   "cell_type": "code",
   "execution_count": null,
   "metadata": {},
   "outputs": [],
   "source": [
    "t1=\"rice,wheat,egg\"\n",
    "t2=\"wheat,egg\"\n",
    "t1=t1.split(\",\")\n",
    "t2=t2.split(\",\")\n",
    "print(sorensen(t1,t2))\n",
    "print(\"\\n {}\".format(jaccard(t1,t2)))\n",
    "fuzz.token_set_ratio(t1,t2)"
   ]
  },
  {
   "cell_type": "markdown",
   "metadata": {},
   "source": [
    "## Similarity algos doesnt work for this case."
   ]
  },
  {
   "cell_type": "code",
   "execution_count": 89,
   "metadata": {},
   "outputs": [],
   "source": [
    "def Flagger(x,y,method=0):\n",
    "    flag=0\n",
    "    for i in x.split(\",\"):\n",
    "        for j in y.split(\",\"):\n",
    "            if method==0:\n",
    "                 if  fuzz.ratio(i,j)>80:\n",
    "                    print(i)\n",
    "                    print(\"\\n\")\n",
    "                    print(j)\n",
    "                    print(fuzz.ratio(i,j))\n",
    "                    print(\"flag :\",flag)\n",
    "                    \n",
    "                    \n",
    "                    flag=flag+1\n",
    "            elif method==1:\n",
    "                if i==j:\n",
    "                  flag+=1\n",
    "    print(flag)"
   ]
  },
  {
   "cell_type": "code",
   "execution_count": 82,
   "metadata": {},
   "outputs": [
    {
     "data": {
      "text/plain": [
       "48"
      ]
     },
     "execution_count": 82,
     "metadata": {},
     "output_type": "execute_result"
    }
   ],
   "source": [
    "fuzz.ratio(\"Soy sauce\",\"Red Chilli sauce\")"
   ]
  },
  {
   "cell_type": "code",
   "execution_count": 78,
   "metadata": {},
   "outputs": [],
   "source": [
    "def CheckFlagger(x,y):\n",
    "    flag=0\n",
    "    for i in x.split(\",\"):\n",
    "        for j in y.split(\",\"):\n",
    "               if  fuzz.token_set_ratio(i,j)>80:\n",
    "                    print(i)\n",
    "                    print(\"\\n\")\n",
    "                    print(j)\n",
    "                    print(fuzz.ratio(i,j))\n",
    "                    flag+=1\n",
    "                    print(\"flag :\",flag)\n",
    "    print(flag)"
   ]
  },
  {
   "cell_type": "code",
   "execution_count": 65,
   "metadata": {},
   "outputs": [
    {
     "name": "stdout",
     "output_type": "stream",
     "text": [
      "Cooked rice\n",
      "\n",
      "\n",
      "Cooked rice\n",
      "100\n",
      "1\n",
      "Onion \n",
      "\n",
      "\n",
      "Onion \n",
      "100\n",
      "2\n",
      "Chicken thigh\n",
      "\n",
      "\n",
      "Chicken thigh\n",
      "100\n",
      "3\n",
      " Extra Virgin Olive Oil\n",
      "\n",
      "\n",
      " Extra Virgin Olive Oil\n",
      "100\n",
      "4\n",
      " Mixed vegetables\n",
      "\n",
      "\n",
      " Mixed vegetables\n",
      "100\n",
      "5\n",
      " Soy sauce\n",
      "\n",
      "\n",
      " Soy sauce\n",
      "100\n",
      "6\n",
      "Extra Virgin Olive Oil\n",
      "\n",
      "\n",
      " Extra Virgin Olive Oil\n",
      "98\n",
      "7\n",
      "7\n"
     ]
    }
   ],
   "source": [
    "CheckFlagger(y,z)"
   ]
  },
  {
   "cell_type": "code",
   "execution_count": 91,
   "metadata": {},
   "outputs": [
    {
     "name": "stdout",
     "output_type": "stream",
     "text": [
      "Cooked rice\n",
      "\n",
      "\n",
      "Cooked rice\n",
      "100\n",
      "flag : 0\n",
      "Onion \n",
      "\n",
      "\n",
      "Onion \n",
      "100\n",
      "flag : 1\n",
      " Extra Virgin Olive Oil\n",
      "\n",
      "\n",
      " Extra Virgin Olive Oil\n",
      "100\n",
      "flag : 2\n",
      " Extra Virgin Olive Oil\n",
      "\n",
      "\n",
      " Extra Virgin Olive Oil\n",
      "100\n",
      "flag : 3\n",
      " Soy sauce\n",
      "\n",
      "\n",
      " Soy sauce\n",
      "100\n",
      "flag : 4\n",
      " Red Chilli sauce\n",
      "\n",
      "\n",
      "Red Chilli sauce\n",
      "97\n",
      "flag : 5\n",
      "Salt \n",
      "\n",
      "\n",
      "Salt \n",
      "100\n",
      "flag : 6\n",
      "Eggs\n",
      "\n",
      "\n",
      "Eggs\n",
      "100\n",
      "flag : 7\n",
      " Milk\n",
      "\n",
      "\n",
      " Milk\n",
      "100\n",
      "flag : 8\n",
      "Extra Virgin Olive Oil\n",
      "\n",
      "\n",
      " Extra Virgin Olive Oil\n",
      "98\n",
      "flag : 9\n",
      "Extra Virgin Olive Oil\n",
      "\n",
      "\n",
      " Extra Virgin Olive Oil\n",
      "98\n",
      "flag : 10\n",
      "Roasted tomato pasta sauce\n",
      "\n",
      "\n",
      "Roasted tomato pasta sauce \n",
      "98\n",
      "flag : 11\n",
      "12\n"
     ]
    }
   ],
   "source": [
    "Flagger(y,x)"
   ]
  },
  {
   "cell_type": "code",
   "execution_count": 30,
   "metadata": {},
   "outputs": [
    {
     "data": {
      "text/plain": [
       "('Cooked rice,Onion ,Chicken thigh  and cut to bite size, Extra Virgin Olive Oil, Mixed vegetables  (green bell pepper and red bell pepper are used here), Soy sauce,Red Chilli sauce,Salt ,Black pepper powder,Eggs, Milk, Extra Virgin Olive Oil, Cheddar cheese,Roasted tomato pasta sauce ',\n",
       " 'Cooked rice,Onion ,Chicken thigh, Extra Virgin Olive Oil, Mixed vegetables, Soy sauce, Red Chilli sauce,Salt ,Black pepper powder - to taste,Eggs, Milk,Extra Virgin Olive Oil,Cheddar cheese - shredded,Roasted tomato pasta sauce',\n",
       " 'Cooked rice,Onion ,Chicken thigh, Extra Virgin Olive Oil, Mixed vegetables, Soy sauce')"
      ]
     },
     "execution_count": 30,
     "metadata": {},
     "output_type": "execute_result"
    }
   ],
   "source": [
    "x,y,z"
   ]
  },
  {
   "cell_type": "code",
   "execution_count": 32,
   "metadata": {},
   "outputs": [
    {
     "data": {
      "text/plain": [
       "56"
      ]
     },
     "execution_count": 32,
     "metadata": {},
     "output_type": "execute_result"
    }
   ],
   "source": [
    "fuzz.token_set_ratio(\"Soy sauce thigh  and cut to bite size\",\"Chicken thigh\")"
   ]
  },
  {
   "cell_type": "code",
   "execution_count": 92,
   "metadata": {},
   "outputs": [],
   "source": [
    "df1=df.copy()"
   ]
  },
  {
   "cell_type": "markdown",
   "metadata": {},
   "source": [
    "## Sample Model:"
   ]
  },
  {
   "cell_type": "code",
   "execution_count": 93,
   "metadata": {},
   "outputs": [
    {
     "data": {
      "text/html": [
       "<div>\n",
       "<style scoped>\n",
       "    .dataframe tbody tr th:only-of-type {\n",
       "        vertical-align: middle;\n",
       "    }\n",
       "\n",
       "    .dataframe tbody tr th {\n",
       "        vertical-align: top;\n",
       "    }\n",
       "\n",
       "    .dataframe thead th {\n",
       "        text-align: right;\n",
       "    }\n",
       "</style>\n",
       "<table border=\"1\" class=\"dataframe\">\n",
       "  <thead>\n",
       "    <tr style=\"text-align: right;\">\n",
       "      <th></th>\n",
       "      <th>Srno</th>\n",
       "      <th>TranslatedRecipeName</th>\n",
       "      <th>TranslatedIngredients</th>\n",
       "      <th>PrepTimeInMins</th>\n",
       "      <th>CookTimeInMins</th>\n",
       "      <th>TotalTimeInMins</th>\n",
       "      <th>Servings</th>\n",
       "      <th>Cuisine</th>\n",
       "      <th>Course</th>\n",
       "      <th>Diet</th>\n",
       "      <th>TranslatedInstructions</th>\n",
       "      <th>URL</th>\n",
       "    </tr>\n",
       "  </thead>\n",
       "  <tbody>\n",
       "    <tr>\n",
       "      <th>0</th>\n",
       "      <td>1</td>\n",
       "      <td>Masala Karela Recipe</td>\n",
       "      <td>6 Karela (Bitter Gourd/ Pavakkai) - deseeded,S...</td>\n",
       "      <td>15</td>\n",
       "      <td>30</td>\n",
       "      <td>45</td>\n",
       "      <td>6</td>\n",
       "      <td>Indian</td>\n",
       "      <td>Side Dish</td>\n",
       "      <td>Diabetic Friendly</td>\n",
       "      <td>To begin making the Masala Karela Recipe,de-se...</td>\n",
       "      <td>https://www.archanaskitchen.com/masala-karela-...</td>\n",
       "    </tr>\n",
       "    <tr>\n",
       "      <th>1</th>\n",
       "      <td>2</td>\n",
       "      <td>Spicy Tomato Rice (Recipe)</td>\n",
       "      <td>2-1 / 2 cups rice - cooked, 3 tomatoes, 3 teas...</td>\n",
       "      <td>5</td>\n",
       "      <td>10</td>\n",
       "      <td>15</td>\n",
       "      <td>3</td>\n",
       "      <td>South Indian Recipes</td>\n",
       "      <td>Main Course</td>\n",
       "      <td>Vegetarian</td>\n",
       "      <td>To make tomato puliogere, first cut the tomato...</td>\n",
       "      <td>http://www.archanaskitchen.com/spicy-tomato-ri...</td>\n",
       "    </tr>\n",
       "    <tr>\n",
       "      <th>2</th>\n",
       "      <td>3</td>\n",
       "      <td>Ragi Semiya Upma Recipe - Ragi Millet Vermicel...</td>\n",
       "      <td>1-1/2 cups Rice Vermicelli Noodles (Thin),1 On...</td>\n",
       "      <td>20</td>\n",
       "      <td>30</td>\n",
       "      <td>50</td>\n",
       "      <td>4</td>\n",
       "      <td>South Indian Recipes</td>\n",
       "      <td>South Indian Breakfast</td>\n",
       "      <td>High Protein Vegetarian</td>\n",
       "      <td>To begin making the Ragi Vermicelli Recipe, fi...</td>\n",
       "      <td>http://www.archanaskitchen.com/ragi-vermicelli...</td>\n",
       "    </tr>\n",
       "    <tr>\n",
       "      <th>3</th>\n",
       "      <td>4</td>\n",
       "      <td>Gongura Chicken Curry Recipe - Andhra Style Go...</td>\n",
       "      <td>500 grams Chicken,2 Onion - chopped,1 Tomato -...</td>\n",
       "      <td>15</td>\n",
       "      <td>30</td>\n",
       "      <td>45</td>\n",
       "      <td>4</td>\n",
       "      <td>Andhra</td>\n",
       "      <td>Lunch</td>\n",
       "      <td>Non Vegeterian</td>\n",
       "      <td>To begin making Gongura Chicken Curry Recipe f...</td>\n",
       "      <td>http://www.archanaskitchen.com/gongura-chicken...</td>\n",
       "    </tr>\n",
       "    <tr>\n",
       "      <th>4</th>\n",
       "      <td>5</td>\n",
       "      <td>Andhra Style Alam Pachadi Recipe - Adrak Chutn...</td>\n",
       "      <td>1 tablespoon chana dal, 1 tablespoon white ura...</td>\n",
       "      <td>10</td>\n",
       "      <td>20</td>\n",
       "      <td>30</td>\n",
       "      <td>4</td>\n",
       "      <td>Andhra</td>\n",
       "      <td>South Indian Breakfast</td>\n",
       "      <td>Vegetarian</td>\n",
       "      <td>To make Andhra Style Alam Pachadi, first heat ...</td>\n",
       "      <td>https://www.archanaskitchen.com/andhra-style-a...</td>\n",
       "    </tr>\n",
       "  </tbody>\n",
       "</table>\n",
       "</div>"
      ],
      "text/plain": [
       "   Srno                               TranslatedRecipeName  \\\n",
       "0     1                               Masala Karela Recipe   \n",
       "1     2                         Spicy Tomato Rice (Recipe)   \n",
       "2     3  Ragi Semiya Upma Recipe - Ragi Millet Vermicel...   \n",
       "3     4  Gongura Chicken Curry Recipe - Andhra Style Go...   \n",
       "4     5  Andhra Style Alam Pachadi Recipe - Adrak Chutn...   \n",
       "\n",
       "                               TranslatedIngredients  PrepTimeInMins  \\\n",
       "0  6 Karela (Bitter Gourd/ Pavakkai) - deseeded,S...              15   \n",
       "1  2-1 / 2 cups rice - cooked, 3 tomatoes, 3 teas...               5   \n",
       "2  1-1/2 cups Rice Vermicelli Noodles (Thin),1 On...              20   \n",
       "3  500 grams Chicken,2 Onion - chopped,1 Tomato -...              15   \n",
       "4  1 tablespoon chana dal, 1 tablespoon white ura...              10   \n",
       "\n",
       "   CookTimeInMins  TotalTimeInMins  Servings               Cuisine  \\\n",
       "0              30               45         6                Indian   \n",
       "1              10               15         3  South Indian Recipes   \n",
       "2              30               50         4  South Indian Recipes   \n",
       "3              30               45         4                Andhra   \n",
       "4              20               30         4                Andhra   \n",
       "\n",
       "                   Course                     Diet  \\\n",
       "0               Side Dish        Diabetic Friendly   \n",
       "1             Main Course               Vegetarian   \n",
       "2  South Indian Breakfast  High Protein Vegetarian   \n",
       "3                   Lunch           Non Vegeterian   \n",
       "4  South Indian Breakfast               Vegetarian   \n",
       "\n",
       "                              TranslatedInstructions  \\\n",
       "0  To begin making the Masala Karela Recipe,de-se...   \n",
       "1  To make tomato puliogere, first cut the tomato...   \n",
       "2  To begin making the Ragi Vermicelli Recipe, fi...   \n",
       "3  To begin making Gongura Chicken Curry Recipe f...   \n",
       "4  To make Andhra Style Alam Pachadi, first heat ...   \n",
       "\n",
       "                                                 URL  \n",
       "0  https://www.archanaskitchen.com/masala-karela-...  \n",
       "1  http://www.archanaskitchen.com/spicy-tomato-ri...  \n",
       "2  http://www.archanaskitchen.com/ragi-vermicelli...  \n",
       "3  http://www.archanaskitchen.com/gongura-chicken...  \n",
       "4  https://www.archanaskitchen.com/andhra-style-a...  "
      ]
     },
     "execution_count": 93,
     "metadata": {},
     "output_type": "execute_result"
    }
   ],
   "source": [
    "df1.head()"
   ]
  },
  {
   "cell_type": "code",
   "execution_count": 94,
   "metadata": {},
   "outputs": [],
   "source": [
    "def preprocess(text):\n",
    "    text=re.sub(r'[0-9]+', '', text)\n",
    "    delword=\"Teaspoon,teaspoon,teaspoons,-,/,to taste,as needed,shredded,cup,cups,washed,sliced,finely,few,chopped,tablespoons,\\\n",
    "       Fresh,optional,peeled ,Cubed,for garnishing,garnishing,grams.washed, finely chopped,chopped,frying\"\n",
    "    \n",
    "    for i in delword.split(\",\"):\n",
    "        text = text.replace(i, '')\n",
    "    text = re.sub(r'\\s+', ' ', text)\n",
    "    return text"
   ]
  },
  {
   "cell_type": "code",
   "execution_count": 95,
   "metadata": {},
   "outputs": [],
   "source": [
    "df1[\"TranslatedIngredients\"]=df1[\"TranslatedIngredients\"].apply(preprocess)"
   ]
  },
  {
   "cell_type": "code",
   "execution_count": 96,
   "metadata": {},
   "outputs": [],
   "source": [
    "#preprocessing postponed"
   ]
  },
  {
   "cell_type": "code",
   "execution_count": 97,
   "metadata": {},
   "outputs": [],
   "source": [
    "z=\"Cooked rice,Onion ,Chicken thigh, Extra Virgin Olive Oil, Mixed vegetables, Soy sauce\""
   ]
  },
  {
   "cell_type": "code",
   "execution_count": 98,
   "metadata": {},
   "outputs": [
    {
     "data": {
      "text/html": [
       "<div>\n",
       "<style scoped>\n",
       "    .dataframe tbody tr th:only-of-type {\n",
       "        vertical-align: middle;\n",
       "    }\n",
       "\n",
       "    .dataframe tbody tr th {\n",
       "        vertical-align: top;\n",
       "    }\n",
       "\n",
       "    .dataframe thead th {\n",
       "        text-align: right;\n",
       "    }\n",
       "</style>\n",
       "<table border=\"1\" class=\"dataframe\">\n",
       "  <thead>\n",
       "    <tr style=\"text-align: right;\">\n",
       "      <th></th>\n",
       "      <th>Srno</th>\n",
       "      <th>TranslatedRecipeName</th>\n",
       "      <th>TranslatedIngredients</th>\n",
       "      <th>PrepTimeInMins</th>\n",
       "      <th>CookTimeInMins</th>\n",
       "      <th>TotalTimeInMins</th>\n",
       "      <th>Servings</th>\n",
       "      <th>Cuisine</th>\n",
       "      <th>Course</th>\n",
       "      <th>Diet</th>\n",
       "      <th>TranslatedInstructions</th>\n",
       "      <th>URL</th>\n",
       "    </tr>\n",
       "  </thead>\n",
       "  <tbody>\n",
       "    <tr>\n",
       "      <th>0</th>\n",
       "      <td>1</td>\n",
       "      <td>Masala Karela Recipe</td>\n",
       "      <td>Karela (Bitter Gourd Pavakkai) deseeded,Salt ...</td>\n",
       "      <td>15</td>\n",
       "      <td>30</td>\n",
       "      <td>45</td>\n",
       "      <td>6</td>\n",
       "      <td>Indian</td>\n",
       "      <td>Side Dish</td>\n",
       "      <td>Diabetic Friendly</td>\n",
       "      <td>To begin making the Masala Karela Recipe,de-se...</td>\n",
       "      <td>https://www.archanaskitchen.com/masala-karela-...</td>\n",
       "    </tr>\n",
       "    <tr>\n",
       "      <th>1</th>\n",
       "      <td>2</td>\n",
       "      <td>Spicy Tomato Rice (Recipe)</td>\n",
       "      <td>s rice cooked, tomatoes, s BC Belle Bhat powd...</td>\n",
       "      <td>5</td>\n",
       "      <td>10</td>\n",
       "      <td>15</td>\n",
       "      <td>3</td>\n",
       "      <td>South Indian Recipes</td>\n",
       "      <td>Main Course</td>\n",
       "      <td>Vegetarian</td>\n",
       "      <td>To make tomato puliogere, first cut the tomato...</td>\n",
       "      <td>http://www.archanaskitchen.com/spicy-tomato-ri...</td>\n",
       "    </tr>\n",
       "    <tr>\n",
       "      <th>2</th>\n",
       "      <td>3</td>\n",
       "      <td>Ragi Semiya Upma Recipe - Ragi Millet Vermicel...</td>\n",
       "      <td>s Rice Vermicelli Noodles (Thin), Onion , Car...</td>\n",
       "      <td>20</td>\n",
       "      <td>30</td>\n",
       "      <td>50</td>\n",
       "      <td>4</td>\n",
       "      <td>South Indian Recipes</td>\n",
       "      <td>South Indian Breakfast</td>\n",
       "      <td>High Protein Vegetarian</td>\n",
       "      <td>To begin making the Ragi Vermicelli Recipe, fi...</td>\n",
       "      <td>http://www.archanaskitchen.com/ragi-vermicelli...</td>\n",
       "    </tr>\n",
       "    <tr>\n",
       "      <th>3</th>\n",
       "      <td>4</td>\n",
       "      <td>Gongura Chicken Curry Recipe - Andhra Style Go...</td>\n",
       "      <td>grams Chicken, Onion , Tomato , Green Chillie...</td>\n",
       "      <td>15</td>\n",
       "      <td>30</td>\n",
       "      <td>45</td>\n",
       "      <td>4</td>\n",
       "      <td>Andhra</td>\n",
       "      <td>Lunch</td>\n",
       "      <td>Non Vegeterian</td>\n",
       "      <td>To begin making Gongura Chicken Curry Recipe f...</td>\n",
       "      <td>http://www.archanaskitchen.com/gongura-chicken...</td>\n",
       "    </tr>\n",
       "    <tr>\n",
       "      <th>4</th>\n",
       "      <td>5</td>\n",
       "      <td>Andhra Style Alam Pachadi Recipe - Adrak Chutn...</td>\n",
       "      <td>tablespoon chana dal, tablespoon white urad d...</td>\n",
       "      <td>10</td>\n",
       "      <td>20</td>\n",
       "      <td>30</td>\n",
       "      <td>4</td>\n",
       "      <td>Andhra</td>\n",
       "      <td>South Indian Breakfast</td>\n",
       "      <td>Vegetarian</td>\n",
       "      <td>To make Andhra Style Alam Pachadi, first heat ...</td>\n",
       "      <td>https://www.archanaskitchen.com/andhra-style-a...</td>\n",
       "    </tr>\n",
       "  </tbody>\n",
       "</table>\n",
       "</div>"
      ],
      "text/plain": [
       "   Srno                               TranslatedRecipeName  \\\n",
       "0     1                               Masala Karela Recipe   \n",
       "1     2                         Spicy Tomato Rice (Recipe)   \n",
       "2     3  Ragi Semiya Upma Recipe - Ragi Millet Vermicel...   \n",
       "3     4  Gongura Chicken Curry Recipe - Andhra Style Go...   \n",
       "4     5  Andhra Style Alam Pachadi Recipe - Adrak Chutn...   \n",
       "\n",
       "                               TranslatedIngredients  PrepTimeInMins  \\\n",
       "0   Karela (Bitter Gourd Pavakkai) deseeded,Salt ...              15   \n",
       "1   s rice cooked, tomatoes, s BC Belle Bhat powd...               5   \n",
       "2   s Rice Vermicelli Noodles (Thin), Onion , Car...              20   \n",
       "3   grams Chicken, Onion , Tomato , Green Chillie...              15   \n",
       "4   tablespoon chana dal, tablespoon white urad d...              10   \n",
       "\n",
       "   CookTimeInMins  TotalTimeInMins  Servings               Cuisine  \\\n",
       "0              30               45         6                Indian   \n",
       "1              10               15         3  South Indian Recipes   \n",
       "2              30               50         4  South Indian Recipes   \n",
       "3              30               45         4                Andhra   \n",
       "4              20               30         4                Andhra   \n",
       "\n",
       "                   Course                     Diet  \\\n",
       "0               Side Dish        Diabetic Friendly   \n",
       "1             Main Course               Vegetarian   \n",
       "2  South Indian Breakfast  High Protein Vegetarian   \n",
       "3                   Lunch           Non Vegeterian   \n",
       "4  South Indian Breakfast               Vegetarian   \n",
       "\n",
       "                              TranslatedInstructions  \\\n",
       "0  To begin making the Masala Karela Recipe,de-se...   \n",
       "1  To make tomato puliogere, first cut the tomato...   \n",
       "2  To begin making the Ragi Vermicelli Recipe, fi...   \n",
       "3  To begin making Gongura Chicken Curry Recipe f...   \n",
       "4  To make Andhra Style Alam Pachadi, first heat ...   \n",
       "\n",
       "                                                 URL  \n",
       "0  https://www.archanaskitchen.com/masala-karela-...  \n",
       "1  http://www.archanaskitchen.com/spicy-tomato-ri...  \n",
       "2  http://www.archanaskitchen.com/ragi-vermicelli...  \n",
       "3  http://www.archanaskitchen.com/gongura-chicken...  \n",
       "4  https://www.archanaskitchen.com/andhra-style-a...  "
      ]
     },
     "execution_count": 98,
     "metadata": {},
     "output_type": "execute_result"
    }
   ],
   "source": [
    "df1.head()"
   ]
  },
  {
   "cell_type": "code",
   "execution_count": 99,
   "metadata": {},
   "outputs": [],
   "source": [
    "rows=6870"
   ]
  },
  {
   "cell_type": "code",
   "execution_count": 100,
   "metadata": {},
   "outputs": [],
   "source": [
    "user_ingredients=\"Cooked rice,Onion ,Chicken thigh, Extra Virgin Olive Oil, Mixed vegetables, Soy sauce\""
   ]
  },
  {
   "cell_type": "code",
   "execution_count": 101,
   "metadata": {},
   "outputs": [],
   "source": [
    "df1[\"flag\"]=0"
   ]
  },
  {
   "cell_type": "code",
   "execution_count": null,
   "metadata": {},
   "outputs": [],
   "source": [
    "for b in range(rows):\n",
    "         flag=0\n",
    "         for i in df1.loc[b,\"TranslatedIngredients\"].split(\",\"):\n",
    "                for j in  user_ingredients.split(\",\"):\n",
    "                   if fuzz.token_set_ratio(i,j)>80:\n",
    "                        flag+=1\n",
    "                df1.loc[b,\"flag\"]==flag"
   ]
  },
  {
   "cell_type": "code",
   "execution_count": null,
   "metadata": {},
   "outputs": [],
   "source": [
    "def Flagger(x,y,method=0):\n",
    "    flag=0\n",
    "    for i in x.split(\",\"):\n",
    "        for j in y.split(\",\"):\n",
    "            if method==0:\n",
    "                if  fuzz.token_set_ratio(i,j)>80:\n",
    "                    flag+=1\n",
    "            elif method==1:\n",
    "                if i==j:\n",
    "                  flag+=1\n",
    "    print(flag)"
   ]
  },
  {
   "cell_type": "code",
   "execution_count": null,
   "metadata": {},
   "outputs": [],
   "source": [
    "x=[]\n",
    "for b in range(rows):\n",
    "         flag=0\n",
    "         x.append(str(type(df1.loc[b,\"TranslatedIngredients\"])))\n"
   ]
  },
  {
   "cell_type": "code",
   "execution_count": null,
   "metadata": {},
   "outputs": [],
   "source": [
    "set(x)"
   ]
  },
  {
   "cell_type": "code",
   "execution_count": null,
   "metadata": {},
   "outputs": [],
   "source": [
    "x.index(\"<class 'float'>\")"
   ]
  },
  {
   "cell_type": "code",
   "execution_count": null,
   "metadata": {},
   "outputs": [],
   "source": [
    "df1.loc[287,\"TranslatedIngredients\"]"
   ]
  },
  {
   "cell_type": "code",
   "execution_count": null,
   "metadata": {},
   "outputs": [],
   "source": [
    "df1.loc[287,:]"
   ]
  },
  {
   "cell_type": "code",
   "execution_count": null,
   "metadata": {},
   "outputs": [],
   "source": [
    "df1.drop(labels=\"\")"
   ]
  },
  {
   "cell_type": "code",
   "execution_count": null,
   "metadata": {},
   "outputs": [],
   "source": [
    "df1.drop(287,axis=0,inplace=True)"
   ]
  },
  {
   "cell_type": "code",
   "execution_count": null,
   "metadata": {},
   "outputs": [],
   "source": [
    "df1.reset_index(inplace=True)"
   ]
  },
  {
   "cell_type": "code",
   "execution_count": null,
   "metadata": {},
   "outputs": [],
   "source": [
    "df1.loc[287,:]"
   ]
  },
  {
   "cell_type": "code",
   "execution_count": null,
   "metadata": {},
   "outputs": [],
   "source": [
    "df1"
   ]
  },
  {
   "cell_type": "code",
   "execution_count": null,
   "metadata": {},
   "outputs": [],
   "source": [
    "rows=6870\n",
    "for b in range(rows):\n",
    "         flag=0\n",
    "         for i in df1.loc[b,\"TranslatedIngredients\"].split(\",\"):\n",
    "                for j in  user_ingredients.split(\",\"):\n",
    "                   if fuzz.token_set_ratio(i,j)>80:\n",
    "                        flag+=1\n",
    "                df1.loc[b,\"flag\"]==flag"
   ]
  },
  {
   "cell_type": "code",
   "execution_count": null,
   "metadata": {},
   "outputs": [],
   "source": [
    "x=[]\n",
    "for b in range(rows):\n",
    "         flag=0\n",
    "         x.append(str(type(df1.loc[b,\"TranslatedIngredients\"])))"
   ]
  },
  {
   "cell_type": "code",
   "execution_count": null,
   "metadata": {},
   "outputs": [],
   "source": [
    "set(x)"
   ]
  },
  {
   "cell_type": "code",
   "execution_count": null,
   "metadata": {},
   "outputs": [],
   "source": [
    "x.index(\"<class 'float'>\")"
   ]
  },
  {
   "cell_type": "code",
   "execution_count": null,
   "metadata": {},
   "outputs": [],
   "source": [
    "df1.loc[1261,:]"
   ]
  },
  {
   "cell_type": "code",
   "execution_count": null,
   "metadata": {},
   "outputs": [],
   "source": [
    "df1.drop(\"index\",axis=1,inplace=True)"
   ]
  },
  {
   "cell_type": "code",
   "execution_count": null,
   "metadata": {},
   "outputs": [],
   "source": [
    "df1=df1"
   ]
  },
  {
   "cell_type": "code",
   "execution_count": null,
   "metadata": {},
   "outputs": [],
   "source": [
    "df1.dropna(inplace=True)"
   ]
  },
  {
   "cell_type": "code",
   "execution_count": null,
   "metadata": {},
   "outputs": [],
   "source": [
    "df1.reset_index(drop=True,inplace=True)"
   ]
  },
  {
   "cell_type": "code",
   "execution_count": null,
   "metadata": {},
   "outputs": [],
   "source": [
    "df1.info()"
   ]
  },
  {
   "cell_type": "code",
   "execution_count": null,
   "metadata": {},
   "outputs": [],
   "source": [
    "rows=6865\n",
    "for b in range(rows):\n",
    "         flag=0\n",
    "         for i in df1.loc[b,\"TranslatedIngredients\"].split(\",\"):\n",
    "                for j in  user_ingredients.split(\",\"):\n",
    "                   if fuzz.token_set_ratio(i,j)>80:\n",
    "                        flag+=1\n",
    "                df1.loc[b,\"flag\"]=flag"
   ]
  },
  {
   "cell_type": "code",
   "execution_count": null,
   "metadata": {},
   "outputs": [],
   "source": [
    "df1[\"flag\"].value_counts()"
   ]
  },
  {
   "cell_type": "code",
   "execution_count": null,
   "metadata": {},
   "outputs": [],
   "source": [
    "df1[df1[\"flag\"]>7]"
   ]
  },
  {
   "cell_type": "code",
   "execution_count": null,
   "metadata": {},
   "outputs": [],
   "source": [
    "df1.iloc[4947,2]"
   ]
  },
  {
   "cell_type": "code",
   "execution_count": null,
   "metadata": {},
   "outputs": [],
   "source": [
    "user_ingredients"
   ]
  },
  {
   "cell_type": "code",
   "execution_count": null,
   "metadata": {},
   "outputs": [],
   "source": [
    "def Flagger(x,y,method=0):\n",
    "    flag=0\n",
    "    for i in x.split(\",\"):\n",
    "        for j in y.split(\",\"):\n",
    "            if method==0:\n",
    "                if  fuzz.token_set_ratio(i,j)>80:\n",
    "                    flag+=1\n",
    "            elif method==1:\n",
    "                if i==j:\n",
    "                  flag+=1\n",
    "    print(flag)  "
   ]
  },
  {
   "cell_type": "code",
   "execution_count": null,
   "metadata": {},
   "outputs": [],
   "source": []
  },
  {
   "cell_type": "code",
   "execution_count": 2,
   "metadata": {},
   "outputs": [],
   "source": [
    "df=pd.read_csv(\"df-en-final.csv\")"
   ]
  },
  {
   "cell_type": "code",
   "execution_count": null,
   "metadata": {},
   "outputs": [],
   "source": [
    "'rice,Onion ,Chicken thigh, Extra Virgin Olive Oil, Mixed vegetables (green bell pepper and red bell pepper are used here), Soy sauce,Red Chilli sauce,Salt ,Black pepper powder,Eggs, Milk, Extra Virgin Olive Oil, Cheddar cheese,Roasted tomato pasta sauce,Turmer "
   ]
  },
  {
   "cell_type": "code",
   "execution_count": 8,
   "metadata": {},
   "outputs": [
    {
     "data": {
      "text/plain": [
       "0.6956521739130435"
      ]
     },
     "execution_count": 8,
     "metadata": {},
     "output_type": "execute_result"
    }
   ],
   "source": [
    "sorensen(\"Turmeric Powder\",\"Turmeric\")"
   ]
  },
  {
   "cell_type": "code",
   "execution_count": 10,
   "metadata": {},
   "outputs": [
    {
     "data": {
      "text/plain": [
       "64"
      ]
     },
     "execution_count": 10,
     "metadata": {},
     "output_type": "execute_result"
    }
   ],
   "source": [
    "fuzz.token_set_ratio(\"Turmeric Powder\",\"Pudina Powder\")"
   ]
  },
  {
   "cell_type": "code",
   "execution_count": 11,
   "metadata": {},
   "outputs": [
    {
     "data": {
      "text/plain": [
       "0.5333333333333333"
      ]
     },
     "execution_count": 11,
     "metadata": {},
     "output_type": "execute_result"
    }
   ],
   "source": [
    "jaccard(\"Turmeric Powder\",\"Turmeric\")"
   ]
  },
  {
   "cell_type": "code",
   "execution_count": null,
   "metadata": {},
   "outputs": [],
   "source": []
  }
 ],
 "metadata": {
  "kernelspec": {
   "display_name": "Python 3",
   "language": "python",
   "name": "python3"
  },
  "language_info": {
   "codemirror_mode": {
    "name": "ipython",
    "version": 3
   },
   "file_extension": ".py",
   "mimetype": "text/x-python",
   "name": "python",
   "nbconvert_exporter": "python",
   "pygments_lexer": "ipython3",
   "version": "3.6.12"
  }
 },
 "nbformat": 4,
 "nbformat_minor": 4
}
